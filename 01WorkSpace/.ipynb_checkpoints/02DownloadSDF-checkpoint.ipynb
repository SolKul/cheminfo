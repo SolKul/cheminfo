{
 "cells": [
  {
   "cell_type": "code",
   "execution_count": 1,
   "metadata": {},
   "outputs": [],
   "source": [
    "import pubchempy as pcp\n",
    "from rdkit import Chem"
   ]
  },
  {
   "cell_type": "code",
   "execution_count": 2,
   "metadata": {},
   "outputs": [],
   "source": [
    "with open('./サリチル酸メチル.sdf','rb') as f:\n",
    "    MSsuppl=Chem.ForwardSDMolSupplier(f,removeHs=False)\n",
    "    MSs=[]\n",
    "    for x in MSsuppl:\n",
    "        if x is not None:\n",
    "            MSs.append(x)"
   ]
  },
  {
   "cell_type": "code",
   "execution_count": 4,
   "metadata": {},
   "outputs": [],
   "source": [
    "TarDir='./01MethylSalicylate/'"
   ]
  },
  {
   "cell_type": "code",
   "execution_count": 7,
   "metadata": {},
   "outputs": [],
   "source": [
    "for c in MSs[:2]:\n",
    "    Smile=Chem.MolToSmiles(c)\n",
    "    L_comp=list=pcp.get_compounds(Smile,'smiles')\n",
    "    comp=L_comp[0]\n",
    "    comp_cid=comp.cid\n",
    "    SDF_str='CID{}.sdf'.format(comp_cid)\n",
    "    pcp.download('SDF',TarDir+SDF_str,comp_cid,'cid',record_type='3d',overwrite=True)"
   ]
  },
  {
   "cell_type": "code",
   "execution_count": 8,
   "metadata": {},
   "outputs": [],
   "source": [
    "import py3Dmol as p3d"
   ]
  },
  {
   "cell_type": "code",
   "execution_count": 26,
   "metadata": {},
   "outputs": [],
   "source": [
    "import os"
   ]
  },
  {
   "cell_type": "code",
   "execution_count": 46,
   "metadata": {},
   "outputs": [],
   "source": [
    "L_FP=[]\n",
    "for f in os.listdir(TarDir):\n",
    "    D_sdf={}\n",
    "    if f.endswith('.sdf'):\n",
    "        D_sdf['FN']=f\n",
    "        D_sdf['RP']=os.path.join(TarDir,f)\n",
    "        L_FP.append(D_sdf)"
   ]
  },
  {
   "cell_type": "code",
   "execution_count": 45,
   "metadata": {
    "scrolled": true
   },
   "outputs": [
    {
     "data": {
      "text/plain": [
       "[{'FN': 'CID61151.sdf', 'RP': './01MethylSalicylate/CID61151.sdf'},\n",
       " {'FN': 'CID68484.sdf', 'RP': './01MethylSalicylate/CID68484.sdf'}]"
      ]
     },
     "execution_count": 45,
     "metadata": {},
     "output_type": "execute_result"
    }
   ],
   "source": [
    "L_FP"
   ]
  },
  {
   "cell_type": "code",
   "execution_count": 47,
   "metadata": {},
   "outputs": [],
   "source": [
    "L_sdf=[]\n",
    "for D_sdf in L_FP:\n",
    "    with open(D_sdf['RP'],'rb') as f:\n",
    "        L_sdf.append(f.read().decode())"
   ]
  },
  {
   "cell_type": "code",
   "execution_count": 54,
   "metadata": {},
   "outputs": [
    {
     "data": {
      "application/3dmoljs_load.v0": "<div id=\"3dmolviewer_1558253630871249\"  style=\"position: relative; width: 300px; height: 250px\">\n        <p id=\"3dmolwarning_1558253630871249\" style=\"background-color:#ffcccc;color:black\">You appear to be running in JupyterLab (or JavaScript failed to load for some other reason).  You need to install the 3dmol extension: <br>\n        <tt>jupyter labextension install jupyterlab_3dmol</tt></p>\n        </div>\n<script>\n\nvar loadScriptAsync = function(uri){\n  return new Promise((resolve, reject) => {\n    var tag = document.createElement('script');\n    tag.src = uri;\n    tag.async = true;\n    tag.onload = () => {\n      resolve();\n    };\n  var firstScriptTag = document.getElementsByTagName('script')[0];\n  firstScriptTag.parentNode.insertBefore(tag, firstScriptTag);\n});\n};\n\nif(typeof $3Dmolpromise === 'undefined') {\n$3Dmolpromise = null;\n  $3Dmolpromise = loadScriptAsync('https://3dmol.csb.pitt.edu/build/3Dmol.js');\n}\n\nvar viewer_1558253630871249 = null;\nvar warn = document.getElementById(\"3dmolwarning_1558253630871249\");\nif(warn) {\n    warn.parentNode.removeChild(warn);\n}\n$3Dmolpromise.then(function() {\nvar viewergrid_1558253630871249 = null;\nviewergrid_1558253630871249 = $3Dmol.createViewerGrid($(\"#3dmolviewer_1558253630871249\"),{rows: 1, cols: 1, control_all: false},{backgroundColor:\"white\"});\nviewer_1558253630871249 = viewergrid_1558253630871249[0][0];\n\tviewergrid_1558253630871249[0][0].addModel(\"61151\\n  -OEChem-05191903443D\\n\\n 22 22  0     0  0  0  0  0  0999 V2000\\n   -0.5572   -1.9863   -0.3094 O   0  0  0  0  0  0  0  0  0  0  0  0\\n    2.1984    0.9714    0.4124 O   0  0  0  0  0  0  0  0  0  0  0  0\\n    1.8669   -0.8933   -0.8796 O   0  0  0  0  0  0  0  0  0  0  0  0\\n   -0.0128    0.3441   -0.1417 C   0  0  0  0  0  0  0  0  0  0  0  0\\n   -0.9502   -0.6883   -0.1739 C   0  0  0  0  0  0  0  0  0  0  0  0\\n   -0.4357    1.6660   -0.0020 C   0  0  0  0  0  0  0  0  0  0  0  0\\n   -2.3104   -0.3989   -0.0668 C   0  0  0  0  0  0  0  0  0  0  0  0\\n   -1.7960    1.9555    0.1053 C   0  0  0  0  0  0  0  0  0  0  0  0\\n   -2.7333    0.9230    0.0728 C   0  0  0  0  0  0  0  0  0  0  0  0\\n    1.4121    0.0639   -0.2520 C   0  0  0  0  0  0  0  0  0  0  0  0\\n   -0.2942   -2.7118    0.8897 C   0  0  0  0  0  0  0  0  0  0  0  0\\n    3.6124    0.7549    0.3451 C   0  0  0  0  0  0  0  0  0  0  0  0\\n    0.2705    2.4920    0.0148 H   0  0  0  0  0  0  0  0  0  0  0  0\\n   -3.0466   -1.1978   -0.0922 H   0  0  0  0  0  0  0  0  0  0  0  0\\n   -2.1259    2.9848    0.2113 H   0  0  0  0  0  0  0  0  0  0  0  0\\n   -3.7926    1.1484    0.1555 H   0  0  0  0  0  0  0  0  0  0  0  0\\n   -1.2089   -2.8120    1.4825 H   0  0  0  0  0  0  0  0  0  0  0  0\\n    0.4837   -2.2196    1.4821 H   0  0  0  0  0  0  0  0  0  0  0  0\\n    0.0555   -3.7109    0.6157 H   0  0  0  0  0  0  0  0  0  0  0  0\\n    3.9532    0.8048   -0.6933 H   0  0  0  0  0  0  0  0  0  0  0  0\\n    3.8683   -0.2108    0.7911 H   0  0  0  0  0  0  0  0  0  0  0  0\\n    4.1049    1.5469    0.9153 H   0  0  0  0  0  0  0  0  0  0  0  0\\n  1  5  1  0  0  0  0\\n  1 11  1  0  0  0  0\\n  2 10  1  0  0  0  0\\n  2 12  1  0  0  0  0\\n  3 10  2  0  0  0  0\\n  4  5  1  0  0  0  0\\n  4  6  2  0  0  0  0\\n  4 10  1  0  0  0  0\\n  5  7  2  0  0  0  0\\n  6  8  1  0  0  0  0\\n  6 13  1  0  0  0  0\\n  7  9  1  0  0  0  0\\n  7 14  1  0  0  0  0\\n  8  9  2  0  0  0  0\\n  8 15  1  0  0  0  0\\n  9 16  1  0  0  0  0\\n 11 17  1  0  0  0  0\\n 11 18  1  0  0  0  0\\n 11 19  1  0  0  0  0\\n 12 20  1  0  0  0  0\\n 12 21  1  0  0  0  0\\n 12 22  1  0  0  0  0\\nM  END\\n> <PUBCHEM_COMPOUND_CID>\\n61151\\n\\n> <PUBCHEM_CONFORMER_RMSD>\\n0.6\\n\\n> <PUBCHEM_CONFORMER_DIVERSEORDER>\\n1\\n4\\n2\\n3\\n\\n> <PUBCHEM_MMFF94_PARTIAL_CHARGES>\\n16\\n1 -0.36\\n10 0.63\\n11 0.28\\n12 0.28\\n13 0.15\\n14 0.15\\n15 0.15\\n16 0.15\\n2 -0.43\\n3 -0.57\\n4 0.09\\n5 0.08\\n6 -0.15\\n7 -0.15\\n8 -0.15\\n9 -0.15\\n\\n> <PUBCHEM_EFFECTIVE_ROTOR_COUNT>\\n3\\n\\n> <PUBCHEM_PHARMACOPHORE_FEATURES>\\n3\\n1 1 acceptor\\n1 3 acceptor\\n6 4 5 6 7 8 9 rings\\n\\n> <PUBCHEM_HEAVY_ATOM_COUNT>\\n12\\n\\n> <PUBCHEM_ATOM_DEF_STEREO_COUNT>\\n0\\n\\n> <PUBCHEM_ATOM_UDEF_STEREO_COUNT>\\n0\\n\\n> <PUBCHEM_BOND_DEF_STEREO_COUNT>\\n0\\n\\n> <PUBCHEM_BOND_UDEF_STEREO_COUNT>\\n0\\n\\n> <PUBCHEM_ISOTOPIC_ATOM_COUNT>\\n0\\n\\n> <PUBCHEM_COMPONENT_COUNT>\\n1\\n\\n> <PUBCHEM_CACTVS_TAUTO_COUNT>\\n1\\n\\n> <PUBCHEM_CONFORMER_ID>\\n0000EEDF00000001\\n\\n> <PUBCHEM_MMFF94_ENERGY>\\n45.2913\\n\\n> <PUBCHEM_FEATURE_SELFOVERLAP>\\n15.229\\n\\n> <PUBCHEM_SHAPE_FINGERPRINT>\\n12716758 59 18411425011762906158\\n13024252 1 13767914724370281373\\n13380535 76 18342453746927429622\\n14325111 11 18341049618717677924\\n14614273 12 18115860807260461285\\n15490181 7 18194682566577408509\\n16945 1 18339931531361400741\\n193761 8 17761490288286802365\\n20645464 45 18273497870754163044\\n20645476 183 17822871847656968414\\n20871998 184 18127697242832295806\\n21040471 1 18409737248218099421\\n23211744 41 18272655597454784637\\n23402539 116 18269540792809188455\\n23552423 10 18119817902252962069\\n23559900 14 18199754653262764062\\n2748010 2 18338806610854723301\\n305870 269 18190454961448174216\\n3071541 236 18261664982281872578\\n369184 2 18341891878989431029\\n43471831 8 18261951856048597571\\n5084963 1 18201444618791034217\\n5255222 1 17759529867375354813\\n6333449 129 18342735247315416716\\n7364860 26 17908700635701345955\\n75552 356 18264486350836142744\\n81228 2 18265902547376813347\\n\\n> <PUBCHEM_SHAPE_MULTIPOLES>\\n229.35\\n4.03\\n2.4\\n0.75\\n2.75\\n1.42\\n-0.01\\n-1.83\\n-0.29\\n-0.69\\n-0.5\\n0.13\\n0.19\\n0.17\\n\\n> <PUBCHEM_SHAPE_SELFOVERLAP>\\n474.794\\n\\n> <PUBCHEM_SHAPE_VOLUME>\\n131.9\\n\\n> <PUBCHEM_COORDINATE_TYPE>\\n2\\n5\\n10\\n\\n$$$$\\n\",\"sdf\");\n\tviewergrid_1558253630871249[0][0].setStyle({\"sphere\": {\"linewidth\": 5}});\n\tviewergrid_1558253630871249[0][0].zoomTo();\nviewergrid_1558253630871249[0][0].render();\n});\n</script>",
      "text/html": [
       "<div id=\"3dmolviewer_1558253630871249\"  style=\"position: relative; width: 300px; height: 250px\">\n",
       "        <p id=\"3dmolwarning_1558253630871249\" style=\"background-color:#ffcccc;color:black\">You appear to be running in JupyterLab (or JavaScript failed to load for some other reason).  You need to install the 3dmol extension: <br>\n",
       "        <tt>jupyter labextension install jupyterlab_3dmol</tt></p>\n",
       "        </div>\n",
       "<script>\n",
       "\n",
       "var loadScriptAsync = function(uri){\n",
       "  return new Promise((resolve, reject) => {\n",
       "    var tag = document.createElement('script');\n",
       "    tag.src = uri;\n",
       "    tag.async = true;\n",
       "    tag.onload = () => {\n",
       "      resolve();\n",
       "    };\n",
       "  var firstScriptTag = document.getElementsByTagName('script')[0];\n",
       "  firstScriptTag.parentNode.insertBefore(tag, firstScriptTag);\n",
       "});\n",
       "};\n",
       "\n",
       "if(typeof $3Dmolpromise === 'undefined') {\n",
       "$3Dmolpromise = null;\n",
       "  $3Dmolpromise = loadScriptAsync('https://3dmol.csb.pitt.edu/build/3Dmol.js');\n",
       "}\n",
       "\n",
       "var viewer_1558253630871249 = null;\n",
       "var warn = document.getElementById(\"3dmolwarning_1558253630871249\");\n",
       "if(warn) {\n",
       "    warn.parentNode.removeChild(warn);\n",
       "}\n",
       "$3Dmolpromise.then(function() {\n",
       "var viewergrid_1558253630871249 = null;\n",
       "viewergrid_1558253630871249 = $3Dmol.createViewerGrid($(\"#3dmolviewer_1558253630871249\"),{rows: 1, cols: 1, control_all: false},{backgroundColor:\"white\"});\n",
       "viewer_1558253630871249 = viewergrid_1558253630871249[0][0];\n",
       "\tviewergrid_1558253630871249[0][0].addModel(\"61151\\n  -OEChem-05191903443D\\n\\n 22 22  0     0  0  0  0  0  0999 V2000\\n   -0.5572   -1.9863   -0.3094 O   0  0  0  0  0  0  0  0  0  0  0  0\\n    2.1984    0.9714    0.4124 O   0  0  0  0  0  0  0  0  0  0  0  0\\n    1.8669   -0.8933   -0.8796 O   0  0  0  0  0  0  0  0  0  0  0  0\\n   -0.0128    0.3441   -0.1417 C   0  0  0  0  0  0  0  0  0  0  0  0\\n   -0.9502   -0.6883   -0.1739 C   0  0  0  0  0  0  0  0  0  0  0  0\\n   -0.4357    1.6660   -0.0020 C   0  0  0  0  0  0  0  0  0  0  0  0\\n   -2.3104   -0.3989   -0.0668 C   0  0  0  0  0  0  0  0  0  0  0  0\\n   -1.7960    1.9555    0.1053 C   0  0  0  0  0  0  0  0  0  0  0  0\\n   -2.7333    0.9230    0.0728 C   0  0  0  0  0  0  0  0  0  0  0  0\\n    1.4121    0.0639   -0.2520 C   0  0  0  0  0  0  0  0  0  0  0  0\\n   -0.2942   -2.7118    0.8897 C   0  0  0  0  0  0  0  0  0  0  0  0\\n    3.6124    0.7549    0.3451 C   0  0  0  0  0  0  0  0  0  0  0  0\\n    0.2705    2.4920    0.0148 H   0  0  0  0  0  0  0  0  0  0  0  0\\n   -3.0466   -1.1978   -0.0922 H   0  0  0  0  0  0  0  0  0  0  0  0\\n   -2.1259    2.9848    0.2113 H   0  0  0  0  0  0  0  0  0  0  0  0\\n   -3.7926    1.1484    0.1555 H   0  0  0  0  0  0  0  0  0  0  0  0\\n   -1.2089   -2.8120    1.4825 H   0  0  0  0  0  0  0  0  0  0  0  0\\n    0.4837   -2.2196    1.4821 H   0  0  0  0  0  0  0  0  0  0  0  0\\n    0.0555   -3.7109    0.6157 H   0  0  0  0  0  0  0  0  0  0  0  0\\n    3.9532    0.8048   -0.6933 H   0  0  0  0  0  0  0  0  0  0  0  0\\n    3.8683   -0.2108    0.7911 H   0  0  0  0  0  0  0  0  0  0  0  0\\n    4.1049    1.5469    0.9153 H   0  0  0  0  0  0  0  0  0  0  0  0\\n  1  5  1  0  0  0  0\\n  1 11  1  0  0  0  0\\n  2 10  1  0  0  0  0\\n  2 12  1  0  0  0  0\\n  3 10  2  0  0  0  0\\n  4  5  1  0  0  0  0\\n  4  6  2  0  0  0  0\\n  4 10  1  0  0  0  0\\n  5  7  2  0  0  0  0\\n  6  8  1  0  0  0  0\\n  6 13  1  0  0  0  0\\n  7  9  1  0  0  0  0\\n  7 14  1  0  0  0  0\\n  8  9  2  0  0  0  0\\n  8 15  1  0  0  0  0\\n  9 16  1  0  0  0  0\\n 11 17  1  0  0  0  0\\n 11 18  1  0  0  0  0\\n 11 19  1  0  0  0  0\\n 12 20  1  0  0  0  0\\n 12 21  1  0  0  0  0\\n 12 22  1  0  0  0  0\\nM  END\\n> <PUBCHEM_COMPOUND_CID>\\n61151\\n\\n> <PUBCHEM_CONFORMER_RMSD>\\n0.6\\n\\n> <PUBCHEM_CONFORMER_DIVERSEORDER>\\n1\\n4\\n2\\n3\\n\\n> <PUBCHEM_MMFF94_PARTIAL_CHARGES>\\n16\\n1 -0.36\\n10 0.63\\n11 0.28\\n12 0.28\\n13 0.15\\n14 0.15\\n15 0.15\\n16 0.15\\n2 -0.43\\n3 -0.57\\n4 0.09\\n5 0.08\\n6 -0.15\\n7 -0.15\\n8 -0.15\\n9 -0.15\\n\\n> <PUBCHEM_EFFECTIVE_ROTOR_COUNT>\\n3\\n\\n> <PUBCHEM_PHARMACOPHORE_FEATURES>\\n3\\n1 1 acceptor\\n1 3 acceptor\\n6 4 5 6 7 8 9 rings\\n\\n> <PUBCHEM_HEAVY_ATOM_COUNT>\\n12\\n\\n> <PUBCHEM_ATOM_DEF_STEREO_COUNT>\\n0\\n\\n> <PUBCHEM_ATOM_UDEF_STEREO_COUNT>\\n0\\n\\n> <PUBCHEM_BOND_DEF_STEREO_COUNT>\\n0\\n\\n> <PUBCHEM_BOND_UDEF_STEREO_COUNT>\\n0\\n\\n> <PUBCHEM_ISOTOPIC_ATOM_COUNT>\\n0\\n\\n> <PUBCHEM_COMPONENT_COUNT>\\n1\\n\\n> <PUBCHEM_CACTVS_TAUTO_COUNT>\\n1\\n\\n> <PUBCHEM_CONFORMER_ID>\\n0000EEDF00000001\\n\\n> <PUBCHEM_MMFF94_ENERGY>\\n45.2913\\n\\n> <PUBCHEM_FEATURE_SELFOVERLAP>\\n15.229\\n\\n> <PUBCHEM_SHAPE_FINGERPRINT>\\n12716758 59 18411425011762906158\\n13024252 1 13767914724370281373\\n13380535 76 18342453746927429622\\n14325111 11 18341049618717677924\\n14614273 12 18115860807260461285\\n15490181 7 18194682566577408509\\n16945 1 18339931531361400741\\n193761 8 17761490288286802365\\n20645464 45 18273497870754163044\\n20645476 183 17822871847656968414\\n20871998 184 18127697242832295806\\n21040471 1 18409737248218099421\\n23211744 41 18272655597454784637\\n23402539 116 18269540792809188455\\n23552423 10 18119817902252962069\\n23559900 14 18199754653262764062\\n2748010 2 18338806610854723301\\n305870 269 18190454961448174216\\n3071541 236 18261664982281872578\\n369184 2 18341891878989431029\\n43471831 8 18261951856048597571\\n5084963 1 18201444618791034217\\n5255222 1 17759529867375354813\\n6333449 129 18342735247315416716\\n7364860 26 17908700635701345955\\n75552 356 18264486350836142744\\n81228 2 18265902547376813347\\n\\n> <PUBCHEM_SHAPE_MULTIPOLES>\\n229.35\\n4.03\\n2.4\\n0.75\\n2.75\\n1.42\\n-0.01\\n-1.83\\n-0.29\\n-0.69\\n-0.5\\n0.13\\n0.19\\n0.17\\n\\n> <PUBCHEM_SHAPE_SELFOVERLAP>\\n474.794\\n\\n> <PUBCHEM_SHAPE_VOLUME>\\n131.9\\n\\n> <PUBCHEM_COORDINATE_TYPE>\\n2\\n5\\n10\\n\\n$$$$\\n\",\"sdf\");\n",
       "\tviewergrid_1558253630871249[0][0].setStyle({\"sphere\": {\"linewidth\": 5}});\n",
       "\tviewergrid_1558253630871249[0][0].zoomTo();\n",
       "viewergrid_1558253630871249[0][0].render();\n",
       "});\n",
       "</script>"
      ]
     },
     "metadata": {},
     "output_type": "display_data"
    }
   ],
   "source": [
    "VN=1\n",
    "for i in range(VN):\n",
    "    view = p3d.view(width=300, height=250, linked=False,viewergrid=(VN,1))\n",
    "    view.addModel(L_sdf[i],'sdf', viewer=(i,0))\n",
    "    view.setStyle({'sphere': {'linewidth': 5}}, viewer=(0,0))\n",
    "    view.zoomTo()\n",
    "    view.show()"
   ]
  },
  {
   "cell_type": "code",
   "execution_count": 22,
   "metadata": {},
   "outputs": [
    {
     "name": "stdout",
     "output_type": "stream",
     "text": [
      "/home/jovyan/notebooks\n"
     ]
    }
   ],
   "source": [
    "%%bash\n",
    "pwd"
   ]
  }
 ],
 "metadata": {
  "jupytext": {
   "text_representation": {
    "extension": ".py",
    "format_name": "light",
    "format_version": "1.4",
    "jupytext_version": "1.1.2"
   }
  },
  "kernelspec": {
   "display_name": "Python cheminfo",
   "language": "python",
   "name": "cheminfo"
  },
  "language_info": {
   "codemirror_mode": {
    "name": "ipython",
    "version": 3
   },
   "file_extension": ".py",
   "mimetype": "text/x-python",
   "name": "python",
   "nbconvert_exporter": "python",
   "pygments_lexer": "ipython3",
   "version": "3.7.3"
  }
 },
 "nbformat": 4,
 "nbformat_minor": 2
}
