{
 "cells": [
  {
   "cell_type": "code",
   "execution_count": 8,
   "metadata": {},
   "outputs": [],
   "source": [
    "import pubchempy as pcp\n",
    "from rdkit import Chem\n",
    "import py3Dmol as p3d\n",
    "import os\n",
    "from rdkit.Chem import AllChem, Draw"
   ]
  },
  {
   "cell_type": "code",
   "execution_count": 4,
   "metadata": {},
   "outputs": [],
   "source": [
    "pcp.download('SDF','./03Verify/PubChem4133.sdf',4133,'cid',record_type='3d',overwrite=True)"
   ]
  },
  {
   "cell_type": "code",
   "execution_count": 5,
   "metadata": {},
   "outputs": [
    {
     "data": {
      "text/plain": [
       "1"
      ]
     },
     "execution_count": 5,
     "metadata": {},
     "output_type": "execute_result"
    }
   ],
   "source": [
    "suppl=Chem.SDMolSupplier('./03Verify/PubChem4133.sdf')\n",
    "mols = [x for x in suppl if x is not None]\n",
    "len(mols) # 73"
   ]
  },
  {
   "cell_type": "code",
   "execution_count": 10,
   "metadata": {
    "collapsed": true
   },
   "outputs": [
    {
     "name": "stdout",
     "output_type": "stream",
     "text": [
      "4133\n",
      "     RDKit          3D\n",
      "\n",
      " 11 11  0  0  0  0  0  0  0  0999 V2000\n",
      "    2.1225    0.8667   -0.3113 O   0  0  0  0  0  0  0  0  0  0  0  0\n",
      "   -0.5276   -2.2538   -0.2299 O   0  0  0  0  0  0  0  0  0  0  0  0\n",
      "    1.8870   -1.2425    0.5802 O   0  0  0  0  0  0  0  0  0  0  0  0\n",
      "   -0.0378    0.0737    0.0824 C   0  0  0  0  0  0  0  0  0  0  0  0\n",
      "   -0.9503   -0.9641   -0.1065 C   0  0  0  0  0  0  0  0  0  0  0  0\n",
      "   -0.4910    1.3872    0.2058 C   0  0  0  0  0  0  0  0  0  0  0  0\n",
      "   -2.3161   -0.6885   -0.1722 C   0  0  0  0  0  0  0  0  0  0  0  0\n",
      "   -1.8568    1.6627    0.1401 C   0  0  0  0  0  0  0  0  0  0  0  0\n",
      "   -2.7694    0.6249   -0.0490 C   0  0  0  0  0  0  0  0  0  0  0  0\n",
      "    1.3923   -0.1918    0.1539 C   0  0  0  0  0  0  0  0  0  0  0  0\n",
      "    3.5470    0.7256   -0.2935 C   0  0  0  0  0  0  0  0  0  0  0  0\n",
      "  1 10  1  0\n",
      "  1 11  1  0\n",
      "  2  5  1  0\n",
      "  3 10  2  0\n",
      "  4  5  2  0\n",
      "  4  6  1  0\n",
      "  4 10  1  0\n",
      "  5  7  1  0\n",
      "  6  8  2  0\n",
      "  7  9  2  0\n",
      "  8  9  1  0\n",
      "M  END\n",
      "\n"
     ]
    }
   ],
   "source": [
    "print(Chem.MolToMolBlock(mols[0]))"
   ]
  },
  {
   "cell_type": "code",
   "execution_count": 9,
   "metadata": {
    "scrolled": true
   },
   "outputs": [
    {
     "data": {
      "image/png": "[encoded data removed]",
      "text/plain": [
       "<PIL.Image.Image image mode=RGBA size=300x300 at 0x7F4521F25A90>"
      ]
     },
     "execution_count": 9,
     "metadata": {},
     "output_type": "execute_result"
    }
   ],
   "source": [
    "Draw.MolToImage(mols[0])"
   ]
  },
  {
   "cell_type": "code",
   "execution_count": 11,
   "metadata": {},
   "outputs": [],
   "source": [
    "Chem.MolToMolFile(mols[0],'./03Verify/PubChem4133.mol')"
   ]
  },
  {
   "cell_type": "code",
   "execution_count": 12,
   "metadata": {},
   "outputs": [
    {
     "data": {
      "text/plain": [
       "<rdkit.Chem.rdchem.Mol at 0x7f45212b5a30>"
      ]
     },
     "execution_count": 12,
     "metadata": {},
     "output_type": "execute_result"
    }
   ],
   "source": [
    "Chem.MolFromMolFile('./03Verify/PubChem4133.mol')"
   ]
  },
  {
   "cell_type": "code",
   "execution_count": 15,
   "metadata": {},
   "outputs": [
    {
     "name": "stdout",
     "output_type": "stream",
     "text": [
      "smiles:  CCOC(=O)c1ccccc1O \n",
      "     RDKit          3D\n",
      "\n",
      " 12 12  0  0  0  0  0  0  0  0999 V2000\n",
      "    2.8579    2.9517    0.8242 C   0  0  0  0  0  0  0  0  0  0  0  0\n",
      "    4.3232    2.9214    1.2335 C   0  0  0  0  0  0  0  0  0  0  0  0\n",
      "    6.7725   -2.1261   -1.1871 C   0  0  0  0  0  0  0  0  0  0  0  0\n",
      "    7.4927   -1.5465   -2.2347 C   0  0  0  0  0  0  0  0  0  0  0  0\n",
      "    6.0362   -1.3067   -0.3416 C   0  0  0  0  0  0  0  0  0  0  0  0\n",
      "    7.4678   -0.1689   -2.4194 C   0  0  0  0  0  0  0  0  0  0  0  0\n",
      "    5.9913    0.0887   -0.5037 C   0  0  0  0  0  0  0  0  0  0  0  0\n",
      "    6.7256    0.6626   -1.5664 C   0  0  0  0  0  0  0  0  0  0  0  0\n",
      "    5.1518    0.8245    0.4896 C   0  0  0  0  0  0  0  0  0  0  0  0\n",
      "    6.7144    2.0089   -1.7625 O   0  0  0  0  0  0  0  0  0  0  0  0\n",
      "    4.5546    0.2636    1.3925 O   0  0  0  0  0  0  0  0  0  0  0  0\n",
      "    5.1186    2.1570    0.2987 O   0  0  0  0  0  0  0  0  0  0  0  0\n",
      "  1  2  1  0\n",
      "  3  5  2  0\n",
      "  4  3  1  0\n",
      "  6  4  2  0\n",
      "  6  8  1  0\n",
      "  7  5  1  0\n",
      "  7  9  1  0\n",
      "  8  7  2  0\n",
      "  9 11  2  0\n",
      " 10  8  1  0\n",
      " 12  9  1  0\n",
      " 12  2  1  0\n",
      "M  END\n",
      "\n"
     ]
    }
   ],
   "source": [
    "QCmol=Chem.MolFromMolFile('./03Verify/QC4133.mol')\n",
    "print(Chem.MolToMolBlock(QCmol))"
   ]
  },
  {
   "cell_type": "code",
   "execution_count": 16,
   "metadata": {
    "scrolled": true
   },
   "outputs": [
    {
     "data": {
      "text/plain": [
       "<rdkit.Chem.rdchem.Mol at 0x7f45212b52b0>"
      ]
     },
     "execution_count": 16,
     "metadata": {},
     "output_type": "execute_result"
    }
   ],
   "source": [
    "Chem.MolFromMolFile('./03Verify/pccdb_id86.mol')"
   ]
  },
  {
   "cell_type": "code",
   "execution_count": 68,
   "metadata": {},
   "outputs": [],
   "source": [
    "PCC1smils='NCC(=O)COP(=O)(O)O'\n",
    "L_comp=pcp.get_compounds(PCC1smils,'smiles')"
   ]
  },
  {
   "cell_type": "code",
   "execution_count": 69,
   "metadata": {},
   "outputs": [],
   "source": [
    "TarDir='./03Verify/'\n",
    "C_FN='CID{}'.format(C.cid)"
   ]
  },
  {
   "cell_type": "code",
   "execution_count": 70,
   "metadata": {
    "scrolled": true
   },
   "outputs": [],
   "source": [
    "FP=TarDir+C_FN+'.sdf'"
   ]
  },
  {
   "cell_type": "code",
   "execution_count": 71,
   "metadata": {},
   "outputs": [
    {
     "name": "stdout",
     "output_type": "stream",
     "text": [
      "5\n"
     ]
    }
   ],
   "source": [
    "C=L_comp[0]\n",
    "FP=TarDir+C_FN+'.sdf'\n",
    "print(C.cid)\n",
    "pcp.download('SDF',FP,C.cid,record_type='3d',overwrite=True)"
   ]
  },
  {
   "cell_type": "code",
   "execution_count": 72,
   "metadata": {},
   "outputs": [
    {
     "data": {
      "text/plain": [
       "1"
      ]
     },
     "execution_count": 72,
     "metadata": {},
     "output_type": "execute_result"
    }
   ],
   "source": [
    "suppl=Chem.SDMolSupplier(FP,removeHs=False)\n",
    "mols = [x for x in suppl if x is not None]\n",
    "len(mols) # 73"
   ]
  },
  {
   "cell_type": "code",
   "execution_count": 39,
   "metadata": {},
   "outputs": [],
   "source": [
    "# PCC1mol=Chem.AddHs(mols[0])"
   ]
  },
  {
   "cell_type": "code",
   "execution_count": 73,
   "metadata": {
    "scrolled": true
   },
   "outputs": [
    {
     "data": {
      "image/png": "[encoded data removed]",
      "text/plain": [
       "<PIL.Image.Image image mode=RGBA size=300x300 at 0x7F45205AA550>"
      ]
     },
     "execution_count": 73,
     "metadata": {},
     "output_type": "execute_result"
    }
   ],
   "source": [
    "Draw.MolToImage(mols[0])"
   ]
  },
  {
   "cell_type": "code",
   "execution_count": 74,
   "metadata": {},
   "outputs": [],
   "source": [
    "FP=TarDir+C_FN+'.mol'\n",
    "Chem.MolToMolFile(PCC1mol,FP)"
   ]
  },
  {
   "cell_type": "code",
   "execution_count": 75,
   "metadata": {
    "scrolled": true
   },
   "outputs": [
    {
     "data": {
      "text/plain": [
       "<rdkit.Chem.rdchem.Mol at 0x7f45205de580>"
      ]
     },
     "execution_count": 75,
     "metadata": {},
     "output_type": "execute_result"
    }
   ],
   "source": [
    "Chem.MolFromMolFile(FP)"
   ]
  },
  {
   "cell_type": "code",
   "execution_count": 76,
   "metadata": {},
   "outputs": [
    {
     "name": "stdout",
     "output_type": "stream",
     "text": [
      "smiles:  NCC(=O)COP(=O)(O)O \n",
      "     RDKit          3D\n",
      "\n",
      " 18 17  0  0  0  0  0  0  0  0999 V2000\n",
      "   -1.0662   -1.2812    0.3603 C   0  0  0  0  0  0  0  0  0  0  0  0\n",
      "    1.4271   -1.8811   -0.0791 C   0  0  0  0  0  0  0  0  0  0  0  0\n",
      "    0.2944   -0.8668   -0.1980 C   0  0  0  0  0  0  0  0  0  0  0  0\n",
      "   -2.1760   -0.3971    0.0610 N   0  0  0  0  0  0  0  0  0  0  0  0\n",
      "    0.4527    0.2234   -0.7259 O   0  0  0  0  0  0  0  0  0  0  0  0\n",
      "    2.9186    0.5668   -1.9866 O   0  0  0  0  0  0  0  0  0  0  0  0\n",
      "    4.7953   -0.9870   -1.6721 O   0  0  0  0  0  0  0  0  0  0  0  0\n",
      "    2.6329   -1.9537   -2.7880 O   0  0  0  0  0  0  0  0  0  0  0  0\n",
      "    2.7065   -1.3027   -0.2782 O   0  0  0  0  0  0  0  0  0  0  0  0\n",
      "    3.1950   -0.9937   -1.8099 P   0  0  0  0  0  0  0  0  0  0  0  0\n",
      "   -0.9552   -1.3726    1.4517 H   0  0  0  0  0  0  0  0  0  0  0  0\n",
      "   -1.2961   -2.2966    0.0081 H   0  0  0  0  0  0  0  0  0  0  0  0\n",
      "    1.2410   -2.6837   -0.8074 H   0  0  0  0  0  0  0  0  0  0  0  0\n",
      "    1.4255   -2.3260    0.9221 H   0  0  0  0  0  0  0  0  0  0  0  0\n",
      "   -1.9306    0.5523    0.3380 H   0  0  0  0  0  0  0  0  0  0  0  0\n",
      "   -2.3121   -0.3540   -0.9479 H   0  0  0  0  0  0  0  0  0  0  0  0\n",
      "    2.0354    0.7601   -1.5950 H   0  0  0  0  0  0  0  0  0  0  0  0\n",
      "    5.1582   -1.8007   -2.0588 H   0  0  0  0  0  0  0  0  0  0  0  0\n",
      "  1 11  1  0\n",
      "  2 14  1  0\n",
      "  3  2  1  0\n",
      "  3  1  1  0\n",
      "  4 15  1  0\n",
      "  4  1  1  0\n",
      "  5  3  2  0\n",
      "  6 10  1  0\n",
      "  6 17  1  0\n",
      "  8 10  2  0\n",
      "  9  2  1  0\n",
      " 10  7  1  0\n",
      " 10  9  1  0\n",
      " 12  1  1  0\n",
      " 13  2  1  0\n",
      " 16  4  1  0\n",
      " 18  7  1  0\n",
      "M  END\n",
      "\n"
     ]
    }
   ],
   "source": [
    "PCCPmols=Chem.MolFromMolFile('./03Verify/pccdb_id5.mol',removeHs=False)\n",
    "print(Chem.MolToMolBlock(PCCPmols))"
   ]
  }
 ],
 "metadata": {
  "jupytext": {
   "text_representation": {
    "extension": ".py",
    "format_name": "light",
    "format_version": "1.4",
    "jupytext_version": "1.1.2"
   }
  },
  "kernelspec": {
   "display_name": "Python cheminfo",
   "language": "python",
   "name": "cheminfo"
  },
  "language_info": {
   "codemirror_mode": {
    "name": "ipython",
    "version": 3
   },
   "file_extension": ".py",
   "mimetype": "text/x-python",
   "name": "python",
   "nbconvert_exporter": "python",
   "pygments_lexer": "ipython3",
   "version": "3.7.3"
  }
 },
 "nbformat": 4,
 "nbformat_minor": 2
}
