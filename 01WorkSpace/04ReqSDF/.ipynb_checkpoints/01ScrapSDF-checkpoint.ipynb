{
 "cells": [
  {
   "cell_type": "code",
   "execution_count": 3,
   "metadata": {},
   "outputs": [],
   "source": [
    "import requests\n",
    "import pandas as pd"
   ]
  },
  {
   "cell_type": "code",
   "execution_count": 1,
   "metadata": {},
   "outputs": [],
   "source": [
    "UA='Mozilla/5.0 (Windows NT 10.0; Win64; x64) AppleWebKit/537.36 (KHTML, like Gecko) Chrome/74.0.3729.157 Safari/537.36'\n",
    "headers = {\"User-Agent\": UA}"
   ]
  },
  {
   "cell_type": "code",
   "execution_count": 4,
   "metadata": {},
   "outputs": [],
   "source": [
    "resp = requests.get('http://pccdb.org/search_pubchemqc/get_sdf/ver0.2/1', timeout=120, headers=headers)"
   ]
  },
  {
   "cell_type": "code",
   "execution_count": 32,
   "metadata": {
    "scrolled": true
   },
   "outputs": [
    {
     "name": "stdout",
     "output_type": "stream",
     "text": [
      "{\n",
      "  \"pccdb_id\": 1, \n",
      "  \"sdf\": \"PCCDB-ID:  1 \\npublic computational chemistry database (PCCDB) project, http://pccdb.org \\n \\n 31 30  0  0  1  0  0  0  0  0999 V2000 \\n    4.5322   -3.4333   -2.9534 C   0  0  0  0  0  0  0  0  0  0  0  0 \\n    7.6658   -0.8281    1.9008 C   0  0  0  0  0  0  0  0  0  0  0  0 \\n    7.1317   -2.9727    2.9377 C   0  0  0  0  0  0  0  0  0  0  0  0 \\n    7.9545   -2.9319    0.6286 C   0  0  0  0  0  0  0  0  0  0  0  0 \\n    4.1132   -0.4153    0.2069 C   0  0  0  0  0  0  0  0  0  0  0  0 \\n    5.6431   -2.1618    1.1867 C   0  0  0  0  0  0  0  0  0  0  0  0 \\n    4.4940   -2.9881   -1.5089 C   0  0  0  0  0  0  0  0  0  0  0  0 \\n    5.3684   -1.2588   -0.0203 C   0  0  1  0  0  0  0  0  0  0  0  0 \\n    4.3759    0.6590    1.3449 C   0  0  0  0  0  0  0  0  0  0  0  0 \\n    7.1121   -2.2172    1.6397 N   0  0  0  0  0  0  0  0  0  0  0  0 \\n    3.7569   -3.4490   -0.6626 O   0  0  0  0  0  0  0  0  0  0  0  0 \\n    4.0444    1.8169    1.0816 O   0  0  0  0  0  0  0  0  0  0  0  0 \\n    4.9167    0.1989    2.4103 O   0  0  0  0  0  0  0  0  0  0  0  0 \\n    5.3886   -1.9959   -1.2925 O   0  0  0  0  0  0  0  0  0  0  0  0 \\n    4.0891   -4.4263   -3.0433 H   0  0  0  0  0  0  0  0  0  0  0  0 \\n    5.5536   -3.4293   -3.3431 H   0  0  0  0  0  0  0  0  0  0  0  0 \\n    3.9462   -2.7299   -3.5564 H   0  0  0  0  0  0  0  0  0  0  0  0 \\n    8.5290   -0.9284    2.5621 H   0  0  0  0  0  0  0  0  0  0  0  0 \\n    6.8535   -0.2240    2.3329 H   0  0  0  0  0  0  0  0  0  0  0  0 \\n    7.9880   -0.3931    0.9550 H   0  0  0  0  0  0  0  0  0  0  0  0 \\n    8.1669   -3.1139    3.2552 H   0  0  0  0  0  0  0  0  0  0  0  0 \\n    6.6476   -3.9403    2.7933 H   0  0  0  0  0  0  0  0  0  0  0  0 \\n    6.5836   -2.3893    3.6786 H   0  0  0  0  0  0  0  0  0  0  0  0 \\n    8.9978   -2.9090    0.9515 H   0  0  0  0  0  0  0  0  0  0  0  0 \\n    7.8468   -2.4345   -0.3356 H   0  0  0  0  0  0  0  0  0  0  0  0 \\n    7.6087   -3.9643    0.5451 H   0  0  0  0  0  0  0  0  0  0  0  0 \\n    3.2710   -1.0584    0.4849 H   0  0  0  0  0  0  0  0  0  0  0  0 \\n    3.8603    0.1128   -0.7152 H   0  0  0  0  0  0  0  0  0  0  0  0 \\n    5.3365   -3.1910    1.0076 H   0  0  0  0  0  0  0  0  0  0  0  0 \\n    5.1150   -1.6984    2.0272 H   0  0  0  0  0  0  0  0  0  0  0  0 \\n    6.1975   -0.5659   -0.1805 H   0  0  0  0  0  0  0  0  0  0  0  0 \\n  1  7  1  0  0  0  0 \\n  2 19  1  0  0  0  0 \\n  2 18  1  0  0  0  0 \\n  3 21  1  0  0  0  0 \\n  3 23  1  0  0  0  0 \\n  4 24  1  0  0  0  0 \\n  4 10  1  0  0  0  0 \\n  5 27  1  0  0  0  0 \\n  5  9  1  0  0  0  0 \\n  6 10  1  0  0  0  0 \\n  6 30  1  0  0  0  0 \\n  7 14  1  0  0  0  0 \\n  7 11  2  0  0  0  0 \\n  8 31  1  6  0  0  0 \\n  8  5  1  0  0  0  0 \\n  8  6  1  0  0  0  0 \\n  9 13  1  0  0  0  0 \\n 10  2  1  0  0  0  0 \\n 10  3  1  0  0  0  0 \\n 12  9  2  0  0  0  0 \\n 14  8  1  0  0  0  0 \\n 15  1  1  0  0  0  0 \\n 16  1  1  0  0  0  0 \\n 17  1  1  0  0  0  0 \\n 20  2  1  0  0  0  0 \\n 22  3  1  0  0  0  0 \\n 25  4  1  0  0  0  0 \\n 26  4  1  0  0  0  0 \\n 28  5  1  0  0  0  0 \\n 29  6  1  0  0  0  0 \\nM  RAD  1  13   2 \\nM  END \\n>  <HBA> \\n4 \\n \\n>  <HBD> \\n0 \\n \\n>  <TPSA> \\n66.43 \\n \\n>  <cid> \\n1 \\n \\n>  <dipole> \\n13.92 \\n \\n>  <excitation_energy_1> \\n3.749 \\n \\n>  <excitation_energy_2> \\n3.989 \\n \\n>  <excitation_energy_3> \\n4.144 \\n \\n>  <excitation_energy_4> \\n4.333 \\n \\n>  <homo_energy> \\n-4.528 \\n \\n>  <homo_lumo_gap> \\n4.512 \\n \\n>  <logP> \\n-1.236 \\n \\n>  <lumo_energy> \\n-0.016 \\n \\n>  <melting_point> \\n90.67 \\n \\n>  <molecular_refractivity> \\n48.87 \\n \\n>  <oscillator_strength_1> \\n0.0006 \\n \\n>  <oscillator_strength_2> \\n0.0042 \\n \\n>  <oscillator_strength_3> \\n0.0142 \\n \\n>  <oscillator_strength_4> \\n0.002 \\n \\n>  <open_babel_can_smiles> \\n[O]C(=O)C[C@@H](C[N](C)(C)C)OC(=O)C \\n \\n>  <mulliken_charges> \\n31 \\n1   -0.522693 \\n2   -0.372027 \\n3   -0.324678 \\n4   -0.322011 \\n5   -0.38868 \\n6   -0.194723 \\n7   0.604202 \\n8   0.108074 \\n9   0.554417 \\n10   -0.358451 \\n11   -0.470316 \\n12   -0.542438 \\n13   -0.61912 \\n14   -0.488908 \\n15   0.182024 \\n16   0.17024 \\n17   0.196206 \\n18   0.171016 \\n19   0.294811 \\n20   0.187917 \\n21   0.184959 \\n22   0.196141 \\n23   0.236109 \\n24   0.186764 \\n25   0.219837 \\n26   0.192451 \\n27   0.164549 \\n28   0.152683 \\n29   0.191468 \\n30   0.252514 \\n31   0.157663 \\n \\n>  <lowdin_charges> \\n31 \\n1   -0.464757 \\n2   -0.379038 \\n3   -0.349974 \\n4   -0.354173 \\n5   -0.344264 \\n6   -0.234414 \\n7   0.202921 \\n8   -9.4e-05 \\n9   0.127389 \\n10   0.075931 \\n11   -0.270678 \\n12   -0.360198 \\n13   -0.47793 \\n14   -0.213454 \\n15   0.175127 \\n16   0.169792 \\n17   0.187473 \\n18   0.165488 \\n19   0.227793 \\n20   0.172758 \\n21   0.169066 \\n22   0.176358 \\n23   0.199144 \\n24   0.170118 \\n25   0.187374 \\n26   0.173943 \\n27   0.162766 \\n28   0.160274 \\n29   0.172576 \\n30   0.215295 \\n31   0.157389 \\n \\n$$$$ \\n \\n\"\n",
      "}\n",
      "\n"
     ]
    }
   ],
   "source": [
    "print(resp.text)"
   ]
  },
  {
   "cell_type": "code",
   "execution_count": 4,
   "metadata": {},
   "outputs": [],
   "source": [
    "df_pccd=pd.read_csv('./search_result_ids.csv')"
   ]
  },
  {
   "cell_type": "code",
   "execution_count": 24,
   "metadata": {},
   "outputs": [],
   "source": [
    "TarDir='./SDF/'\n",
    "FN='PCCID{}'.format(1)\n",
    "FP=TarDir+FN+'.sdf'"
   ]
  },
  {
   "cell_type": "code",
   "execution_count": 31,
   "metadata": {},
   "outputs": [],
   "source": [
    "with open(FP, mode='w') as f:\n",
    "    f.write(resp.text)"
   ]
  },
  {
   "cell_type": "code",
   "execution_count": 23,
   "metadata": {},
   "outputs": [
    {
     "data": {
      "text/plain": [
       "3"
      ]
     },
     "execution_count": 23,
     "metadata": {},
     "output_type": "execute_result"
    }
   ],
   "source": [
    "df_pccd.iloc[1,0]"
   ]
  }
 ],
 "metadata": {
  "jupytext": {
   "text_representation": {
    "extension": ".py",
    "format_name": "light",
    "format_version": "1.4",
    "jupytext_version": "1.1.2"
   }
  },
  "kernelspec": {
   "display_name": "Python scrap",
   "language": "python",
   "name": "scrap"
  },
  "language_info": {
   "codemirror_mode": {
    "name": "ipython",
    "version": 3
   },
   "file_extension": ".py",
   "mimetype": "text/x-python",
   "name": "python",
   "nbconvert_exporter": "python",
   "pygments_lexer": "ipython3",
   "version": "3.7.3"
  }
 },
 "nbformat": 4,
 "nbformat_minor": 2
}
