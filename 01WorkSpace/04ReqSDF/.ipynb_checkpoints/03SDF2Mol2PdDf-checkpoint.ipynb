{
 "cells": [
  {
   "cell_type": "code",
   "execution_count": null,
   "metadata": {},
   "outputs": [],
   "source": [
    "#正規化したSDFをmolで読み込み、再度SDF化しpandasで読み込み"
   ]
  },
  {
   "cell_type": "code",
   "execution_count": 1,
   "metadata": {},
   "outputs": [
    {
     "name": "stdout",
     "output_type": "stream",
     "text": [
      "2019.03.2\n"
     ]
    }
   ],
   "source": [
    "## 1. ライブラリのインポート\n",
    "from rdkit import rdBase, Chem\n",
    "from rdkit.Chem import AllChem, Draw, PandasTools, Descriptors\n",
    " \n",
    "import matplotlib as mpl\n",
    "import matplotlib.pyplot as plt\n",
    "import seaborn as sns\n",
    "import pandas as pd\n",
    "import numpy as np\n",
    "print(rdBase.rdkitVersion) # 2019.03.2"
   ]
  },
  {
   "cell_type": "code",
   "execution_count": 2,
   "metadata": {},
   "outputs": [],
   "source": [
    "import os\n",
    "import os.path\n",
    "import sys\n",
    "\n",
    "#自作モジュールディレクトリをパスに追加\n",
    "p_mod=os.path.join(os.environ['HOME'],'notebooks/99MyModules')\n",
    "sys.path.append(p_mod)\n",
    "\n",
    "import descarray as da\n",
    "\n",
    "#データディレクトリ\n",
    "DataDir=os.path.join(os.environ['HOME'],'notebooks/50Data/')"
   ]
  },
  {
   "cell_type": "code",
   "execution_count": 3,
   "metadata": {},
   "outputs": [
    {
     "data": {
      "text/plain": [
       "999"
      ]
     },
     "execution_count": 3,
     "metadata": {},
     "output_type": "execute_result"
    }
   ],
   "source": [
    "#正規化SDFをロード\n",
    "TarDir=DataDir+'SDF_R/'\n",
    "L_FP=[]\n",
    "for f in os.listdir(TarDir):\n",
    "    D_sdf={}\n",
    "    if f.endswith('.sdf'):\n",
    "        D_sdf['FN']=f\n",
    "        D_sdf['RP']=os.path.join(TarDir,f)\n",
    "        L_FP.append(D_sdf)\n",
    "len(L_FP)"
   ]
  },
  {
   "cell_type": "code",
   "execution_count": 6,
   "metadata": {
    "scrolled": true
   },
   "outputs": [
    {
     "data": {
      "text/plain": [
       "928"
      ]
     },
     "execution_count": 6,
     "metadata": {},
     "output_type": "execute_result"
    }
   ],
   "source": [
    "#sdfをmolオブジェクトに\n",
    "L_sdf=[]\n",
    "L_mol=[]\n",
    "for D_sdf in L_FP:\n",
    "    with open(D_sdf['RP'],'rb') as f:\n",
    "        suppl=Chem.ForwardSDMolSupplier(f,removeHs=False)\n",
    "        for el in suppl:\n",
    "            if el is not None:\n",
    "                L_mol.append(el)\n",
    "len(L_mol)"
   ]
  },
  {
   "cell_type": "code",
   "execution_count": 10,
   "metadata": {},
   "outputs": [],
   "source": [
    "#molオブジェクトをまとめてsdfに\n",
    "WriFP=DataDir+'PCCDB.sdf'\n",
    "writer = Chem.SDWriter(WriFP)\n",
    "for el in L_mol:\n",
    "    writer.write(el)\n",
    "writer.close()"
   ]
  },
  {
   "cell_type": "code",
   "execution_count": 12,
   "metadata": {
    "scrolled": true
   },
   "outputs": [
    {
     "name": "stdout",
     "output_type": "stream",
     "text": [
      "サイズ:(928, 24)\n"
     ]
    },
    {
     "data": {
      "text/html": [
       "<div>\n",
       "<style scoped>\n",
       "    .dataframe tbody tr th:only-of-type {\n",
       "        vertical-align: middle;\n",
       "    }\n",
       "\n",
       "    .dataframe tbody tr th {\n",
       "        vertical-align: top;\n",
       "    }\n",
       "\n",
       "    .dataframe thead th {\n",
       "        text-align: right;\n",
       "    }\n",
       "</style>\n",
       "<table border=\"1\" class=\"dataframe\">\n",
       "  <thead>\n",
       "    <tr style=\"text-align: right;\">\n",
       "      <th></th>\n",
       "      <th>HBA</th>\n",
       "      <th>HBD</th>\n",
       "      <th>ID</th>\n",
       "      <th>ROMol</th>\n",
       "      <th>TPSA</th>\n",
       "      <th>cid</th>\n",
       "      <th>dipole</th>\n",
       "      <th>excitation_energy_1</th>\n",
       "      <th>excitation_energy_2</th>\n",
       "      <th>excitation_energy_3</th>\n",
       "      <th>...</th>\n",
       "      <th>lowdin_charges</th>\n",
       "      <th>lumo_energy</th>\n",
       "      <th>melting_point</th>\n",
       "      <th>molecular_refractivity</th>\n",
       "      <th>mulliken_charges</th>\n",
       "      <th>open_babel_can_smiles</th>\n",
       "      <th>oscillator_strength_1</th>\n",
       "      <th>oscillator_strength_2</th>\n",
       "      <th>oscillator_strength_3</th>\n",
       "      <th>oscillator_strength_4</th>\n",
       "    </tr>\n",
       "  </thead>\n",
       "  <tbody>\n",
       "    <tr>\n",
       "      <th>0</th>\n",
       "      <td>4</td>\n",
       "      <td>3</td>\n",
       "      <td>PCCDB-ID:  3</td>\n",
       "      <td><img src=\"data:image/png;base64,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\" alt=\"Mol\"/></td>\n",
       "      <td>77.76</td>\n",
       "      <td>3</td>\n",
       "      <td>4.4</td>\n",
       "      <td>3.854</td>\n",
       "      <td>4.276</td>\n",
       "      <td>4.356</td>\n",
       "      <td>...</td>\n",
       "      <td>19\\n1   -0.177586\\n2   -0.130328\\n3   -0.157261\\n4   -0.072111\\n5   -0.018634\\n6   -0.014572\\n7   0.195218\\n8   -0.447473\\n9   -0.449084\\n10   -0.368315\\n11   -0.262187\\n12   0.166273\\n13   0.176094\\n14   0.167126\\n15   0.164229\\n16   0.176665\\n17   0.345174\\n18   0.344452\\n19   0.362319</td>\n",
       "      <td>-2.201</td>\n",
       "      <td>132.75</td>\n",
       "      <td>36.8</td>\n",
       "      <td>19\\n1   -0.126843\\n2   -0.167698\\n3   -0.149307\\n4   0.029338\\n5   0.071841\\n6   0.047905\\n7   0.551868\\n8   -0.609223\\n9   -0.610471\\n10   -0.58771\\n11   -0.464566\\n12   0.145904\\n13   0.172716\\n14   0.1539\\n15   0.163632\\n16   0.18275\\n17   0.393281\\n18   0.390155\\n19   0.41253</td>\n",
       "      <td>O[C@H]1C=CC=C([C@@H]1O)C(=O)O</td>\n",
       "      <td>0.0299</td>\n",
       "      <td>0.0188</td>\n",
       "      <td>0.193</td>\n",
       "      <td>0.0162</td>\n",
       "    </tr>\n",
       "    <tr>\n",
       "      <th>1</th>\n",
       "      <td>2</td>\n",
       "      <td>2</td>\n",
       "      <td>PCCDB-ID:  4</td>\n",
       "      <td><img src=\"data:image/png;base64,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\" alt=\"Mol\"/></td>\n",
       "      <td>46.25</td>\n",
       "      <td>4</td>\n",
       "      <td>2.47</td>\n",
       "      <td>5.596</td>\n",
       "      <td>6.262</td>\n",
       "      <td>6.46</td>\n",
       "      <td>...</td>\n",
       "      <td>14\\n1   -0.461103\\n2   -0.221347\\n3   -0.003749\\n4   -0.562056\\n5   -0.466274\\n6   0.157431\\n7   0.143024\\n8   0.159247\\n9   0.108165\\n10   0.145349\\n11   0.151923\\n12   0.259173\\n13   0.253554\\n14   0.336663</td>\n",
       "      <td>1.848</td>\n",
       "      <td>48.3</td>\n",
       "      <td>20.4</td>\n",
       "      <td>14\\n1   -0.464472\\n2   -0.129213\\n3   0.131922\\n4   -0.720924\\n5   -0.622405\\n6   0.148951\\n7   0.131458\\n8   0.161801\\n9   0.092821\\n10   0.136684\\n11   0.153963\\n12   0.30602\\n13   0.292737\\n14   0.380656</td>\n",
       "      <td>C[C@@H](CN)O</td>\n",
       "      <td>0.0039</td>\n",
       "      <td>0.0227</td>\n",
       "      <td>0.0011</td>\n",
       "      <td>0.0442</td>\n",
       "    </tr>\n",
       "    <tr>\n",
       "      <th>2</th>\n",
       "      <td>6</td>\n",
       "      <td>3</td>\n",
       "      <td>PCCDB-ID:  5</td>\n",
       "      <td><img src=\"data:image/png;base64,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\" alt=\"Mol\"/></td>\n",
       "      <td>119.66</td>\n",
       "      <td>5</td>\n",
       "      <td>3.46</td>\n",
       "      <td>4.245</td>\n",
       "      <td>5.121</td>\n",
       "      <td>5.732</td>\n",
       "      <td>...</td>\n",
       "      <td>18\\n1   -0.237996\\n2   -0.161494\\n3   0.15065\\n4   -0.526728\\n5   -0.238137\\n6   -0.559023\\n7   -0.548562\\n8   -0.598981\\n9   -0.388809\\n10   1.118539\\n11   0.17026\\n12   0.16897\\n13   0.186922\\n14   0.17241\\n15   0.26471\\n16   0.262639\\n17   0.376887\\n18   0.387741</td>\n",
       "      <td>-1.461</td>\n",
       "      <td>130.8</td>\n",
       "      <td>31.51</td>\n",
       "      <td>18\\n1   -0.245504\\n2   -0.126751\\n3   0.439452\\n4   -0.683042\\n5   -0.462317\\n6   -0.642377\\n7   -0.613135\\n8   -0.563443\\n9   -0.519854\\n10   1.130502\\n11   0.183548\\n12   0.180534\\n13   0.207595\\n14   0.182627\\n15   0.314094\\n16   0.311711\\n17   0.462776\\n18   0.443585</td>\n",
       "      <td>NCC(=O)COP(=O)(O)O</td>\n",
       "      <td>0.0001</td>\n",
       "      <td>0.0001</td>\n",
       "      <td>0.0018</td>\n",
       "      <td>0.0098</td>\n",
       "    </tr>\n",
       "    <tr>\n",
       "      <th>3</th>\n",
       "      <td>5</td>\n",
       "      <td>1</td>\n",
       "      <td>PCCDB-ID:  7</td>\n",
       "      <td><img src=\"data:image/png;base64,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\" alt=\"Mol\"/></td>\n",
       "      <td>69.62</td>\n",
       "      <td>7</td>\n",
       "      <td>2.48</td>\n",
       "      <td>4.949</td>\n",
       "      <td>4.986</td>\n",
       "      <td>5.215</td>\n",
       "      <td>...</td>\n",
       "      <td>21\\n1   -0.452989\\n2   -0.189017\\n3   -0.037176\\n4   -0.067197\\n5   -0.062936\\n6   0.120071\\n7   0.056413\\n8   -0.441993\\n9   -0.223617\\n10   -0.211215\\n11   -0.195717\\n12   -0.025588\\n13   0.15928\\n14   0.171175\\n15   0.155754\\n16   0.170216\\n17   0.157099\\n18   0.157503\\n19   0.16897\\n20   0.298621\\n21   0.292342</td>\n",
       "      <td>-0.4</td>\n",
       "      <td>146.83</td>\n",
       "      <td>45.8</td>\n",
       "      <td>21\\n1   -0.448121\\n2   -0.151743\\n3   0.160899\\n4   0.213715\\n5   0.193071\\n6   0.483482\\n7   0.513626\\n8   -0.77493\\n9   -0.509117\\n10   -0.510597\\n11   -0.527562\\n12   -0.474722\\n13   0.153341\\n14   0.186059\\n15   0.154996\\n16   0.184461\\n17   0.156449\\n18   0.142533\\n19   0.159211\\n20   0.352578\\n21   0.34237</td>\n",
       "      <td>CCn1cnc2c1[N]C=N[C]2N</td>\n",
       "      <td>0.1801</td>\n",
       "      <td>0.0314</td>\n",
       "      <td>0.0366</td>\n",
       "      <td>0.0102</td>\n",
       "    </tr>\n",
       "    <tr>\n",
       "      <th>4</th>\n",
       "      <td>4</td>\n",
       "      <td>3</td>\n",
       "      <td>PCCDB-ID:  8</td>\n",
       "      <td><img src=\"data:image/png;base64,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\" alt=\"Mol\"/></td>\n",
       "      <td>77.76</td>\n",
       "      <td>8</td>\n",
       "      <td>4.79</td>\n",
       "      <td>5.491</td>\n",
       "      <td>6.234</td>\n",
       "      <td>6.82</td>\n",
       "      <td>...</td>\n",
       "      <td>22\\n1   -0.451101\\n2   -0.460142\\n3   -0.287902\\n4   -0.047704\\n5   0.173846\\n6   0.112935\\n7   -0.458552\\n8   -0.252341\\n9   -0.342015\\n10   -0.469119\\n11   0.157353\\n12   0.143\\n13   0.162767\\n14   0.160556\\n15   0.15057\\n16   0.161126\\n17   0.137102\\n18   0.170281\\n19   0.17202\\n20   0.351893\\n21   0.362958\\n22   0.352469</td>\n",
       "      <td>0.31</td>\n",
       "      <td>98.85</td>\n",
       "      <td>35.09</td>\n",
       "      <td>22\\n1   -0.462523\\n2   -0.466719\\n3   -0.259074\\n4   0.037358\\n5   0.599271\\n6   0.260735\\n7   -0.664591\\n8   -0.462421\\n9   -0.573788\\n10   -0.665715\\n11   0.153017\\n12   0.136828\\n13   0.173172\\n14   0.160622\\n15   0.139013\\n16   0.164468\\n17   0.113952\\n18   0.183155\\n19   0.180661\\n20   0.422878\\n21   0.426701\\n22   0.403001</td>\n",
       "      <td>CC[C@@]([C@@H](C(=O)O)O)(O)C</td>\n",
       "      <td>0.0006</td>\n",
       "      <td>0.0037</td>\n",
       "      <td>0.0154</td>\n",
       "      <td>0.0119</td>\n",
       "    </tr>\n",
       "  </tbody>\n",
       "</table>\n",
       "<p>5 rows × 24 columns</p>\n",
       "</div>"
      ],
      "text/plain": [
       "  HBA HBD            ID                                              ROMol  \\\n",
       "0   4   3  PCCDB-ID:  3  <img src=\"data:image/png;base64,iVBORw0KGgoAAA...   \n",
       "1   2   2  PCCDB-ID:  4  <img src=\"data:image/png;base64,iVBORw0KGgoAAA...   \n",
       "2   6   3  PCCDB-ID:  5  <img src=\"data:image/png;base64,iVBORw0KGgoAAA...   \n",
       "3   5   1  PCCDB-ID:  7  <img src=\"data:image/png;base64,iVBORw0KGgoAAA...   \n",
       "4   4   3  PCCDB-ID:  8  <img src=\"data:image/png;base64,iVBORw0KGgoAAA...   \n",
       "\n",
       "     TPSA cid dipole excitation_energy_1 excitation_energy_2  \\\n",
       "0   77.76   3    4.4               3.854               4.276   \n",
       "1   46.25   4   2.47               5.596               6.262   \n",
       "2  119.66   5   3.46               4.245               5.121   \n",
       "3   69.62   7   2.48               4.949               4.986   \n",
       "4   77.76   8   4.79               5.491               6.234   \n",
       "\n",
       "  excitation_energy_3  ...                                     lowdin_charges  \\\n",
       "0               4.356  ...  19\\n1   -0.177586\\n2   -0.130328\\n3   -0.15726...   \n",
       "1                6.46  ...  14\\n1   -0.461103\\n2   -0.221347\\n3   -0.00374...   \n",
       "2               5.732  ...  18\\n1   -0.237996\\n2   -0.161494\\n3   0.15065\\...   \n",
       "3               5.215  ...  21\\n1   -0.452989\\n2   -0.189017\\n3   -0.03717...   \n",
       "4                6.82  ...  22\\n1   -0.451101\\n2   -0.460142\\n3   -0.28790...   \n",
       "\n",
       "  lumo_energy melting_point molecular_refractivity  \\\n",
       "0      -2.201        132.75                   36.8   \n",
       "1       1.848          48.3                   20.4   \n",
       "2      -1.461         130.8                  31.51   \n",
       "3        -0.4        146.83                   45.8   \n",
       "4        0.31         98.85                  35.09   \n",
       "\n",
       "                                    mulliken_charges  \\\n",
       "0  19\\n1   -0.126843\\n2   -0.167698\\n3   -0.14930...   \n",
       "1  14\\n1   -0.464472\\n2   -0.129213\\n3   0.131922...   \n",
       "2  18\\n1   -0.245504\\n2   -0.126751\\n3   0.439452...   \n",
       "3  21\\n1   -0.448121\\n2   -0.151743\\n3   0.160899...   \n",
       "4  22\\n1   -0.462523\\n2   -0.466719\\n3   -0.25907...   \n",
       "\n",
       "           open_babel_can_smiles oscillator_strength_1 oscillator_strength_2  \\\n",
       "0  O[C@H]1C=CC=C([C@@H]1O)C(=O)O                0.0299                0.0188   \n",
       "1                   C[C@@H](CN)O                0.0039                0.0227   \n",
       "2             NCC(=O)COP(=O)(O)O                0.0001                0.0001   \n",
       "3          CCn1cnc2c1[N]C=N[C]2N                0.1801                0.0314   \n",
       "4   CC[C@@]([C@@H](C(=O)O)O)(O)C                0.0006                0.0037   \n",
       "\n",
       "  oscillator_strength_3 oscillator_strength_4  \n",
       "0                 0.193                0.0162  \n",
       "1                0.0011                0.0442  \n",
       "2                0.0018                0.0098  \n",
       "3                0.0366                0.0102  \n",
       "4                0.0154                0.0119  \n",
       "\n",
       "[5 rows x 24 columns]"
      ]
     },
     "metadata": {},
     "output_type": "display_data"
    }
   ],
   "source": [
    "#まとめたSDFをpandasにロード\n",
    "df_PCCDB=PandasTools.LoadSDF(WriFP)\n",
    "da.descDf(df_PCCDB)"
   ]
  },
  {
   "cell_type": "code",
   "execution_count": 7,
   "metadata": {},
   "outputs": [
    {
     "name": "stdout",
     "output_type": "stream",
     "text": [
      "PCCDB-ID:  3\n",
      "     RDKit          3D\n",
      "\n",
      " 19 19  0  0  1  0  0  0  0  0999 V2000\n",
      "    1.0657    0.8358    0.2463 C   0  0  0  0  0  0  0  0  0  0  0  0\n",
      "   -0.2923    1.3182    0.0023 C   0  0  0  0  0  0  0  0  0  0  0  0\n",
      "    1.3550   -0.4791    0.2035 C   0  0  0  0  0  0  0  0  0  0  0  0\n",
      "   -1.3396    0.4661   -0.0834 C   0  0  0  0  0  0  0  0  0  0  0  0\n",
      "    0.2902   -1.4890   -0.1535 C   0  0  1  0  0  0  0  0  0  0  0  0\n",
      "   -1.1337   -1.0073    0.1976 C   0  0  1  0  0  0  0  0  0  0  0  0\n",
      "   -2.7176    0.9187   -0.3757 C   0  0  0  0  0  0  0  0  0  0  0  0\n",
      "    0.4209   -1.8479   -1.5346 O   0  0  0  0  0  0  0  0  0  0  0  0\n",
      "   -1.4342   -1.2858    1.5715 O   0  0  0  0  0  0  0  0  0  0  0  0\n",
      "   -2.8496    2.2737   -0.3949 O   0  0  0  0  0  0  0  0  0  0  0  0\n",
      "   -3.6545    0.1776   -0.5972 O   0  0  0  0  0  0  0  0  0  0  0  0\n",
      "    1.8445    1.5729    0.4255 H   0  0  0  0  0  0  0  0  0  0  0  0\n",
      "   -0.4485    2.3855   -0.1219 H   0  0  0  0  0  0  0  0  0  0  0  0\n",
      "    2.3749   -0.8339    0.3278 H   0  0  0  0  0  0  0  0  0  0  0  0\n",
      "    0.4406   -2.4224    0.3972 H   0  0  0  0  0  0  0  0  0  0  0  0\n",
      "   -1.8433   -1.6048   -0.3782 H   0  0  0  0  0  0  0  0  0  0  0  0\n",
      "    0.4031   -1.0240   -2.0489 H   0  0  0  0  0  0  0  0  0  0  0  0\n",
      "   -0.9164   -0.6664    2.1118 H   0  0  0  0  0  0  0  0  0  0  0  0\n",
      "   -3.7847    2.4403   -0.6145 H   0  0  0  0  0  0  0  0  0  0  0  0\n",
      "  1 12  1  0\n",
      "  2  1  1  0\n",
      "  3  1  2  0\n",
      "  3 14  1  0\n",
      "  4  2  2  0\n",
      "  4  6  1  0\n",
      "  5  6  1  0\n",
      "  5  3  1  0\n",
      "  5 15  1  1\n",
      "  6 16  1  6\n",
      "  6  9  1  0\n",
      "  7  4  1  0\n",
      "  8  5  1  0\n",
      "  9 18  1  0\n",
      " 10  7  1  0\n",
      " 11  7  2  0\n",
      " 13  2  1  0\n",
      " 17  8  1  0\n",
      " 19 10  1  0\n",
      "M  END\n",
      "\n"
     ]
    }
   ],
   "source": [
    "print(Chem.MolToMolBlock(L_mol[0]))"
   ]
  },
  {
   "cell_type": "code",
   "execution_count": 13,
   "metadata": {},
   "outputs": [
    {
     "name": "stdout",
     "output_type": "stream",
     "text": [
      "<rdkit.Chem.rdchem.Mol object at 0x7f4ff7351760>\n"
     ]
    }
   ],
   "source": [
    "with open('./SDF/PCCID_00000003.sdf','rb') as f:\n",
    "    suppl=Chem.ForwardSDMolSupplier(f)\n",
    "    for el in suppl:\n",
    "        if el is not None:\n",
    "            print(el)"
   ]
  }
 ],
 "metadata": {
  "jupytext": {
   "text_representation": {
    "extension": ".py",
    "format_name": "light",
    "format_version": "1.4",
    "jupytext_version": "1.1.2"
   }
  },
  "kernelspec": {
   "display_name": "Python 3",
   "language": "python",
   "name": "python3"
  },
  "language_info": {
   "codemirror_mode": {
    "name": "ipython",
    "version": 3
   },
   "file_extension": ".py",
   "mimetype": "text/x-python",
   "name": "python",
   "nbconvert_exporter": "python",
   "pygments_lexer": "ipython3",
   "version": "3.7.3"
  }
 },
 "nbformat": 4,
 "nbformat_minor": 2
}
