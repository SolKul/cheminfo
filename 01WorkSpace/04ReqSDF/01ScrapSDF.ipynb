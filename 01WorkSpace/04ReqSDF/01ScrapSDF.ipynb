{
 "cells": [
  {
   "cell_type": "markdown",
   "metadata": {},
   "source": [
    "# PCCDBからSDFをダウンロード  \n",
    "PCCDBからjson形式でSDFがダウンロード可能  "
   ]
  },
  {
   "cell_type": "code",
   "execution_count": 29,
   "metadata": {},
   "outputs": [],
   "source": [
    "import requests\n",
    "import pandas as pd\n",
    "import json\n",
    "import time\n",
    "import os\n",
    "import os.path\n",
    "import sys\n",
    "\n",
    "#自作モジュールのインポート\n",
    "p_mod=os.path.join(os.environ['HOME'],'notebooks/99MyModules')\n",
    "sys.path.append(p_mod)\n",
    "import descarray as da\n",
    "\n",
    "#保存先の設定\n",
    "DataDir=os.path.join(os.environ['HOME'],'notebooks/50Data/')"
   ]
  },
  {
   "cell_type": "code",
   "execution_count": 38,
   "metadata": {},
   "outputs": [
    {
     "name": "stdout",
     "output_type": "stream",
     "text": [
      "サイズ:(47984, 3)\n"
     ]
    },
    {
     "data": {
      "text/html": [
       "<div>\n",
       "<style scoped>\n",
       "    .dataframe tbody tr th:only-of-type {\n",
       "        vertical-align: middle;\n",
       "    }\n",
       "\n",
       "    .dataframe tbody tr th {\n",
       "        vertical-align: top;\n",
       "    }\n",
       "\n",
       "    .dataframe thead th {\n",
       "        text-align: right;\n",
       "    }\n",
       "</style>\n",
       "<table border=\"1\" class=\"dataframe\">\n",
       "  <thead>\n",
       "    <tr style=\"text-align: right;\">\n",
       "      <th></th>\n",
       "      <th>index</th>\n",
       "      <th>PCCDB-ID</th>\n",
       "      <th>SMILES</th>\n",
       "    </tr>\n",
       "  </thead>\n",
       "  <tbody>\n",
       "    <tr>\n",
       "      <th>0</th>\n",
       "      <td>0</td>\n",
       "      <td>6347</td>\n",
       "      <td>N=C=O</td>\n",
       "    </tr>\n",
       "    <tr>\n",
       "      <th>1</th>\n",
       "      <td>1</td>\n",
       "      <td>6351</td>\n",
       "      <td>C1CC1</td>\n",
       "    </tr>\n",
       "    <tr>\n",
       "      <th>2</th>\n",
       "      <td>2</td>\n",
       "      <td>6354</td>\n",
       "      <td>O1CC1</td>\n",
       "    </tr>\n",
       "    <tr>\n",
       "      <th>3</th>\n",
       "      <td>3</td>\n",
       "      <td>6360</td>\n",
       "      <td>CC(C)C</td>\n",
       "    </tr>\n",
       "    <tr>\n",
       "      <th>4</th>\n",
       "      <td>4</td>\n",
       "      <td>6363</td>\n",
       "      <td>CC(N)C</td>\n",
       "    </tr>\n",
       "  </tbody>\n",
       "</table>\n",
       "</div>"
      ],
      "text/plain": [
       "   index PCCDB-ID  SMILES\n",
       "0      0     6347   N=C=O\n",
       "1      1     6351   C1CC1\n",
       "2      2     6354   O1CC1\n",
       "3      3     6360  CC(C)C\n",
       "4      4     6363  CC(N)C"
      ]
     },
     "metadata": {},
     "output_type": "display_data"
    }
   ],
   "source": [
    "df_id=pd.read_pickle('./df_pccdb_id.pkl')\n",
    "da.descDf(df_id)"
   ]
  },
  {
   "cell_type": "code",
   "execution_count": 32,
   "metadata": {},
   "outputs": [],
   "source": [
    "UA='Mozilla/5.0 (Windows NT 10.0; Win64; x64) AppleWebKit/537.36 (KHTML, like Gecko) Chrome/74.0.3729.157 Safari/537.36'\n",
    "headers = {\"User-Agent\": UA}"
   ]
  },
  {
   "cell_type": "code",
   "execution_count": 39,
   "metadata": {},
   "outputs": [],
   "source": [
    "PC_id=int(df_id.iloc[RowPC,1])\n",
    "PCCDURL='http://pccdb.org/search_pubchemqc/get_sdf/ver0.2/'\n",
    "TarURL=PCCDURL+str(PC_id)\n",
    "resp = requests.get(TarURL, timeout=120, headers=headers)"
   ]
  },
  {
   "cell_type": "code",
   "execution_count": 40,
   "metadata": {},
   "outputs": [
    {
     "name": "stdout",
     "output_type": "stream",
     "text": [
      "['pccdb_id', 'sdf']\n"
     ]
    }
   ],
   "source": [
    "sdf_txt=resp.text\n",
    "di_sdf=json.loads(sdf_txt)\n",
    "print([x for x in di_sdf])\n",
    "TarDir=DataDir+'PCCDB_SDF/'\n",
    "FN='PCCID_{:0=8}'.format(PC_id)\n",
    "FP=TarDir+FN+'.sdf'\n",
    "with open(FP, mode='w') as f:\n",
    "    f.write(di_sdf['sdf'])"
   ]
  },
  {
   "cell_type": "code",
   "execution_count": null,
   "metadata": {},
   "outputs": [
    {
     "name": "stdout",
     "output_type": "stream",
     "text": [
      "http://pccdb.org/search_pubchemqc/get_sdf/ver0.2/6347\n"
     ]
    }
   ],
   "source": [
    "for RowPC in range(0,2000):\n",
    "    #RowPCは何行目かを表す。\n",
    "    #PC_idはPCCDBのid\n",
    "    PC_id=int(df_id.iloc[RowPC,1])\n",
    "\n",
    "    PCCDURL='http://pccdb.org/search_pubchemqc/get_sdf/ver0.2/'\n",
    "    TarURL=PCCDURL+str(PC_id)\n",
    "    print(TarURL)\n",
    "    try:\n",
    "        time.sleep(60)\n",
    "        resp = requests.get(TarURL, timeout=120, headers=headers)\n",
    "\n",
    "        #requestsしたtext、これはjson形式になっている\n",
    "        #属性はpcccdb_idとsdfの2つ\n",
    "        #json.loadsすると辞書型に変換される。\n",
    "        sdf_txt=resp.text\n",
    "        di_sdf=json.loads(sdf_txt)\n",
    "        print([x for x in di_sdf])\n",
    "\n",
    "        #ファイル名とファイルパスを作成\n",
    "        TarDir=DataDir+'PCCDB_SDF/'\n",
    "        FN='PCCID_{:0=8}'.format(PC_id)\n",
    "        FP=TarDir+FN+'.sdf'\n",
    "        print(FP)\n",
    "        print()\n",
    "\n",
    "        with open(FP, mode='w') as f:\n",
    "            f.write(di_sdf['sdf'])\n",
    "    except:\n",
    "        print('Error')"
   ]
  },
  {
   "cell_type": "code",
   "execution_count": null,
   "metadata": {},
   "outputs": [],
   "source": [
    "# import re\n",
    "\n",
    "# pattern = 'sdf'\n",
    "# re.search(sdf_txt,pattern)\n",
    "\n",
    "# n_txt=eval('{}'.format(sdf_txt))\n",
    "\n",
    "# tes_txt='000\\\\\\\\n aa'\n",
    "# print(tes_txt)\n",
    "# te_txt2=tes_txt.replace('\\\\\\\\','\\\\')\n",
    "# print(te_txt2)\n",
    "\n",
    "# x = 'a\\\\b\\\\c'\n",
    "# print(x) # a\\b\\\\c\n",
    "# y = x.replace('\\\\','')\n",
    "# print(y) # a\\b\\c\n",
    "\n",
    "# import json\n",
    "\n",
    "# di_sdf=json.loads(sdf_txt)\n",
    "# print([x for x in di_sdf])\n",
    "\n",
    "# FP\n",
    "\n",
    "# df_pccd.iloc[1,0]"
   ]
  }
 ],
 "metadata": {
  "jupytext": {
   "encoding": "# -*- coding: utf-8 -*-",
   "text_representation": {
    "extension": ".py",
    "format_name": "light",
    "format_version": "1.4",
    "jupytext_version": "1.1.5"
   }
  },
  "kernelspec": {
   "display_name": "Python 3",
   "language": "python",
   "name": "python3"
  },
  "language_info": {
   "codemirror_mode": {
    "name": "ipython",
    "version": 3
   },
   "file_extension": ".py",
   "mimetype": "text/x-python",
   "name": "python",
   "nbconvert_exporter": "python",
   "pygments_lexer": "ipython3",
   "version": "3.7.3"
  }
 },
 "nbformat": 4,
 "nbformat_minor": 2
}
