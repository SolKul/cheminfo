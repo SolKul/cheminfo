{
 "cells": [
  {
   "cell_type": "code",
   "execution_count": 1,
   "metadata": {},
   "outputs": [],
   "source": [
    "import pubchempy as pcp\n",
    "from rdkit import Chem\n",
    "import py3Dmol as p3d\n",
    "import os\n",
    "from rdkit.Chem import AllChem, Draw"
   ]
  },
  {
   "cell_type": "code",
   "execution_count": 2,
   "metadata": {},
   "outputs": [
    {
     "data": {
      "text/plain": [
       "999"
      ]
     },
     "execution_count": 2,
     "metadata": {},
     "output_type": "execute_result"
    }
   ],
   "source": [
    "TarDir='./SDF_R/'\n",
    "L_FP=[]\n",
    "for f in os.listdir(TarDir):\n",
    "    D_sdf={}\n",
    "    if f.endswith('.sdf'):\n",
    "        D_sdf['FN']=f\n",
    "        D_sdf['RP']=os.path.join(TarDir,f)\n",
    "        L_FP.append(D_sdf)\n",
    "len(L_FP)"
   ]
  },
  {
   "cell_type": "code",
   "execution_count": 22,
   "metadata": {
    "scrolled": true
   },
   "outputs": [
    {
     "data": {
      "text/plain": [
       "928"
      ]
     },
     "execution_count": 22,
     "metadata": {},
     "output_type": "execute_result"
    }
   ],
   "source": [
    "L_sdf=[]\n",
    "L_mol=[]\n",
    "for D_sdf in L_FP:\n",
    "    with open(D_sdf['RP'],'rb') as f:\n",
    "        suppl=Chem.ForwardSDMolSupplier(f,removeHs=False)\n",
    "        for el in suppl:\n",
    "            if el is not None:\n",
    "                L_mol.append(el)\n",
    "len(L_mol)"
   ]
  },
  {
   "cell_type": "code",
   "execution_count": 23,
   "metadata": {},
   "outputs": [
    {
     "name": "stdout",
     "output_type": "stream",
     "text": [
      "PCCDB-ID:  3\n",
      "     RDKit          3D\n",
      "\n",
      " 19 19  0  0  1  0  0  0  0  0999 V2000\n",
      "    1.0657    0.8358    0.2463 C   0  0  0  0  0  0  0  0  0  0  0  0\n",
      "   -0.2923    1.3182    0.0023 C   0  0  0  0  0  0  0  0  0  0  0  0\n",
      "    1.3550   -0.4791    0.2035 C   0  0  0  0  0  0  0  0  0  0  0  0\n",
      "   -1.3396    0.4661   -0.0834 C   0  0  0  0  0  0  0  0  0  0  0  0\n",
      "    0.2902   -1.4890   -0.1535 C   0  0  1  0  0  0  0  0  0  0  0  0\n",
      "   -1.1337   -1.0073    0.1976 C   0  0  1  0  0  0  0  0  0  0  0  0\n",
      "   -2.7176    0.9187   -0.3757 C   0  0  0  0  0  0  0  0  0  0  0  0\n",
      "    0.4209   -1.8479   -1.5346 O   0  0  0  0  0  0  0  0  0  0  0  0\n",
      "   -1.4342   -1.2858    1.5715 O   0  0  0  0  0  0  0  0  0  0  0  0\n",
      "   -2.8496    2.2737   -0.3949 O   0  0  0  0  0  0  0  0  0  0  0  0\n",
      "   -3.6545    0.1776   -0.5972 O   0  0  0  0  0  0  0  0  0  0  0  0\n",
      "    1.8445    1.5729    0.4255 H   0  0  0  0  0  0  0  0  0  0  0  0\n",
      "   -0.4485    2.3855   -0.1219 H   0  0  0  0  0  0  0  0  0  0  0  0\n",
      "    2.3749   -0.8339    0.3278 H   0  0  0  0  0  0  0  0  0  0  0  0\n",
      "    0.4406   -2.4224    0.3972 H   0  0  0  0  0  0  0  0  0  0  0  0\n",
      "   -1.8433   -1.6048   -0.3782 H   0  0  0  0  0  0  0  0  0  0  0  0\n",
      "    0.4031   -1.0240   -2.0489 H   0  0  0  0  0  0  0  0  0  0  0  0\n",
      "   -0.9164   -0.6664    2.1118 H   0  0  0  0  0  0  0  0  0  0  0  0\n",
      "   -3.7847    2.4403   -0.6145 H   0  0  0  0  0  0  0  0  0  0  0  0\n",
      "  1 12  1  0\n",
      "  2  1  1  0\n",
      "  3  1  2  0\n",
      "  3 14  1  0\n",
      "  4  2  2  0\n",
      "  4  6  1  0\n",
      "  5  6  1  0\n",
      "  5  3  1  0\n",
      "  5 15  1  1\n",
      "  6 16  1  6\n",
      "  6  9  1  0\n",
      "  7  4  1  0\n",
      "  8  5  1  0\n",
      "  9 18  1  0\n",
      " 10  7  1  0\n",
      " 11  7  2  0\n",
      " 13  2  1  0\n",
      " 17  8  1  0\n",
      " 19 10  1  0\n",
      "M  END\n",
      "\n"
     ]
    }
   ],
   "source": [
    "print(Chem.MolToMolBlock(L_mol[0]))"
   ]
  },
  {
   "cell_type": "code",
   "execution_count": 13,
   "metadata": {},
   "outputs": [
    {
     "name": "stdout",
     "output_type": "stream",
     "text": [
      "<rdkit.Chem.rdchem.Mol object at 0x7f4ff7351760>\n"
     ]
    }
   ],
   "source": [
    "with open('./SDF/PCCID_00000003.sdf','rb') as f:\n",
    "    suppl=Chem.ForwardSDMolSupplier(f)\n",
    "    for el in suppl:\n",
    "        if el is not None:\n",
    "            print(el)"
   ]
  }
 ],
 "metadata": {
  "jupytext": {
   "text_representation": {
    "extension": ".py",
    "format_name": "light",
    "format_version": "1.4",
    "jupytext_version": "1.1.2"
   }
  },
  "kernelspec": {
   "display_name": "Python cheminfo",
   "language": "python",
   "name": "cheminfo"
  },
  "language_info": {
   "codemirror_mode": {
    "name": "ipython",
    "version": 3
   },
   "file_extension": ".py",
   "mimetype": "text/x-python",
   "name": "python",
   "nbconvert_exporter": "python",
   "pygments_lexer": "ipython3",
   "version": "3.7.3"
  }
 },
 "nbformat": 4,
 "nbformat_minor": 2
}
