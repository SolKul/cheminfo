{
 "cells": [
  {
   "cell_type": "markdown",
   "metadata": {},
   "source": [
    "# RDKitでフィンガープリントを使った分子類似性の判定"
   ]
  },
  {
   "cell_type": "code",
   "execution_count": 5,
   "metadata": {},
   "outputs": [
    {
     "name": "stdout",
     "output_type": "stream",
     "text": [
      "2019.03.2\n"
     ]
    }
   ],
   "source": [
    "import pandas as pd\n",
    "from rdkit import rdBase, Chem, DataStructs\n",
    "print(rdBase.rdkitVersion) # 2017.09.1\n",
    "from rdkit.Avalon import pyAvalonTools\n",
    "from rdkit.Chem import AllChem,Draw\n",
    "from rdkit.Chem.Fingerprints import FingerprintMols\n",
    "from rdkit.Chem.AtomPairs import Pairs, Torsions"
   ]
  },
  {
   "cell_type": "code",
   "execution_count": 165,
   "metadata": {},
   "outputs": [
    {
     "data": {
      "text/plain": [
       "73"
      ]
     },
     "execution_count": 165,
     "metadata": {},
     "output_type": "execute_result"
    }
   ],
   "source": [
    "suppl = Chem.SDMolSupplier('../サリチル酸メチル.sdf',removeHs=False)\n",
    "mols=[]\n",
    "for x in suppl:\n",
    "    if x is not None:\n",
    "        mols.append(x)\n",
    "len(mols)"
   ]
  },
  {
   "cell_type": "markdown",
   "metadata": {},
   "source": [
    "## MACCS Keys\n",
    "ケモインフォマティクスでは非常に有名なMDL社の開発した化学構造データベースに由来するフィンガープリントです．\n",
    "\n",
    "全部で166の部分構造についての有無を調べ上げたもので，RDKit内の情報保持のために1ビット使っているため全部で167ビットのフィンガープリントになります．部分構造を有する場合は1が，ない場合は0が格納されています．"
   ]
  },
  {
   "cell_type": "code",
   "execution_count": 8,
   "metadata": {},
   "outputs": [],
   "source": [
    "maccs_fps = [AllChem.GetMACCSKeysFingerprint(mol) for mol in mols]\n",
    "maccs = DataStructs.BulkTanimotoSimilarity(maccs_fps[0], maccs_fps[1:])"
   ]
  },
  {
   "cell_type": "markdown",
   "metadata": {},
   "source": [
    "## Topologicalフィンガープリント (RDKitフィンガープリント)  \n",
    "ハッシュ化フィンガープリントの中では有名なDaylightフィンガープリントに類似したものと考えてよいです．RDKitフィンガープリントとも呼ばれています．\n",
    "\n",
    "一定の結合数に相当する原子と結合種類を格納する方法で，事前に部分構造を用意する必要がないことから，より柔軟に分子構造を表現することが可能です．"
   ]
  },
  {
   "cell_type": "code",
   "execution_count": 9,
   "metadata": {},
   "outputs": [],
   "source": [
    "rdkit_fps = [Chem.Fingerprints.FingerprintMols.FingerprintMol(mol) for mol in mols]\n",
    "rdkit = DataStructs.BulkTanimotoSimilarity(rdkit_fps[0], rdkit_fps[1:])"
   ]
  },
  {
   "cell_type": "markdown",
   "metadata": {},
   "source": [
    "## Morganフィンガープリント (Circularフィンガープリント) \n",
    "原子からある距離にある部分構造を数え上げていく，「circular substructures」と呼ばれるタイプのフィンガープリントです．radiusの値で距離を設定します．いわゆるECFP（Extended Connectivity Fingerprint）フィンガープリントと類似のものですが，探索距離の定義が異なる点に注意が必要です．\n",
    "\n",
    "よく使われるECFP4はradius=2の設定（デフォルト）と大体同じとのことです．FCFP（Functional Connectivity Fingerprint）様のフィンガープリントを用いたい場合にはuseFeatures=Trueを設定します"
   ]
  },
  {
   "cell_type": "markdown",
   "metadata": {},
   "source": [
    "![グラフ](./01ECFP.png)"
   ]
  },
  {
   "cell_type": "code",
   "execution_count": 11,
   "metadata": {},
   "outputs": [],
   "source": [
    "morgan_fps = [AllChem.GetMorganFingerprintAsBitVect(mol, 2, 2048) for mol in mols]\n",
    "morgan = DataStructs.BulkTanimotoSimilarity(morgan_fps[0], morgan_fps[1:])"
   ]
  },
  {
   "cell_type": "markdown",
   "metadata": {},
   "source": [
    "## Avalonフィンガープリント  \n",
    "RDKitから用いることのできるAvalon Chemoinformatics TookKitにもフィンガープリントが実装されています．"
   ]
  },
  {
   "cell_type": "code",
   "execution_count": 12,
   "metadata": {},
   "outputs": [],
   "source": [
    "avalon_fps = [pyAvalonTools.GetAvalonFP(mol) for mol in mols]\n",
    "avalon = DataStructs.BulkTanimotoSimilarity(avalon_fps[0], avalon_fps[1:])"
   ]
  },
  {
   "cell_type": "markdown",
   "metadata": {},
   "source": [
    "## アトムペアと二面角  \n",
    "アトムペアを用いるフィンガープリントは全ての原子同士についてその最小結合パスを記録します．各原子には原子の種類，結合する原子のうち水素以外の元素の数，π電子数の情報も記録されます．\n",
    "\n",
    "二面角を用いるフィンガープリントは，二面角を形成する4連続原子について，やはり原子の種類，結合する原子のうち水素以外の元素の数，π電子数を記録します．"
   ]
  },
  {
   "cell_type": "markdown",
   "metadata": {},
   "source": [
    "## 各フィンガープリントの比較"
   ]
  },
  {
   "cell_type": "code",
   "execution_count": 14,
   "metadata": {
    "scrolled": true
   },
   "outputs": [
    {
     "data": {
      "text/html": [
       "<div>\n",
       "<style scoped>\n",
       "    .dataframe tbody tr th:only-of-type {\n",
       "        vertical-align: middle;\n",
       "    }\n",
       "\n",
       "    .dataframe tbody tr th {\n",
       "        vertical-align: top;\n",
       "    }\n",
       "\n",
       "    .dataframe thead th {\n",
       "        text-align: right;\n",
       "    }\n",
       "</style>\n",
       "<table border=\"1\" class=\"dataframe\">\n",
       "  <thead>\n",
       "    <tr style=\"text-align: right;\">\n",
       "      <th></th>\n",
       "      <th>RDKit</th>\n",
       "      <th>Avalon</th>\n",
       "      <th>MACCS</th>\n",
       "      <th>Morgan</th>\n",
       "    </tr>\n",
       "  </thead>\n",
       "  <tbody>\n",
       "    <tr>\n",
       "      <th>RDKit</th>\n",
       "      <td>1.00</td>\n",
       "      <td>0.88</td>\n",
       "      <td>0.64</td>\n",
       "      <td>0.79</td>\n",
       "    </tr>\n",
       "    <tr>\n",
       "      <th>Avalon</th>\n",
       "      <td>0.88</td>\n",
       "      <td>1.00</td>\n",
       "      <td>0.79</td>\n",
       "      <td>0.85</td>\n",
       "    </tr>\n",
       "    <tr>\n",
       "      <th>MACCS</th>\n",
       "      <td>0.64</td>\n",
       "      <td>0.79</td>\n",
       "      <td>1.00</td>\n",
       "      <td>0.68</td>\n",
       "    </tr>\n",
       "    <tr>\n",
       "      <th>Morgan</th>\n",
       "      <td>0.79</td>\n",
       "      <td>0.85</td>\n",
       "      <td>0.68</td>\n",
       "      <td>1.00</td>\n",
       "    </tr>\n",
       "  </tbody>\n",
       "</table>\n",
       "</div>"
      ],
      "text/plain": [
       "        RDKit  Avalon  MACCS  Morgan\n",
       "RDKit    1.00    0.88   0.64    0.79\n",
       "Avalon   0.88    1.00   0.79    0.85\n",
       "MACCS    0.64    0.79   1.00    0.68\n",
       "Morgan   0.79    0.85   0.68    1.00"
      ]
     },
     "execution_count": 14,
     "metadata": {},
     "output_type": "execute_result"
    }
   ],
   "source": [
    "df = pd.DataFrame({'RDKit': rdkit,\n",
    "                  'Avalon': avalon,\n",
    "                  'MACCS': maccs,\n",
    "                  'Morgan': morgan})\n",
    "df.corr().round(2)"
   ]
  },
  {
   "cell_type": "code",
   "execution_count": 16,
   "metadata": {},
   "outputs": [
    {
     "name": "stdout",
     "output_type": "stream",
     "text": [
      "4294967295 2048\n"
     ]
    }
   ],
   "source": [
    "morgan_default = AllChem.GetMorganFingerprint(mols[0], 2)\n",
    "morgan_bitvect = AllChem.GetMorganFingerprintAsBitVect(mols[0], 2, 2048)\n",
    "print(morgan_default.GetLength(), morgan_bitvect.GetNumBits())"
   ]
  },
  {
   "cell_type": "code",
   "execution_count": 46,
   "metadata": {},
   "outputs": [],
   "source": [
    "from IPython.display import SVG"
   ]
  },
  {
   "cell_type": "code",
   "execution_count": 268,
   "metadata": {},
   "outputs": [],
   "source": [
    "### Morganフィンガープリント\n",
    "bitI_morgan = {}\n",
    "fp_morgan = AllChem.GetMorganFingerprintAsBitVect(mols[0], 2, bitInfo=bitI_morgan)\n",
    "### RDKitフィンガープリント\n",
    "bitI_rdkit = {}\n",
    "fp_rdkit = Chem.RDKFingerprint(mols[0], bitInfo=bitI_rdkit)"
   ]
  },
  {
   "cell_type": "code",
   "execution_count": 274,
   "metadata": {},
   "outputs": [
    {
     "name": "stdout",
     "output_type": "stream",
     "text": [
      "0\n",
      "1\n",
      "2\n",
      "3\n",
      "4\n",
      "5\n",
      "6\n",
      "7\n",
      "8\n",
      "9\n"
     ]
    }
   ],
   "source": [
    "for row in range(10):\n",
    "    print(row)"
   ]
  },
  {
   "cell_type": "code",
   "execution_count": 272,
   "metadata": {
    "scrolled": false
   },
   "outputs": [
    {
     "name": "stderr",
     "output_type": "stream",
     "text": [
      "ERROR:root:Internal Python error in the inspect module.\n",
      "Below is the traceback from this internal error.\n",
      "\n"
     ]
    },
    {
     "name": "stdout",
     "output_type": "stream",
     "text": [
      "Traceback (most recent call last):\n",
      "  File \"/opt/conda/lib/python3.7/site-packages/IPython/core/interactiveshell.py\", line 3296, in run_code\n",
      "    exec(code_obj, self.user_global_ns, self.user_ns)\n",
      "  File \"<ipython-input-272-192dc977bf2d>\", line 2, in <module>\n",
      "    SVG(Draw.DrawMorganBits(rdkit_turples, molsPerRow=4, legends=['bit: '+str(x) for x in list(bitI_rdkit.keys())[:4]]))\n",
      "  File \"/opt/conda/lib/python3.7/site-packages/rdkit/Chem/Draw/__init__.py\", line 573, in DrawMorganBits\n",
      "    atomId, radius = bitInfo[bitId][whichExample]\n",
      "ValueError: too many values to unpack (expected 2)\n",
      "\n",
      "During handling of the above exception, another exception occurred:\n",
      "\n",
      "Traceback (most recent call last):\n",
      "  File \"/opt/conda/lib/python3.7/site-packages/IPython/core/interactiveshell.py\", line 2033, in showtraceback\n",
      "    stb = value._render_traceback_()\n",
      "AttributeError: 'ValueError' object has no attribute '_render_traceback_'\n",
      "\n",
      "During handling of the above exception, another exception occurred:\n",
      "\n",
      "Traceback (most recent call last):\n",
      "  File \"/opt/conda/lib/python3.7/site-packages/IPython/core/ultratb.py\", line 1095, in get_records\n",
      "    return _fixed_getinnerframes(etb, number_of_lines_of_context, tb_offset)\n",
      "  File \"/opt/conda/lib/python3.7/site-packages/IPython/core/ultratb.py\", line 313, in wrapped\n",
      "    return f(*args, **kwargs)\n",
      "  File \"/opt/conda/lib/python3.7/site-packages/IPython/core/ultratb.py\", line 347, in _fixed_getinnerframes\n",
      "    records = fix_frame_records_filenames(inspect.getinnerframes(etb, context))\n",
      "  File \"/opt/conda/lib/python3.7/inspect.py\", line 1502, in getinnerframes\n",
      "    frameinfo = (tb.tb_frame,) + getframeinfo(tb, context)\n",
      "  File \"/opt/conda/lib/python3.7/inspect.py\", line 1460, in getframeinfo\n",
      "    filename = getsourcefile(frame) or getfile(frame)\n",
      "  File \"/opt/conda/lib/python3.7/inspect.py\", line 696, in getsourcefile\n",
      "    if getattr(getmodule(object, filename), '__loader__', None) is not None:\n",
      "  File \"/opt/conda/lib/python3.7/inspect.py\", line 725, in getmodule\n",
      "    file = getabsfile(object, _filename)\n",
      "  File \"/opt/conda/lib/python3.7/inspect.py\", line 709, in getabsfile\n",
      "    return os.path.normcase(os.path.abspath(_filename))\n",
      "  File \"/opt/conda/lib/python3.7/posixpath.py\", line 383, in abspath\n",
      "    cwd = os.getcwd()\n",
      "FileNotFoundError: [Errno 2] No such file or directory\n"
     ]
    },
    {
     "ename": "ValueError",
     "evalue": "too many values to unpack (expected 2)",
     "output_type": "error",
     "traceback": [
      "\u001b[0;31m---------------------------------------------------------------------------\u001b[0m"
     ]
    }
   ],
   "source": [
    "rdkit_turples = ((mols[0], bit, bitI_rdkit ) for bit in list(bitI_rdkit .keys())[:4])\n",
    "SVG(Draw.DrawMorganBits(rdkit_turples, molsPerRow=4, legends=['bit: '+str(x) for x in list(bitI_rdkit.keys())[:4]]))"
   ]
  },
  {
   "cell_type": "code",
   "execution_count": 271,
   "metadata": {},
   "outputs": [
    {
     "data": {
      "image/svg+xml": [
       "<svg baseProfile=\"full\" height=\"450px\" version=\"1.1\" width=\"600px\" xml:space=\"preserve\" xmlns=\"http://www.w3.org/2000/svg\" xmlns:rdkit=\"http://www.rdkit.org/xml\" xmlns:xlink=\"http://www.w3.org/1999/xlink\">\n",
       "<!-- END OF HEADER -->\n",
       "<rect height=\"450\" style=\"opacity:1.0;fill:#FFFFFF;stroke:none\" width=\"600\" x=\"0\" y=\"0\"> </rect>\n",
       "<ellipse cx=\"47.8935\" cy=\"86.5715\" rx=\"5.9095\" ry=\"5.9095\" style=\"fill:#E5E533;fill-rule:evenodd;stroke:#E5E533;stroke-width:2px;stroke-linecap:butt;stroke-linejoin:miter;stroke-opacity:1\"/>\n",
       "<ellipse cx=\"74.1553\" cy=\"71.4196\" rx=\"5.9095\" ry=\"5.9095\" style=\"fill:#9999E5;fill-rule:evenodd;stroke:#9999E5;stroke-width:2px;stroke-linecap:butt;stroke-linejoin:miter;stroke-opacity:1\"/>\n",
       "<path class=\"bond-0\" d=\"M 105.019,83.9178 124.381,72.7464\" style=\"fill:none;fill-rule:evenodd;stroke:#E5E5E5;stroke-width:4px;stroke-linecap:butt;stroke-linejoin:miter;stroke-opacity:1\"/>\n",
       "<path class=\"bond-4\" d=\"M 95.8197,83.918 84.9875,77.6688\" style=\"fill:none;fill-rule:evenodd;stroke:#FF0000;stroke-width:2px;stroke-linecap:butt;stroke-linejoin:miter;stroke-opacity:1\"/>\n",
       "<path class=\"bond-4\" d=\"M 84.9875,77.6688 74.1553,71.4196\" style=\"fill:none;fill-rule:evenodd;stroke:#000000;stroke-width:2px;stroke-linecap:butt;stroke-linejoin:miter;stroke-opacity:1\"/>\n",
       "<path class=\"bond-1\" d=\"M 47.8935,111.951 47.8935,86.5715\" style=\"fill:none;fill-rule:evenodd;stroke:#E5E5E5;stroke-width:4px;stroke-linecap:butt;stroke-linejoin:miter;stroke-opacity:1\"/>\n",
       "<path class=\"bond-1\" d=\"M 41.984,108.144 41.984,90.3784\" style=\"fill:none;fill-rule:evenodd;stroke:#E5E5E5;stroke-width:4px;stroke-linecap:butt;stroke-linejoin:miter;stroke-opacity:1;stroke-dasharray:6,6\"/>\n",
       "<path class=\"bond-2\" d=\"M 47.8935,86.5715 23.9295,72.7463\" style=\"fill:none;fill-rule:evenodd;stroke:#E5E5E5;stroke-width:4px;stroke-linecap:butt;stroke-linejoin:miter;stroke-opacity:1\"/>\n",
       "<path class=\"bond-2\" d=\"M 41.3458,89.6165 24.571,79.9388\" style=\"fill:none;fill-rule:evenodd;stroke:#E5E5E5;stroke-width:4px;stroke-linecap:butt;stroke-linejoin:miter;stroke-opacity:1;stroke-dasharray:6,6\"/>\n",
       "<path class=\"bond-3\" d=\"M 47.8935,86.5715 74.1553,71.4196\" style=\"fill:none;fill-rule:evenodd;stroke:#000000;stroke-width:2px;stroke-linecap:butt;stroke-linejoin:miter;stroke-opacity:1\"/>\n",
       "<path class=\"bond-5\" d=\"M 77.1101,71.4196 77.1101,58.7309\" style=\"fill:none;fill-rule:evenodd;stroke:#000000;stroke-width:2px;stroke-linecap:butt;stroke-linejoin:miter;stroke-opacity:1\"/>\n",
       "<path class=\"bond-5\" d=\"M 77.1101,58.7309 77.1101,46.0422\" style=\"fill:none;fill-rule:evenodd;stroke:#FF0000;stroke-width:2px;stroke-linecap:butt;stroke-linejoin:miter;stroke-opacity:1\"/>\n",
       "<path class=\"bond-5\" d=\"M 71.2006,71.4196 71.2006,58.7309\" style=\"fill:none;fill-rule:evenodd;stroke:#000000;stroke-width:2px;stroke-linecap:butt;stroke-linejoin:miter;stroke-opacity:1\"/>\n",
       "<path class=\"bond-5\" d=\"M 71.2006,58.7309 71.2006,46.0422\" style=\"fill:none;fill-rule:evenodd;stroke:#FF0000;stroke-width:2px;stroke-linecap:butt;stroke-linejoin:miter;stroke-opacity:1\"/>\n",
       "<text style=\"font-size:9px;font-style:normal;font-weight:normal;fill-opacity:1;stroke:none;font-family:sans-serif;text-anchor:start;fill:#FF0000\" x=\"95.8197\" y=\"91.4961\"><tspan>O</tspan></text>\n",
       "<text style=\"font-size:9px;font-style:normal;font-weight:normal;fill-opacity:1;stroke:none;font-family:sans-serif;text-anchor:start;fill:#7F7F7F\" x=\"124.381\" y=\"76.3441\"><tspan>*</tspan></text>\n",
       "<text style=\"font-size:9px;font-style:normal;font-weight:normal;fill-opacity:1;stroke:none;font-family:sans-serif;text-anchor:start;fill:#7F7F7F\" x=\"45.5938\" y=\"121.8\"><tspan>*</tspan></text>\n",
       "<text style=\"font-size:9px;font-style:normal;font-weight:normal;fill-opacity:1;stroke:none;font-family:sans-serif;text-anchor:start;fill:#7F7F7F\" x=\"19.33\" y=\"76.3441\"><tspan>*</tspan></text>\n",
       "<text style=\"font-size:9px;font-style:normal;font-weight:normal;fill-opacity:1;stroke:none;font-family:sans-serif;text-anchor:start;fill:#FF0000\" x=\"69.5559\" y=\"46.0422\"><tspan>O</tspan></text>\n",
       "<text style=\"font-size:12px;font-style:normal;font-weight:normal;fill-opacity:1;stroke:none;font-family:sans-serif;text-anchor:start;fill:#000000\" x=\"51.3745\" y=\"147\"><tspan>bit: 145</tspan></text>\n",
       "<ellipse cx=\"220.404\" cy=\"62.7626\" rx=\"5.9095\" ry=\"5.9095\" style=\"fill:#9999E5;fill-rule:evenodd;stroke:#9999E5;stroke-width:2px;stroke-linecap:butt;stroke-linejoin:miter;stroke-opacity:1\"/>\n",
       "<path class=\"bond-0\" d=\"M 223.359,88.1399 223.359,67.6871\" style=\"fill:none;fill-rule:evenodd;stroke:#E5E5E5;stroke-width:4px;stroke-linecap:butt;stroke-linejoin:miter;stroke-opacity:1\"/>\n",
       "<path class=\"bond-0\" d=\"M 217.449,88.1399 217.449,67.6871\" style=\"fill:none;fill-rule:evenodd;stroke:#E5E5E5;stroke-width:4px;stroke-linecap:butt;stroke-linejoin:miter;stroke-opacity:1\"/>\n",
       "<text style=\"font-size:9px;font-style:normal;font-weight:normal;fill-opacity:1;stroke:none;font-family:sans-serif;text-anchor:start;fill:#7F7F7F\" x=\"218.104\" y=\"97.9891\"><tspan>*</tspan></text>\n",
       "<text style=\"font-size:9px;font-style:normal;font-weight:normal;fill-opacity:1;stroke:none;font-family:sans-serif;text-anchor:start;fill:#FF0000\" x=\"215.804\" y=\"67.6871\"><tspan>O</tspan></text>\n",
       "<text style=\"font-size:12px;font-style:normal;font-weight:normal;fill-opacity:1;stroke:none;font-family:sans-serif;text-anchor:start;fill:#000000\" x=\"201.375\" y=\"147\"><tspan>bit: 650</tspan></text>\n",
       "<ellipse cx=\"370.405\" cy=\"88.0148\" rx=\"5.9095\" ry=\"5.9095\" style=\"fill:#9999E5;fill-rule:evenodd;stroke:#9999E5;stroke-width:2px;stroke-linecap:butt;stroke-linejoin:miter;stroke-opacity:1\"/>\n",
       "<path class=\"bond-0\" d=\"M 375.004,85.3612 394.367,74.1897\" style=\"fill:none;fill-rule:evenodd;stroke:#E5E5E5;stroke-width:4px;stroke-linecap:butt;stroke-linejoin:miter;stroke-opacity:1\"/>\n",
       "<path class=\"bond-1\" d=\"M 365.805,85.3614 346.441,74.1896\" style=\"fill:none;fill-rule:evenodd;stroke:#E5E5E5;stroke-width:4px;stroke-linecap:butt;stroke-linejoin:miter;stroke-opacity:1\"/>\n",
       "<text style=\"font-size:9px;font-style:normal;font-weight:normal;fill-opacity:1;stroke:none;font-family:sans-serif;text-anchor:start;fill:#FF0000\" x=\"365.805\" y=\"92.9394\"><tspan>O</tspan></text>\n",
       "<text style=\"font-size:9px;font-style:normal;font-weight:normal;fill-opacity:1;stroke:none;font-family:sans-serif;text-anchor:start;fill:#7F7F7F\" x=\"394.367\" y=\"77.7875\"><tspan>*</tspan></text>\n",
       "<text style=\"font-size:9px;font-style:normal;font-weight:normal;fill-opacity:1;stroke:none;font-family:sans-serif;text-anchor:start;fill:#7F7F7F\" x=\"341.841\" y=\"77.7875\"><tspan>*</tspan></text>\n",
       "<text style=\"font-size:12px;font-style:normal;font-weight:normal;fill-opacity:1;stroke:none;font-family:sans-serif;text-anchor:start;fill:#000000\" x=\"351.375\" y=\"147\"><tspan>bit: 695</tspan></text>\n",
       "<ellipse cx=\"520.403\" cy=\"77.913\" rx=\"5.9095\" ry=\"5.9095\" style=\"fill:#9999E5;fill-rule:evenodd;stroke:#9999E5;stroke-width:2px;stroke-linecap:butt;stroke-linejoin:miter;stroke-opacity:1\"/>\n",
       "<path class=\"bond-0\" d=\"M 523.358,77.913 523.358,52.5357\" style=\"fill:none;fill-rule:evenodd;stroke:#E5E5E5;stroke-width:4px;stroke-linecap:butt;stroke-linejoin:miter;stroke-opacity:1\"/>\n",
       "<path class=\"bond-0\" d=\"M 517.449,77.913 517.449,52.5357\" style=\"fill:none;fill-rule:evenodd;stroke:#E5E5E5;stroke-width:4px;stroke-linecap:butt;stroke-linejoin:miter;stroke-opacity:1\"/>\n",
       "<path class=\"bond-1\" d=\"M 520.403,77.913 496.441,91.7382\" style=\"fill:none;fill-rule:evenodd;stroke:#E5E5E5;stroke-width:4px;stroke-linecap:butt;stroke-linejoin:miter;stroke-opacity:1\"/>\n",
       "<path class=\"bond-2\" d=\"M 520.403,77.913 544.367,91.7383\" style=\"fill:none;fill-rule:evenodd;stroke:#E5E5E5;stroke-width:4px;stroke-linecap:butt;stroke-linejoin:miter;stroke-opacity:1\"/>\n",
       "<text style=\"font-size:9px;font-style:normal;font-weight:normal;fill-opacity:1;stroke:none;font-family:sans-serif;text-anchor:start;fill:#7F7F7F\" x=\"518.104\" y=\"52.5357\"><tspan>*</tspan></text>\n",
       "<text style=\"font-size:9px;font-style:normal;font-weight:normal;fill-opacity:1;stroke:none;font-family:sans-serif;text-anchor:start;fill:#7F7F7F\" x=\"491.842\" y=\"97.9896\"><tspan>*</tspan></text>\n",
       "<text style=\"font-size:9px;font-style:normal;font-weight:normal;fill-opacity:1;stroke:none;font-family:sans-serif;text-anchor:start;fill:#7F7F7F\" x=\"544.367\" y=\"97.9896\"><tspan>*</tspan></text>\n",
       "<text style=\"font-size:12px;font-style:normal;font-weight:normal;fill-opacity:1;stroke:none;font-family:sans-serif;text-anchor:start;fill:#000000\" x=\"501.375\" y=\"147\"><tspan>bit: 807</tspan></text>\n",
       "<ellipse cx=\"96.6664\" cy=\"222.863\" rx=\"5.9095\" ry=\"5.9095\" style=\"fill:#9999E5;fill-rule:evenodd;stroke:#9999E5;stroke-width:2px;stroke-linecap:butt;stroke-linejoin:miter;stroke-opacity:1\"/>\n",
       "<path class=\"bond-0\" d=\"M 46.4405,224.19 65.8051,235.361\" style=\"fill:none;fill-rule:evenodd;stroke:#E5E5E5;stroke-width:4px;stroke-linecap:butt;stroke-linejoin:miter;stroke-opacity:1\"/>\n",
       "<path class=\"bond-1\" d=\"M 75.004,235.361 85.8352,229.112\" style=\"fill:none;fill-rule:evenodd;stroke:#FF0000;stroke-width:2px;stroke-linecap:butt;stroke-linejoin:miter;stroke-opacity:1\"/>\n",
       "<path class=\"bond-1\" d=\"M 85.8352,229.112 96.6664,222.863\" style=\"fill:none;fill-rule:evenodd;stroke:#000000;stroke-width:2px;stroke-linecap:butt;stroke-linejoin:miter;stroke-opacity:1\"/>\n",
       "<text style=\"font-size:9px;font-style:normal;font-weight:normal;fill-opacity:1;stroke:none;font-family:sans-serif;text-anchor:start;fill:#7F7F7F\" x=\"41.8411\" y=\"227.787\"><tspan>*</tspan></text>\n",
       "<text style=\"font-size:9px;font-style:normal;font-weight:normal;fill-opacity:1;stroke:none;font-family:sans-serif;text-anchor:start;fill:#FF0000\" x=\"65.8051\" y=\"242.939\"><tspan>O</tspan></text>\n",
       "<text style=\"font-size:12px;font-style:normal;font-weight:normal;fill-opacity:1;stroke:none;font-family:sans-serif;text-anchor:start;fill:#000000\" x=\"51.3745\" y=\"297\"><tspan>bit: 841</tspan></text>\n",
       "<ellipse cx=\"197.894\" cy=\"236.572\" rx=\"5.9095\" ry=\"5.9095\" style=\"fill:#E5E533;fill-rule:evenodd;stroke:#E5E533;stroke-width:2px;stroke-linecap:butt;stroke-linejoin:miter;stroke-opacity:1\"/>\n",
       "<ellipse cx=\"250.419\" cy=\"236.572\" rx=\"5.9095\" ry=\"5.9095\" style=\"fill:#9999E5;fill-rule:evenodd;stroke:#9999E5;stroke-width:2px;stroke-linecap:butt;stroke-linejoin:miter;stroke-opacity:1\"/>\n",
       "<path class=\"bond-0\" d=\"M 197.894,261.951 197.894,236.572\" style=\"fill:none;fill-rule:evenodd;stroke:#E5E5E5;stroke-width:4px;stroke-linecap:butt;stroke-linejoin:miter;stroke-opacity:1\"/>\n",
       "<path class=\"bond-0\" d=\"M 191.984,258.144 191.984,240.378\" style=\"fill:none;fill-rule:evenodd;stroke:#E5E5E5;stroke-width:4px;stroke-linecap:butt;stroke-linejoin:miter;stroke-opacity:1;stroke-dasharray:6,6\"/>\n",
       "<path class=\"bond-1\" d=\"M 197.894,236.572 173.929,222.746\" style=\"fill:none;fill-rule:evenodd;stroke:#E5E5E5;stroke-width:4px;stroke-linecap:butt;stroke-linejoin:miter;stroke-opacity:1\"/>\n",
       "<path class=\"bond-1\" d=\"M 191.346,239.616 174.571,229.939\" style=\"fill:none;fill-rule:evenodd;stroke:#E5E5E5;stroke-width:4px;stroke-linecap:butt;stroke-linejoin:miter;stroke-opacity:1;stroke-dasharray:6,6\"/>\n",
       "<path class=\"bond-4\" d=\"M 197.894,236.572 224.155,221.42\" style=\"fill:none;fill-rule:evenodd;stroke:#000000;stroke-width:2px;stroke-linecap:butt;stroke-linejoin:miter;stroke-opacity:1\"/>\n",
       "<path class=\"bond-2\" d=\"M 224.155,221.42 234.988,227.669\" style=\"fill:none;fill-rule:evenodd;stroke:#000000;stroke-width:2px;stroke-linecap:butt;stroke-linejoin:miter;stroke-opacity:1\"/>\n",
       "<path class=\"bond-2\" d=\"M 234.988,227.669 245.82,233.918\" style=\"fill:none;fill-rule:evenodd;stroke:#FF0000;stroke-width:2px;stroke-linecap:butt;stroke-linejoin:miter;stroke-opacity:1\"/>\n",
       "<path class=\"bond-5\" d=\"M 227.11,221.42 227.11,208.731\" style=\"fill:none;fill-rule:evenodd;stroke:#000000;stroke-width:2px;stroke-linecap:butt;stroke-linejoin:miter;stroke-opacity:1\"/>\n",
       "<path class=\"bond-5\" d=\"M 227.11,208.731 227.11,196.042\" style=\"fill:none;fill-rule:evenodd;stroke:#FF0000;stroke-width:2px;stroke-linecap:butt;stroke-linejoin:miter;stroke-opacity:1\"/>\n",
       "<path class=\"bond-5\" d=\"M 221.201,221.42 221.201,208.731\" style=\"fill:none;fill-rule:evenodd;stroke:#000000;stroke-width:2px;stroke-linecap:butt;stroke-linejoin:miter;stroke-opacity:1\"/>\n",
       "<path class=\"bond-5\" d=\"M 221.201,208.731 221.201,196.042\" style=\"fill:none;fill-rule:evenodd;stroke:#FF0000;stroke-width:2px;stroke-linecap:butt;stroke-linejoin:miter;stroke-opacity:1\"/>\n",
       "<path class=\"bond-3\" d=\"M 255.019,233.918 265.85,227.669\" style=\"fill:none;fill-rule:evenodd;stroke:#FF0000;stroke-width:2px;stroke-linecap:butt;stroke-linejoin:miter;stroke-opacity:1\"/>\n",
       "<path class=\"bond-3\" d=\"M 265.85,227.669 276.681,221.42\" style=\"fill:none;fill-rule:evenodd;stroke:#000000;stroke-width:2px;stroke-linecap:butt;stroke-linejoin:miter;stroke-opacity:1\"/>\n",
       "<text style=\"font-size:9px;font-style:normal;font-weight:normal;fill-opacity:1;stroke:none;font-family:sans-serif;text-anchor:start;fill:#7F7F7F\" x=\"195.594\" y=\"271.8\"><tspan>*</tspan></text>\n",
       "<text style=\"font-size:9px;font-style:normal;font-weight:normal;fill-opacity:1;stroke:none;font-family:sans-serif;text-anchor:start;fill:#7F7F7F\" x=\"169.33\" y=\"226.344\"><tspan>*</tspan></text>\n",
       "<text style=\"font-size:9px;font-style:normal;font-weight:normal;fill-opacity:1;stroke:none;font-family:sans-serif;text-anchor:start;fill:#FF0000\" x=\"245.82\" y=\"241.496\"><tspan>O</tspan></text>\n",
       "<text style=\"font-size:9px;font-style:normal;font-weight:normal;fill-opacity:1;stroke:none;font-family:sans-serif;text-anchor:start;fill:#FF0000\" x=\"219.556\" y=\"196.042\"><tspan>O</tspan></text>\n",
       "<text style=\"font-size:12px;font-style:normal;font-weight:normal;fill-opacity:1;stroke:none;font-family:sans-serif;text-anchor:start;fill:#000000\" x=\"201.375\" y=\"297\"><tspan>bit: 906</tspan></text>\n",
       "<ellipse cx=\"340.1\" cy=\"187.12\" rx=\"5.9095\" ry=\"5.9095\" style=\"fill:#E5E533;fill-rule:evenodd;stroke:#E5E533;stroke-width:2px;stroke-linecap:butt;stroke-linejoin:miter;stroke-opacity:1\"/>\n",
       "<ellipse cx=\"313.838\" cy=\"232.576\" rx=\"5.9095\" ry=\"5.9095\" style=\"fill:#E5E533;fill-rule:evenodd;stroke:#E5E533;stroke-width:2px;stroke-linecap:butt;stroke-linejoin:miter;stroke-opacity:1\"/>\n",
       "<ellipse cx=\"340.1\" cy=\"247.728\" rx=\"5.9095\" ry=\"5.9095\" style=\"fill:#E5E533;fill-rule:evenodd;stroke:#E5E533;stroke-width:2px;stroke-linecap:butt;stroke-linejoin:miter;stroke-opacity:1\"/>\n",
       "<ellipse cx=\"366.364\" cy=\"232.576\" rx=\"5.9095\" ry=\"5.9095\" style=\"fill:#9999E5;fill-rule:evenodd;stroke:#9999E5;stroke-width:2px;stroke-linecap:butt;stroke-linejoin:miter;stroke-opacity:1\"/>\n",
       "<ellipse cx=\"366.364\" cy=\"202.272\" rx=\"5.9095\" ry=\"5.9095\" style=\"fill:#E5E533;fill-rule:evenodd;stroke:#E5E533;stroke-width:2px;stroke-linecap:butt;stroke-linejoin:miter;stroke-opacity:1\"/>\n",
       "<path class=\"bond-0\" d=\"M 340.1,187.12 316.138,200.945\" style=\"fill:none;fill-rule:evenodd;stroke:#E5E5E5;stroke-width:4px;stroke-linecap:butt;stroke-linejoin:miter;stroke-opacity:1\"/>\n",
       "<path class=\"bond-0\" d=\"M 339.459,194.313 322.686,203.99\" style=\"fill:none;fill-rule:evenodd;stroke:#E5E5E5;stroke-width:4px;stroke-linecap:butt;stroke-linejoin:miter;stroke-opacity:1\"/>\n",
       "<path class=\"bond-10\" d=\"M 340.1,187.12 366.364,202.272\" style=\"fill:none;fill-rule:evenodd;stroke:#000000;stroke-width:2px;stroke-linecap:butt;stroke-linejoin:miter;stroke-opacity:1\"/>\n",
       "<path class=\"bond-1\" d=\"M 313.838,207.197 313.838,232.576\" style=\"fill:none;fill-rule:evenodd;stroke:#E5E5E5;stroke-width:4px;stroke-linecap:butt;stroke-linejoin:miter;stroke-opacity:1\"/>\n",
       "<path class=\"bond-9\" d=\"M 313.838,232.576 340.1,247.728\" style=\"fill:none;fill-rule:evenodd;stroke:#000000;stroke-width:2px;stroke-linecap:butt;stroke-linejoin:miter;stroke-opacity:1\"/>\n",
       "<path class=\"bond-9\" d=\"M 320.731,229.73 339.114,240.336\" style=\"fill:none;fill-rule:evenodd;stroke:#000000;stroke-width:2px;stroke-linecap:butt;stroke-linejoin:miter;stroke-opacity:1\"/>\n",
       "<path class=\"bond-2\" d=\"M 392.626,187.12 416.59,200.945\" style=\"fill:none;fill-rule:evenodd;stroke:#E5E5E5;stroke-width:4px;stroke-linecap:butt;stroke-linejoin:miter;stroke-opacity:1\"/>\n",
       "<path class=\"bond-3\" d=\"M 395.581,187.12 395.581,161.743\" style=\"fill:none;fill-rule:evenodd;stroke:#E5E5E5;stroke-width:4px;stroke-linecap:butt;stroke-linejoin:miter;stroke-opacity:1\"/>\n",
       "<path class=\"bond-3\" d=\"M 389.671,187.12 389.671,161.743\" style=\"fill:none;fill-rule:evenodd;stroke:#E5E5E5;stroke-width:4px;stroke-linecap:butt;stroke-linejoin:miter;stroke-opacity:1\"/>\n",
       "<path class=\"bond-11\" d=\"M 392.626,187.12 366.364,202.272\" style=\"fill:none;fill-rule:evenodd;stroke:#000000;stroke-width:2px;stroke-linecap:butt;stroke-linejoin:miter;stroke-opacity:1\"/>\n",
       "<path class=\"bond-4\" d=\"M 392.626,278.03 416.59,291.855\" style=\"fill:none;fill-rule:evenodd;stroke:#E5E5E5;stroke-width:4px;stroke-linecap:butt;stroke-linejoin:miter;stroke-opacity:1\"/>\n",
       "<path class=\"bond-5\" d=\"M 391.149,275.471 367.187,289.296\" style=\"fill:none;fill-rule:evenodd;stroke:#E5E5E5;stroke-width:4px;stroke-linecap:butt;stroke-linejoin:miter;stroke-opacity:1\"/>\n",
       "<path class=\"bond-5\" d=\"M 394.102,280.589 370.14,294.414\" style=\"fill:none;fill-rule:evenodd;stroke:#E5E5E5;stroke-width:4px;stroke-linecap:butt;stroke-linejoin:miter;stroke-opacity:1\"/>\n",
       "<path class=\"bond-12\" d=\"M 392.626,278.03 392.626,265.341\" style=\"fill:none;fill-rule:evenodd;stroke:#000000;stroke-width:2px;stroke-linecap:butt;stroke-linejoin:miter;stroke-opacity:1\"/>\n",
       "<path class=\"bond-12\" d=\"M 392.626,265.341 392.626,252.653\" style=\"fill:none;fill-rule:evenodd;stroke:#FF0000;stroke-width:2px;stroke-linecap:butt;stroke-linejoin:miter;stroke-opacity:1\"/>\n",
       "<path class=\"bond-6\" d=\"M 340.1,247.728 366.364,232.576\" style=\"fill:none;fill-rule:evenodd;stroke:#000000;stroke-width:2px;stroke-linecap:butt;stroke-linejoin:miter;stroke-opacity:1\"/>\n",
       "<path class=\"bond-7\" d=\"M 366.364,232.576 366.364,202.272\" style=\"fill:none;fill-rule:evenodd;stroke:#000000;stroke-width:2px;stroke-linecap:butt;stroke-linejoin:miter;stroke-opacity:1\"/>\n",
       "<path class=\"bond-7\" d=\"M 360.454,228.03 360.454,206.818\" style=\"fill:none;fill-rule:evenodd;stroke:#000000;stroke-width:2px;stroke-linecap:butt;stroke-linejoin:miter;stroke-opacity:1\"/>\n",
       "<path class=\"bond-8\" d=\"M 366.364,232.576 377.195,238.825\" style=\"fill:none;fill-rule:evenodd;stroke:#000000;stroke-width:2px;stroke-linecap:butt;stroke-linejoin:miter;stroke-opacity:1\"/>\n",
       "<path class=\"bond-8\" d=\"M 377.195,238.825 388.026,245.074\" style=\"fill:none;fill-rule:evenodd;stroke:#FF0000;stroke-width:2px;stroke-linecap:butt;stroke-linejoin:miter;stroke-opacity:1\"/>\n",
       "<text style=\"font-size:9px;font-style:normal;font-weight:normal;fill-opacity:1;stroke:none;font-family:sans-serif;text-anchor:start;fill:#7F7F7F\" x=\"311.539\" y=\"207.197\"><tspan>*</tspan></text>\n",
       "<text style=\"font-size:9px;font-style:normal;font-weight:normal;fill-opacity:1;stroke:none;font-family:sans-serif;text-anchor:start;fill:#7F7F7F\" x=\"416.59\" y=\"207.197\"><tspan>*</tspan></text>\n",
       "<text style=\"font-size:9px;font-style:normal;font-weight:normal;fill-opacity:1;stroke:none;font-family:sans-serif;text-anchor:start;fill:#7F7F7F\" x=\"390.326\" y=\"161.743\"><tspan>*</tspan></text>\n",
       "<text style=\"font-size:9px;font-style:normal;font-weight:normal;fill-opacity:1;stroke:none;font-family:sans-serif;text-anchor:start;fill:#7F7F7F\" x=\"416.59\" y=\"298.106\"><tspan>*</tspan></text>\n",
       "<text style=\"font-size:9px;font-style:normal;font-weight:normal;fill-opacity:1;stroke:none;font-family:sans-serif;text-anchor:start;fill:#7F7F7F\" x=\"364.064\" y=\"298.106\"><tspan>*</tspan></text>\n",
       "<text style=\"font-size:9px;font-style:normal;font-weight:normal;fill-opacity:1;stroke:none;font-family:sans-serif;text-anchor:start;fill:#FF0000\" x=\"388.026\" y=\"252.653\"><tspan>O</tspan></text>\n",
       "<text style=\"font-size:12px;font-style:normal;font-weight:normal;fill-opacity:1;stroke:none;font-family:sans-serif;text-anchor:start;fill:#000000\" x=\"351.375\" y=\"297\"><tspan>bit: 909</tspan></text>\n",
       "<ellipse cx=\"483.636\" cy=\"209.731\" rx=\"5.9095\" ry=\"5.9095\" style=\"fill:#E5E533;fill-rule:evenodd;stroke:#E5E533;stroke-width:2px;stroke-linecap:butt;stroke-linejoin:miter;stroke-opacity:1\"/>\n",
       "<ellipse cx=\"509.899\" cy=\"255.187\" rx=\"5.9095\" ry=\"5.9095\" style=\"fill:#E5E533;fill-rule:evenodd;stroke:#E5E533;stroke-width:2px;stroke-linecap:butt;stroke-linejoin:miter;stroke-opacity:1\"/>\n",
       "<ellipse cx=\"509.899\" cy=\"224.883\" rx=\"5.9095\" ry=\"5.9095\" style=\"fill:#E5E533;fill-rule:evenodd;stroke:#E5E533;stroke-width:2px;stroke-linecap:butt;stroke-linejoin:miter;stroke-opacity:1\"/>\n",
       "<ellipse cx=\"536.161\" cy=\"209.731\" rx=\"5.9095\" ry=\"5.9095\" style=\"fill:#9999E5;fill-rule:evenodd;stroke:#9999E5;stroke-width:2px;stroke-linecap:butt;stroke-linejoin:miter;stroke-opacity:1\"/>\n",
       "<path class=\"bond-0\" d=\"M 483.636,209.731 459.674,223.556\" style=\"fill:none;fill-rule:evenodd;stroke:#E5E5E5;stroke-width:4px;stroke-linecap:butt;stroke-linejoin:miter;stroke-opacity:1\"/>\n",
       "<path class=\"bond-0\" d=\"M 482.995,216.923 466.221,226.601\" style=\"fill:none;fill-rule:evenodd;stroke:#E5E5E5;stroke-width:4px;stroke-linecap:butt;stroke-linejoin:miter;stroke-opacity:1;stroke-dasharray:6,6\"/>\n",
       "<path class=\"bond-7\" d=\"M 483.636,209.731 509.899,224.883\" style=\"fill:none;fill-rule:evenodd;stroke:#000000;stroke-width:2px;stroke-linecap:butt;stroke-linejoin:miter;stroke-opacity:1\"/>\n",
       "<path class=\"bond-7\" d=\"M 484.622,217.123 503.007,227.729\" style=\"fill:none;fill-rule:evenodd;stroke:#000000;stroke-width:2px;stroke-linecap:butt;stroke-linejoin:miter;stroke-opacity:1;stroke-dasharray:6,6\"/>\n",
       "<path class=\"bond-1\" d=\"M 509.899,255.187 533.861,269.012\" style=\"fill:none;fill-rule:evenodd;stroke:#E5E5E5;stroke-width:4px;stroke-linecap:butt;stroke-linejoin:miter;stroke-opacity:1\"/>\n",
       "<path class=\"bond-2\" d=\"M 509.899,255.187 485.935,269.012\" style=\"fill:none;fill-rule:evenodd;stroke:#E5E5E5;stroke-width:4px;stroke-linecap:butt;stroke-linejoin:miter;stroke-opacity:1\"/>\n",
       "<path class=\"bond-2\" d=\"M 509.258,262.379 492.483,272.057\" style=\"fill:none;fill-rule:evenodd;stroke:#E5E5E5;stroke-width:4px;stroke-linecap:butt;stroke-linejoin:miter;stroke-opacity:1;stroke-dasharray:6,6\"/>\n",
       "<path class=\"bond-6\" d=\"M 509.899,255.187 509.899,224.883\" style=\"fill:none;fill-rule:evenodd;stroke:#000000;stroke-width:2px;stroke-linecap:butt;stroke-linejoin:miter;stroke-opacity:1\"/>\n",
       "<path class=\"bond-6\" d=\"M 515.809,250.641 515.809,229.429\" style=\"fill:none;fill-rule:evenodd;stroke:#000000;stroke-width:2px;stroke-linecap:butt;stroke-linejoin:miter;stroke-opacity:1;stroke-dasharray:6,6\"/>\n",
       "<path class=\"bond-3\" d=\"M 509.899,224.883 536.161,209.731\" style=\"fill:none;fill-rule:evenodd;stroke:#000000;stroke-width:2px;stroke-linecap:butt;stroke-linejoin:miter;stroke-opacity:1\"/>\n",
       "<path class=\"bond-4\" d=\"M 536.161,209.731 546.993,215.98\" style=\"fill:none;fill-rule:evenodd;stroke:#000000;stroke-width:2px;stroke-linecap:butt;stroke-linejoin:miter;stroke-opacity:1\"/>\n",
       "<path class=\"bond-4\" d=\"M 546.993,215.98 557.826,222.229\" style=\"fill:none;fill-rule:evenodd;stroke:#FF0000;stroke-width:2px;stroke-linecap:butt;stroke-linejoin:miter;stroke-opacity:1\"/>\n",
       "<path class=\"bond-5\" d=\"M 539.116,209.731 539.116,197.042\" style=\"fill:none;fill-rule:evenodd;stroke:#000000;stroke-width:2px;stroke-linecap:butt;stroke-linejoin:miter;stroke-opacity:1\"/>\n",
       "<path class=\"bond-5\" d=\"M 539.116,197.042 539.116,184.354\" style=\"fill:none;fill-rule:evenodd;stroke:#FF0000;stroke-width:2px;stroke-linecap:butt;stroke-linejoin:miter;stroke-opacity:1\"/>\n",
       "<path class=\"bond-5\" d=\"M 533.206,209.731 533.206,197.042\" style=\"fill:none;fill-rule:evenodd;stroke:#000000;stroke-width:2px;stroke-linecap:butt;stroke-linejoin:miter;stroke-opacity:1\"/>\n",
       "<path class=\"bond-5\" d=\"M 533.206,197.042 533.206,184.354\" style=\"fill:none;fill-rule:evenodd;stroke:#FF0000;stroke-width:2px;stroke-linecap:butt;stroke-linejoin:miter;stroke-opacity:1\"/>\n",
       "<path class=\"bond-8\" d=\"M 567.024,222.229 577.856,215.98\" style=\"fill:none;fill-rule:evenodd;stroke:#FF0000;stroke-width:2px;stroke-linecap:butt;stroke-linejoin:miter;stroke-opacity:1\"/>\n",
       "<path class=\"bond-8\" d=\"M 577.856,215.98 588.687,209.731\" style=\"fill:none;fill-rule:evenodd;stroke:#000000;stroke-width:2px;stroke-linecap:butt;stroke-linejoin:miter;stroke-opacity:1\"/>\n",
       "<text style=\"font-size:9px;font-style:normal;font-weight:normal;fill-opacity:1;stroke:none;font-family:sans-serif;text-anchor:start;fill:#7F7F7F\" x=\"455.074\" y=\"229.808\"><tspan>*</tspan></text>\n",
       "<text style=\"font-size:9px;font-style:normal;font-weight:normal;fill-opacity:1;stroke:none;font-family:sans-serif;text-anchor:start;fill:#7F7F7F\" x=\"533.861\" y=\"275.263\"><tspan>*</tspan></text>\n",
       "<text style=\"font-size:9px;font-style:normal;font-weight:normal;fill-opacity:1;stroke:none;font-family:sans-serif;text-anchor:start;fill:#7F7F7F\" x=\"481.336\" y=\"275.263\"><tspan>*</tspan></text>\n",
       "<text style=\"font-size:9px;font-style:normal;font-weight:normal;fill-opacity:1;stroke:none;font-family:sans-serif;text-anchor:start;fill:#FF0000\" x=\"557.826\" y=\"229.808\"><tspan>O</tspan></text>\n",
       "<text style=\"font-size:9px;font-style:normal;font-weight:normal;fill-opacity:1;stroke:none;font-family:sans-serif;text-anchor:start;fill:#FF0000\" x=\"531.562\" y=\"184.354\"><tspan>O</tspan></text>\n",
       "<text style=\"font-size:12px;font-style:normal;font-weight:normal;fill-opacity:1;stroke:none;font-family:sans-serif;text-anchor:start;fill:#000000\" x=\"501.375\" y=\"297\"><tspan>bit: 936</tspan></text>\n",
       "<ellipse cx=\"11.3132\" cy=\"366.55\" rx=\"5.9095\" ry=\"5.9095\" style=\"fill:#E5E533;fill-rule:evenodd;stroke:#E5E533;stroke-width:2px;stroke-linecap:butt;stroke-linejoin:miter;stroke-opacity:1\"/>\n",
       "<ellipse cx=\"37.575\" cy=\"412.005\" rx=\"5.9095\" ry=\"5.9095\" style=\"fill:#E5E533;fill-rule:evenodd;stroke:#E5E533;stroke-width:2px;stroke-linecap:butt;stroke-linejoin:miter;stroke-opacity:1\"/>\n",
       "<ellipse cx=\"63.8388\" cy=\"396.853\" rx=\"5.9095\" ry=\"5.9095\" style=\"fill:#E5E533;fill-rule:evenodd;stroke:#E5E533;stroke-width:2px;stroke-linecap:butt;stroke-linejoin:miter;stroke-opacity:1\"/>\n",
       "<ellipse cx=\"63.8388\" cy=\"366.55\" rx=\"5.9095\" ry=\"5.9095\" style=\"fill:#9999E5;fill-rule:evenodd;stroke:#9999E5;stroke-width:2px;stroke-linecap:butt;stroke-linejoin:miter;stroke-opacity:1\"/>\n",
       "<ellipse cx=\"37.575\" cy=\"351.398\" rx=\"5.9095\" ry=\"5.9095\" style=\"fill:#E5E533;fill-rule:evenodd;stroke:#E5E533;stroke-width:2px;stroke-linecap:butt;stroke-linejoin:miter;stroke-opacity:1\"/>\n",
       "<path class=\"bond-0\" d=\"M 11.3132,366.55 11.3132,391.929\" style=\"fill:none;fill-rule:evenodd;stroke:#E5E5E5;stroke-width:4px;stroke-linecap:butt;stroke-linejoin:miter;stroke-opacity:1\"/>\n",
       "<path class=\"bond-0\" d=\"M 17.2227,370.356 17.2227,388.122\" style=\"fill:none;fill-rule:evenodd;stroke:#E5E5E5;stroke-width:4px;stroke-linecap:butt;stroke-linejoin:miter;stroke-opacity:1\"/>\n",
       "<path class=\"bond-9\" d=\"M 11.3132,366.55 37.575,351.398\" style=\"fill:none;fill-rule:evenodd;stroke:#000000;stroke-width:2px;stroke-linecap:butt;stroke-linejoin:miter;stroke-opacity:1\"/>\n",
       "<path class=\"bond-1\" d=\"M 13.6129,398.18 37.575,412.005\" style=\"fill:none;fill-rule:evenodd;stroke:#E5E5E5;stroke-width:4px;stroke-linecap:butt;stroke-linejoin:miter;stroke-opacity:1\"/>\n",
       "<path class=\"bond-7\" d=\"M 37.575,412.005 63.8388,396.853\" style=\"fill:none;fill-rule:evenodd;stroke:#000000;stroke-width:2px;stroke-linecap:butt;stroke-linejoin:miter;stroke-opacity:1\"/>\n",
       "<path class=\"bond-7\" d=\"M 38.5615,404.614 56.9462,394.008\" style=\"fill:none;fill-rule:evenodd;stroke:#000000;stroke-width:2px;stroke-linecap:butt;stroke-linejoin:miter;stroke-opacity:1\"/>\n",
       "<path class=\"bond-2\" d=\"M 90.1006,416.93 90.1006,437.383\" style=\"fill:none;fill-rule:evenodd;stroke:#E5E5E5;stroke-width:4px;stroke-linecap:butt;stroke-linejoin:miter;stroke-opacity:1\"/>\n",
       "<path class=\"bond-8\" d=\"M 85.5012,409.352 74.67,403.103\" style=\"fill:none;fill-rule:evenodd;stroke:#FF0000;stroke-width:2px;stroke-linecap:butt;stroke-linejoin:miter;stroke-opacity:1\"/>\n",
       "<path class=\"bond-8\" d=\"M 74.67,403.103 63.8388,396.853\" style=\"fill:none;fill-rule:evenodd;stroke:#000000;stroke-width:2px;stroke-linecap:butt;stroke-linejoin:miter;stroke-opacity:1\"/>\n",
       "<path class=\"bond-3\" d=\"M 120.964,363.896 140.326,352.724\" style=\"fill:none;fill-rule:evenodd;stroke:#E5E5E5;stroke-width:4px;stroke-linecap:butt;stroke-linejoin:miter;stroke-opacity:1\"/>\n",
       "<path class=\"bond-10\" d=\"M 111.765,363.896 100.933,357.647\" style=\"fill:none;fill-rule:evenodd;stroke:#FF0000;stroke-width:2px;stroke-linecap:butt;stroke-linejoin:miter;stroke-opacity:1\"/>\n",
       "<path class=\"bond-10\" d=\"M 100.933,357.647 90.1006,351.398\" style=\"fill:none;fill-rule:evenodd;stroke:#000000;stroke-width:2px;stroke-linecap:butt;stroke-linejoin:miter;stroke-opacity:1\"/>\n",
       "<path class=\"bond-4\" d=\"M 63.8388,396.853 63.8388,366.55\" style=\"fill:none;fill-rule:evenodd;stroke:#000000;stroke-width:2px;stroke-linecap:butt;stroke-linejoin:miter;stroke-opacity:1\"/>\n",
       "<path class=\"bond-5\" d=\"M 63.8388,366.55 37.575,351.398\" style=\"fill:none;fill-rule:evenodd;stroke:#000000;stroke-width:2px;stroke-linecap:butt;stroke-linejoin:miter;stroke-opacity:1\"/>\n",
       "<path class=\"bond-5\" d=\"M 56.9462,369.396 38.5615,358.789\" style=\"fill:none;fill-rule:evenodd;stroke:#000000;stroke-width:2px;stroke-linecap:butt;stroke-linejoin:miter;stroke-opacity:1\"/>\n",
       "<path class=\"bond-6\" d=\"M 63.8388,366.55 90.1006,351.398\" style=\"fill:none;fill-rule:evenodd;stroke:#000000;stroke-width:2px;stroke-linecap:butt;stroke-linejoin:miter;stroke-opacity:1\"/>\n",
       "<path class=\"bond-11\" d=\"M 93.0554,351.398 93.0554,338.709\" style=\"fill:none;fill-rule:evenodd;stroke:#000000;stroke-width:2px;stroke-linecap:butt;stroke-linejoin:miter;stroke-opacity:1\"/>\n",
       "<path class=\"bond-11\" d=\"M 93.0554,338.709 93.0554,326.02\" style=\"fill:none;fill-rule:evenodd;stroke:#FF0000;stroke-width:2px;stroke-linecap:butt;stroke-linejoin:miter;stroke-opacity:1\"/>\n",
       "<path class=\"bond-11\" d=\"M 87.1459,351.398 87.1459,338.709\" style=\"fill:none;fill-rule:evenodd;stroke:#000000;stroke-width:2px;stroke-linecap:butt;stroke-linejoin:miter;stroke-opacity:1\"/>\n",
       "<path class=\"bond-11\" d=\"M 87.1459,338.709 87.1459,326.02\" style=\"fill:none;fill-rule:evenodd;stroke:#FF0000;stroke-width:2px;stroke-linecap:butt;stroke-linejoin:miter;stroke-opacity:1\"/>\n",
       "<text style=\"font-size:9px;font-style:normal;font-weight:normal;fill-opacity:1;stroke:none;font-family:sans-serif;text-anchor:start;fill:#7F7F7F\" x=\"9.01349\" y=\"401.778\"><tspan>*</tspan></text>\n",
       "<text style=\"font-size:9px;font-style:normal;font-weight:normal;fill-opacity:1;stroke:none;font-family:sans-serif;text-anchor:start;fill:#FF0000\" x=\"85.5012\" y=\"416.93\"><tspan>O</tspan></text>\n",
       "<text style=\"font-size:9px;font-style:normal;font-weight:normal;fill-opacity:1;stroke:none;font-family:sans-serif;text-anchor:start;fill:#7F7F7F\" x=\"87.8009\" y=\"447.232\"><tspan>*</tspan></text>\n",
       "<text style=\"font-size:9px;font-style:normal;font-weight:normal;fill-opacity:1;stroke:none;font-family:sans-serif;text-anchor:start;fill:#FF0000\" x=\"111.765\" y=\"371.474\"><tspan>O</tspan></text>\n",
       "<text style=\"font-size:9px;font-style:normal;font-weight:normal;fill-opacity:1;stroke:none;font-family:sans-serif;text-anchor:start;fill:#7F7F7F\" x=\"140.326\" y=\"356.322\"><tspan>*</tspan></text>\n",
       "<text style=\"font-size:9px;font-style:normal;font-weight:normal;fill-opacity:1;stroke:none;font-family:sans-serif;text-anchor:start;fill:#FF0000\" x=\"85.5012\" y=\"326.02\"><tspan>O</tspan></text>\n",
       "<text style=\"font-size:12px;font-style:normal;font-weight:normal;fill-opacity:1;stroke:none;font-family:sans-serif;text-anchor:start;fill:#000000\" x=\"51.3745\" y=\"447\"><tspan>bit: 984</tspan></text>\n",
       "<ellipse cx=\"246.667\" cy=\"393.065\" rx=\"5.9095\" ry=\"5.9095\" style=\"fill:#9999E5;fill-rule:evenodd;stroke:#9999E5;stroke-width:2px;stroke-linecap:butt;stroke-linejoin:miter;stroke-opacity:1\"/>\n",
       "<path class=\"bond-0\" d=\"M 220.403,352.536 220.403,377.913\" style=\"fill:none;fill-rule:evenodd;stroke:#E5E5E5;stroke-width:4px;stroke-linecap:butt;stroke-linejoin:miter;stroke-opacity:1\"/>\n",
       "<path class=\"bond-1\" d=\"M 218.927,375.354 194.965,389.179\" style=\"fill:none;fill-rule:evenodd;stroke:#E5E5E5;stroke-width:4px;stroke-linecap:butt;stroke-linejoin:miter;stroke-opacity:1\"/>\n",
       "<path class=\"bond-1\" d=\"M 221.88,380.472 197.918,394.297\" style=\"fill:none;fill-rule:evenodd;stroke:#E5E5E5;stroke-width:4px;stroke-linecap:butt;stroke-linejoin:miter;stroke-opacity:1\"/>\n",
       "<path class=\"bond-2\" d=\"M 220.403,377.913 246.667,393.065\" style=\"fill:none;fill-rule:evenodd;stroke:#000000;stroke-width:2px;stroke-linecap:butt;stroke-linejoin:miter;stroke-opacity:1\"/>\n",
       "<text style=\"font-size:9px;font-style:normal;font-weight:normal;fill-opacity:1;stroke:none;font-family:sans-serif;text-anchor:start;fill:#7F7F7F\" x=\"218.104\" y=\"352.536\"><tspan>*</tspan></text>\n",
       "<text style=\"font-size:9px;font-style:normal;font-weight:normal;fill-opacity:1;stroke:none;font-family:sans-serif;text-anchor:start;fill:#7F7F7F\" x=\"191.842\" y=\"397.99\"><tspan>*</tspan></text>\n",
       "<text style=\"font-size:12px;font-style:normal;font-weight:normal;fill-opacity:1;stroke:none;font-family:sans-serif;text-anchor:start;fill:#000000\" x=\"197.37\" y=\"447\"><tspan>bit: 1017</tspan></text>\n",
       "<ellipse cx=\"375.656\" cy=\"387.004\" rx=\"5.9095\" ry=\"5.9095\" style=\"fill:#9999E5;fill-rule:evenodd;stroke:#9999E5;stroke-width:2px;stroke-linecap:butt;stroke-linejoin:miter;stroke-opacity:1\"/>\n",
       "<path class=\"bond-0\" d=\"M 351.694,342.877 371.056,354.048\" style=\"fill:none;fill-rule:evenodd;stroke:#E5E5E5;stroke-width:4px;stroke-linecap:butt;stroke-linejoin:miter;stroke-opacity:1\"/>\n",
       "<path class=\"bond-1\" d=\"M 375.656,361.627 375.656,374.315\" style=\"fill:none;fill-rule:evenodd;stroke:#FF0000;stroke-width:2px;stroke-linecap:butt;stroke-linejoin:miter;stroke-opacity:1\"/>\n",
       "<path class=\"bond-1\" d=\"M 375.656,374.315 375.656,387.004\" style=\"fill:none;fill-rule:evenodd;stroke:#000000;stroke-width:2px;stroke-linecap:butt;stroke-linejoin:miter;stroke-opacity:1\"/>\n",
       "<path class=\"bond-2\" d=\"M 375.656,387.004 401.92,402.156\" style=\"fill:none;fill-rule:evenodd;stroke:#000000;stroke-width:2px;stroke-linecap:butt;stroke-linejoin:miter;stroke-opacity:1\"/>\n",
       "<path class=\"bond-3\" d=\"M 374.179,384.445 363.348,390.694\" style=\"fill:none;fill-rule:evenodd;stroke:#000000;stroke-width:2px;stroke-linecap:butt;stroke-linejoin:miter;stroke-opacity:1\"/>\n",
       "<path class=\"bond-3\" d=\"M 363.348,390.694 352.517,396.943\" style=\"fill:none;fill-rule:evenodd;stroke:#FF0000;stroke-width:2px;stroke-linecap:butt;stroke-linejoin:miter;stroke-opacity:1\"/>\n",
       "<path class=\"bond-3\" d=\"M 377.133,389.563 366.301,395.812\" style=\"fill:none;fill-rule:evenodd;stroke:#000000;stroke-width:2px;stroke-linecap:butt;stroke-linejoin:miter;stroke-opacity:1\"/>\n",
       "<path class=\"bond-3\" d=\"M 366.301,395.812 355.47,402.062\" style=\"fill:none;fill-rule:evenodd;stroke:#FF0000;stroke-width:2px;stroke-linecap:butt;stroke-linejoin:miter;stroke-opacity:1\"/>\n",
       "<text style=\"font-size:9px;font-style:normal;font-weight:normal;fill-opacity:1;stroke:none;font-family:sans-serif;text-anchor:start;fill:#7F7F7F\" x=\"347.094\" y=\"346.475\"><tspan>*</tspan></text>\n",
       "<text style=\"font-size:9px;font-style:normal;font-weight:normal;fill-opacity:1;stroke:none;font-family:sans-serif;text-anchor:start;fill:#FF0000\" x=\"371.056\" y=\"361.627\"><tspan>O</tspan></text>\n",
       "<text style=\"font-size:9px;font-style:normal;font-weight:normal;fill-opacity:1;stroke:none;font-family:sans-serif;text-anchor:start;fill:#FF0000\" x=\"344.795\" y=\"407.08\"><tspan>O</tspan></text>\n",
       "<text style=\"font-size:12px;font-style:normal;font-weight:normal;fill-opacity:1;stroke:none;font-family:sans-serif;text-anchor:start;fill:#000000\" x=\"347.37\" y=\"447\"><tspan>bit: 1035</tspan></text>\n",
       "<ellipse cx=\"533.535\" cy=\"370.338\" rx=\"5.9095\" ry=\"5.9095\" style=\"fill:#9999E5;fill-rule:evenodd;stroke:#9999E5;stroke-width:2px;stroke-linecap:butt;stroke-linejoin:miter;stroke-opacity:1\"/>\n",
       "<path class=\"bond-0\" d=\"M 509.573,384.163 533.535,370.338\" style=\"fill:none;fill-rule:evenodd;stroke:#E5E5E5;stroke-width:4px;stroke-linecap:butt;stroke-linejoin:miter;stroke-opacity:1\"/>\n",
       "<text style=\"font-size:9px;font-style:normal;font-weight:normal;fill-opacity:1;stroke:none;font-family:sans-serif;text-anchor:start;fill:#7F7F7F\" x=\"504.973\" y=\"390.414\"><tspan>*</tspan></text>\n",
       "<text style=\"font-size:12px;font-style:normal;font-weight:normal;fill-opacity:1;stroke:none;font-family:sans-serif;text-anchor:start;fill:#000000\" x=\"497.37\" y=\"447\"><tspan>bit: 1057</tspan></text>\n",
       "</svg>"
      ],
      "text/plain": [
       "<IPython.core.display.SVG object>"
      ]
     },
     "execution_count": 271,
     "metadata": {},
     "output_type": "execute_result"
    }
   ],
   "source": [
    "morgan_turples = ((mols[0], bit, bitI_morgan) for bit in list(bitI_morgan.keys())[:12])\n",
    "SVG(Draw.DrawMorganBits(morgan_turples, molsPerRow=4, legends=['bit: '+str(x) for x in list(bitI_morgan.keys())[:12]]))"
   ]
  },
  {
   "cell_type": "code",
   "execution_count": 78,
   "metadata": {},
   "outputs": [
    {
     "data": {
      "text/plain": [
       "<generator object <genexpr> at 0x7fd6793449a8>"
      ]
     },
     "execution_count": 78,
     "metadata": {},
     "output_type": "execute_result"
    }
   ],
   "source": [
    "morgan_turples"
   ]
  },
  {
   "cell_type": "code",
   "execution_count": 179,
   "metadata": {
    "scrolled": true
   },
   "outputs": [
    {
     "data": {
      "image/svg+xml": [
       "<svg baseProfile=\"full\" height=\"150px\" version=\"1.1\" width=\"150px\" xml:space=\"preserve\" xmlns=\"http://www.w3.org/2000/svg\" xmlns:rdkit=\"http://www.rdkit.org/xml\" xmlns:xlink=\"http://www.w3.org/1999/xlink\">\n",
       "<!-- END OF HEADER -->\n",
       "<rect height=\"150\" style=\"opacity:1.0;fill:#FFFFFF;stroke:none\" width=\"150\" x=\"0\" y=\"0\"> </rect>\n",
       "<ellipse cx=\"47.5195\" cy=\"28.0341\" rx=\"9.15871\" ry=\"9.15871\" style=\"fill:#E5E533;fill-rule:evenodd;stroke:#E5E533;stroke-width:2px;stroke-linecap:butt;stroke-linejoin:miter;stroke-opacity:1\"/>\n",
       "<ellipse cx=\"6.81818\" cy=\"51.5171\" rx=\"9.15871\" ry=\"9.15871\" style=\"fill:#E5E533;fill-rule:evenodd;stroke:#E5E533;stroke-width:2px;stroke-linecap:butt;stroke-linejoin:miter;stroke-opacity:1\"/>\n",
       "<ellipse cx=\"6.81818\" cy=\"98.4829\" rx=\"9.15871\" ry=\"9.15871\" style=\"fill:#E5E533;fill-rule:evenodd;stroke:#E5E533;stroke-width:2px;stroke-linecap:butt;stroke-linejoin:miter;stroke-opacity:1\"/>\n",
       "<ellipse cx=\"47.5195\" cy=\"121.966\" rx=\"9.15871\" ry=\"9.15871\" style=\"fill:#E5E533;fill-rule:evenodd;stroke:#E5E533;stroke-width:2px;stroke-linecap:butt;stroke-linejoin:miter;stroke-opacity:1\"/>\n",
       "<ellipse cx=\"88.2239\" cy=\"98.4829\" rx=\"9.15871\" ry=\"9.15871\" style=\"fill:#E5E533;fill-rule:evenodd;stroke:#E5E533;stroke-width:2px;stroke-linecap:butt;stroke-linejoin:miter;stroke-opacity:1\"/>\n",
       "<ellipse cx=\"88.2239\" cy=\"51.5171\" rx=\"9.15871\" ry=\"9.15871\" style=\"fill:#E5E533;fill-rule:evenodd;stroke:#E5E533;stroke-width:2px;stroke-linecap:butt;stroke-linejoin:miter;stroke-opacity:1\"/>\n",
       "<path class=\"bond-0\" d=\"M 47.5195,28.0341 6.81818,51.5171\" style=\"fill:none;fill-rule:evenodd;stroke:#000000;stroke-width:2px;stroke-linecap:butt;stroke-linejoin:miter;stroke-opacity:1\"/>\n",
       "<path class=\"bond-0\" d=\"M 45.9913,39.4896 17.5004,55.9277\" style=\"fill:none;fill-rule:evenodd;stroke:#000000;stroke-width:2px;stroke-linecap:butt;stroke-linejoin:miter;stroke-opacity:1;stroke-dasharray:6,6\"/>\n",
       "<path class=\"bond-6\" d=\"M 47.5195,28.0341 88.2239,51.5171\" style=\"fill:none;fill-rule:evenodd;stroke:#000000;stroke-width:2px;stroke-linecap:butt;stroke-linejoin:miter;stroke-opacity:1\"/>\n",
       "<path class=\"bond-6\" d=\"M 49.0484,39.4897 77.5414,55.9278\" style=\"fill:none;fill-rule:evenodd;stroke:#000000;stroke-width:2px;stroke-linecap:butt;stroke-linejoin:miter;stroke-opacity:1;stroke-dasharray:6,6\"/>\n",
       "<path class=\"bond-1\" d=\"M 6.81818,51.5171 6.81818,98.4829\" style=\"fill:none;fill-rule:evenodd;stroke:#000000;stroke-width:2px;stroke-linecap:butt;stroke-linejoin:miter;stroke-opacity:1\"/>\n",
       "<path class=\"bond-1\" d=\"M 15.9769,58.5619 15.9769,91.4381\" style=\"fill:none;fill-rule:evenodd;stroke:#000000;stroke-width:2px;stroke-linecap:butt;stroke-linejoin:miter;stroke-opacity:1;stroke-dasharray:6,6\"/>\n",
       "<path class=\"bond-2\" d=\"M 6.81818,98.4829 47.5195,121.966\" style=\"fill:none;fill-rule:evenodd;stroke:#000000;stroke-width:2px;stroke-linecap:butt;stroke-linejoin:miter;stroke-opacity:1\"/>\n",
       "<path class=\"bond-2\" d=\"M 17.5004,94.0723 45.9913,110.51\" style=\"fill:none;fill-rule:evenodd;stroke:#000000;stroke-width:2px;stroke-linecap:butt;stroke-linejoin:miter;stroke-opacity:1;stroke-dasharray:6,6\"/>\n",
       "<path class=\"bond-3\" d=\"M 47.5195,121.966 88.2239,98.4829\" style=\"fill:none;fill-rule:evenodd;stroke:#000000;stroke-width:2px;stroke-linecap:butt;stroke-linejoin:miter;stroke-opacity:1\"/>\n",
       "<path class=\"bond-3\" d=\"M 49.0484,110.51 77.5414,94.0722\" style=\"fill:none;fill-rule:evenodd;stroke:#000000;stroke-width:2px;stroke-linecap:butt;stroke-linejoin:miter;stroke-opacity:1;stroke-dasharray:6,6\"/>\n",
       "<path class=\"bond-4\" d=\"M 88.2239,98.4829 105.01,108.168\" style=\"fill:none;fill-rule:evenodd;stroke:#000000;stroke-width:2px;stroke-linecap:butt;stroke-linejoin:miter;stroke-opacity:1\"/>\n",
       "<path class=\"bond-4\" d=\"M 105.01,108.168 121.797,117.853\" style=\"fill:none;fill-rule:evenodd;stroke:#FF0000;stroke-width:2px;stroke-linecap:butt;stroke-linejoin:miter;stroke-opacity:1\"/>\n",
       "<path class=\"bond-5\" d=\"M 88.2239,98.4829 88.2239,51.5171\" style=\"fill:none;fill-rule:evenodd;stroke:#000000;stroke-width:2px;stroke-linecap:butt;stroke-linejoin:miter;stroke-opacity:1\"/>\n",
       "<path class=\"bond-5\" d=\"M 79.0651,91.4381 79.0651,58.5619\" style=\"fill:none;fill-rule:evenodd;stroke:#000000;stroke-width:2px;stroke-linecap:butt;stroke-linejoin:miter;stroke-opacity:1;stroke-dasharray:6,6\"/>\n",
       "<text style=\"font-size:15px;font-style:normal;font-weight:normal;fill-opacity:1;stroke:none;font-family:sans-serif;text-anchor:start;fill:#FF0000\" x=\"121.797\" y=\"129.598\"><tspan>O</tspan></text>\n",
       "</svg>"
      ],
      "text/plain": [
       "<IPython.core.display.SVG object>"
      ]
     },
     "execution_count": 179,
     "metadata": {},
     "output_type": "execute_result"
    }
   ],
   "source": [
    "SVG(Draw.DrawRDKitBit(m,52,bitI_rdkit))"
   ]
  },
  {
   "cell_type": "code",
   "execution_count": 110,
   "metadata": {},
   "outputs": [
    {
     "data": {
      "text/plain": [
       "52"
      ]
     },
     "execution_count": 110,
     "metadata": {},
     "output_type": "execute_result"
    }
   ],
   "source": [
    "list(bitI_rdkit.keys())[8]"
   ]
  },
  {
   "cell_type": "code",
   "execution_count": 119,
   "metadata": {},
   "outputs": [],
   "source": [
    "rdkit_turples =((mols[0], bit, bitI_rdkit) for bit in list(bitI_rdkit.keys())[7:9])"
   ]
  },
  {
   "cell_type": "code",
   "execution_count": 121,
   "metadata": {
    "scrolled": false
   },
   "outputs": [
    {
     "data": {
      "text/plain": [
       "[50, 52]"
      ]
     },
     "execution_count": 121,
     "metadata": {},
     "output_type": "execute_result"
    }
   ],
   "source": [
    "list(bitI_rdkit.keys())[7:9]"
   ]
  },
  {
   "cell_type": "code",
   "execution_count": 157,
   "metadata": {},
   "outputs": [],
   "source": [
    "import copy"
   ]
  },
  {
   "cell_type": "code",
   "execution_count": 173,
   "metadata": {},
   "outputs": [],
   "source": [
    "m=copy.copy(mols[0])"
   ]
  },
  {
   "cell_type": "code",
   "execution_count": 174,
   "metadata": {},
   "outputs": [
    {
     "data": {
      "text/plain": [
       "140559116910064"
      ]
     },
     "execution_count": 174,
     "metadata": {},
     "output_type": "execute_result"
    }
   ],
   "source": [
    "id(mols[0])"
   ]
  },
  {
   "cell_type": "code",
   "execution_count": 175,
   "metadata": {},
   "outputs": [
    {
     "data": {
      "text/plain": [
       "140559116929904"
      ]
     },
     "execution_count": 175,
     "metadata": {},
     "output_type": "execute_result"
    }
   ],
   "source": [
    "id(m)"
   ]
  },
  {
   "cell_type": "code",
   "execution_count": 162,
   "metadata": {},
   "outputs": [],
   "source": [
    "Chem.Kekulize(m)"
   ]
  },
  {
   "cell_type": "code",
   "execution_count": 177,
   "metadata": {},
   "outputs": [],
   "source": [
    "rdkit_turples = [(m,52,bitI_rdkit)]"
   ]
  },
  {
   "cell_type": "code",
   "execution_count": 183,
   "metadata": {
    "collapsed": true
   },
   "outputs": [
    {
     "ename": "ValueError",
     "evalue": "Sanitization error: Can't kekulize mol.  Unkekulized atoms: 0 1 2 3 4\n",
     "output_type": "error",
     "traceback": [
      "\u001b[0;31m\u001b[0m",
      "\u001b[0;31mValueError\u001b[0mTraceback (most recent call last)",
      "\u001b[0;32m<ipython-input-183-e9586a24a1df>\u001b[0m in \u001b[0;36m<module>\u001b[0;34m\u001b[0m\n\u001b[1;32m      3\u001b[0m \u001b[0m_\u001b[0m \u001b[0;34m=\u001b[0m \u001b[0mAllChem\u001b[0m\u001b[0;34m.\u001b[0m\u001b[0mRDKFingerprint\u001b[0m\u001b[0;34m(\u001b[0m\u001b[0mmol\u001b[0m\u001b[0;34m,\u001b[0m \u001b[0mminPath\u001b[0m\u001b[0;34m=\u001b[0m\u001b[0;36m1\u001b[0m\u001b[0;34m,\u001b[0m \u001b[0mmaxPath\u001b[0m\u001b[0;34m=\u001b[0m\u001b[0;36m5\u001b[0m\u001b[0;34m,\u001b[0m \u001b[0mbitInfo\u001b[0m\u001b[0;34m=\u001b[0m\u001b[0mbi\u001b[0m\u001b[0;34m)\u001b[0m\u001b[0;34m\u001b[0m\u001b[0;34m\u001b[0m\u001b[0m\n\u001b[1;32m      4\u001b[0m \u001b[0mtuples\u001b[0m \u001b[0;34m=\u001b[0m \u001b[0;34m[\u001b[0m\u001b[0;34m(\u001b[0m\u001b[0mmol\u001b[0m\u001b[0;34m,\u001b[0m \u001b[0mk\u001b[0m\u001b[0;34m,\u001b[0m \u001b[0mbi\u001b[0m\u001b[0;34m)\u001b[0m \u001b[0;32mfor\u001b[0m \u001b[0mk\u001b[0m \u001b[0;32min\u001b[0m \u001b[0mbi\u001b[0m\u001b[0;34m.\u001b[0m\u001b[0mkeys\u001b[0m\u001b[0;34m(\u001b[0m\u001b[0;34m)\u001b[0m\u001b[0;34m]\u001b[0m\u001b[0;34m\u001b[0m\u001b[0;34m\u001b[0m\u001b[0m\n\u001b[0;32m----> 5\u001b[0;31m \u001b[0mDraw\u001b[0m\u001b[0;34m.\u001b[0m\u001b[0mDrawRDKitBits\u001b[0m\u001b[0;34m(\u001b[0m\u001b[0;34m(\u001b[0m\u001b[0mtuples\u001b[0m\u001b[0;34m[\u001b[0m\u001b[0;36m38\u001b[0m\u001b[0;34m]\u001b[0m\u001b[0;34m,\u001b[0m\u001b[0;34m)\u001b[0m\u001b[0;34m)\u001b[0m\u001b[0;34m\u001b[0m\u001b[0;34m\u001b[0m\u001b[0m\n\u001b[0m",
      "\u001b[0;32m/opt/conda/lib/python3.7/site-packages/rdkit/Chem/Draw/__init__.py\u001b[0m in \u001b[0;36mDrawRDKitBits\u001b[0;34m(tpls, **kwargs)\u001b[0m\n\u001b[1;32m    730\u001b[0m     \u001b[0mbondpath\u001b[0m \u001b[0;34m=\u001b[0m \u001b[0mbitInfo\u001b[0m\u001b[0;34m[\u001b[0m\u001b[0mbitId\u001b[0m\u001b[0;34m]\u001b[0m\u001b[0;34m[\u001b[0m\u001b[0mwhichExample\u001b[0m\u001b[0;34m]\u001b[0m\u001b[0;34m\u001b[0m\u001b[0;34m\u001b[0m\u001b[0m\n\u001b[1;32m    731\u001b[0m     \u001b[0menvs\u001b[0m\u001b[0;34m.\u001b[0m\u001b[0mappend\u001b[0m\u001b[0;34m(\u001b[0m\u001b[0;34m(\u001b[0m\u001b[0mmol\u001b[0m\u001b[0;34m,\u001b[0m \u001b[0mbondpath\u001b[0m\u001b[0;34m)\u001b[0m\u001b[0;34m)\u001b[0m\u001b[0;34m\u001b[0m\u001b[0;34m\u001b[0m\u001b[0m\n\u001b[0;32m--> 732\u001b[0;31m   \u001b[0;32mreturn\u001b[0m \u001b[0mDrawRDKitEnvs\u001b[0m\u001b[0;34m(\u001b[0m\u001b[0menvs\u001b[0m\u001b[0;34m,\u001b[0m \u001b[0;34m**\u001b[0m\u001b[0mkwargs\u001b[0m\u001b[0;34m)\u001b[0m\u001b[0;34m\u001b[0m\u001b[0;34m\u001b[0m\u001b[0m\n\u001b[0m\u001b[1;32m    733\u001b[0m \u001b[0;34m\u001b[0m\u001b[0m\n\u001b[1;32m    734\u001b[0m \u001b[0;32mdef\u001b[0m \u001b[0mDrawRDKitBit\u001b[0m\u001b[0;34m(\u001b[0m\u001b[0mmol\u001b[0m\u001b[0;34m,\u001b[0m \u001b[0mbitId\u001b[0m\u001b[0;34m,\u001b[0m \u001b[0mbitInfo\u001b[0m\u001b[0;34m,\u001b[0m \u001b[0mwhichExample\u001b[0m\u001b[0;34m=\u001b[0m\u001b[0;36m0\u001b[0m\u001b[0;34m,\u001b[0m \u001b[0;34m**\u001b[0m\u001b[0mkwargs\u001b[0m\u001b[0;34m)\u001b[0m\u001b[0;34m:\u001b[0m\u001b[0;34m\u001b[0m\u001b[0;34m\u001b[0m\u001b[0m\n",
      "\u001b[0;32m/opt/conda/lib/python3.7/site-packages/rdkit/Chem/Draw/__init__.py\u001b[0m in \u001b[0;36mDrawRDKitEnvs\u001b[0;34m(envs, molsPerRow, subImgSize, baseRad, useSVG, aromaticColor, extraColor, nonAromaticColor, legends, **kwargs)\u001b[0m\n\u001b[1;32m    824\u001b[0m   drawer.DrawMolecules(submols, legends=legends, highlightAtoms=highlightAtoms,\n\u001b[1;32m    825\u001b[0m                        \u001b[0mhighlightAtomColors\u001b[0m\u001b[0;34m=\u001b[0m\u001b[0matomColors\u001b[0m\u001b[0;34m,\u001b[0m \u001b[0mhighlightBonds\u001b[0m\u001b[0;34m=\u001b[0m\u001b[0mhighlightBonds\u001b[0m\u001b[0;34m,\u001b[0m\u001b[0;34m\u001b[0m\u001b[0;34m\u001b[0m\u001b[0m\n\u001b[0;32m--> 826\u001b[0;31m                        highlightBondColors=bondColors, highlightAtomRadii=highlightRadii, **kwargs)\n\u001b[0m\u001b[1;32m    827\u001b[0m   \u001b[0mdrawer\u001b[0m\u001b[0;34m.\u001b[0m\u001b[0mFinishDrawing\u001b[0m\u001b[0;34m(\u001b[0m\u001b[0;34m)\u001b[0m\u001b[0;34m\u001b[0m\u001b[0;34m\u001b[0m\u001b[0m\n\u001b[1;32m    828\u001b[0m   \u001b[0;32mreturn\u001b[0m \u001b[0mdrawer\u001b[0m\u001b[0;34m.\u001b[0m\u001b[0mGetDrawingText\u001b[0m\u001b[0;34m(\u001b[0m\u001b[0;34m)\u001b[0m\u001b[0;34m\u001b[0m\u001b[0;34m\u001b[0m\u001b[0m\n",
      "\u001b[0;31mValueError\u001b[0m: Sanitization error: Can't kekulize mol.  Unkekulized atoms: 0 1 2 3 4\n"
     ]
    }
   ],
   "source": [
    "mol = Chem.MolFromSmiles('c1cncn(C)1')\n",
    "bi = {}\n",
    "_ = AllChem.RDKFingerprint(mol, minPath=1, maxPath=5, bitInfo=bi)\n",
    "tuples = [(mol, k, bi) for k in bi.keys()]\n",
    "Draw.DrawRDKitBits((tuples[38],))"
   ]
  },
  {
   "cell_type": "code",
   "execution_count": 184,
   "metadata": {
    "collapsed": true
   },
   "outputs": [
    {
     "data": {
      "text/plain": [
       "(<rdkit.Chem.rdchem.Mol at 0x7fd6783c64e0>,\n",
       " 1505,\n",
       " {5: [[1, 2], [3, 5]],\n",
       "  117: [[0, 1, 2, 3, 4]],\n",
       "  140: [[0, 1, 2, 5], [0, 1, 5, 3]],\n",
       "  141: [[2, 3, 5, 4]],\n",
       "  161: [[1, 2], [3, 5]],\n",
       "  177: [[0, 1, 5, 4, 3]],\n",
       "  178: [[0, 1, 5, 4]],\n",
       "  259: [[1, 2, 3, 4]],\n",
       "  275: [[2, 3, 5, 4]],\n",
       "  383: [[0, 1, 2, 3], [0, 5, 3, 2]],\n",
       "  418: [[3, 4], [4, 5]],\n",
       "  470: [[0, 1, 5]],\n",
       "  503: [[0, 5, 4]],\n",
       "  633: [[0, 1], [0, 5]],\n",
       "  684: [[0, 1], [0, 5]],\n",
       "  742: [[0, 1, 2], [0, 5, 3]],\n",
       "  838: [[0, 1, 2], [0, 5, 3]],\n",
       "  842: [[0]],\n",
       "  844: [[0, 5, 4]],\n",
       "  869: [[0, 1, 5, 4, 3]],\n",
       "  906: [[0, 1, 2, 5, 4]],\n",
       "  947: [[0, 5, 4, 3, 2]],\n",
       "  963: [[0, 5, 4, 3, 2]],\n",
       "  1012: [[1, 2, 3, 5]],\n",
       "  1013: [[2, 3, 4]],\n",
       "  1026: [[0]],\n",
       "  1027: [[1], [2], [3], [5]],\n",
       "  1060: [[1], [2], [3], [5]],\n",
       "  1131: [[1, 2, 3, 4]],\n",
       "  1134: [[0, 1, 2, 5], [0, 1, 5, 3]],\n",
       "  1177: [[0, 1, 2, 3], [0, 5, 3, 2]],\n",
       "  1196: [[1, 2, 3, 5]],\n",
       "  1213: [[1, 2, 3, 5, 4]],\n",
       "  1256: [[3, 5, 4]],\n",
       "  1373: [[0, 1, 2, 5, 4]],\n",
       "  1400: [[0, 5, 4, 3]],\n",
       "  1422: [[4]],\n",
       "  1483: [[2, 3]],\n",
       "  1505: [[0, 1, 2, 3, 5]],\n",
       "  1580: [[1, 2, 3], [2, 3, 5]],\n",
       "  1581: [[2, 3, 4]],\n",
       "  1587: [[2, 3]],\n",
       "  1657: [[4]],\n",
       "  1687: [[0, 1, 5, 4]],\n",
       "  1694: [[0, 1, 5]],\n",
       "  1786: [[1, 2, 3], [2, 3, 5]],\n",
       "  1849: [[0, 1, 2, 3, 5], [1, 2, 3, 5, 4]],\n",
       "  1911: [[0, 5, 4, 3]],\n",
       "  1925: [[3, 5, 4]],\n",
       "  1932: [[3, 4], [4, 5]],\n",
       "  1986: [[0, 1, 2, 3, 4]]})"
      ]
     },
     "execution_count": 184,
     "metadata": {},
     "output_type": "execute_result"
    }
   ],
   "source": [
    "tuples[38]"
   ]
  },
  {
   "cell_type": "code",
   "execution_count": 214,
   "metadata": {},
   "outputs": [],
   "source": [
    "e_cause=1505"
   ]
  },
  {
   "cell_type": "code",
   "execution_count": 207,
   "metadata": {
    "collapsed": true
   },
   "outputs": [
    {
     "ename": "ValueError",
     "evalue": "Sanitization error: Can't kekulize mol.  Unkekulized atoms: 0 1 2 3 4\n",
     "output_type": "error",
     "traceback": [
      "\u001b[0;31m\u001b[0m",
      "\u001b[0;31mValueError\u001b[0mTraceback (most recent call last)",
      "\u001b[0;32m<ipython-input-207-92f15df1d404>\u001b[0m in \u001b[0;36m<module>\u001b[0;34m\u001b[0m\n\u001b[0;32m----> 1\u001b[0;31m \u001b[0mSVG\u001b[0m\u001b[0;34m(\u001b[0m\u001b[0mDraw\u001b[0m\u001b[0;34m.\u001b[0m\u001b[0mDrawRDKitBits\u001b[0m\u001b[0;34m(\u001b[0m\u001b[0;34m[\u001b[0m\u001b[0;34m(\u001b[0m\u001b[0mmol\u001b[0m\u001b[0;34m,\u001b[0m\u001b[0;36m1505\u001b[0m\u001b[0;34m,\u001b[0m\u001b[0mbi\u001b[0m\u001b[0;34m)\u001b[0m\u001b[0;34m]\u001b[0m\u001b[0;34m)\u001b[0m\u001b[0;34m)\u001b[0m\u001b[0;34m\u001b[0m\u001b[0;34m\u001b[0m\u001b[0m\n\u001b[0m",
      "\u001b[0;32m/opt/conda/lib/python3.7/site-packages/rdkit/Chem/Draw/__init__.py\u001b[0m in \u001b[0;36mDrawRDKitBits\u001b[0;34m(tpls, **kwargs)\u001b[0m\n\u001b[1;32m    730\u001b[0m     \u001b[0mbondpath\u001b[0m \u001b[0;34m=\u001b[0m \u001b[0mbitInfo\u001b[0m\u001b[0;34m[\u001b[0m\u001b[0mbitId\u001b[0m\u001b[0;34m]\u001b[0m\u001b[0;34m[\u001b[0m\u001b[0mwhichExample\u001b[0m\u001b[0;34m]\u001b[0m\u001b[0;34m\u001b[0m\u001b[0;34m\u001b[0m\u001b[0m\n\u001b[1;32m    731\u001b[0m     \u001b[0menvs\u001b[0m\u001b[0;34m.\u001b[0m\u001b[0mappend\u001b[0m\u001b[0;34m(\u001b[0m\u001b[0;34m(\u001b[0m\u001b[0mmol\u001b[0m\u001b[0;34m,\u001b[0m \u001b[0mbondpath\u001b[0m\u001b[0;34m)\u001b[0m\u001b[0;34m)\u001b[0m\u001b[0;34m\u001b[0m\u001b[0;34m\u001b[0m\u001b[0m\n\u001b[0;32m--> 732\u001b[0;31m   \u001b[0;32mreturn\u001b[0m \u001b[0mDrawRDKitEnvs\u001b[0m\u001b[0;34m(\u001b[0m\u001b[0menvs\u001b[0m\u001b[0;34m,\u001b[0m \u001b[0;34m**\u001b[0m\u001b[0mkwargs\u001b[0m\u001b[0;34m)\u001b[0m\u001b[0;34m\u001b[0m\u001b[0;34m\u001b[0m\u001b[0m\n\u001b[0m\u001b[1;32m    733\u001b[0m \u001b[0;34m\u001b[0m\u001b[0m\n\u001b[1;32m    734\u001b[0m \u001b[0;32mdef\u001b[0m \u001b[0mDrawRDKitBit\u001b[0m\u001b[0;34m(\u001b[0m\u001b[0mmol\u001b[0m\u001b[0;34m,\u001b[0m \u001b[0mbitId\u001b[0m\u001b[0;34m,\u001b[0m \u001b[0mbitInfo\u001b[0m\u001b[0;34m,\u001b[0m \u001b[0mwhichExample\u001b[0m\u001b[0;34m=\u001b[0m\u001b[0;36m0\u001b[0m\u001b[0;34m,\u001b[0m \u001b[0;34m**\u001b[0m\u001b[0mkwargs\u001b[0m\u001b[0;34m)\u001b[0m\u001b[0;34m:\u001b[0m\u001b[0;34m\u001b[0m\u001b[0;34m\u001b[0m\u001b[0m\n",
      "\u001b[0;32m/opt/conda/lib/python3.7/site-packages/rdkit/Chem/Draw/__init__.py\u001b[0m in \u001b[0;36mDrawRDKitEnvs\u001b[0;34m(envs, molsPerRow, subImgSize, baseRad, useSVG, aromaticColor, extraColor, nonAromaticColor, legends, **kwargs)\u001b[0m\n\u001b[1;32m    824\u001b[0m   drawer.DrawMolecules(submols, legends=legends, highlightAtoms=highlightAtoms,\n\u001b[1;32m    825\u001b[0m                        \u001b[0mhighlightAtomColors\u001b[0m\u001b[0;34m=\u001b[0m\u001b[0matomColors\u001b[0m\u001b[0;34m,\u001b[0m \u001b[0mhighlightBonds\u001b[0m\u001b[0;34m=\u001b[0m\u001b[0mhighlightBonds\u001b[0m\u001b[0;34m,\u001b[0m\u001b[0;34m\u001b[0m\u001b[0;34m\u001b[0m\u001b[0m\n\u001b[0;32m--> 826\u001b[0;31m                        highlightBondColors=bondColors, highlightAtomRadii=highlightRadii, **kwargs)\n\u001b[0m\u001b[1;32m    827\u001b[0m   \u001b[0mdrawer\u001b[0m\u001b[0;34m.\u001b[0m\u001b[0mFinishDrawing\u001b[0m\u001b[0;34m(\u001b[0m\u001b[0;34m)\u001b[0m\u001b[0;34m\u001b[0m\u001b[0;34m\u001b[0m\u001b[0m\n\u001b[1;32m    828\u001b[0m   \u001b[0;32mreturn\u001b[0m \u001b[0mdrawer\u001b[0m\u001b[0;34m.\u001b[0m\u001b[0mGetDrawingText\u001b[0m\u001b[0;34m(\u001b[0m\u001b[0;34m)\u001b[0m\u001b[0;34m\u001b[0m\u001b[0;34m\u001b[0m\u001b[0m\n",
      "\u001b[0;31mValueError\u001b[0m: Sanitization error: Can't kekulize mol.  Unkekulized atoms: 0 1 2 3 4\n"
     ]
    }
   ],
   "source": [
    "SVG(Draw.DrawRDKitBits([(mol,1505,bi)]))"
   ]
  },
  {
   "cell_type": "code",
   "execution_count": 208,
   "metadata": {
    "scrolled": false
   },
   "outputs": [
    {
     "data": {
      "image/svg+xml": [
       "<svg baseProfile=\"full\" height=\"150px\" version=\"1.1\" width=\"150px\" xml:space=\"preserve\" xmlns=\"http://www.w3.org/2000/svg\" xmlns:rdkit=\"http://www.rdkit.org/xml\" xmlns:xlink=\"http://www.w3.org/1999/xlink\">\n",
       "<!-- END OF HEADER -->\n",
       "<rect height=\"150\" style=\"opacity:1.0;fill:#FFFFFF;stroke:none\" width=\"150\" x=\"0\" y=\"0\"> </rect>\n",
       "<ellipse cx=\"61.4487\" cy=\"135.358\" rx=\"14.9214\" ry=\"14.9214\" style=\"fill:#E5E533;fill-rule:evenodd;stroke:#E5E533;stroke-width:2px;stroke-linecap:butt;stroke-linejoin:miter;stroke-opacity:1\"/>\n",
       "<ellipse cx=\"132.404\" cy=\"112.304\" rx=\"14.9214\" ry=\"14.9214\" style=\"fill:#E5E533;fill-rule:evenodd;stroke:#E5E533;stroke-width:2px;stroke-linecap:butt;stroke-linejoin:miter;stroke-opacity:1\"/>\n",
       "<ellipse cx=\"132.404\" cy=\"37.6965\" rx=\"14.9214\" ry=\"14.9214\" style=\"fill:#E5E533;fill-rule:evenodd;stroke:#E5E533;stroke-width:2px;stroke-linecap:butt;stroke-linejoin:miter;stroke-opacity:1\"/>\n",
       "<ellipse cx=\"61.4487\" cy=\"14.6416\" rx=\"14.9214\" ry=\"14.9214\" style=\"fill:#E5E533;fill-rule:evenodd;stroke:#E5E533;stroke-width:2px;stroke-linecap:butt;stroke-linejoin:miter;stroke-opacity:1\"/>\n",
       "<ellipse cx=\"17.5958\" cy=\"75\" rx=\"14.9214\" ry=\"14.9214\" style=\"fill:#E5E533;fill-rule:evenodd;stroke:#E5E533;stroke-width:2px;stroke-linecap:butt;stroke-linejoin:miter;stroke-opacity:1\"/>\n",
       "<path class=\"bond-0\" d=\"M 61.4487,135.358 132.404,112.304\" style=\"fill:none;fill-rule:evenodd;stroke:#000000;stroke-width:2px;stroke-linecap:butt;stroke-linejoin:miter;stroke-opacity:1\"/>\n",
       "<path class=\"bond-0\" d=\"M 67.4811,117.709 117.15,101.571\" style=\"fill:none;fill-rule:evenodd;stroke:#000000;stroke-width:2px;stroke-linecap:butt;stroke-linejoin:miter;stroke-opacity:1;stroke-dasharray:6,6\"/>\n",
       "<path class=\"bond-4\" d=\"M 61.4487,135.358 42.2468,108.929\" style=\"fill:none;fill-rule:evenodd;stroke:#000000;stroke-width:2px;stroke-linecap:butt;stroke-linejoin:miter;stroke-opacity:1\"/>\n",
       "<path class=\"bond-4\" d=\"M 42.2468,108.929 23.0448,82.5\" style=\"fill:none;fill-rule:evenodd;stroke:#0000FF;stroke-width:2px;stroke-linecap:butt;stroke-linejoin:miter;stroke-opacity:1\"/>\n",
       "<path class=\"bond-4\" d=\"M 67.7598,118.659 54.3184,100.159\" style=\"fill:none;fill-rule:evenodd;stroke:#000000;stroke-width:2px;stroke-linecap:butt;stroke-linejoin:miter;stroke-opacity:1;stroke-dasharray:6,6\"/>\n",
       "<path class=\"bond-4\" d=\"M 54.3184,100.159 40.8771,81.6582\" style=\"fill:none;fill-rule:evenodd;stroke:#0000FF;stroke-width:2px;stroke-linecap:butt;stroke-linejoin:miter;stroke-opacity:1;stroke-dasharray:6,6\"/>\n",
       "<path class=\"bond-1\" d=\"M 132.404,112.304 132.404,78.75\" style=\"fill:none;fill-rule:evenodd;stroke:#000000;stroke-width:2px;stroke-linecap:butt;stroke-linejoin:miter;stroke-opacity:1\"/>\n",
       "<path class=\"bond-1\" d=\"M 132.404,78.75 132.404,45.1965\" style=\"fill:none;fill-rule:evenodd;stroke:#0000FF;stroke-width:2px;stroke-linecap:butt;stroke-linejoin:miter;stroke-opacity:1\"/>\n",
       "<path class=\"bond-1\" d=\"M 117.483,102.237 117.483,78.75\" style=\"fill:none;fill-rule:evenodd;stroke:#000000;stroke-width:2px;stroke-linecap:butt;stroke-linejoin:miter;stroke-opacity:1;stroke-dasharray:6,6\"/>\n",
       "<path class=\"bond-1\" d=\"M 117.483,78.75 117.483,55.2625\" style=\"fill:none;fill-rule:evenodd;stroke:#0000FF;stroke-width:2px;stroke-linecap:butt;stroke-linejoin:miter;stroke-opacity:1;stroke-dasharray:6,6\"/>\n",
       "<path class=\"bond-2\" d=\"M 125.904,35.5843 93.6762,25.1129\" style=\"fill:none;fill-rule:evenodd;stroke:#0000FF;stroke-width:2px;stroke-linecap:butt;stroke-linejoin:miter;stroke-opacity:1\"/>\n",
       "<path class=\"bond-2\" d=\"M 93.6762,25.1129 61.4487,14.6416\" style=\"fill:none;fill-rule:evenodd;stroke:#000000;stroke-width:2px;stroke-linecap:butt;stroke-linejoin:miter;stroke-opacity:1\"/>\n",
       "<path class=\"bond-2\" d=\"M 111.624,46.634 89.0652,39.3041\" style=\"fill:none;fill-rule:evenodd;stroke:#0000FF;stroke-width:2px;stroke-linecap:butt;stroke-linejoin:miter;stroke-opacity:1;stroke-dasharray:6,6\"/>\n",
       "<path class=\"bond-2\" d=\"M 89.0652,39.3041 66.506,31.9741\" style=\"fill:none;fill-rule:evenodd;stroke:#000000;stroke-width:2px;stroke-linecap:butt;stroke-linejoin:miter;stroke-opacity:1;stroke-dasharray:6,6\"/>\n",
       "<path class=\"bond-3\" d=\"M 61.4487,14.6416 42.2468,41.0708\" style=\"fill:none;fill-rule:evenodd;stroke:#000000;stroke-width:2px;stroke-linecap:butt;stroke-linejoin:miter;stroke-opacity:1\"/>\n",
       "<path class=\"bond-3\" d=\"M 42.2468,41.0708 23.0448,67.5\" style=\"fill:none;fill-rule:evenodd;stroke:#0000FF;stroke-width:2px;stroke-linecap:butt;stroke-linejoin:miter;stroke-opacity:1\"/>\n",
       "<path class=\"bond-3\" d=\"M 67.7598,31.341 54.3184,49.8414\" style=\"fill:none;fill-rule:evenodd;stroke:#000000;stroke-width:2px;stroke-linecap:butt;stroke-linejoin:miter;stroke-opacity:1;stroke-dasharray:6,6\"/>\n",
       "<path class=\"bond-3\" d=\"M 54.3184,49.8414 40.8771,68.3418\" style=\"fill:none;fill-rule:evenodd;stroke:#0000FF;stroke-width:2px;stroke-linecap:butt;stroke-linejoin:miter;stroke-opacity:1;stroke-dasharray:6,6\"/>\n",
       "<text style=\"font-size:15px;font-style:normal;font-weight:normal;fill-opacity:1;stroke:none;font-family:sans-serif;text-anchor:start;fill:#0000FF\" x=\"125.904\" y=\"45.1965\"><tspan>N</tspan></text>\n",
       "<text style=\"font-size:15px;font-style:normal;font-weight:normal;fill-opacity:1;stroke:none;font-family:sans-serif;text-anchor:start;fill:#0000FF\" x=\"11.0952\" y=\"82.5\"><tspan>N</tspan></text>\n",
       "</svg>"
      ],
      "text/plain": [
       "<IPython.core.display.SVG object>"
      ]
     },
     "execution_count": 208,
     "metadata": {},
     "output_type": "execute_result"
    }
   ],
   "source": [
    "SVG(Draw.DrawRDKitBit(mol,1505,bi))"
   ]
  },
  {
   "cell_type": "code",
   "execution_count": 201,
   "metadata": {},
   "outputs": [],
   "source": [
    "import inspect"
   ]
  },
  {
   "cell_type": "code",
   "execution_count": 212,
   "metadata": {
    "scrolled": false
   },
   "outputs": [
    {
     "name": "stdout",
     "output_type": "stream",
     "text": [
      "def DrawRDKitBit(mol, bitId, bitInfo, whichExample=0, **kwargs):\n",
      "  bondPath = bitInfo[bitId][whichExample]\n",
      "  return DrawRDKitEnv(mol, bondPath, **kwargs)\n",
      "\n"
     ]
    }
   ],
   "source": [
    "print(inspect.getsource(Draw.DrawRDKitBit))"
   ]
  },
  {
   "cell_type": "code",
   "execution_count": 213,
   "metadata": {
    "scrolled": true
   },
   "outputs": [
    {
     "name": "stdout",
     "output_type": "stream",
     "text": [
      "def DrawRDKitBits(tpls, **kwargs):\n",
      "  envs = []\n",
      "  for tpl in tpls:\n",
      "    if len(tpl)==4:\n",
      "      mol, bitId, bitInfo, whichExample=tpl\n",
      "    else:\n",
      "      mol, bitId, bitInfo=tpl\n",
      "      whichExample=0\n",
      "\n",
      "    bondpath = bitInfo[bitId][whichExample]\n",
      "    envs.append((mol, bondpath))\n",
      "  return DrawRDKitEnvs(envs, **kwargs)\n",
      "\n"
     ]
    }
   ],
   "source": [
    "print(inspect.getsource(Draw.DrawRDKitBits))"
   ]
  },
  {
   "cell_type": "code",
   "execution_count": 220,
   "metadata": {},
   "outputs": [
    {
     "data": {
      "text/plain": [
       "[[0, 1, 2, 3, 5]]"
      ]
     },
     "execution_count": 220,
     "metadata": {},
     "output_type": "execute_result"
    }
   ],
   "source": [
    "bi[e_cause]"
   ]
  },
  {
   "cell_type": "code",
   "execution_count": 221,
   "metadata": {},
   "outputs": [],
   "source": [
    "bondpath=bi[e_cause][0]"
   ]
  },
  {
   "cell_type": "code",
   "execution_count": 223,
   "metadata": {
    "collapsed": true
   },
   "outputs": [
    {
     "ename": "ValueError",
     "evalue": "Sanitization error: Can't kekulize mol.  Unkekulized atoms: 0 1 2 3 4\n",
     "output_type": "error",
     "traceback": [
      "\u001b[0;31m\u001b[0m",
      "\u001b[0;31mValueError\u001b[0mTraceback (most recent call last)",
      "\u001b[0;32m<ipython-input-223-d1c677a61f50>\u001b[0m in \u001b[0;36m<module>\u001b[0;34m\u001b[0m\n\u001b[0;32m----> 1\u001b[0;31m \u001b[0mDraw\u001b[0m\u001b[0;34m.\u001b[0m\u001b[0mDrawRDKitEnvs\u001b[0m\u001b[0;34m(\u001b[0m\u001b[0;34m[\u001b[0m\u001b[0;34m(\u001b[0m\u001b[0mmol\u001b[0m\u001b[0;34m,\u001b[0m\u001b[0mbondpath\u001b[0m\u001b[0;34m)\u001b[0m\u001b[0;34m]\u001b[0m\u001b[0;34m)\u001b[0m\u001b[0;34m\u001b[0m\u001b[0;34m\u001b[0m\u001b[0m\n\u001b[0m",
      "\u001b[0;32m/opt/conda/lib/python3.7/site-packages/rdkit/Chem/Draw/__init__.py\u001b[0m in \u001b[0;36mDrawRDKitEnvs\u001b[0;34m(envs, molsPerRow, subImgSize, baseRad, useSVG, aromaticColor, extraColor, nonAromaticColor, legends, **kwargs)\u001b[0m\n\u001b[1;32m    824\u001b[0m   drawer.DrawMolecules(submols, legends=legends, highlightAtoms=highlightAtoms,\n\u001b[1;32m    825\u001b[0m                        \u001b[0mhighlightAtomColors\u001b[0m\u001b[0;34m=\u001b[0m\u001b[0matomColors\u001b[0m\u001b[0;34m,\u001b[0m \u001b[0mhighlightBonds\u001b[0m\u001b[0;34m=\u001b[0m\u001b[0mhighlightBonds\u001b[0m\u001b[0;34m,\u001b[0m\u001b[0;34m\u001b[0m\u001b[0;34m\u001b[0m\u001b[0m\n\u001b[0;32m--> 826\u001b[0;31m                        highlightBondColors=bondColors, highlightAtomRadii=highlightRadii, **kwargs)\n\u001b[0m\u001b[1;32m    827\u001b[0m   \u001b[0mdrawer\u001b[0m\u001b[0;34m.\u001b[0m\u001b[0mFinishDrawing\u001b[0m\u001b[0;34m(\u001b[0m\u001b[0;34m)\u001b[0m\u001b[0;34m\u001b[0m\u001b[0;34m\u001b[0m\u001b[0m\n\u001b[1;32m    828\u001b[0m   \u001b[0;32mreturn\u001b[0m \u001b[0mdrawer\u001b[0m\u001b[0;34m.\u001b[0m\u001b[0mGetDrawingText\u001b[0m\u001b[0;34m(\u001b[0m\u001b[0;34m)\u001b[0m\u001b[0;34m\u001b[0m\u001b[0;34m\u001b[0m\u001b[0m\n",
      "\u001b[0;31mValueError\u001b[0m: Sanitization error: Can't kekulize mol.  Unkekulized atoms: 0 1 2 3 4\n"
     ]
    }
   ],
   "source": [
    "Draw.DrawRDKitEnvs([(mol,bondpath)])"
   ]
  },
  {
   "cell_type": "code",
   "execution_count": 236,
   "metadata": {
    "scrolled": true
   },
   "outputs": [
    {
     "name": "stdout",
     "output_type": "stream",
     "text": [
      "def DrawRDKitEnvs(envs, molsPerRow=3, subImgSize=(150, 150), baseRad=0.3, useSVG=True,\n",
      "                  aromaticColor=(0.9, 0.9, 0.2), extraColor=(0.9, 0.9,0.9),\n",
      "                  nonAromaticColor=None, legends=None, **kwargs):\n",
      "  submols = []\n",
      "  highlightAtoms = []\n",
      "  atomColors = []\n",
      "  highlightBonds = []\n",
      "  bondColors = []\n",
      "  highlightRadii = []\n",
      "  for mol, bondpath in envs:\n",
      "    menv = _getRDKitEnv(mol, bondpath, baseRad, aromaticColor, extraColor, nonAromaticColor,\n",
      "                        **kwargs)\n",
      "    submols.append(menv.submol)\n",
      "    highlightAtoms.append(menv.highlightAtoms)\n",
      "    atomColors.append(menv.atomColors)\n",
      "    highlightBonds.append(menv.highlightBonds)\n",
      "    bondColors.append(menv.bondColors)\n",
      "    highlightRadii.append(menv.highlightRadii)\n",
      "\n",
      "  if legends is None:\n",
      "    legends = [''] * len(envs)\n",
      "\n",
      "  nRows = len(envs) // molsPerRow\n",
      "  if len(envs) % molsPerRow:\n",
      "    nRows += 1\n",
      "\n",
      "  fullSize = (molsPerRow * subImgSize[0], nRows * subImgSize[1])\n",
      "  # Drawing\n",
      "  if useSVG:\n",
      "    drawer = rdMolDraw2D.MolDraw2DSVG(fullSize[0], fullSize[1], subImgSize[0], subImgSize[1])\n",
      "  else:\n",
      "    drawer = rdMolDraw2D.MolDraw2DCairo(fullSize[0], fullSize[1], subImgSize[0], subImgSize[1])\n",
      "\n",
      "  drawopt = drawer.drawOptions()\n",
      "  drawopt.continuousHighlight = False\n",
      "  drawer.DrawMolecules(submols, legends=legends, highlightAtoms=highlightAtoms,\n",
      "                       highlightAtomColors=atomColors, highlightBonds=highlightBonds,\n",
      "                       highlightBondColors=bondColors, highlightAtomRadii=highlightRadii, **kwargs)\n",
      "  drawer.FinishDrawing()\n",
      "  return drawer.GetDrawingText()\n",
      "\n"
     ]
    }
   ],
   "source": [
    "print(inspect.getsource(Draw.DrawRDKitEnvs))"
   ]
  },
  {
   "cell_type": "code",
   "execution_count": null,
   "metadata": {},
   "outputs": [],
   "source": [
    "def DrawRDKitEnvs(envs, molsPerRow=3, subImgSize=(150, 150), baseRad=0.3, useSVG=True,\n",
    "                  aromaticColor=(0.9, 0.9, 0.2), extraColor=(0.9, 0.9,0.9),\n",
    "                  nonAromaticColor=None, legends=None, **kwargs):\n",
    "    submols = []\n",
    "    highlightAtoms = []\n",
    "    atomColors = []\n",
    "    highlightBonds = []\n",
    "    bondColors = []\n",
    "    highlightRadii = []\n",
    "    for mol, bondpath in envs:\n",
    "        menv = _getRDKitEnv(mol, bondpath, baseRad, aromaticColor, extraColor, nonAromaticColor,\n",
    "                            **kwargs)\n",
    "        submols.append(menv.submol)\n",
    "        highlightAtoms.append(menv.highlightAtoms)\n",
    "        atomColors.append(menv.atomColors)\n",
    "        highlightBonds.append(menv.highlightBonds)\n",
    "        bondColors.append(menv.bondColors)\n",
    "        highlightRadii.append(menv.highlightRadii)\n",
    "\n",
    "    if legends is None:\n",
    "        legends = [''] * len(envs)\n",
    "\n",
    "    nRows = len(envs) // molsPerRow\n",
    "    if len(envs) % molsPerRow:\n",
    "        nRows += 1\n",
    "\n",
    "    fullSize = (molsPerRow * subImgSize[0], nRows * subImgSize[1])\n",
    "    # Drawing\n",
    "    if useSVG:\n",
    "    drawer = rdMolDraw2D.MolDraw2DSVG(fullSize[0], fullSize[1], subImgSize[0], subImgSize[1])\n",
    "    else:\n",
    "    drawer = rdMolDraw2D.MolDraw2DCairo(fullSize[0], fullSize[1], subImgSize[0], subImgSize[1])\n",
    "\n",
    "    drawopt = drawer.drawOptions()\n",
    "    drawopt.continuousHighlight = False\n",
    "    drawer.DrawMolecules(submols, legends=legends, highlightAtoms=highlightAtoms,\n",
    "                       highlightAtomColors=atomColors, highlightBonds=highlightBonds,\n",
    "                       highlightBondColors=bondColors, highlightAtomRadii=highlightRadii, **kwargs)\n",
    "    drawer.FinishDrawing()\n",
    "    return drawer.GetDrawingText()"
   ]
  },
  {
   "cell_type": "code",
   "execution_count": 234,
   "metadata": {},
   "outputs": [],
   "source": [
    "baseRad=0.3\n",
    "useSVG=True\n",
    "aromaticColor=(0.9, 0.9, 0.2)\n",
    "extraColor=(0.9, 0.9,0.9)\n",
    "nonAromaticColor=None\n",
    "menv = Draw._getRDKitEnv(mol, bondPath, baseRad, aromaticColor, extraColor, nonAromaticColor)"
   ]
  },
  {
   "cell_type": "code",
   "execution_count": 235,
   "metadata": {},
   "outputs": [
    {
     "data": {
      "text/plain": [
       "FingerprintEnv(submol=<rdkit.Chem.rdchem.Mol object at 0x7fd6782a84e0>, highlightAtoms=[0, 1, 2, 3, 4], atomColors={0: (0.9, 0.9, 0.2), 1: (0.9, 0.9, 0.2), 2: (0.9, 0.9, 0.2), 3: (0.9, 0.9, 0.2), 4: (0.9, 0.9, 0.2)}, highlightBonds=[], bondColors={}, highlightRadii={0: 0.3, 1: 0.3, 2: 0.3, 3: 0.3, 4: 0.3})"
      ]
     },
     "execution_count": 235,
     "metadata": {},
     "output_type": "execute_result"
    }
   ],
   "source": [
    "menv"
   ]
  },
  {
   "cell_type": "code",
   "execution_count": 247,
   "metadata": {
    "scrolled": true
   },
   "outputs": [
    {
     "ename": "OSError",
     "evalue": "source code not available",
     "output_type": "error",
     "traceback": [
      "\u001b[0;31m\u001b[0m",
      "\u001b[0;31mOSError\u001b[0mTraceback (most recent call last)",
      "\u001b[0;32m<ipython-input-247-f6cc0d712dce>\u001b[0m in \u001b[0;36m<module>\u001b[0;34m\u001b[0m\n\u001b[0;32m----> 1\u001b[0;31m \u001b[0mprint\u001b[0m\u001b[0;34m(\u001b[0m\u001b[0minspect\u001b[0m\u001b[0;34m.\u001b[0m\u001b[0mgetsource\u001b[0m\u001b[0;34m(\u001b[0m\u001b[0mDraw\u001b[0m\u001b[0;34m.\u001b[0m\u001b[0mrdMolDraw2D\u001b[0m\u001b[0;34m.\u001b[0m\u001b[0mMolDraw2DSVG\u001b[0m\u001b[0;34m)\u001b[0m\u001b[0;34m)\u001b[0m\u001b[0;34m\u001b[0m\u001b[0;34m\u001b[0m\u001b[0m\n\u001b[0m",
      "\u001b[0;32m/opt/conda/lib/python3.7/inspect.py\u001b[0m in \u001b[0;36mgetsource\u001b[0;34m(object)\u001b[0m\n\u001b[1;32m    971\u001b[0m     \u001b[0;32mor\u001b[0m \u001b[0mcode\u001b[0m \u001b[0mobject\u001b[0m\u001b[0;34m.\u001b[0m  \u001b[0mThe\u001b[0m \u001b[0msource\u001b[0m \u001b[0mcode\u001b[0m \u001b[0;32mis\u001b[0m \u001b[0mreturned\u001b[0m \u001b[0;32mas\u001b[0m \u001b[0ma\u001b[0m \u001b[0msingle\u001b[0m \u001b[0mstring\u001b[0m\u001b[0;34m.\u001b[0m  \u001b[0mAn\u001b[0m\u001b[0;34m\u001b[0m\u001b[0;34m\u001b[0m\u001b[0m\n\u001b[1;32m    972\u001b[0m     OSError is raised if the source code cannot be retrieved.\"\"\"\n\u001b[0;32m--> 973\u001b[0;31m     \u001b[0mlines\u001b[0m\u001b[0;34m,\u001b[0m \u001b[0mlnum\u001b[0m \u001b[0;34m=\u001b[0m \u001b[0mgetsourcelines\u001b[0m\u001b[0;34m(\u001b[0m\u001b[0mobject\u001b[0m\u001b[0;34m)\u001b[0m\u001b[0;34m\u001b[0m\u001b[0;34m\u001b[0m\u001b[0m\n\u001b[0m\u001b[1;32m    974\u001b[0m     \u001b[0;32mreturn\u001b[0m \u001b[0;34m''\u001b[0m\u001b[0;34m.\u001b[0m\u001b[0mjoin\u001b[0m\u001b[0;34m(\u001b[0m\u001b[0mlines\u001b[0m\u001b[0;34m)\u001b[0m\u001b[0;34m\u001b[0m\u001b[0;34m\u001b[0m\u001b[0m\n\u001b[1;32m    975\u001b[0m \u001b[0;34m\u001b[0m\u001b[0m\n",
      "\u001b[0;32m/opt/conda/lib/python3.7/inspect.py\u001b[0m in \u001b[0;36mgetsourcelines\u001b[0;34m(object)\u001b[0m\n\u001b[1;32m    953\u001b[0m     raised if the source code cannot be retrieved.\"\"\"\n\u001b[1;32m    954\u001b[0m     \u001b[0mobject\u001b[0m \u001b[0;34m=\u001b[0m \u001b[0munwrap\u001b[0m\u001b[0;34m(\u001b[0m\u001b[0mobject\u001b[0m\u001b[0;34m)\u001b[0m\u001b[0;34m\u001b[0m\u001b[0;34m\u001b[0m\u001b[0m\n\u001b[0;32m--> 955\u001b[0;31m     \u001b[0mlines\u001b[0m\u001b[0;34m,\u001b[0m \u001b[0mlnum\u001b[0m \u001b[0;34m=\u001b[0m \u001b[0mfindsource\u001b[0m\u001b[0;34m(\u001b[0m\u001b[0mobject\u001b[0m\u001b[0;34m)\u001b[0m\u001b[0;34m\u001b[0m\u001b[0;34m\u001b[0m\u001b[0m\n\u001b[0m\u001b[1;32m    956\u001b[0m \u001b[0;34m\u001b[0m\u001b[0m\n\u001b[1;32m    957\u001b[0m     \u001b[0;32mif\u001b[0m \u001b[0mistraceback\u001b[0m\u001b[0;34m(\u001b[0m\u001b[0mobject\u001b[0m\u001b[0;34m)\u001b[0m\u001b[0;34m:\u001b[0m\u001b[0;34m\u001b[0m\u001b[0;34m\u001b[0m\u001b[0m\n",
      "\u001b[0;32m/opt/conda/lib/python3.7/inspect.py\u001b[0m in \u001b[0;36mfindsource\u001b[0;34m(object)\u001b[0m\n\u001b[1;32m    776\u001b[0m         \u001b[0;31m# inspection, so let `linecache.getlines` to be called.\u001b[0m\u001b[0;34m\u001b[0m\u001b[0;34m\u001b[0m\u001b[0;34m\u001b[0m\u001b[0m\n\u001b[1;32m    777\u001b[0m         \u001b[0;32mif\u001b[0m \u001b[0;32mnot\u001b[0m \u001b[0;34m(\u001b[0m\u001b[0mfile\u001b[0m\u001b[0;34m.\u001b[0m\u001b[0mstartswith\u001b[0m\u001b[0;34m(\u001b[0m\u001b[0;34m'<'\u001b[0m\u001b[0;34m)\u001b[0m \u001b[0;32mand\u001b[0m \u001b[0mfile\u001b[0m\u001b[0;34m.\u001b[0m\u001b[0mendswith\u001b[0m\u001b[0;34m(\u001b[0m\u001b[0;34m'>'\u001b[0m\u001b[0;34m)\u001b[0m\u001b[0;34m)\u001b[0m\u001b[0;34m:\u001b[0m\u001b[0;34m\u001b[0m\u001b[0;34m\u001b[0m\u001b[0m\n\u001b[0;32m--> 778\u001b[0;31m             \u001b[0;32mraise\u001b[0m \u001b[0mOSError\u001b[0m\u001b[0;34m(\u001b[0m\u001b[0;34m'source code not available'\u001b[0m\u001b[0;34m)\u001b[0m\u001b[0;34m\u001b[0m\u001b[0;34m\u001b[0m\u001b[0m\n\u001b[0m\u001b[1;32m    779\u001b[0m \u001b[0;34m\u001b[0m\u001b[0m\n\u001b[1;32m    780\u001b[0m     \u001b[0mmodule\u001b[0m \u001b[0;34m=\u001b[0m \u001b[0mgetmodule\u001b[0m\u001b[0;34m(\u001b[0m\u001b[0mobject\u001b[0m\u001b[0;34m,\u001b[0m \u001b[0mfile\u001b[0m\u001b[0;34m)\u001b[0m\u001b[0;34m\u001b[0m\u001b[0;34m\u001b[0m\u001b[0m\n",
      "\u001b[0;31mOSError\u001b[0m: source code not available"
     ]
    }
   ],
   "source": [
    "print(inspect.getsource(Draw.rdMolDraw2D.MolDraw2DSVG))"
   ]
  },
  {
   "cell_type": "code",
   "execution_count": 256,
   "metadata": {},
   "outputs": [
    {
     "data": {
      "text/plain": [
       "<function rdkit.Chem.Draw.DrawRDKitEnv(mol, bondPath, molSize=(150, 150), baseRad=0.3, useSVG=True, aromaticColor=(0.9, 0.9, 0.2), extraColor=(0.9, 0.9, 0.9), nonAromaticColor=None, **kwargs)>"
      ]
     },
     "execution_count": 256,
     "metadata": {},
     "output_type": "execute_result"
    }
   ],
   "source": [
    "Draw.DrawRDKitEnv"
   ]
  },
  {
   "cell_type": "code",
   "execution_count": 260,
   "metadata": {
    "scrolled": false
   },
   "outputs": [
    {
     "data": {
      "text/plain": [
       "'/opt/conda/lib/python3.7/site-packages/rdkit/Chem/Draw/rdMolDraw2D.so'"
      ]
     },
     "execution_count": 260,
     "metadata": {},
     "output_type": "execute_result"
    }
   ],
   "source": [
    "inspect.getfile(Draw.rdMolDraw2D)"
   ]
  },
  {
   "cell_type": "code",
   "execution_count": 249,
   "metadata": {},
   "outputs": [],
   "source": [
    "import os"
   ]
  },
  {
   "cell_type": "code",
   "execution_count": 262,
   "metadata": {
    "scrolled": false
   },
   "outputs": [],
   "source": [
    "%%bash\n",
    "cp -f /opt/conda/lib/python3.7/site-packages/rdkit/Chem/Draw/rdMolDraw2D.so ./Draw.rdMolDraw2D.so"
   ]
  },
  {
   "cell_type": "code",
   "execution_count": 263,
   "metadata": {},
   "outputs": [
    {
     "name": "stdout",
     "output_type": "stream",
     "text": [
      "aggCanvas.py\n",
      "cairoCanvas.py\n",
      "canvasbase.py\n",
      "FreeSans.ttf\n",
      "__init__.py\n",
      "IPythonConsole.py\n",
      "MolDrawing.py\n",
      "mplCanvas.py\n",
      "__pycache__\n",
      "qtCanvas.py\n",
      "rdMolDraw2D.so\n",
      "SimilarityMaps.py\n",
      "spingCanvas.py\n"
     ]
    }
   ],
   "source": [
    "%%bash\n",
    "ls /opt/conda/lib/python3.7/site-packages/rdkit/Chem/Draw/"
   ]
  },
  {
   "cell_type": "code",
   "execution_count": 226,
   "metadata": {},
   "outputs": [],
   "source": [
    "def DrawRDKitEnv(mol, bondPath, molSize=(150, 150), baseRad=0.3, useSVG=True,\n",
    "                 aromaticColor=(0.9, 0.9, 0.2), extraColor=(0.9, 0.9,0.9),\n",
    "                 nonAromaticColor=None, **kwargs):\n",
    "    menv = _getRDKitEnv(mol, bondPath, baseRad, aromaticColor, extraColor, nonAromaticColor, **kwargs)\n",
    "\n",
    "    # Drawing\n",
    "    if useSVG:\n",
    "        drawer = rdMolDraw2D.MolDraw2DSVG(molSize[0], molSize[1])\n",
    "    else:\n",
    "        drawer = rdMolDraw2D.MolDraw2DCairo(molSize[0], molSize[1])\n",
    "\n",
    "    drawopt = drawer.drawOptions()\n",
    "    drawopt.continuousHighlight = False\n",
    "\n",
    "    drawer.DrawMolecule(menv.submol, highlightAtoms=menv.highlightAtoms,\n",
    "                      highlightAtomColors=menv.atomColors, highlightBonds=menv.highlightBonds,\n",
    "                      highlightBondColors=menv.bondColors, highlightAtomRadii=menv.highlightRadii,\n",
    "                      **kwargs)\n",
    "    drawer.FinishDrawing()\n",
    "    return drawer.GetDrawingText()"
   ]
  },
  {
   "cell_type": "code",
   "execution_count": 192,
   "metadata": {
    "scrolled": true
   },
   "outputs": [
    {
     "ename": "ValueError",
     "evalue": "Sanitization error: Can't kekulize mol.  Unkekulized atoms: 0 1 2 3 4\n",
     "output_type": "error",
     "traceback": [
      "\u001b[0;31m\u001b[0m",
      "\u001b[0;31mValueError\u001b[0mTraceback (most recent call last)",
      "\u001b[0;32m<ipython-input-192-b63b72341101>\u001b[0m in \u001b[0;36m<module>\u001b[0;34m\u001b[0m\n\u001b[1;32m      4\u001b[0m \u001b[0;31m# submol.UpdatePropertyCache()\u001b[0m\u001b[0;34m\u001b[0m\u001b[0;34m\u001b[0m\u001b[0;34m\u001b[0m\u001b[0m\n\u001b[1;32m      5\u001b[0m \u001b[0;31m# submol.Debug()\u001b[0m\u001b[0;34m\u001b[0m\u001b[0;34m\u001b[0m\u001b[0;34m\u001b[0m\u001b[0m\n\u001b[0;32m----> 6\u001b[0;31m \u001b[0mChem\u001b[0m\u001b[0;34m.\u001b[0m\u001b[0mKekulize\u001b[0m\u001b[0;34m(\u001b[0m\u001b[0msubmol\u001b[0m\u001b[0;34m)\u001b[0m\u001b[0;34m\u001b[0m\u001b[0;34m\u001b[0m\u001b[0m\n\u001b[0m",
      "\u001b[0;31mValueError\u001b[0m: Sanitization error: Can't kekulize mol.  Unkekulized atoms: 0 1 2 3 4\n"
     ]
    }
   ],
   "source": [
    "mol = Chem.MolFromSmiles('c1cncn(C)1')\n",
    "bondPath = [0, 1, 2, 3, 5]\n",
    "submol = Chem.PathToSubmol(mol, bondPath)\n",
    "# submol.UpdatePropertyCache()\n",
    "# submol.Debug()\n",
    "Chem.Kekulize(submol)"
   ]
  },
  {
   "cell_type": "code",
   "execution_count": 197,
   "metadata": {},
   "outputs": [
    {
     "data": {
      "text/plain": [
       "'c1cncn1'"
      ]
     },
     "execution_count": 197,
     "metadata": {},
     "output_type": "execute_result"
    }
   ],
   "source": [
    "Chem.MolToSmiles(submol)"
   ]
  },
  {
   "cell_type": "code",
   "execution_count": 178,
   "metadata": {
    "scrolled": true
   },
   "outputs": [
    {
     "ename": "ValueError",
     "evalue": "Sanitization error: Can't kekulize mol.  Unkekulized atoms: 0 1 2 3 4\n",
     "output_type": "error",
     "traceback": [
      "\u001b[0;31m\u001b[0m",
      "\u001b[0;31mValueError\u001b[0mTraceback (most recent call last)",
      "\u001b[0;32m<ipython-input-178-4ae35ae479be>\u001b[0m in \u001b[0;36m<module>\u001b[0;34m\u001b[0m\n\u001b[1;32m      1\u001b[0m \u001b[0;31m# rdkit_turples =((mols[0], bit, bitI_rdkit) for bit in list(bitI_rdkit.keys())[8:9])\u001b[0m\u001b[0;34m\u001b[0m\u001b[0;34m\u001b[0m\u001b[0;34m\u001b[0m\u001b[0m\n\u001b[0;32m----> 2\u001b[0;31m \u001b[0mSVG\u001b[0m\u001b[0;34m(\u001b[0m\u001b[0mDraw\u001b[0m\u001b[0;34m.\u001b[0m\u001b[0mDrawRDKitBits\u001b[0m\u001b[0;34m(\u001b[0m\u001b[0mrdkit_turples\u001b[0m\u001b[0;34m)\u001b[0m\u001b[0;34m)\u001b[0m\u001b[0;34m\u001b[0m\u001b[0;34m\u001b[0m\u001b[0m\n\u001b[0m",
      "\u001b[0;32m/opt/conda/lib/python3.7/site-packages/rdkit/Chem/Draw/__init__.py\u001b[0m in \u001b[0;36mDrawRDKitBits\u001b[0;34m(tpls, **kwargs)\u001b[0m\n\u001b[1;32m    730\u001b[0m     \u001b[0mbondpath\u001b[0m \u001b[0;34m=\u001b[0m \u001b[0mbitInfo\u001b[0m\u001b[0;34m[\u001b[0m\u001b[0mbitId\u001b[0m\u001b[0;34m]\u001b[0m\u001b[0;34m[\u001b[0m\u001b[0mwhichExample\u001b[0m\u001b[0;34m]\u001b[0m\u001b[0;34m\u001b[0m\u001b[0;34m\u001b[0m\u001b[0m\n\u001b[1;32m    731\u001b[0m     \u001b[0menvs\u001b[0m\u001b[0;34m.\u001b[0m\u001b[0mappend\u001b[0m\u001b[0;34m(\u001b[0m\u001b[0;34m(\u001b[0m\u001b[0mmol\u001b[0m\u001b[0;34m,\u001b[0m \u001b[0mbondpath\u001b[0m\u001b[0;34m)\u001b[0m\u001b[0;34m)\u001b[0m\u001b[0;34m\u001b[0m\u001b[0;34m\u001b[0m\u001b[0m\n\u001b[0;32m--> 732\u001b[0;31m   \u001b[0;32mreturn\u001b[0m \u001b[0mDrawRDKitEnvs\u001b[0m\u001b[0;34m(\u001b[0m\u001b[0menvs\u001b[0m\u001b[0;34m,\u001b[0m \u001b[0;34m**\u001b[0m\u001b[0mkwargs\u001b[0m\u001b[0;34m)\u001b[0m\u001b[0;34m\u001b[0m\u001b[0;34m\u001b[0m\u001b[0m\n\u001b[0m\u001b[1;32m    733\u001b[0m \u001b[0;34m\u001b[0m\u001b[0m\n\u001b[1;32m    734\u001b[0m \u001b[0;32mdef\u001b[0m \u001b[0mDrawRDKitBit\u001b[0m\u001b[0;34m(\u001b[0m\u001b[0mmol\u001b[0m\u001b[0;34m,\u001b[0m \u001b[0mbitId\u001b[0m\u001b[0;34m,\u001b[0m \u001b[0mbitInfo\u001b[0m\u001b[0;34m,\u001b[0m \u001b[0mwhichExample\u001b[0m\u001b[0;34m=\u001b[0m\u001b[0;36m0\u001b[0m\u001b[0;34m,\u001b[0m \u001b[0;34m**\u001b[0m\u001b[0mkwargs\u001b[0m\u001b[0;34m)\u001b[0m\u001b[0;34m:\u001b[0m\u001b[0;34m\u001b[0m\u001b[0;34m\u001b[0m\u001b[0m\n",
      "\u001b[0;32m/opt/conda/lib/python3.7/site-packages/rdkit/Chem/Draw/__init__.py\u001b[0m in \u001b[0;36mDrawRDKitEnvs\u001b[0;34m(envs, molsPerRow, subImgSize, baseRad, useSVG, aromaticColor, extraColor, nonAromaticColor, legends, **kwargs)\u001b[0m\n\u001b[1;32m    824\u001b[0m   drawer.DrawMolecules(submols, legends=legends, highlightAtoms=highlightAtoms,\n\u001b[1;32m    825\u001b[0m                        \u001b[0mhighlightAtomColors\u001b[0m\u001b[0;34m=\u001b[0m\u001b[0matomColors\u001b[0m\u001b[0;34m,\u001b[0m \u001b[0mhighlightBonds\u001b[0m\u001b[0;34m=\u001b[0m\u001b[0mhighlightBonds\u001b[0m\u001b[0;34m,\u001b[0m\u001b[0;34m\u001b[0m\u001b[0;34m\u001b[0m\u001b[0m\n\u001b[0;32m--> 826\u001b[0;31m                        highlightBondColors=bondColors, highlightAtomRadii=highlightRadii, **kwargs)\n\u001b[0m\u001b[1;32m    827\u001b[0m   \u001b[0mdrawer\u001b[0m\u001b[0;34m.\u001b[0m\u001b[0mFinishDrawing\u001b[0m\u001b[0;34m(\u001b[0m\u001b[0;34m)\u001b[0m\u001b[0;34m\u001b[0m\u001b[0;34m\u001b[0m\u001b[0m\n\u001b[1;32m    828\u001b[0m   \u001b[0;32mreturn\u001b[0m \u001b[0mdrawer\u001b[0m\u001b[0;34m.\u001b[0m\u001b[0mGetDrawingText\u001b[0m\u001b[0;34m(\u001b[0m\u001b[0;34m)\u001b[0m\u001b[0;34m\u001b[0m\u001b[0;34m\u001b[0m\u001b[0m\n",
      "\u001b[0;31mValueError\u001b[0m: Sanitization error: Can't kekulize mol.  Unkekulized atoms: 0 1 2 3 4\n"
     ]
    }
   ],
   "source": [
    "# rdkit_turples =((mols[0], bit, bitI_rdkit) for bit in list(bitI_rdkit.keys())[8:9])\n",
    "SVG(Draw.DrawRDKitBits(rdkit_turples))"
   ]
  },
  {
   "cell_type": "code",
   "execution_count": null,
   "metadata": {},
   "outputs": [],
   "source": [
    "Draw.DrawMorganBit(mol[0],0,)"
   ]
  },
  {
   "cell_type": "code",
   "execution_count": 48,
   "metadata": {},
   "outputs": [
    {
     "data": {
      "text/plain": [
       "<rdkit.DataStructs.cDataStructs.ExplicitBitVect at 0x7fd6797e6d50>"
      ]
     },
     "execution_count": 48,
     "metadata": {},
     "output_type": "execute_result"
    }
   ],
   "source": [
    "rdkit_fps[0]"
   ]
  }
 ],
 "metadata": {
  "jupytext": {
   "encoding": "# -*- coding: utf-8 -*-",
   "text_representation": {
    "extension": ".py",
    "format_name": "light",
    "format_version": "1.4",
    "jupytext_version": "1.1.5"
   }
  },
  "kernelspec": {
   "display_name": "Python 3",
   "language": "python",
   "name": "python3"
  },
  "language_info": {
   "codemirror_mode": {
    "name": "ipython",
    "version": 3
   },
   "file_extension": ".py",
   "mimetype": "text/x-python",
   "name": "python",
   "nbconvert_exporter": "python",
   "pygments_lexer": "ipython3",
   "version": "3.7.3"
  }
 },
 "nbformat": 4,
 "nbformat_minor": 2
}
