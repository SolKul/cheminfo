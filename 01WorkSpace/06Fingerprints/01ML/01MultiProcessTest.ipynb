{
 "cells": [
  {
   "cell_type": "code",
   "execution_count": 1,
   "metadata": {},
   "outputs": [],
   "source": [
    "import time\n",
    "import concurrent.futures\n",
    "\n",
    "\n",
    "def func1():\n",
    "    while True:\n",
    "        print(\"func1\")\n",
    "        time.sleep(3)\n",
    "\n",
    "\n",
    "def func2():\n",
    "    while True:\n",
    "        print(\"func2\")\n",
    "        time.sleep(3)"
   ]
  },
  {
   "cell_type": "code",
   "execution_count": 2,
   "metadata": {
    "scrolled": true
   },
   "outputs": [
    {
     "name": "stdout",
     "output_type": "stream",
     "text": [
      "func1\n",
      "func2\n",
      "func1\n",
      "func2\n",
      "func1\n",
      "func2\n",
      "func1\n",
      "func2\n",
      "func1\n",
      "func2\n",
      "func1\n",
      "func2\n",
      "func2\n",
      "func1\n",
      "func2\n",
      "func1\n",
      "func1\n",
      "func2\n",
      "func1\n",
      "func2\n",
      "func1\n",
      "func2\n",
      "func1\n",
      "func2\n",
      "func1\n",
      "func2\n",
      "func1\n",
      "func2\n",
      "func1\n",
      "func2\n",
      "func1\n",
      "func2\n",
      "func2\n",
      "func1\n",
      "func2\n",
      "func1\n",
      "func1\n",
      "func2\n"
     ]
    }
   ],
   "source": [
    "executor = concurrent.futures.ProcessPoolExecutor(max_workers=2)\n",
    "f1=executor.submit(func1)\n",
    "f2=executor.submit(func2)"
   ]
  },
  {
   "cell_type": "code",
   "execution_count": 3,
   "metadata": {
    "scrolled": true
   },
   "outputs": [],
   "source": [
    "import os"
   ]
  },
  {
   "cell_type": "code",
   "execution_count": 4,
   "metadata": {
    "scrolled": false
   },
   "outputs": [],
   "source": [
    "pid=os.getpid()"
   ]
  },
  {
   "cell_type": "code",
   "execution_count": 5,
   "metadata": {},
   "outputs": [],
   "source": [
    "import signal, psutil\n",
    "\n",
    "def kill_child_processes(parent_pid, sig=signal.SIGTERM):\n",
    "    try:\n",
    "        parent = psutil.Process(parent_pid)\n",
    "    except psutil.NoSuchProcess:\n",
    "        return\n",
    "    children = parent.children(recursive=True)\n",
    "    for process in children:\n",
    "        process.send_signal(sig)"
   ]
  },
  {
   "cell_type": "code",
   "execution_count": 6,
   "metadata": {
    "scrolled": true
   },
   "outputs": [],
   "source": [
    "parent = psutil.Process(pid)"
   ]
  },
  {
   "cell_type": "code",
   "execution_count": 7,
   "metadata": {
    "scrolled": true
   },
   "outputs": [
    {
     "data": {
      "text/plain": [
       "[psutil.Process(pid=167, name='python', started='13:32:19'),\n",
       " psutil.Process(pid=168, name='python', started='13:32:19')]"
      ]
     },
     "execution_count": 7,
     "metadata": {},
     "output_type": "execute_result"
    }
   ],
   "source": [
    "parent.children(recursive=True)"
   ]
  },
  {
   "cell_type": "code",
   "execution_count": 8,
   "metadata": {},
   "outputs": [],
   "source": [
    "kill_child_processes(os.getpid())"
   ]
  },
  {
   "cell_type": "code",
   "execution_count": 13,
   "metadata": {
    "scrolled": true
   },
   "outputs": [
    {
     "data": {
      "text/plain": [
       "True"
      ]
     },
     "execution_count": 13,
     "metadata": {},
     "output_type": "execute_result"
    }
   ],
   "source": [
    "f2.done()"
   ]
  },
  {
   "cell_type": "code",
   "execution_count": 14,
   "metadata": {},
   "outputs": [
    {
     "data": {
      "text/plain": [
       "8"
      ]
     },
     "execution_count": 14,
     "metadata": {},
     "output_type": "execute_result"
    }
   ],
   "source": [
    "os.cpu_count()"
   ]
  }
 ],
 "metadata": {
  "jupytext": {
   "text_representation": {
    "extension": ".py",
    "format_name": "light",
    "format_version": "1.4",
    "jupytext_version": "1.1.5"
   }
  },
  "kernelspec": {
   "display_name": "Python 3",
   "language": "python",
   "name": "python3"
  },
  "language_info": {
   "codemirror_mode": {
    "name": "ipython",
    "version": 3
   },
   "file_extension": ".py",
   "mimetype": "text/x-python",
   "name": "python",
   "nbconvert_exporter": "python",
   "pygments_lexer": "ipython3",
   "version": "3.7.3"
  }
 },
 "nbformat": 4,
 "nbformat_minor": 2
}
