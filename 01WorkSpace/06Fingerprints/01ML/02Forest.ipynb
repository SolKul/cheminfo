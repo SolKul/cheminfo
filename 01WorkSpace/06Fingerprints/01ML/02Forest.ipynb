{
 "cells": [
  {
   "cell_type": "code",
   "execution_count": 1,
   "metadata": {},
   "outputs": [
    {
     "name": "stdout",
     "output_type": "stream",
     "text": [
      "2019.03.2\n"
     ]
    }
   ],
   "source": [
    "import os\n",
    "import os.path\n",
    "import sys\n",
    "\n",
    "p_mod=os.path.join(os.environ['HOME'],'notebooks/99MyModules')\n",
    "sys.path.append(p_mod)\n",
    "\n",
    "## 1. ライブラリのインポート\n",
    "from rdkit import rdBase, Chem\n",
    "from rdkit.Chem import AllChem, Draw, PandasTools, Descriptors\n",
    " \n",
    "import matplotlib as mpl\n",
    "import matplotlib.pyplot as plt\n",
    "import seaborn as sns\n",
    "import pandas as pd\n",
    "import numpy as np\n",
    "print(rdBase.rdkitVersion) # 2019.03.2"
   ]
  },
  {
   "cell_type": "code",
   "execution_count": 2,
   "metadata": {},
   "outputs": [],
   "source": [
    "import descarray as da"
   ]
  },
  {
   "cell_type": "code",
   "execution_count": 3,
   "metadata": {
    "scrolled": true
   },
   "outputs": [
    {
     "name": "stdout",
     "output_type": "stream",
     "text": [
      "サイズ:(6512, 3)\n"
     ]
    },
    {
     "data": {
      "text/html": [
       "<div>\n",
       "<style scoped>\n",
       "    .dataframe tbody tr th:only-of-type {\n",
       "        vertical-align: middle;\n",
       "    }\n",
       "\n",
       "    .dataframe tbody tr th {\n",
       "        vertical-align: top;\n",
       "    }\n",
       "\n",
       "    .dataframe thead th {\n",
       "        text-align: right;\n",
       "    }\n",
       "</style>\n",
       "<table border=\"1\" class=\"dataframe\">\n",
       "  <thead>\n",
       "    <tr style=\"text-align: right;\">\n",
       "      <th></th>\n",
       "      <th>smiles</th>\n",
       "      <th>CAS_NO</th>\n",
       "      <th>activity</th>\n",
       "    </tr>\n",
       "  </thead>\n",
       "  <tbody>\n",
       "    <tr>\n",
       "      <th>0</th>\n",
       "      <td>O=C1c2ccccc2C(=O)c3c1ccc4c3[nH]c5c6C(=O)c7cccc...</td>\n",
       "      <td>2475-33-4</td>\n",
       "      <td>0</td>\n",
       "    </tr>\n",
       "    <tr>\n",
       "      <th>1</th>\n",
       "      <td>NNC(=O)CNC(=O)\\C=N\\#N</td>\n",
       "      <td>820-75-7</td>\n",
       "      <td>1</td>\n",
       "    </tr>\n",
       "    <tr>\n",
       "      <th>2</th>\n",
       "      <td>O=C1NC(=O)\\C(=N/#N)\\C=N1</td>\n",
       "      <td>2435-76-9</td>\n",
       "      <td>1</td>\n",
       "    </tr>\n",
       "    <tr>\n",
       "      <th>3</th>\n",
       "      <td>NC(=O)CNC(=O)\\C=N\\#N</td>\n",
       "      <td>817-99-2</td>\n",
       "      <td>1</td>\n",
       "    </tr>\n",
       "    <tr>\n",
       "      <th>4</th>\n",
       "      <td>CCCCN(CC(O)C1=C\\C(=N/#N)\\C(=O)C=C1)N=O</td>\n",
       "      <td>116539-70-9</td>\n",
       "      <td>1</td>\n",
       "    </tr>\n",
       "  </tbody>\n",
       "</table>\n",
       "</div>"
      ],
      "text/plain": [
       "                                              smiles        CAS_NO  activity\n",
       "0  O=C1c2ccccc2C(=O)c3c1ccc4c3[nH]c5c6C(=O)c7cccc...    2475-33-4          0\n",
       "1                             NNC(=O)CNC(=O)\\C=N\\#N      820-75-7          1\n",
       "2                          O=C1NC(=O)\\C(=N/#N)\\C=N1     2435-76-9          1\n",
       "3                              NC(=O)CNC(=O)\\C=N\\#N      817-99-2          1\n",
       "4            CCCCN(CC(O)C1=C\\C(=N/#N)\\C(=O)C=C1)N=O   116539-70-9          1"
      ]
     },
     "metadata": {},
     "output_type": "display_data"
    }
   ],
   "source": [
    "df_AMES=pd.read_csv('./ci900161g_si_001/smiles_cas_N6512.smi',sep='\\t', header=None)\n",
    "df_AMES.columns = ['smiles', 'CAS_NO', 'activity']\n",
    "da.descDf(df_AMES)"
   ]
  },
  {
   "cell_type": "code",
   "execution_count": 5,
   "metadata": {
    "scrolled": true
   },
   "outputs": [
    {
     "name": "stdout",
     "output_type": "stream",
     "text": [
      "サイズ:(6506, 5)\n"
     ]
    },
    {
     "data": {
      "text/html": [
       "<div>\n",
       "<style scoped>\n",
       "    .dataframe tbody tr th:only-of-type {\n",
       "        vertical-align: middle;\n",
       "    }\n",
       "\n",
       "    .dataframe tbody tr th {\n",
       "        vertical-align: top;\n",
       "    }\n",
       "\n",
       "    .dataframe thead th {\n",
       "        text-align: right;\n",
       "    }\n",
       "</style>\n",
       "<table border=\"1\" class=\"dataframe\">\n",
       "  <thead>\n",
       "    <tr style=\"text-align: right;\">\n",
       "      <th></th>\n",
       "      <th>smiles</th>\n",
       "      <th>CAS_NO</th>\n",
       "      <th>activity</th>\n",
       "      <th>ROMol</th>\n",
       "      <th>mw</th>\n",
       "    </tr>\n",
       "  </thead>\n",
       "  <tbody>\n",
       "    <tr>\n",
       "      <th>0</th>\n",
       "      <td>O=C1c2ccccc2C(=O)c3c1ccc4c3[nH]c5c6C(=O)c7ccccc7C(=O)c6c8[nH]c9c%10C(=O)c%11ccccc%11C(=O)c%10ccc9c8c45</td>\n",
       "      <td>2475-33-4</td>\n",
       "      <td>0</td>\n",
       "      <td><img src=\"data:image/png;base64,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\" alt=\"Mol\"/></td>\n",
       "      <td>646.614</td>\n",
       "    </tr>\n",
       "    <tr>\n",
       "      <th>7</th>\n",
       "      <td>CC(=O)OC1(CCC2C3C=C(Cl)C4=CC(=O)OCC4(C)C3CCC12C)C(=O)C</td>\n",
       "      <td>105149-00-6</td>\n",
       "      <td>0</td>\n",
       "      <td><img src=\"data:image/png;base64,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\" alt=\"Mol\"/></td>\n",
       "      <td>406.906</td>\n",
       "    </tr>\n",
       "    <tr>\n",
       "      <th>8</th>\n",
       "      <td>Nc1nc(N)nc(N)n1</td>\n",
       "      <td>108-78-1</td>\n",
       "      <td>0</td>\n",
       "      <td><img src=\"data:image/png;base64,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\" alt=\"Mol\"/></td>\n",
       "      <td>126.123</td>\n",
       "    </tr>\n",
       "    <tr>\n",
       "      <th>9</th>\n",
       "      <td>Cc1ccc(N=Nc2c(O)ccc3ccccc23)c(c1)[N+](=O)[O-]</td>\n",
       "      <td>2425-85-6</td>\n",
       "      <td>1</td>\n",
       "      <td><img src=\"data:image/png;base64,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\" alt=\"Mol\"/></td>\n",
       "      <td>307.309</td>\n",
       "    </tr>\n",
       "    <tr>\n",
       "      <th>10</th>\n",
       "      <td>CC(C)CC(=O)Nc1snc2ccccc12</td>\n",
       "      <td>67019-24-3</td>\n",
       "      <td>0</td>\n",
       "      <td><img src=\"data:image/png;base64,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\" alt=\"Mol\"/></td>\n",
       "      <td>234.324</td>\n",
       "    </tr>\n",
       "  </tbody>\n",
       "</table>\n",
       "</div>"
      ],
      "text/plain": [
       "                                               smiles        CAS_NO  activity  \\\n",
       "0   O=C1c2ccccc2C(=O)c3c1ccc4c3[nH]c5c6C(=O)c7cccc...    2475-33-4          0   \n",
       "7   CC(=O)OC1(CCC2C3C=C(Cl)C4=CC(=O)OCC4(C)C3CCC12...  105149-00-6          0   \n",
       "8                                    Nc1nc(N)nc(N)n1      108-78-1          0   \n",
       "9      Cc1ccc(N=Nc2c(O)ccc3ccccc23)c(c1)[N+](=O)[O-]     2425-85-6          1   \n",
       "10                         CC(C)CC(=O)Nc1snc2ccccc12    67019-24-3          0   \n",
       "\n",
       "                                                ROMol       mw  \n",
       "0   <img src=\"data:image/png;base64,iVBORw0KGgoAAA...  646.614  \n",
       "7   <img src=\"data:image/png;base64,iVBORw0KGgoAAA...  406.906  \n",
       "8   <img src=\"data:image/png;base64,iVBORw0KGgoAAA...  126.123  \n",
       "9   <img src=\"data:image/png;base64,iVBORw0KGgoAAA...  307.309  \n",
       "10  <img src=\"data:image/png;base64,iVBORw0KGgoAAA...  234.324  "
      ]
     },
     "metadata": {},
     "output_type": "display_data"
    }
   ],
   "source": [
    "PandasTools.AddMoleculeColumnToFrame(frame=df_AMES, smilesCol='smiles')\n",
    "## 4. 読み込めない分子の削除\n",
    "df_AMES_d=df_AMES.dropna()\n",
    "df_AMES_d=df_AMES_d.assign(mw=df_AMES_d['ROMol'].map(Descriptors.MolWt))#.map(Descriptors.MolWt)\n",
    "da.descDf(df_AMES_d)"
   ]
  },
  {
   "cell_type": "code",
   "execution_count": 6,
   "metadata": {},
   "outputs": [
    {
     "name": "stdout",
     "output_type": "stream",
     "text": [
      "全部で6506\n",
      "陰性は3009、陽性は3497\n"
     ]
    }
   ],
   "source": [
    "print('全部で%d'%len(df_AMES_d)) # 6506\n",
    "n_neg=np.sum(df_AMES_d.activity == 0)\n",
    "n_pos=np.sum(df_AMES_d.activity == 1)\n",
    "print('陰性は{}、陽性は{}'.format(n_neg,n_pos))"
   ]
  },
  {
   "cell_type": "code",
   "execution_count": 7,
   "metadata": {},
   "outputs": [
    {
     "name": "stdout",
     "output_type": "stream",
     "text": [
      "(6506, 167)\n",
      "(6506,)\n"
     ]
    }
   ],
   "source": [
    "maccskeys = []\n",
    "for mol in df_AMES_d.ROMol:\n",
    "    maccskey = [i for i in AllChem.GetMACCSKeysFingerprint(mol)]\n",
    "    maccskeys.append(maccskey)\n",
    "maccskeys = np.array(maccskeys)\n",
    "print(maccskeys.shape) # (6506, 167)\n",
    "## 出力ラベル\n",
    "target = df_AMES_d.activity\n",
    "print(target.shape) # (6506,)"
   ]
  },
  {
   "cell_type": "code",
   "execution_count": 9,
   "metadata": {},
   "outputs": [
    {
     "name": "stdout",
     "output_type": "stream",
     "text": [
      "accuracy on train set: 0.976\n",
      "accuracy on test set: 0.750\n"
     ]
    }
   ],
   "source": [
    "from sklearn.tree import DecisionTreeClassifier\n",
    "from sklearn.model_selection import train_test_split\n",
    "X_train, X_test, y_train, y_test = train_test_split(maccskeys, df_AMES_d.activity, random_state=0)\n",
    " \n",
    "tree = DecisionTreeClassifier(random_state=0)\n",
    "tree.fit(X_train, y_train)\n",
    "print('accuracy on train set: {:.3f}'.format(tree.score(X_train, y_train)))\n",
    "print('accuracy on test set: {:.3f}'.format(tree.score(X_test, y_test)))"
   ]
  },
  {
   "cell_type": "code",
   "execution_count": 17,
   "metadata": {},
   "outputs": [],
   "source": [
    "accs_train = []\n",
    "accs_test = []\n",
    " \n",
    "for i in range(1,21):\n",
    "    tree_i = DecisionTreeClassifier(max_depth=i, random_state=0)\n",
    "    tree_i.fit(X_train, y_train)\n",
    "    acc_train = tree_i.score(X_train, y_train)\n",
    "    acc_test = tree_i.score(X_test, y_test)\n",
    "    accs_train.append(acc_train)\n",
    "    accs_test.append(acc_test)"
   ]
  },
  {
   "cell_type": "code",
   "execution_count": 22,
   "metadata": {},
   "outputs": [
    {
     "data": {
      "text/plain": [
       "[<matplotlib.lines.Line2D at 0x7f9f40cc75c0>]"
      ]
     },
     "execution_count": 22,
     "metadata": {},
     "output_type": "execute_result"
    },
    {
     "data": {
      "image/png": "[encoded data removed]",
      "text/plain": [
       "<Figure size 432x288 with 1 Axes>"
      ]
     },
     "metadata": {
      "needs_background": "light"
     },
     "output_type": "display_data"
    }
   ],
   "source": [
    "fig=plt.figure()\n",
    "ax=fig.add_subplot(1,1,1)\n",
    "ax.plot(accs_train)\n",
    "ax.plot(accs_test)"
   ]
  },
  {
   "cell_type": "code",
   "execution_count": 23,
   "metadata": {},
   "outputs": [
    {
     "data": {
      "text/plain": [
       "DecisionTreeClassifier(class_weight=None, criterion='gini', max_depth=2,\n",
       "            max_features=None, max_leaf_nodes=None,\n",
       "            min_impurity_decrease=0.0, min_impurity_split=None,\n",
       "            min_samples_leaf=1, min_samples_split=2,\n",
       "            min_weight_fraction_leaf=0.0, presort=False, random_state=None,\n",
       "            splitter='best')"
      ]
     },
     "execution_count": 23,
     "metadata": {},
     "output_type": "execute_result"
    }
   ],
   "source": [
    "tree2 = DecisionTreeClassifier(max_depth=2)\n",
    "tree2.fit(X_train, y_train)"
   ]
  },
  {
   "cell_type": "code",
   "execution_count": 24,
   "metadata": {},
   "outputs": [],
   "source": [
    "from sklearn.tree import export_graphviz\n",
    "export_graphviz(tree2, out_file='tree2.dot', class_names=['negative', 'positive'],\n",
    "                feature_names=range(1,168), filled=True)"
   ]
  },
  {
   "cell_type": "code",
   "execution_count": 26,
   "metadata": {},
   "outputs": [
    {
     "data": {
      "image/svg+xml": [
       "<?xml version=\"1.0\" encoding=\"UTF-8\" standalone=\"no\"?>\n",
       "<!DOCTYPE svg PUBLIC \"-//W3C//DTD SVG 1.1//EN\"\n",
       " \"http://www.w3.org/Graphics/SVG/1.1/DTD/svg11.dtd\">\n",
       "<!-- Generated by graphviz version 2.40.1 (20161225.0304)\n",
       " -->\n",
       "<!-- Title: Tree Pages: 1 -->\n",
       "<svg width=\"664pt\" height=\"314pt\"\n",
       " viewBox=\"0.00 0.00 663.50 314.00\" xmlns=\"http://www.w3.org/2000/svg\" xmlns:xlink=\"http://www.w3.org/1999/xlink\">\n",
       "<g id=\"graph0\" class=\"graph\" transform=\"scale(1 1) rotate(0) translate(4 310)\">\n",
       "<title>Tree</title>\n",
       "<polygon fill=\"#ffffff\" stroke=\"transparent\" points=\"-4,4 -4,-310 659.5,-310 659.5,4 -4,4\"/>\n",
       "<!-- 0 -->\n",
       "<g id=\"node1\" class=\"node\">\n",
       "<title>0</title>\n",
       "<polygon fill=\"#399de5\" fill-opacity=\"0.141176\" stroke=\"#000000\" points=\"424.5,-306 257.5,-306 257.5,-223 424.5,-223 424.5,-306\"/>\n",
       "<text text-anchor=\"middle\" x=\"341\" y=\"-290.8\" font-family=\"Times,serif\" font-size=\"14.00\" fill=\"#000000\">71 &lt;= 0.5</text>\n",
       "<text text-anchor=\"middle\" x=\"341\" y=\"-275.8\" font-family=\"Times,serif\" font-size=\"14.00\" fill=\"#000000\">gini = 0.497</text>\n",
       "<text text-anchor=\"middle\" x=\"341\" y=\"-260.8\" font-family=\"Times,serif\" font-size=\"14.00\" fill=\"#000000\">samples = 4879</text>\n",
       "<text text-anchor=\"middle\" x=\"341\" y=\"-245.8\" font-family=\"Times,serif\" font-size=\"14.00\" fill=\"#000000\">value = [2253, 2626]</text>\n",
       "<text text-anchor=\"middle\" x=\"341\" y=\"-230.8\" font-family=\"Times,serif\" font-size=\"14.00\" fill=\"#000000\">class = positive</text>\n",
       "</g>\n",
       "<!-- 1 -->\n",
       "<g id=\"node2\" class=\"node\">\n",
       "<title>1</title>\n",
       "<polygon fill=\"#e58139\" fill-opacity=\"0.149020\" stroke=\"#000000\" points=\"336.5,-187 169.5,-187 169.5,-104 336.5,-104 336.5,-187\"/>\n",
       "<text text-anchor=\"middle\" x=\"253\" y=\"-171.8\" font-family=\"Times,serif\" font-size=\"14.00\" fill=\"#000000\">126 &lt;= 0.5</text>\n",
       "<text text-anchor=\"middle\" x=\"253\" y=\"-156.8\" font-family=\"Times,serif\" font-size=\"14.00\" fill=\"#000000\">gini = 0.497</text>\n",
       "<text text-anchor=\"middle\" x=\"253\" y=\"-141.8\" font-family=\"Times,serif\" font-size=\"14.00\" fill=\"#000000\">samples = 3842</text>\n",
       "<text text-anchor=\"middle\" x=\"253\" y=\"-126.8\" font-family=\"Times,serif\" font-size=\"14.00\" fill=\"#000000\">value = [2076, 1766]</text>\n",
       "<text text-anchor=\"middle\" x=\"253\" y=\"-111.8\" font-family=\"Times,serif\" font-size=\"14.00\" fill=\"#000000\">class = negative</text>\n",
       "</g>\n",
       "<!-- 0&#45;&gt;1 -->\n",
       "<g id=\"edge1\" class=\"edge\">\n",
       "<title>0&#45;&gt;1</title>\n",
       "<path fill=\"none\" stroke=\"#000000\" d=\"M310.2219,-222.8796C303.6949,-214.0534 296.7401,-204.6485 290.0092,-195.5466\"/>\n",
       "<polygon fill=\"#000000\" stroke=\"#000000\" points=\"292.6695,-193.2574 283.9095,-187.2981 287.0412,-197.4195 292.6695,-193.2574\"/>\n",
       "<text text-anchor=\"middle\" x=\"280.2068\" y=\"-208.3224\" font-family=\"Times,serif\" font-size=\"14.00\" fill=\"#000000\">True</text>\n",
       "</g>\n",
       "<!-- 4 -->\n",
       "<g id=\"node5\" class=\"node\">\n",
       "<title>4</title>\n",
       "<polygon fill=\"#399de5\" fill-opacity=\"0.796078\" stroke=\"#000000\" points=\"503.5,-187 354.5,-187 354.5,-104 503.5,-104 503.5,-187\"/>\n",
       "<text text-anchor=\"middle\" x=\"429\" y=\"-171.8\" font-family=\"Times,serif\" font-size=\"14.00\" fill=\"#000000\">113 &lt;= 0.5</text>\n",
       "<text text-anchor=\"middle\" x=\"429\" y=\"-156.8\" font-family=\"Times,serif\" font-size=\"14.00\" fill=\"#000000\">gini = 0.283</text>\n",
       "<text text-anchor=\"middle\" x=\"429\" y=\"-141.8\" font-family=\"Times,serif\" font-size=\"14.00\" fill=\"#000000\">samples = 1037</text>\n",
       "<text text-anchor=\"middle\" x=\"429\" y=\"-126.8\" font-family=\"Times,serif\" font-size=\"14.00\" fill=\"#000000\">value = [177, 860]</text>\n",
       "<text text-anchor=\"middle\" x=\"429\" y=\"-111.8\" font-family=\"Times,serif\" font-size=\"14.00\" fill=\"#000000\">class = positive</text>\n",
       "</g>\n",
       "<!-- 0&#45;&gt;4 -->\n",
       "<g id=\"edge4\" class=\"edge\">\n",
       "<title>0&#45;&gt;4</title>\n",
       "<path fill=\"none\" stroke=\"#000000\" d=\"M371.7781,-222.8796C378.3051,-214.0534 385.2599,-204.6485 391.9908,-195.5466\"/>\n",
       "<polygon fill=\"#000000\" stroke=\"#000000\" points=\"394.9588,-197.4195 398.0905,-187.2981 389.3305,-193.2574 394.9588,-197.4195\"/>\n",
       "<text text-anchor=\"middle\" x=\"401.7932\" y=\"-208.3224\" font-family=\"Times,serif\" font-size=\"14.00\" fill=\"#000000\">False</text>\n",
       "</g>\n",
       "<!-- 2 -->\n",
       "<g id=\"node3\" class=\"node\">\n",
       "<title>2</title>\n",
       "<polygon fill=\"#e58139\" fill-opacity=\"0.498039\" stroke=\"#000000\" points=\"158,-68 0,-68 0,0 158,0 158,-68\"/>\n",
       "<text text-anchor=\"middle\" x=\"79\" y=\"-52.8\" font-family=\"Times,serif\" font-size=\"14.00\" fill=\"#000000\">gini = 0.445</text>\n",
       "<text text-anchor=\"middle\" x=\"79\" y=\"-37.8\" font-family=\"Times,serif\" font-size=\"14.00\" fill=\"#000000\">samples = 2066</text>\n",
       "<text text-anchor=\"middle\" x=\"79\" y=\"-22.8\" font-family=\"Times,serif\" font-size=\"14.00\" fill=\"#000000\">value = [1375, 691]</text>\n",
       "<text text-anchor=\"middle\" x=\"79\" y=\"-7.8\" font-family=\"Times,serif\" font-size=\"14.00\" fill=\"#000000\">class = negative</text>\n",
       "</g>\n",
       "<!-- 1&#45;&gt;2 -->\n",
       "<g id=\"edge2\" class=\"edge\">\n",
       "<title>1&#45;&gt;2</title>\n",
       "<path fill=\"none\" stroke=\"#000000\" d=\"M188.2088,-103.9815C172.6375,-94.0034 156.049,-83.3733 140.6263,-73.4904\"/>\n",
       "<polygon fill=\"#000000\" stroke=\"#000000\" points=\"142.5,-70.5341 132.1919,-68.0856 138.7232,-76.4279 142.5,-70.5341\"/>\n",
       "</g>\n",
       "<!-- 3 -->\n",
       "<g id=\"node4\" class=\"node\">\n",
       "<title>3</title>\n",
       "<polygon fill=\"#399de5\" fill-opacity=\"0.349020\" stroke=\"#000000\" points=\"334,-68 176,-68 176,0 334,0 334,-68\"/>\n",
       "<text text-anchor=\"middle\" x=\"255\" y=\"-52.8\" font-family=\"Times,serif\" font-size=\"14.00\" fill=\"#000000\">gini = 0.478</text>\n",
       "<text text-anchor=\"middle\" x=\"255\" y=\"-37.8\" font-family=\"Times,serif\" font-size=\"14.00\" fill=\"#000000\">samples = 1776</text>\n",
       "<text text-anchor=\"middle\" x=\"255\" y=\"-22.8\" font-family=\"Times,serif\" font-size=\"14.00\" fill=\"#000000\">value = [701, 1075]</text>\n",
       "<text text-anchor=\"middle\" x=\"255\" y=\"-7.8\" font-family=\"Times,serif\" font-size=\"14.00\" fill=\"#000000\">class = positive</text>\n",
       "</g>\n",
       "<!-- 1&#45;&gt;3 -->\n",
       "<g id=\"edge3\" class=\"edge\">\n",
       "<title>1&#45;&gt;3</title>\n",
       "<path fill=\"none\" stroke=\"#000000\" d=\"M253.7447,-103.9815C253.8947,-95.618 254.053,-86.7965 254.2046,-78.3409\"/>\n",
       "<polygon fill=\"#000000\" stroke=\"#000000\" points=\"257.7054,-78.3249 254.3854,-68.2637 250.7065,-78.1993 257.7054,-78.3249\"/>\n",
       "</g>\n",
       "<!-- 5 -->\n",
       "<g id=\"node6\" class=\"node\">\n",
       "<title>5</title>\n",
       "<polygon fill=\"#399de5\" fill-opacity=\"0.843137\" stroke=\"#000000\" points=\"502.5,-68 353.5,-68 353.5,0 502.5,0 502.5,-68\"/>\n",
       "<text text-anchor=\"middle\" x=\"428\" y=\"-52.8\" font-family=\"Times,serif\" font-size=\"14.00\" fill=\"#000000\">gini = 0.236</text>\n",
       "<text text-anchor=\"middle\" x=\"428\" y=\"-37.8\" font-family=\"Times,serif\" font-size=\"14.00\" fill=\"#000000\">samples = 944</text>\n",
       "<text text-anchor=\"middle\" x=\"428\" y=\"-22.8\" font-family=\"Times,serif\" font-size=\"14.00\" fill=\"#000000\">value = [129, 815]</text>\n",
       "<text text-anchor=\"middle\" x=\"428\" y=\"-7.8\" font-family=\"Times,serif\" font-size=\"14.00\" fill=\"#000000\">class = positive</text>\n",
       "</g>\n",
       "<!-- 4&#45;&gt;5 -->\n",
       "<g id=\"edge5\" class=\"edge\">\n",
       "<title>4&#45;&gt;5</title>\n",
       "<path fill=\"none\" stroke=\"#000000\" d=\"M428.6276,-103.9815C428.5526,-95.618 428.4735,-86.7965 428.3977,-78.3409\"/>\n",
       "<polygon fill=\"#000000\" stroke=\"#000000\" points=\"431.8969,-78.2318 428.3073,-68.2637 424.8972,-78.2947 431.8969,-78.2318\"/>\n",
       "</g>\n",
       "<!-- 6 -->\n",
       "<g id=\"node7\" class=\"node\">\n",
       "<title>6</title>\n",
       "<polygon fill=\"#e58139\" fill-opacity=\"0.062745\" stroke=\"#000000\" points=\"655.5,-68 520.5,-68 520.5,0 655.5,0 655.5,-68\"/>\n",
       "<text text-anchor=\"middle\" x=\"588\" y=\"-52.8\" font-family=\"Times,serif\" font-size=\"14.00\" fill=\"#000000\">gini = 0.499</text>\n",
       "<text text-anchor=\"middle\" x=\"588\" y=\"-37.8\" font-family=\"Times,serif\" font-size=\"14.00\" fill=\"#000000\">samples = 93</text>\n",
       "<text text-anchor=\"middle\" x=\"588\" y=\"-22.8\" font-family=\"Times,serif\" font-size=\"14.00\" fill=\"#000000\">value = [48, 45]</text>\n",
       "<text text-anchor=\"middle\" x=\"588\" y=\"-7.8\" font-family=\"Times,serif\" font-size=\"14.00\" fill=\"#000000\">class = negative</text>\n",
       "</g>\n",
       "<!-- 4&#45;&gt;6 -->\n",
       "<g id=\"edge6\" class=\"edge\">\n",
       "<title>4&#45;&gt;6</title>\n",
       "<path fill=\"none\" stroke=\"#000000\" d=\"M488.2057,-103.9815C502.1712,-94.1881 517.0321,-83.7668 530.9023,-74.0402\"/>\n",
       "<polygon fill=\"#000000\" stroke=\"#000000\" points=\"533.2156,-76.6928 539.3936,-68.0856 529.1965,-70.9616 533.2156,-76.6928\"/>\n",
       "</g>\n",
       "</g>\n",
       "</svg>\n"
      ],
      "text/plain": [
       "<graphviz.files.Source at 0x7f9f41a39080>"
      ]
     },
     "execution_count": 26,
     "metadata": {},
     "output_type": "execute_result"
    }
   ],
   "source": [
    "import graphviz\n",
    "with open('tree2.dot') as f:\n",
    "    dot_graph = f.read()\n",
    "graphviz.Source(dot_graph)"
   ]
  }
 ],
 "metadata": {
  "jupytext": {
   "text_representation": {
    "extension": ".py",
    "format_name": "light",
    "format_version": "1.4",
    "jupytext_version": "1.1.5"
   }
  },
  "kernelspec": {
   "display_name": "Python 3",
   "language": "python",
   "name": "python3"
  },
  "language_info": {
   "codemirror_mode": {
    "name": "ipython",
    "version": 3
   },
   "file_extension": ".py",
   "mimetype": "text/x-python",
   "name": "python",
   "nbconvert_exporter": "python",
   "pygments_lexer": "ipython3",
   "version": "3.7.3"
  }
 },
 "nbformat": 4,
 "nbformat_minor": 2
}
