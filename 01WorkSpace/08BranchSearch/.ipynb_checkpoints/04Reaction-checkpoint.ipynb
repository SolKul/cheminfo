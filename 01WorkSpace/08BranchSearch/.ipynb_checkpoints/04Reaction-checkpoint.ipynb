{
 "cells": [
  {
   "cell_type": "code",
   "execution_count": 1,
   "metadata": {},
   "outputs": [],
   "source": [
    "from rdkit import rdBase, Chem\n",
    "from rdkit.Chem import AllChem, Draw\n",
    "import itertools\n",
    "import numpy as np\n",
    "from PIL import Image"
   ]
  },
  {
   "cell_type": "code",
   "execution_count": 2,
   "metadata": {},
   "outputs": [],
   "source": [
    "def disp100mol(mol):\n",
    "    im_mol=Draw.MolToImage(mol,size=(200,200))\n",
    "    display(im_mol.resize((150,150),resample=5))\n",
    "    \n",
    "def Base_n_to_10(l_X,n):\n",
    "    out = 0\n",
    "    for i in range(1,len(l_X)+1):\n",
    "        out += int(l_X[-i])*(n**(i-1))\n",
    "    return out#int out\n",
    "\n",
    "def get_concat_h(l_im):\n",
    "    width_sum=0\n",
    "    for im in l_im:\n",
    "        width_sum+=im.width\n",
    "    dst = Image.new('RGB', (width_sum, l_im[0].height))\n",
    "    width_p=0\n",
    "    for im in l_im:\n",
    "        dst.paste(im, (width_p, 0))\n",
    "        width_p+=im.width\n",
    "    return dst\n",
    "\n",
    "def Conc_h_mols(l_mols):\n",
    "    l_im=[]\n",
    "    for mol in l_mols:\n",
    "        im_mol=Draw.MolToImage(mol,size=(200,200))\n",
    "        l_im.append(im_mol.resize((150,150),resample=5))\n",
    "    display(get_concat_h(l_im))"
   ]
  },
  {
   "cell_type": "code",
   "execution_count": 4,
   "metadata": {},
   "outputs": [],
   "source": [
    "class Compound:\n",
    "    def __init__(self,l_atmind,l_o_atm,m_o_b):\n",
    "        self.l_atm=l_atmind.copy()\n",
    "        #l_atmindを新しく化合物とする\n",
    "        self.l_o_atm=l_o_atm.copy()\n",
    "        #もとの原子リストをコピー\n",
    "        self.m_o_b=m_o_b\n",
    "        #もとの隣接行列をコピー\n",
    "        self.d_atm={}\n",
    "        for i in l_atmind:\n",
    "            self.d_atm[i]=l_o_atm[i]\n",
    "        #化合物内の原子辞書をつくる\n",
    "\n",
    "    def addatm(self,i):\n",
    "        self.l_atm.append(i)\n",
    "        self.d_atm[i]=self.l_o_atm[i]\n",
    "        #iを新しく化合物に追加\n",
    "\n",
    "    def exatms(self,l_t_atm):\n",
    "        self.l_atm.extend(l_t_atm)\n",
    "        for i in l_t_atm:\n",
    "            self.d_atm[i]=self.l_o_atm[i]\n",
    "        #l_t_atmを新しく化合物に追加\n",
    "\n",
    "    def calcAd(self):\n",
    "        #化合物に属する原子を全部まとめ終わってから\n",
    "        #隣接行列、隣接リストを算出\n",
    "        l_adm=[]\n",
    "        self.l_n_atm=[]\n",
    "        for i in self.l_atm:\n",
    "            l_adm.append(self.m_o_b[i,self.l_atm])\n",
    "            self.l_n_atm.append(self.d_atm[i])\n",
    "            #原子のリストも作る。\n",
    "            \n",
    "        self.m_adm=np.array(l_adm)\n",
    "        \n",
    "        self.l_adl=[]\n",
    "        self.l_s_adl=[]\n",
    "        self.n_rad=0\n",
    "        self.l_rad=[]\n",
    "        self.l_vlc=[0]*self.m_adm.shape[0]\n",
    "        for i in range(self.m_adm.shape[0]):\n",
    "            for j in range(i+1,self.m_adm.shape[1]):\n",
    "                if(self.m_adm[i,j]==0):\n",
    "                    continue\n",
    "                self.l_adl.append([i,j,self.m_adm[i,j]])\n",
    "                self.l_s_adl.append([str(i+1),str(j+1),str(self.m_adm[i,j])])\n",
    "            if(self.m_adm[i,i]>0):\n",
    "                self.n_rad+=1\n",
    "                self.l_rad.append('   '+str(i+1)+'   2')\n",
    "                self.l_vlc[i]=self.m_adm[i,:i].sum()+self.m_adm[i,i+1:].sum()\n",
    "    \n",
    "    def strMolB(self):\n",
    "        n_atm=len(self.l_atm)\n",
    "        n_bnd=len(self.l_adl)\n",
    "        s_mb='\\n'+' '*5+'Original'+' '*7+'2D'+'\\n'\n",
    "        s_mb=s_mb+'\\n'+' '*2+str(n_atm)+' '*2+str(n_bnd)+'  0  0  0  0  0  0  0  0999 V2000'\n",
    "        for i in range(self.m_adm.shape[0]):\n",
    "            s_mb=s_mb+'\\n'+'    0.0   '*3+' '+self.l_n_atm[i]+'   0'+'  0'*4+'  '+str(self.l_vlc[i])+'  0'*6\n",
    "        for bond in self.l_s_adl:\n",
    "            s_mb=s_mb+'\\n'+' '*2+bond[0]+' '*2+bond[1]+' '*2+bond[2]+'  0'\n",
    "        if(self.n_rad>0):\n",
    "            s_mb=s_mb+'\\nM  RAD  '+str(self.n_rad)\n",
    "            for rad in self.l_rad:\n",
    "                s_mb=s_mb+rad\n",
    "        s_mb=s_mb+'\\n'+'M  END'\n",
    "        return s_mb\n",
    "    \n",
    "    def GenMol(self):\n",
    "        #Molオブジェクトを作る\n",
    "        self.calcAd()\n",
    "        #隣接リストを作成し、\n",
    "        self.cmol=Chem.MolFromMolBlock(self.strMolB(),removeHs=False)\n",
    "        #MolBlockを作成し、そのMBからMolオブジェクトを生成\n",
    "        AllChem.Compute2DCoords(self.cmol)\n",
    "        #2次元座標を計算\n",
    "        \n",
    "        l_atms=list(self.cmol.GetAtoms())\n",
    "        for i in range (self.m_adm.shape[0]):\n",
    "            if(self.m_adm[i][i]>0):\n",
    "                l_atms[i].SetNumRadicalElectrons(int(self.m_adm[i,i]))"
   ]
  },
  {
   "cell_type": "code",
   "execution_count": 5,
   "metadata": {},
   "outputs": [],
   "source": [
    "class Products:\n",
    "    #生成物全体のクラス\n",
    "    def __init__(self,l_p_atm,m_bnd,l_vlc):\n",
    "        self.l_p_atm=l_p_atm\n",
    "        self.m_bnd=m_bnd\n",
    "        self.l_vlc=l_vlc\n",
    "    def SmtrBnd(self):\n",
    "        #対称行列にして、ラジカルも計算\n",
    "        for i in range(self.m_bnd.shape[0]):\n",
    "            self.m_bnd[:i,i]=self.m_bnd[i,:i]\n",
    "            #対称行列にする\n",
    "            self.m_bnd[i,i]=self.l_vlc[i]-self.m_bnd[:i,i].sum()-self.m_bnd[i+1:,i].sum()\n",
    "            #i,i要素はラジカルなので原子価から結合数を引く\n",
    "    def SplitComp(self):\n",
    "        comp_c=0\n",
    "        self.ar_c_t=(np.ones([len(self.l_p_atm)])*-1).astype('int')\n",
    "        #どの原子がどの原子群に属しているかというリスト\n",
    "        self.l_comp=[]\n",
    "        for i in range(self.m_bnd.shape[0]):\n",
    "            for j in range(i):\n",
    "                #下三角行列のみ走査\n",
    "                if(self.m_bnd[i,j]==0):\n",
    "                    continue\n",
    "                ar_b_c=self.ar_c_t[[i,j]]==[-1,-1]\n",
    "                #原子が原子群に属しているかいないかのチェック\n",
    "                if(np.all(ar_b_c)):\n",
    "                    #i,jがどちらとも属していない場合\n",
    "                    self.ar_c_t[[i,j]]=comp_c\n",
    "                    self.l_comp.append(Compound([i,j],self.l_p_atm,self.m_bnd))\n",
    "                    comp_c+=1\n",
    "                elif(ar_b_c[0]):\n",
    "                    #iだけが所属していない場合\n",
    "                    self.ar_c_t[i]=self.ar_c_t[j]\n",
    "                    self.l_comp[self.ar_c_t[j]].addatm(i)\n",
    "                elif(ar_b_c[1]):\n",
    "                    #jだけが所属していない場合\n",
    "                    self.ar_c_t[j]=self.ar_c_t[i]\n",
    "                    self.l_comp[self.ar_c_t[i]].addatm(j)\n",
    "                else:\n",
    "                    if(self.ar_c_t[i]<self.ar_c_t[j]):\n",
    "                        Comp=l_comp.pop(self.ar_c_t[j])\n",
    "                        #繋がっていると分かった原子群同士のうち番号が大きい方をpopする\n",
    "                        l_comp[self.ar_c_t[i]].exatms(Comp.l_atm)\n",
    "                        #番号が小さい方に追加\n",
    "                        for atm_num in Comp.l_atm:\n",
    "                            self.ar_c_t[atm_num]=self.ar_c_t[i]\n",
    "                            #繋がっていると分かった原子群のそれぞれの原子の属する原子群の番号を小さい方に統一\n",
    "                    elif(self.ar_c_t[j]<self.ar_c_t[i]):\n",
    "                        Comp=l_comp.pop(self.ar_c_t[i])\n",
    "                        l_comp[self.ar_c_t[j]].exatms(Comp.l_atm)\n",
    "                        for atm_num in Comp.l_atm:\n",
    "                            self.ar_c_t[atm_num]=self.ar_c_t[j]\n",
    "        for i in range(self.m_bnd.shape[0]):\n",
    "            if(self.ar_c_t[i]==-1):\n",
    "                #原子群に分けた時点でどこにも所属していないものは原子\n",
    "                self.ar_c_t[i]=comp_c\n",
    "                self.l_comp.append(Compound([i],self.l_p_atm,self.m_bnd))\n",
    "                comp_c+=1\n",
    "    def GenMols(self):\n",
    "        #Molオブジェクトを生成\n",
    "        self.SmtrBnd()\n",
    "        self.SplitComp()\n",
    "        l_mols=[]\n",
    "        l_smiles=[]\n",
    "        for Comp in self.l_comp:\n",
    "            Comp.GenMol()\n",
    "            l_mols.append(Comp.cmol)\n",
    "            l_smiles.append(Chem.MolToSmiles(Comp.cmol))\n",
    "        arg_s=np.argsort(l_smiles)\n",
    "        self.ar_mols=np.array(l_mols)[arg_s]\n",
    "        self.ar_smiles=np.array(l_smiles)[arg_s]\n",
    "        self.str_smiles=''\n",
    "        for smile in self.ar_smiles:\n",
    "            self.str_smiles+=' '+smile\n",
    "        \n",
    "    def Dispmols(self):\n",
    "        self.GenMols()\n",
    "        Conc_h_mols(self.ar_mols)\n",
    "        print(self.str_smiles)"
   ]
  },
  {
   "cell_type": "code",
   "execution_count": 34,
   "metadata": {},
   "outputs": [],
   "source": [
    "d_atm2vlc={'C':4,'H':1,'F':1,'O':2,'N':3}\n",
    "\n",
    "class CombProducts:\n",
    "    #生成物の組み合わせのクラス\n",
    "    def __init__(self,l_p_atm,b_exist_atm=True):\n",
    "        l_p_atm=l_p_atm.copy()\n",
    "        l_vlc=[]\n",
    "        for atm in l_p_atm:\n",
    "            l_vlc.append(d_atm2vlc[atm])\n",
    "        arg_s=np.argsort(l_vlc)[::-1]\n",
    "        self.l_p_atm=np.array(l_p_atm)[arg_s]\n",
    "        self.l_vlc=np.array(l_vlc)[arg_s]\n",
    "        self.n_atm=len(l_p_atm)\n",
    "        self.b_exist_atm=b_exist_atm\n",
    "    def CalcComb(self):\n",
    "        l_bond_p=[[[0]*self.n_atm]]\n",
    "        #取りうる隣接行列の行\n",
    "        #最初の行は後から決まるので0で良い\n",
    "        for k in range(1,self.n_atm):\n",
    "            n_atm_r=k+1\n",
    "            #注目すればいい原子の数\n",
    "            #三角形の横方向の数+1\n",
    "            #詳しくは足してnになる組み合わせの数の応用の\n",
    "            #足してn以下になる組み合わせの数を参照\n",
    "            n_valence=self.l_vlc[k]\n",
    "            l_cr=list(itertools.combinations_with_replacement(list(range(n_atm_r)),n_valence))\n",
    "            l_bond_r_p=[]\n",
    "            #隣接行列のある1行が取りうる行のリスト\n",
    "            for i in range(len(l_cr)):\n",
    "                l_bond=[0]*self.n_atm\n",
    "                for j in range(n_atm_r-1):\n",
    "                    b_num=l_cr[i].count(j)\n",
    "                    if(b_num>3):\n",
    "                        break\n",
    "                    l_bond[j]=b_num\n",
    "                else:\n",
    "                    l_bond_r_p.append(l_bond)\n",
    "            l_bond_p.append(l_bond_r_p)\n",
    "\n",
    "        ar_bond_p=np.array(list(itertools.product(*l_bond_p)))\n",
    "        #隣接行列のある1行が取りうる行同士の直積\n",
    "        for i in range(ar_bond_p.shape[0]):\n",
    "            for j in range(ar_bond_p.shape[1]):\n",
    "                ar_bond_p[i,:j,j]=ar_bond_p[i,j,:j]\n",
    "                #対称行列にする\n",
    "        ar_b_cons=ar_bond_p.sum(axis=1)<=np.array(self.l_vlc)\n",
    "        #結合数が原子価以下のものをbooleanとして抽出\n",
    "        ar_b_ind=np.all(ar_b_cons,axis=1)\n",
    "        #すべての原子が、結合数が原子価以下であったらその隣接行列は整合性があると判断する\n",
    "        #その整合性のあるもののindex\n",
    "        ar_bond_cons=ar_bond_p[ar_b_ind]\n",
    "        #整合性のあるもののみ取り出す。\n",
    "\n",
    "        for i in range(ar_bond_cons.shape[0]):\n",
    "            for j in range(ar_bond_cons.shape[1]):\n",
    "                ar_bond_cons[i,j,j:]=0\n",
    "                #下三角行列にする。\n",
    "\n",
    "        l_l_base=[]\n",
    "        for i in range(ar_bond_cons.shape[0]):\n",
    "            l_base=[]\n",
    "            for j in range(ar_bond_cons.shape[1]):\n",
    "                l_base.append(Base_n_to_10(ar_bond_cons[i,j,:],self.l_vlc[j]+1))\n",
    "                #隣接行列を原子価+1進数とみなして十進数に直す。\n",
    "                #この十進数にした数字で並び替えて、\n",
    "                #同型のグラフを見つけ出す\n",
    "            l_l_base.append(l_base)\n",
    "            #十進数に直した数字のリストをリストに追加\n",
    "        ar_base=np.array(l_l_base)\n",
    "        #このar_baseの1行について、原子種ごとにソートしたものは\n",
    "        #同じグラフについては同じになる。(ただし同じにならない場合もある。)\n",
    "        #ある一つのグラフに対して1意に決まるカノニカルラベルと言える\n",
    "        #(厳密には違うが)\n",
    "        \n",
    "        ar_c_atm=np.array(self.l_p_atm)\n",
    "        #原子種のリストをarray化\n",
    "        ar_uni=np.unique(ar_c_atm)\n",
    "        #原子のリストのユニークな要素を取り出し\n",
    "        l_c_table=[]\n",
    "        l_cons_b=[]\n",
    "        for i in range(len(ar_base)):\n",
    "            l_sorted=[]\n",
    "            for atm in ar_uni:\n",
    "                ar_uni_b=(ar_c_atm==atm)\n",
    "                #原子リストのうち、注目している原子種と一致するところをbooleanで取り出す\n",
    "                l_sorted.extend(np.sort(ar_base[i][ar_uni_b]))\n",
    "                #そのbooleanで取り出してsortし、原子種ごとにカノニカルラベルを作成\n",
    "                #それをリストに追加し、グラフ全体のカノニカルラベルとする。\n",
    "            if l_sorted not in l_c_table:\n",
    "                #そのグラフ全体のカノニカルラベルがチェック表になければ、追加\n",
    "                l_c_table.append(l_sorted)\n",
    "                #カノニカルラベルがユニークなもののindexを追加\n",
    "                l_cons_b.append(i)\n",
    "        self.ar_bond_can=ar_bond_cons[l_cons_b]\n",
    "    def GenProComb(self):\n",
    "        self.CalcComb()\n",
    "        l_l_smiles=[]\n",
    "        self.l_prod=[]\n",
    "        self.comb_c=0\n",
    "        for i in range(self.ar_bond_can.shape[0]):\n",
    "            p_t=Products(self.l_p_atm,self.ar_bond_can[i],self.l_vlc)\n",
    "            p_t.GenMols()\n",
    "            if p_t.str_smiles in l_l_smiles:\n",
    "                #smilesのリストにあれば飛ばす\n",
    "                continue\n",
    "            if (not(self.b_exist_atm) and np.any(np.diag(p_t.m_bnd)==np.array(p_t.l_vlc))):\n",
    "                #原子での存在を許していなければ飛ばす\n",
    "                continue\n",
    "            l_l_smiles.append(p_t.str_smiles)\n",
    "            self.l_prod.append(p_t)\n",
    "            self.comb_c+=1\n",
    "    def DispComb(self):\n",
    "        self.GenProComb()\n",
    "        for i in range(self.comb_c):\n",
    "            print('組み合わせ:'+str(i))\n",
    "            self.l_prod[i].Dispmols()\n",
    "            print()"
   ]
  },
  {
   "cell_type": "code",
   "execution_count": 41,
   "metadata": {
    "scrolled": false
   },
   "outputs": [
    {
     "name": "stdout",
     "output_type": "stream",
     "text": [
      "組み合わせ:0\n"
     ]
    },
    {
     "data": {
      "image/png": "[encoded data removed]",
      "text/plain": [
       "<PIL.Image.Image image mode=RGB size=300x150 at 0x7F6D7D76EE10>"
      ]
     },
     "metadata": {},
     "output_type": "display_data"
    },
    {
     "name": "stdout",
     "output_type": "stream",
     "text": [
      " [H]C#C[H] [H][H]\n",
      "\n",
      "組み合わせ:1\n"
     ]
    },
    {
     "data": {
      "image/png": "[encoded data removed]",
      "text/plain": [
       "<PIL.Image.Image image mode=RGB size=450x150 at 0x7F6D7BC6E3C8>"
      ]
     },
     "metadata": {},
     "output_type": "display_data"
    },
    {
     "name": "stdout",
     "output_type": "stream",
     "text": [
      " [C]#[C] [H][H] [H][H]\n",
      "\n",
      "組み合わせ:2\n"
     ]
    },
    {
     "data": {
      "image/png": "[encoded data removed]",
      "text/plain": [
       "<PIL.Image.Image image mode=RGB size=150x150 at 0x7F6D7CEBB748>"
      ]
     },
     "metadata": {},
     "output_type": "display_data"
    },
    {
     "name": "stdout",
     "output_type": "stream",
     "text": [
      " [H]C([H])=C([H])[H]\n",
      "\n",
      "組み合わせ:3\n"
     ]
    },
    {
     "data": {
      "image/png": "[encoded data removed]",
      "text/plain": [
       "<PIL.Image.Image image mode=RGB size=300x150 at 0x7F6D7CFC88D0>"
      ]
     },
     "metadata": {},
     "output_type": "display_data"
    },
    {
     "name": "stdout",
     "output_type": "stream",
     "text": [
      " [H]C([H])=[C] [H][H]\n",
      "\n",
      "組み合わせ:4\n"
     ]
    },
    {
     "data": {
      "image/png": "[encoded data removed]",
      "text/plain": [
       "<PIL.Image.Image image mode=RGB size=300x150 at 0x7F6D7CEBB470>"
      ]
     },
     "metadata": {},
     "output_type": "display_data"
    },
    {
     "name": "stdout",
     "output_type": "stream",
     "text": [
      " [H]/[C]=[C]/[H] [H][H]\n",
      "\n",
      "組み合わせ:5\n"
     ]
    },
    {
     "data": {
      "image/png": "[encoded data removed]",
      "text/plain": [
       "<PIL.Image.Image image mode=RGB size=450x150 at 0x7F6D7CEBBB00>"
      ]
     },
     "metadata": {},
     "output_type": "display_data"
    },
    {
     "name": "stdout",
     "output_type": "stream",
     "text": [
      " [C]=[C] [H][H] [H][H]\n",
      "\n",
      "組み合わせ:6\n"
     ]
    },
    {
     "data": {
      "image/png": "[encoded data removed]",
      "text/plain": [
       "<PIL.Image.Image image mode=RGB size=150x150 at 0x7F6D7CEBB710>"
      ]
     },
     "metadata": {},
     "output_type": "display_data"
    },
    {
     "name": "stdout",
     "output_type": "stream",
     "text": [
      " [H][C]C([H])([H])[H]\n",
      "\n",
      "組み合わせ:7\n"
     ]
    },
    {
     "data": {
      "image/png": "[encoded data removed]",
      "text/plain": [
       "<PIL.Image.Image image mode=RGB size=150x150 at 0x7F6D7CEBB4A8>"
      ]
     },
     "metadata": {},
     "output_type": "display_data"
    },
    {
     "name": "stdout",
     "output_type": "stream",
     "text": [
      " [H][C]([H])[C]([H])[H]\n",
      "\n",
      "組み合わせ:8\n"
     ]
    },
    {
     "data": {
      "image/png": "[encoded data removed]",
      "text/plain": [
       "<PIL.Image.Image image mode=RGB size=300x150 at 0x7F6D7CEA6AC8>"
      ]
     },
     "metadata": {},
     "output_type": "display_data"
    },
    {
     "name": "stdout",
     "output_type": "stream",
     "text": [
      " [H][C]([H])[C] [H][H]\n",
      "\n",
      "組み合わせ:9\n"
     ]
    },
    {
     "data": {
      "image/png": "[encoded data removed]",
      "text/plain": [
       "<PIL.Image.Image image mode=RGB size=300x150 at 0x7F6D7CEA6F28>"
      ]
     },
     "metadata": {},
     "output_type": "display_data"
    },
    {
     "name": "stdout",
     "output_type": "stream",
     "text": [
      " [H][C][C][H] [H][H]\n",
      "\n",
      "組み合わせ:10\n"
     ]
    },
    {
     "data": {
      "image/png": "[encoded data removed]",
      "text/plain": [
       "<PIL.Image.Image image mode=RGB size=450x150 at 0x7F6D7CEBB8D0>"
      ]
     },
     "metadata": {},
     "output_type": "display_data"
    },
    {
     "name": "stdout",
     "output_type": "stream",
     "text": [
      " [C][C] [H][H] [H][H]\n",
      "\n",
      "組み合わせ:11\n"
     ]
    },
    {
     "data": {
      "image/png": "[encoded data removed]",
      "text/plain": [
       "<PIL.Image.Image image mode=RGB size=300x150 at 0x7F6D7CEA6F98>"
      ]
     },
     "metadata": {},
     "output_type": "display_data"
    },
    {
     "name": "stdout",
     "output_type": "stream",
     "text": [
      " [H][C] [H][C]([H])[H]\n",
      "\n",
      "組み合わせ:12\n"
     ]
    },
    {
     "data": {
      "image/png": "[encoded data removed]",
      "text/plain": [
       "<PIL.Image.Image image mode=RGB size=300x150 at 0x7F6D7CEA6D68>"
      ]
     },
     "metadata": {},
     "output_type": "display_data"
    },
    {
     "name": "stdout",
     "output_type": "stream",
     "text": [
      " [H][C][H] [H][C][H]\n",
      "\n",
      "組み合わせ:13\n"
     ]
    },
    {
     "data": {
      "image/png": "[encoded data removed]",
      "text/plain": [
       "<PIL.Image.Image image mode=RGB size=450x150 at 0x7F6D7BC6E0F0>"
      ]
     },
     "metadata": {},
     "output_type": "display_data"
    },
    {
     "name": "stdout",
     "output_type": "stream",
     "text": [
      " [H][C] [H][C] [H][H]\n",
      "\n"
     ]
    }
   ],
   "source": [
    "l_p_atm=['C','C','H','H','H','H']\n",
    "CP_t=CombProducts(l_p_atm,b_exist_atm=False)\n",
    "CP_t.DispComb()"
   ]
  }
 ],
 "metadata": {
  "jupytext": {
   "text_representation": {
    "extension": ".py",
    "format_name": "light",
    "format_version": "1.4",
    "jupytext_version": "1.1.5"
   }
  },
  "kernelspec": {
   "display_name": "Python 3",
   "language": "python",
   "name": "python3"
  },
  "language_info": {
   "codemirror_mode": {
    "name": "ipython",
    "version": 3
   },
   "file_extension": ".py",
   "mimetype": "text/x-python",
   "name": "python",
   "nbconvert_exporter": "python",
   "pygments_lexer": "ipython3",
   "version": "3.7.3"
  }
 },
 "nbformat": 4,
 "nbformat_minor": 2
}
