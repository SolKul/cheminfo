{
 "cells": [
  {
   "cell_type": "code",
   "execution_count": 6,
   "metadata": {},
   "outputs": [],
   "source": [
    "from rdkit import rdBase, Chem\n",
    "from rdkit.Chem import AllChem, Draw\n",
    "import itertools\n",
    "import numpy as np"
   ]
  },
  {
   "cell_type": "code",
   "execution_count": 2,
   "metadata": {},
   "outputs": [],
   "source": [
    "def disp100mol(mol):\n",
    "    display(Draw.MolToImage(mol,size=(100,100)))"
   ]
  },
  {
   "cell_type": "code",
   "execution_count": 3,
   "metadata": {
    "scrolled": false
   },
   "outputs": [
    {
     "data": {
      "image/png": "[encoded data removed]",
      "text/plain": [
       "<PIL.Image.Image image mode=RGBA size=100x100 at 0x7F22AC7A2080>"
      ]
     },
     "metadata": {},
     "output_type": "display_data"
    },
    {
     "name": "stdout",
     "output_type": "stream",
     "text": [
      "\n",
      "     RDKit          2D\n",
      "\n",
      "  5  4  0  0  0  0  0  0  0  0999 V2000\n",
      "    0.0000    0.0000    0.0000 C   0  0  0  0  0  0  0  0  0  0  0  0\n",
      "    1.5000    0.0000    0.0000 F   0  0  0  0  0  0  0  0  0  0  0  0\n",
      "   -1.5000    0.0000    0.0000 F   0  0  0  0  0  0  0  0  0  0  0  0\n",
      "    0.0000    1.5000    0.0000 H   0  0  0  0  0  0  0  0  0  0  0  0\n",
      "   -0.0000   -1.5000    0.0000 H   0  0  0  0  0  0  0  0  0  0  0  0\n",
      "  1  2  1  0\n",
      "  1  3  1  0\n",
      "  1  4  1  0\n",
      "  1  5  1  0\n",
      "M  END\n",
      "\n"
     ]
    }
   ],
   "source": [
    "r32=Chem.AddHs(Chem.MolFromSmiles('C(F)F'))\n",
    "disp100mol(r32)\n",
    "print(Chem.MolToMolBlock(r32))"
   ]
  },
  {
   "cell_type": "code",
   "execution_count": 2,
   "metadata": {},
   "outputs": [
    {
     "data": {
      "image/png": "[encoded data removed]",
      "text/plain": [
       "<PIL.Image.Image image mode=RGBA size=300x300 at 0x7F4910A94F28>"
      ]
     },
     "metadata": {},
     "output_type": "display_data"
    },
    {
     "name": "stdout",
     "output_type": "stream",
     "text": [
      "\n",
      "     RDKit          2D\n",
      "\n",
      "  2  1  0  0  0  0  0  0  0  0999 V2000\n",
      "    0.0000    0.0000    0.0000 C   0  0  0  0  0  1  0  0  0  0  0  0\n",
      "    1.2990    0.7500    0.0000 H   0  0  0  0  0  0  0  0  0  0  0  0\n",
      "  1  2  1  0\n",
      "M  RAD  1   1   2\n",
      "M  END\n",
      "\n"
     ]
    }
   ],
   "source": [
    "MthRad=Chem.AddHs(Chem.MolFromSmiles('[CH]'))\n",
    "display(Draw.MolToImage(MthRad))\n",
    "print(Chem.MolToMolBlock(MthRad))"
   ]
  },
  {
   "cell_type": "code",
   "execution_count": 3,
   "metadata": {},
   "outputs": [
    {
     "data": {
      "text/plain": [
       "3"
      ]
     },
     "execution_count": 3,
     "metadata": {},
     "output_type": "execute_result"
    }
   ],
   "source": [
    "from rdkit.Chem import Descriptors\n",
    "Descriptors.NumRadicalElectrons(MthRad)"
   ]
  },
  {
   "cell_type": "code",
   "execution_count": 8,
   "metadata": {},
   "outputs": [
    {
     "name": "stdout",
     "output_type": "stream",
     "text": [
      "3\n"
     ]
    },
    {
     "data": {
      "image/png": "[encoded data removed]",
      "text/plain": [
       "<PIL.Image.Image image mode=RGBA size=300x300 at 0x7F490F2E62E8>"
      ]
     },
     "metadata": {},
     "output_type": "display_data"
    }
   ],
   "source": [
    "atm=MthRad.GetAtomWithIdx(0)\n",
    "print(atm.GetNumRadicalElectrons())\n",
    "display(Draw.MolToImage(MthRad))"
   ]
  },
  {
   "cell_type": "code",
   "execution_count": 7,
   "metadata": {},
   "outputs": [],
   "source": [
    "atm.SetNumRadicalElectrons(3)"
   ]
  },
  {
   "cell_type": "code",
   "execution_count": 403,
   "metadata": {},
   "outputs": [
    {
     "data": {
      "image/png": "[encoded data removed]",
      "text/plain": [
       "<PIL.Image.Image image mode=RGBA size=300x300 at 0x7F383FB921D0>"
      ]
     },
     "metadata": {},
     "output_type": "display_data"
    }
   ],
   "source": [
    "s_test='''\n",
    "     RDKit          2D\n",
    "\n",
    "  2  1  0  0  0  0  0  0  0  0999 V2000\n",
    "    0.0000    0.0000    0.0000 C   0  0  0  0  0  1  0  0  0  0  0  0\n",
    "    1.2990    0.7500    0.0000 H   0  0  0  0  0  0  0  0  0  0  0  0\n",
    "  1  2  1  0\n",
    "M  RAD  1   1   2\n",
    "M  END'''\n",
    "m_test=Chem.MolFromMolBlock(s_test,removeHs=False)\n",
    "AllChem.Compute2DCoords(m_test)\n",
    "display(Draw.MolToImage(m_test))"
   ]
  },
  {
   "cell_type": "code",
   "execution_count": 9,
   "metadata": {},
   "outputs": [],
   "source": [
    "import itertools\n",
    "import numpy as np"
   ]
  },
  {
   "cell_type": "code",
   "execution_count": 10,
   "metadata": {},
   "outputs": [
    {
     "name": "stdout",
     "output_type": "stream",
     "text": [
      "[array([[3, 0, 0, 1],\n",
      "       [0, 0, 1, 0],\n",
      "       [0, 1, 0, 0],\n",
      "       [1, 0, 0, 0]]), array([[1, 1, 1, 1],\n",
      "       [1, 0, 0, 0],\n",
      "       [1, 0, 0, 0],\n",
      "       [1, 0, 0, 0]])]\n"
     ]
    }
   ],
   "source": [
    "l_p_atm=['C','H','H','H','H']\n",
    "\n",
    "l_mb=[]\n",
    "l_b=[[0,0,1],[0,1,0],[1,0,0]]\n",
    "n_hs=len(l_b)\n",
    "l_hb=list(itertools.combinations_with_replacement(l_b, n_hs))\n",
    "for j in range(len(l_hb)):\n",
    "    l_hb_p=[]\n",
    "    for i in range(n_hs):\n",
    "        l_1hb=l_hb[j][i].copy()\n",
    "        l_1hb.insert(i+1,0)\n",
    "        l_hb_p.append(l_1hb)\n",
    "    m_bh=np.array(l_hb_p)\n",
    "    v_b_c=np.insert(m_bh[:,0],0,0)\n",
    "    #炭素のarrayを作る\n",
    "    m_b=np.concatenate([v_b_c[np.newaxis,:],m_bh],axis=0)\n",
    "    #炭素のarrayと水素のarrayを結合\n",
    "    if(np.all(m_b==m_b.T)):\n",
    "        m_b[0,0]=4-m_b[0,:].sum()\n",
    "        l_mb.append(m_b)\n",
    "print(l_mb)"
   ]
  },
  {
   "cell_type": "code",
   "execution_count": 4,
   "metadata": {},
   "outputs": [],
   "source": [
    "class Compound:\n",
    "    def __init__(self,i,j,l_o_atm,m_o_b):\n",
    "        self.l_atm=[i,j]\n",
    "        #i,ｊを新しく化合物に追加\n",
    "        self.l_o_atm=l_o_atm.copy()\n",
    "        #もとの原子リストをコピー\n",
    "        self.d_atm={i:l_o_atm[i],j:l_o_atm[j]}\n",
    "        #化合物内の原子辞書をつくる\n",
    "        self.m_o_b=m_o_b\n",
    "        #もとの隣接行列をコピー\n",
    "\n",
    "    def addatm(self,i):\n",
    "        self.l_atm.append(i)\n",
    "        self.d_atm[i]=self.l_o_atm[i]\n",
    "        #iを新しく化合物に追加\n",
    "\n",
    "    def exatms(self,l_t_atm):\n",
    "        self.l_atm.extend(l_t_atm)\n",
    "        for i in l_t_atm:\n",
    "            self.d_atm[i]=self.l_o_atm[i]\n",
    "        #l_t_atmを新しく化合物に追加\n",
    "\n",
    "    def calcAd(self):\n",
    "        #化合物に属する原子を全部まとめ終わってから\n",
    "        #隣接行列、隣接リストを算出\n",
    "        l_adm=[]\n",
    "        self.l_n_atm=[]\n",
    "        for i in self.l_atm:\n",
    "            l_adm.append(self.m_o_b[i,self.l_atm])\n",
    "            self.l_n_atm.append(self.d_atm[i])\n",
    "            #原子のリストも作る。\n",
    "            \n",
    "        self.m_adm=np.array(l_adm)\n",
    "        \n",
    "        self.l_adl=[]\n",
    "        self.l_s_adl=[]\n",
    "        self.n_rad=0\n",
    "        self.l_rad=[]\n",
    "        self.l_vlc=[0]*self.m_adm.shape[0]\n",
    "        for i in range(self.m_adm.shape[0]):\n",
    "            for j in range(i+1,self.m_adm.shape[1]):\n",
    "                if(self.m_adm[i,j]==0):\n",
    "                    continue\n",
    "                self.l_adl.append([i,j,self.m_adm[i,j]])\n",
    "                self.l_s_adl.append([str(i+1),str(j+1),str(self.m_adm[i,j])])\n",
    "            if(self.m_adm[i,i]>0):\n",
    "                self.n_rad+=1\n",
    "                self.l_rad.append('   '+str(i+1)+'   2')\n",
    "                self.l_vlc[i]=self.m_adm[i,:i].sum()+self.m_adm[i,i+1:].sum()\n",
    "    \n",
    "    def strMolB(self):\n",
    "        n_atm=len(self.l_atm)\n",
    "        n_bnd=len(self.l_adl)\n",
    "        s_mb='\\n'+' '*5+'Original'+' '*7+'2D'+'\\n'\n",
    "        s_mb=s_mb+'\\n'+' '*2+str(n_atm)+' '*2+str(n_bnd)+'  0  0  0  0  0  0  0  0999 V2000'\n",
    "        for i in range(self.m_adm.shape[0]):\n",
    "            s_mb=s_mb+'\\n'+'    0.0   '*3+' '+self.l_n_atm[i]+'   0'+'  0'*4+'  '+str(self.l_vlc[i])+'  0'*6\n",
    "        for bond in self.l_s_adl:\n",
    "            s_mb=s_mb+'\\n'+' '*2+bond[0]+' '*2+bond[1]+' '*2+bond[2]+'  0'\n",
    "        if(self.n_rad>0):\n",
    "            s_mb=s_mb+'\\nM  RAD  '+str(self.n_rad)\n",
    "            for rad in self.l_rad:\n",
    "                s_mb=s_mb+rad\n",
    "        s_mb=s_mb+'\\n'+'M  END'\n",
    "        return s_mb\n",
    "    \n",
    "    def GenMol(self):\n",
    "        #Molオブジェクトを作る\n",
    "        self.calcAd()\n",
    "        #隣接リストを作成し、\n",
    "        self.cmol=Chem.MolFromMolBlock(self.strMolB(),removeHs=False)\n",
    "        #MolBlockを作成し、そのMBからMolオブジェクトを生成\n",
    "        AllChem.Compute2DCoords(self.cmol)\n",
    "        #2次元座標を計算\n",
    "        \n",
    "        l_atms=list(self.cmol.GetAtoms())\n",
    "        for i in range (self.m_adm.shape[0]):\n",
    "            if(self.m_adm[i][i]>0):\n",
    "                l_atms[i].SetNumRadicalElectrons(int(self.m_adm[i,i]))"
   ]
  },
  {
   "cell_type": "code",
   "execution_count": 377,
   "metadata": {},
   "outputs": [
    {
     "data": {
      "text/plain": [
       "[0, 0, 0, 0, 0, 0, 0, 0, 0, 0]"
      ]
     },
     "execution_count": 377,
     "metadata": {},
     "output_type": "execute_result"
    }
   ],
   "source": [
    "[0]*10"
   ]
  },
  {
   "cell_type": "code",
   "execution_count": 373,
   "metadata": {
    "scrolled": true
   },
   "outputs": [
    {
     "data": {
      "text/plain": [
       "3"
      ]
     },
     "execution_count": 373,
     "metadata": {},
     "output_type": "execute_result"
    }
   ],
   "source": [
    "m_b[0,:3].sum()+m_b[0,4:].sum()"
   ]
  },
  {
   "cell_type": "code",
   "execution_count": null,
   "metadata": {},
   "outputs": [],
   "source": [
    "#aaabbblllfffcccsssxxxrrrpppiiimmmvvvvvv\n",
    "#xxxxx.xxxxyyyyy.yyyyzzzzz.zzzz aaaddcccssshhhbbbvvvHHHrrriiimmmnnneee\n",
    "#111222tttsssxxxrrrccc\n",
    "#M RADnn8 aaa vvv\n",
    "\n",
    "#  5  4  0  0  0  0  0  0  0  0999 V2000\n",
    "#    0.0000    0.0000    0.0000 C   0  0  0  0  0  0  0  0  0  0  0  0\n",
    "#  1  2  1  0\n",
    "#M  RAD  1   1   2"
   ]
  },
  {
   "cell_type": "code",
   "execution_count": 7,
   "metadata": {},
   "outputs": [
    {
     "name": "stdout",
     "output_type": "stream",
     "text": [
      "組み合わせ:0\n"
     ]
    },
    {
     "data": {
      "image/png": "[encoded data removed]",
      "text/plain": [
       "<PIL.Image.Image image mode=RGBA size=100x100 at 0x7F22ABFF29E8>"
      ]
     },
     "metadata": {},
     "output_type": "display_data"
    },
    {
     "data": {
      "image/png": "[encoded data removed]",
      "text/plain": [
       "<PIL.Image.Image image mode=RGBA size=100x100 at 0x7F22ABFF2F98>"
      ]
     },
     "metadata": {},
     "output_type": "display_data"
    },
    {
     "name": "stdout",
     "output_type": "stream",
     "text": [
      "\n",
      "組み合わせ:1\n"
     ]
    },
    {
     "data": {
      "image/png": "[encoded data removed]",
      "text/plain": [
       "<PIL.Image.Image image mode=RGBA size=100x100 at 0x7F22ABFF25C0>"
      ]
     },
     "metadata": {},
     "output_type": "display_data"
    },
    {
     "name": "stdout",
     "output_type": "stream",
     "text": [
      "\n"
     ]
    }
   ],
   "source": [
    "l_p_atm=['C','H','H','H','H']\n",
    "\n",
    "l_mb=[]\n",
    "l_b=[[0,0,1],[0,1,0],[1,0,0]]\n",
    "n_hs=len(l_b)\n",
    "l_hb=list(itertools.combinations_with_replacement(l_b, n_hs))\n",
    "for j in range(len(l_hb)):\n",
    "    l_hb_p=[]\n",
    "    for i in range(n_hs):\n",
    "        l_1hb=l_hb[j][i].copy()\n",
    "        l_1hb.insert(i+1,0)\n",
    "        l_hb_p.append(l_1hb)\n",
    "    m_bh=np.array(l_hb_p)\n",
    "    v_b_c=np.insert(m_bh[:,0],0,0)\n",
    "    #炭素のarrayを作る\n",
    "    m_b=np.concatenate([v_b_c[np.newaxis,:],m_bh],axis=0)\n",
    "    #炭素のarrayと水素のarrayを結合\n",
    "    if(np.all(m_b==m_b.T)):\n",
    "        m_b[0,0]=4-m_b[0,:].sum()\n",
    "        l_mb.append(m_b)\n",
    "\n",
    "l_p_comp=[]\n",
    "n_p_comb=0\n",
    "for m_p_b in l_mb:\n",
    "    for i in range(m_p_b.shape[0]):\n",
    "        for j in range(m_p_b.shape[1]):\n",
    "            if i>j:\n",
    "                m_p_b[i,j]=m_p_b[j,i]\n",
    "\n",
    "    d_atom = {}\n",
    "    #どの原子がどの原子群に属しているかという辞書\n",
    "    d_comp={}\n",
    "    #原子群ごとにどの原子が属しているかという辞書\n",
    "    d_lt={}\n",
    "    comp_c=0\n",
    "    for i in range(m_p_b.shape[0]):\n",
    "        for j in range(i+1,m_p_b.shape[1]):\n",
    "            if(m_p_b[i,j]==0):\n",
    "                continue\n",
    "            if i not in d_atom.keys():\n",
    "                if j not in d_atom.keys():\n",
    "                    d_atom[i]=comp_c\n",
    "                    d_atom[j]=comp_c\n",
    "                    d_comp[comp_c]=Compound(i,j,l_p_atm,m_p_b)\n",
    "                    comp_c+=1\n",
    "                    #i,ｊを新しく原子群に追加\n",
    "                else:\n",
    "                    d_atom[i]=d_atom[j]\n",
    "                    d_comp[d_atom[j]].addatm(i)\n",
    "                    #iをｊの属している原子群に\n",
    "            else:\n",
    "                if j not in d_atom.keys():\n",
    "                    d_atom[j]=d_atom[i]\n",
    "                    d_comp[d_atom[i]].addatm(j)\n",
    "                    #iをｊの属している原子群に\n",
    "                else:\n",
    "                    if(d_atom[i]<d_atom[j]):\n",
    "                        Comp=d_comp.pop(d_atom[j])\n",
    "                        #つながっているとわかった原子群をpopで取り出す\n",
    "                        d_comp[d_atom[i]].exatms(Comp.l_atm)\n",
    "                        #番号の若い方に追加\n",
    "                        for atm_num in Comp.l_atm:\n",
    "                            d_atom[atm_num]=d_atom[i]\n",
    "                            #つながっているわかった原子群の属する原子群を若い方に更新\n",
    "                    elif(d_atom[i]>d_atom[j]):\n",
    "                        Comp=d_comp.pop(d_atom[i])\n",
    "                        #つながっているとわかった原子群をpopで取り出す\n",
    "                        d_comp[d_atom[j]].exatms(Comp.l_atm)\n",
    "                        #番号の若い方に追加\n",
    "                        for atm_num in Comp.l_atm:\n",
    "                            d_atom[atm_num]=d_atom[j]\n",
    "    print('組み合わせ:'+str(n_p_comb))\n",
    "    for k in d_comp:\n",
    "        c=d_comp[k]\n",
    "        c.GenMol()\n",
    "        disp100mol(c.cmol)\n",
    "    print()\n",
    "    \n",
    "    l_p_comp.append(d_comp.copy())\n",
    "    n_p_comb+=1"
   ]
  },
  {
   "cell_type": "code",
   "execution_count": 389,
   "metadata": {
    "scrolled": true
   },
   "outputs": [
    {
     "data": {
      "image/png": "[encoded data removed]",
      "text/plain": [
       "<PIL.Image.Image image mode=RGBA size=300x300 at 0x7F383FD88748>"
      ]
     },
     "metadata": {},
     "output_type": "display_data"
    }
   ],
   "source": [
    "m_test=Chem.MolFromMolBlock(c.strMolB(),removeHs=False)\n",
    "AllChem.Compute2DCoords(m_test)\n",
    "display(Draw.MolToImage(m_test))"
   ]
  },
  {
   "cell_type": "code",
   "execution_count": 357,
   "metadata": {},
   "outputs": [
    {
     "name": "stdout",
     "output_type": "stream",
     "text": [
      "\n",
      "     Original       2D\n",
      "\n",
      "  4  3  0  0  0  0  0  0  0  0999 V2000\n",
      "    0.0       0.0       0.0    C   0  0  0  0  0  0  0  0  0  0  0  0\n",
      "    0.0       0.0       0.0    C   0  0  0  0  0  0  0  0  0  0  0  0\n",
      "    0.0       0.0       0.0    H   0  0  0  0  0  0  0  0  0  0  0  0\n",
      "    0.0       0.0       0.0    H   0  0  0  0  0  0  0  0  0  0  0  0\n",
      "  1  2  3  0\n",
      "  1  3  1  0\n",
      "  2  4  1  0\n",
      "M  END\n",
      "\n",
      "     Original       2D\n",
      "\n",
      "  2  1  0  0  0  0  0  0  0  0999 V2000\n",
      "    0.0       0.0       0.0    H   0  0  0  0  0  0  0  0  0  0  0  0\n",
      "    0.0       0.0       0.0    H   0  0  0  0  0  0  0  0  0  0  0  0\n",
      "  1  2  1  0\n",
      "M  END\n"
     ]
    }
   ],
   "source": [
    "l_p_atm=['C','C','H','H','H','H']\n",
    "m_b=np.array([[0,3,1,0,0,0],[3,0,0,1,0,0],[0,0,0,0,0,0],[0,0,0,0,0,0],[0,0,0,0,0,1],[0,0,0,0,0,0]])\n",
    "for i in range(m_b.shape[0]):\n",
    "    for j in range(m_b.shape[1]):\n",
    "        if i>j:\n",
    "            m_b[i,j]=m_b[j,i]\n",
    "# print(m_b)\n",
    "                \n",
    "d_atom = {}\n",
    "#どの原子がどの原子群に属しているかという辞書\n",
    "d_comp={}\n",
    "#原子群ごとにどの原子が属しているかという辞書\n",
    "d_lt={}\n",
    "comp_c=0\n",
    "for i in range(m_b.shape[0]):\n",
    "    for j in range(i+1,m_b.shape[1]):\n",
    "        if(m_b[i,j]==0):\n",
    "            continue\n",
    "        if i not in d_atom.keys():\n",
    "            if j not in d_atom.keys():\n",
    "                d_atom[i]=comp_c\n",
    "                d_atom[j]=comp_c\n",
    "                d_comp[comp_c]=Compound(i,j,l_p_atm,m_b)\n",
    "                comp_c+=1\n",
    "                #i,ｊを新しく原子群に追加\n",
    "            else:\n",
    "                d_atom[i]=d_atom[j]\n",
    "                d_comp[d_atom[j]].addatm(i)\n",
    "                #iをｊの属している原子群に\n",
    "        else:\n",
    "            if j not in d_atom.keys():\n",
    "                d_atom[j]=d_atom[i]\n",
    "                d_comp[d_atom[i]].addatm(j)\n",
    "                #iをｊの属している原子群に\n",
    "            else:\n",
    "                if(d_atom[i]<d_atom[j]):\n",
    "                    Comp=d_comp.pop(d_atom[j])\n",
    "                    #つながっているとわかった原子群をpopで取り出す\n",
    "                    d_comp[d_atom[i]].exatms(Comp.l_atm)\n",
    "                    #番号の若い方に追加\n",
    "                    for atm_num in Comp.l_atm:\n",
    "                        d_atom[atm_num]=d_atom[i]\n",
    "                        #つながっているわかった原子群の属する原子群を若い方に更新\n",
    "                elif(d_atom[i]>d_atom[j]):\n",
    "                    Comp=d_comp.pop(d_atom[i])\n",
    "                    #つながっているとわかった原子群をpopで取り出す\n",
    "                    d_comp[d_atom[j]].exatms(Comp.l_atm)\n",
    "                    #番号の若い方に追加\n",
    "                    for atm_num in Comp.l_atm:\n",
    "                        d_atom[atm_num]=d_atom[j]\n",
    "\n",
    "for k in d_comp:\n",
    "    d_comp[k].calcAd()\n",
    "    c=d_comp[k]\n",
    "#     print(k,c.d_atm,c.l_atm,'\\n',c.l_adl,c.l_n_atm)\n",
    "    print(c.strMolB())"
   ]
  },
  {
   "cell_type": "code",
   "execution_count": 339,
   "metadata": {},
   "outputs": [
    {
     "data": {
      "text/plain": [
       "[([0, 0, 1], [0, 0, 1], [0, 0, 1]),\n",
       " ([0, 0, 1], [0, 0, 1], [0, 1, 0]),\n",
       " ([0, 0, 1], [0, 0, 1], [1, 0, 0]),\n",
       " ([0, 0, 1], [0, 1, 0], [0, 1, 0]),\n",
       " ([0, 0, 1], [0, 1, 0], [1, 0, 0]),\n",
       " ([0, 0, 1], [1, 0, 0], [1, 0, 0]),\n",
       " ([0, 1, 0], [0, 1, 0], [0, 1, 0]),\n",
       " ([0, 1, 0], [0, 1, 0], [1, 0, 0]),\n",
       " ([0, 1, 0], [1, 0, 0], [1, 0, 0]),\n",
       " ([1, 0, 0], [1, 0, 0], [1, 0, 0])]"
      ]
     },
     "execution_count": 339,
     "metadata": {},
     "output_type": "execute_result"
    }
   ],
   "source": [
    "l_hb"
   ]
  },
  {
   "cell_type": "code",
   "execution_count": 86,
   "metadata": {
    "scrolled": true
   },
   "outputs": [
    {
     "name": "stdout",
     "output_type": "stream",
     "text": [
      "1 0 1\n",
      "2 0 1\n",
      "3 0 1\n"
     ]
    }
   ],
   "source": [
    "for i in range(4):\n",
    "    for j in range(4):\n",
    "        if i>j:\n",
    "            if(m_b[i,j]>0):\n",
    "                print(i,j,m_b[i,j])"
   ]
  },
  {
   "cell_type": "code",
   "execution_count": 345,
   "metadata": {},
   "outputs": [
    {
     "name": "stdout",
     "output_type": "stream",
     "text": [
      "\n",
      "     Original       2D\n",
      "\n",
      "  4  3  0  0  0  0  0  0  0  0999 V2000\n",
      "    0.0       0.0       0.0    C   0  0  0  0  0  0  0  0  0  0  0  0\n",
      "    0.0       0.0       0.0    C   0  0  0  0  0  0  0  0  0  0  0  0\n",
      "    0.0       0.0       0.0    H   0  0  0  0  0  0  0  0  0  0  0  0\n",
      "    0.0       0.0       0.0    H   0  0  0  0  0  0  0  0  0  0  0  0\n",
      "  1  2  3  0\n",
      "  1  3  1  0\n",
      "  2  4  1  0\n",
      "M  END\n",
      "\n",
      "     Original       2D\n",
      "\n",
      "  2  1  0  0  0  0  0  0  0  0999 V2000\n",
      "    0.0       0.0       0.0    H   0  0  0  0  0  0  0  0  0  0  0  0\n",
      "    0.0       0.0       0.0    H   0  0  0  0  0  0  0  0  0  0  0  0\n",
      "  1  2  1  0\n",
      "M  END\n"
     ]
    }
   ],
   "source": [
    "l_p_atm=['C','C','H','H','H','H']\n",
    "m_b=np.array([[0,3,1,0,0,0],[3,0,0,1,0,0],[0,0,0,0,0,0],[0,0,0,0,0,0],[0,0,0,0,0,1],[0,0,0,0,0,0]])\n",
    "for i in range(m_b.shape[0]):\n",
    "    for j in range(m_b.shape[1]):\n",
    "        if i>j:\n",
    "            m_b[i,j]=m_b[j,i]\n",
    "# print(m_b)\n",
    "                \n",
    "d_atom = {}\n",
    "#どの原子がどの原子群に属しているかという辞書\n",
    "d_comp={}\n",
    "#原子群ごとにどの原子が属しているかという辞書\n",
    "d_lt={}\n",
    "comp_c=0\n",
    "for i in range(m_b.shape[0]):\n",
    "    for j in range(i+1,m_b.shape[1]):\n",
    "        if(m_b[i,j]==0):\n",
    "            continue\n",
    "        if i not in d_atom.keys():\n",
    "            if j not in d_atom.keys():\n",
    "                d_atom[i]=comp_c\n",
    "                d_atom[j]=comp_c\n",
    "                d_comp[comp_c]=Compound(i,j,l_p_atm,m_b)\n",
    "                comp_c+=1\n",
    "                #i,ｊを新しく原子群に追加\n",
    "            else:\n",
    "                d_atom[i]=d_atom[j]\n",
    "                d_comp[d_atom[j]].addatm(i)\n",
    "                #iをｊの属している原子群に\n",
    "        else:\n",
    "            if j not in d_atom.keys():\n",
    "                d_atom[j]=d_atom[i]\n",
    "                d_comp[d_atom[i]].addatm(j)\n",
    "                #iをｊの属している原子群に\n",
    "            else:\n",
    "                if(d_atom[i]<d_atom[j]):\n",
    "                    Comp=d_comp.pop(d_atom[j])\n",
    "                    #つながっているとわかった原子群をpopで取り出す\n",
    "                    d_comp[d_atom[i]].exatms(Comp.l_atm)\n",
    "                    #番号の若い方に追加\n",
    "                    for atm_num in Comp.l_atm:\n",
    "                        d_atom[atm_num]=d_atom[i]\n",
    "                        #つながっているわかった原子群の属する原子群を若い方に更新\n",
    "                elif(d_atom[i]>d_atom[j]):\n",
    "                    Comp=d_comp.pop(d_atom[i])\n",
    "                    #つながっているとわかった原子群をpopで取り出す\n",
    "                    d_comp[d_atom[j]].exatms(Comp.l_atm)\n",
    "                    #番号の若い方に追加\n",
    "                    for atm_num in Comp.l_atm:\n",
    "                        d_atom[atm_num]=d_atom[j]\n",
    "\n",
    "for k in d_comp:\n",
    "    d_comp[k].calcAd()\n",
    "    c=d_comp[k]\n",
    "#     print(k,c.d_atm,c.l_atm,'\\n',c.l_adl,c.l_n_atm)\n",
    "    print(c.strMolB())"
   ]
  },
  {
   "cell_type": "code",
   "execution_count": null,
   "metadata": {},
   "outputs": [],
   "source": [
    "for k in d_comp:\n",
    "    d_comp[k].calcAd()\n",
    "    c=d_comp[k]\n",
    "#     print(k,c.d_atm,c.l_atm,'\\n',c.l_adl,c.l_n_atm)\n",
    "    m_test=Chem.MolFromMolBlock(c.strMolB(),removeHs=False)\n",
    "    AllChem.Compute2DCoords(m_test)\n",
    "    display(Draw.MolToImage(m_test))"
   ]
  },
  {
   "cell_type": "code",
   "execution_count": 332,
   "metadata": {},
   "outputs": [
    {
     "data": {
      "image/png": "[encoded data removed]",
      "text/plain": [
       "<PIL.Image.Image image mode=RGBA size=300x300 at 0x7F3841295A20>"
      ]
     },
     "execution_count": 332,
     "metadata": {},
     "output_type": "execute_result"
    }
   ],
   "source": [
    "m_test=Chem.MolFromMolBlock(c.strMolB(),removeHs=False)\n",
    "AllChem.Compute2DCoords(m_test)\n",
    "Draw.MolToImage(m_test)"
   ]
  },
  {
   "cell_type": "code",
   "execution_count": 331,
   "metadata": {},
   "outputs": [
    {
     "data": {
      "text/plain": [
       "'\\n     Original       2D\\n\\n  2  1  0  0  0  0  0  0  0  0999 V2000\\n    0.0       0.0       0.0    H   0  0  0  0  0  0  0  0  0  0  0  0\\n    0.0       0.0       0.0    H   0  0  0  0  0  0  0  0  0  0  0  0\\n  1  2  1  0\\nM  END'"
      ]
     },
     "execution_count": 331,
     "metadata": {},
     "output_type": "execute_result"
    }
   ],
   "source": [
    "c.strMolB()"
   ]
  },
  {
   "cell_type": "code",
   "execution_count": 286,
   "metadata": {},
   "outputs": [
    {
     "data": {
      "text/plain": [
       "array([[0, 3, 1, 0],\n",
       "       [3, 0, 0, 1],\n",
       "       [1, 0, 0, 0],\n",
       "       [0, 1, 0, 0]])"
      ]
     },
     "execution_count": 286,
     "metadata": {},
     "output_type": "execute_result"
    }
   ],
   "source": [
    "d_comp[0].calcAdL()\n",
    "d_comp[0].m_b_adl"
   ]
  },
  {
   "cell_type": "code",
   "execution_count": 244,
   "metadata": {
    "scrolled": false
   },
   "outputs": [
    {
     "name": "stdout",
     "output_type": "stream",
     "text": [
      "[[0 3 1 0 0 0]\n",
      " [3 0 0 1 0 0]\n",
      " [1 0 0 0 0 0]\n",
      " [0 1 0 0 0 0]\n",
      " [0 0 0 0 0 0]\n",
      " [0 0 0 0 0 0]]\n",
      "{0: 0, 1: 0, 2: 0, 3: 0}\n",
      "{0: [0, 1, 2, 3]}\n"
     ]
    }
   ],
   "source": [
    "l_p_atm=['C','C','H','H','H','H']\n",
    "m_b=np.array([[0,3,1,0,0,0],[3,0,0,1,0,0],[0,0,0,0,0,0],[0,0,0,0,0,0],[0,0,0,0,0,0],[0,0,0,0,0,0]])\n",
    "for i in range(m_b.shape[0]):\n",
    "    for j in range(m_b.shape[1]):\n",
    "        if i>j:\n",
    "            m_b[i,j]=m_b[j,i]\n",
    "print(m_b)\n",
    "                \n",
    "d_atom = {}\n",
    "#どの原子がどの原子群に属しているかという辞書\n",
    "d_comp={}\n",
    "#原子群ごとにどの原子が属しているかという辞書\n",
    "d_lt={}\n",
    "comp_c=0\n",
    "for i in range(m_b.shape[0]):\n",
    "    for j in range(i+1,m_b.shape[1]):\n",
    "        if(m_b[i,j]==0):\n",
    "            continue\n",
    "        if i not in d_atom.keys():\n",
    "            if j not in d_atom.keys():\n",
    "                d_atom[i]=comp_c\n",
    "                d_atom[j]=comp_c\n",
    "                d_comp[comp_c]=[i,j]\n",
    "                comp_c+=1\n",
    "                #i,ｊを新しく原子群に追加\n",
    "            else:\n",
    "                d_atom[i]=d_atom[j]\n",
    "                d_comp[d_atom[j]].append(i)\n",
    "                #iをｊの属している原子群に\n",
    "        else:\n",
    "            if j not in d_atom.keys():\n",
    "                d_atom[j]=d_atom[i]\n",
    "                d_comp[d_atom[i]].append(j)\n",
    "            else:\n",
    "                if(d_atom[i]<d_atom[j]):\n",
    "                    l_atm_t=d_comp.pop(d_atom[j])\n",
    "                    #つながっているとわかった原子群をpopで取り出す\n",
    "                    d_comp[d_atom[i]].extend(l_atm_t)\n",
    "                    #番号の若い方に追加\n",
    "                    for atm_num in l_atm_t:\n",
    "                        d_atom[atm_num]=d_atom[i]\n",
    "                        #つながっているわかった原子群の属する原子群を若い方に更新\n",
    "                elif(d_atom[i]>d_atom[j]):\n",
    "                    l_atm_t=d_comp.pop(d_atom[i])\n",
    "                    for atm_num in l_atm_t:\n",
    "                        d_atom[atm_num]=d_atom[j]\n",
    "                    d_comp[d_atom[j]].extend(l_atm_t)\n",
    "#         if j not in compounds.keys():\n",
    "#             compounds[j]=[comp_c]\n",
    "print(d_atom)\n",
    "print(d_comp)"
   ]
  },
  {
   "cell_type": "code",
   "execution_count": 279,
   "metadata": {
    "scrolled": false
   },
   "outputs": [
    {
     "ename": "TypeError",
     "evalue": "'Compound' object is not iterable",
     "output_type": "error",
     "traceback": [
      "\u001b[0;31m\u001b[0m",
      "\u001b[0;31mTypeError\u001b[0mTraceback (most recent call last)",
      "\u001b[0;32m<ipython-input-279-d0ebd9bb0051>\u001b[0m in \u001b[0;36m<module>\u001b[0;34m\u001b[0m\n\u001b[1;32m      3\u001b[0m \u001b[0;32mfor\u001b[0m \u001b[0mk\u001b[0m \u001b[0;32min\u001b[0m \u001b[0md_comp\u001b[0m\u001b[0;34m:\u001b[0m\u001b[0;34m\u001b[0m\u001b[0;34m\u001b[0m\u001b[0m\n\u001b[1;32m      4\u001b[0m     \u001b[0mm_cb\u001b[0m\u001b[0;34m=\u001b[0m\u001b[0;34m[\u001b[0m\u001b[0;34m]\u001b[0m\u001b[0;34m\u001b[0m\u001b[0;34m\u001b[0m\u001b[0m\n\u001b[0;32m----> 5\u001b[0;31m     \u001b[0;32mfor\u001b[0m \u001b[0matm\u001b[0m \u001b[0;32min\u001b[0m \u001b[0md_comp\u001b[0m\u001b[0;34m[\u001b[0m\u001b[0mk\u001b[0m\u001b[0;34m]\u001b[0m\u001b[0;34m:\u001b[0m\u001b[0;34m\u001b[0m\u001b[0;34m\u001b[0m\u001b[0m\n\u001b[0m\u001b[1;32m      6\u001b[0m         \u001b[0mm_cb\u001b[0m\u001b[0;34m.\u001b[0m\u001b[0mappend\u001b[0m\u001b[0;34m(\u001b[0m\u001b[0mm_b\u001b[0m\u001b[0;34m[\u001b[0m\u001b[0matm\u001b[0m\u001b[0;34m,\u001b[0m\u001b[0md_comp\u001b[0m\u001b[0;34m[\u001b[0m\u001b[0mk\u001b[0m\u001b[0;34m]\u001b[0m\u001b[0;34m]\u001b[0m\u001b[0;34m)\u001b[0m\u001b[0;34m\u001b[0m\u001b[0;34m\u001b[0m\u001b[0m\n\u001b[1;32m      7\u001b[0m     \u001b[0ml_c_atm\u001b[0m\u001b[0;34m.\u001b[0m\u001b[0mappend\u001b[0m\u001b[0;34m(\u001b[0m\u001b[0mlist\u001b[0m\u001b[0;34m(\u001b[0m\u001b[0mitemgetter\u001b[0m\u001b[0;34m(\u001b[0m\u001b[0;34m*\u001b[0m\u001b[0md_comp\u001b[0m\u001b[0;34m[\u001b[0m\u001b[0mk\u001b[0m\u001b[0;34m]\u001b[0m\u001b[0;34m)\u001b[0m\u001b[0;34m(\u001b[0m\u001b[0ml_p_atm\u001b[0m\u001b[0;34m)\u001b[0m\u001b[0;34m)\u001b[0m\u001b[0;34m)\u001b[0m\u001b[0;34m\u001b[0m\u001b[0;34m\u001b[0m\u001b[0m\n",
      "\u001b[0;31mTypeError\u001b[0m: 'Compound' object is not iterable"
     ]
    }
   ],
   "source": [
    "l_c_atm=[]\n",
    "l_m_c=[]\n",
    "for k in d_comp:\n",
    "    m_cb=[]\n",
    "    for atm in d_comp[k]:\n",
    "        m_cb.append(m_b[atm,d_comp[k]])\n",
    "    l_c_atm.append(list(itemgetter(*d_comp[k])(l_p_atm)))\n",
    "    l_m_c.append(np.array(m_cb))\n",
    "print(l_c_atm)\n",
    "print(l_m_c)"
   ]
  },
  {
   "cell_type": "code",
   "execution_count": 233,
   "metadata": {},
   "outputs": [
    {
     "data": {
      "text/plain": [
       "[[[0, 1, 3], [0, 2, 1], [1, 3, 1]]]"
      ]
     },
     "execution_count": 233,
     "metadata": {},
     "output_type": "execute_result"
    }
   ],
   "source": [
    "l_l_b_map=[]\n",
    "for m_c in l_m_c:\n",
    "    l_b_map=[]\n",
    "    for i in range(m_c.shape[0]):\n",
    "        for j in range(i+1,m_c.shape[1]):\n",
    "            if(m_c[i,j]==0):\n",
    "                continue\n",
    "            l_b_map.append([i,j,m_c[i,j]])\n",
    "    l_l_b_map.append(l_b_map)\n",
    "l_l_b_map"
   ]
  },
  {
   "cell_type": "code",
   "execution_count": 240,
   "metadata": {},
   "outputs": [
    {
     "name": "stdout",
     "output_type": "stream",
     "text": [
      "  4  3  0  0  0  0  0  0  0  0999 V2000\n",
      "    0.0       0.0       0.0    C   0  0  0  0  0  0  0  0  0  0  0  0\n",
      "    0.0       0.0       0.0    C   0  0  0  0  0  0  0  0  0  0  0  0\n",
      "    0.0       0.0       0.0    H   0  0  0  0  0  0  0  0  0  0  0  0\n",
      "    0.0       0.0       0.0    H   0  0  0  0  0  0  0  0  0  0  0  0\n",
      "  1  2  3  0\n",
      "  1  3  1  0\n",
      "  2  4  1  0\n"
     ]
    }
   ],
   "source": [
    "for i in range(len(l_c_atm)):\n",
    "    print(' '*2+str(len(l_c_atm[i]))+' '*2+str(len(l_l_b_map[i]))+'  0  0  0  0  0  0  0  0999 V2000')\n",
    "    for atm in l_c_atm[i]:\n",
    "        print('    0.0   '*3+' '+atm+'   0'+'  0'*11)\n",
    "    for l_b_map in l_l_b_map[i]:\n",
    "        print(' '*2+str(l_b_map[0]+1)+' '*2+str(l_b_map[1]+1)+' '*2+str(l_b_map[2])+'  0')"
   ]
  },
  {
   "cell_type": "code",
   "execution_count": 241,
   "metadata": {},
   "outputs": [],
   "source": [
    "s_test='''\n",
    "     RDKit          2D\n",
    "\n",
    "  4  3  0  0  0  0  0  0  0  0999 V2000\n",
    "    0.0       0.0       0.0    C   0  0  0  0  0  0  0  0  0  0  0  0\n",
    "    0.0       0.0       0.0    C   0  0  0  0  0  0  0  0  0  0  0  0\n",
    "    0.0       0.0       0.0    H   0  0  0  0  0  0  0  0  0  0  0  0\n",
    "    0.0       0.0       0.0    H   0  0  0  0  0  0  0  0  0  0  0  0\n",
    "  1  2  3  0\n",
    "  1  3  1  0\n",
    "  2  4  1  0\n",
    "M  END'''"
   ]
  },
  {
   "cell_type": "code",
   "execution_count": 243,
   "metadata": {},
   "outputs": [
    {
     "data": {
      "image/png": "[encoded data removed]",
      "text/plain": [
       "<PIL.Image.Image image mode=RGBA size=300x300 at 0x7F38409AC390>"
      ]
     },
     "execution_count": 243,
     "metadata": {},
     "output_type": "execute_result"
    }
   ],
   "source": [
    "test_m=Chem.MolFromMolBlock(s_test,removeHs=False)\n",
    "AllChem.Compute2DCoords(test_m)\n",
    "Draw.MolToImage(test_m)"
   ]
  },
  {
   "cell_type": "code",
   "execution_count": null,
   "metadata": {},
   "outputs": [],
   "source": [
    "len(l_l_b_map[i])\n",
    "\n",
    "\n",
    "\n",
    "  1  2  1  0"
   ]
  },
  {
   "cell_type": "code",
   "execution_count": 212,
   "metadata": {
    "scrolled": false
   },
   "outputs": [],
   "source": []
  },
  {
   "cell_type": "code",
   "execution_count": 182,
   "metadata": {
    "scrolled": false
   },
   "outputs": [
    {
     "data": {
      "text/plain": [
       "['C', 'C', 'H', 'H']"
      ]
     },
     "execution_count": 182,
     "metadata": {},
     "output_type": "execute_result"
    }
   ],
   "source": [
    "from operator import itemgetter\n",
    "list(itemgetter(*d_comp[k])(l_p_atm))"
   ]
  },
  {
   "cell_type": "code",
   "execution_count": 164,
   "metadata": {},
   "outputs": [
    {
     "data": {
      "text/plain": [
       "[array([[0, 1, 1, 0],\n",
       "        [1, 0, 0, 1],\n",
       "        [1, 0, 0, 0],\n",
       "        [0, 1, 0, 0]]), array([[0, 1],\n",
       "        [1, 0]])]"
      ]
     },
     "execution_count": 164,
     "metadata": {},
     "output_type": "execute_result"
    }
   ],
   "source": [
    "m_cs"
   ]
  },
  {
   "cell_type": "code",
   "execution_count": 130,
   "metadata": {},
   "outputs": [],
   "source": [
    "l_1hb.extend([2,30,3])"
   ]
  },
  {
   "cell_type": "code",
   "execution_count": 131,
   "metadata": {},
   "outputs": [
    {
     "data": {
      "text/plain": [
       "[1, 0, 0, 0, 2, 30, 3]"
      ]
     },
     "execution_count": 131,
     "metadata": {},
     "output_type": "execute_result"
    }
   ],
   "source": [
    "l_1hb"
   ]
  },
  {
   "cell_type": "code",
   "execution_count": 122,
   "metadata": {},
   "outputs": [
    {
     "data": {
      "text/plain": [
       "3"
      ]
     },
     "execution_count": 122,
     "metadata": {},
     "output_type": "execute_result"
    }
   ],
   "source": [
    "m_b.shape[0]"
   ]
  },
  {
   "cell_type": "code",
   "execution_count": null,
   "metadata": {},
   "outputs": [],
   "source": []
  },
  {
   "cell_type": "code",
   "execution_count": 110,
   "metadata": {},
   "outputs": [
    {
     "data": {
      "text/plain": [
       "array([[0, 0, 0, 1],\n",
       "       [0, 0, 1, 1],\n",
       "       [0, 1, 0, 0],\n",
       "       [1, 1, 0, 0]])"
      ]
     },
     "execution_count": 110,
     "metadata": {},
     "output_type": "execute_result"
    }
   ],
   "source": [
    "m_b"
   ]
  },
  {
   "cell_type": "code",
   "execution_count": null,
   "metadata": {
    "lines_to_next_cell": 2
   },
   "outputs": [],
   "source": [
    "{'Utsunomiya': ['Mito', 'Maebashi', 'Saitama', 'Chiba', 'Tokyo'], 'Wakayama': ['Kyoto', 'Osaka', 'Kobe', 'Nara', 'Tokushima'], 'Nagasaki': ['Saga', 'Kumamoto'], 'Tokyo': ['Mito', 'Utsunomiya', 'Maebashi', 'Saitama', 'Chiba', 'Yokohama'], 'Okayama': ['Tottori', 'Tokushima', 'Takamatsu'], 'Miyazaki': ['Kagoshima'], 'Nagano': ['Maebashi', 'Toyama'], 'Toyama': ['Kanazawa', 'Nagano'], 'Maebashi': ['Utsunomiya', 'Saitama', 'Tokyo', 'Kofu', 'Nagano'], 'Nagoya': ['Gifu', 'Tsu'], 'Chiba': ['Mito', 'Utsunomiya', 'Saitama', 'Tokyo', 'Yokohama'], 'Sendai': ['Yamagata', 'Fukushima'], 'Tokushima': ['Kobe', 'Wakayama', 'Okayama', 'Takamatsu'], 'Kofu': ['Maebashi', 'Shizuoka'], 'Oita': ['Yamaguchi', 'Kumamoto'], 'Kobe': ['Otsu', 'Kyoto', 'Osaka', 'Nara', 'Wakayama', 'Tokushima'], 'Otsu': ['Gifu', 'Tsu', 'Kyoto', 'Osaka', 'Kobe', 'Nara'], 'Tsu': ['Gifu', 'Nagoya', 'Otsu', 'Kyoto', 'Osaka', 'Nara'], 'Nara': ['Tsu', 'Otsu', 'Kyoto', 'Osaka', 'Kobe', 'Wakayama'], 'Hiroshima': ['Matsuyama'], 'Matsuyama': ['Hiroshima', 'Kochi'], 'Fukui': ['Kanazawa', 'Gifu'], 'Kagoshima': ['Miyazaki'], 'Saitama': ['Mito', 'Utsunomiya', 'Maebashi', 'Chiba', 'Tokyo', 'Yokohama'], 'Fukuoka': ['Saga', 'Kumamoto'], 'Takamatsu': ['Okayama', 'Tokushima', 'Kochi'], 'Saga': ['Fukuoka', 'Nagasaki', 'Kumamoto'], 'Kyoto': ['Tsu', 'Otsu', 'Osaka', 'Kobe', 'Nara', 'Wakayama'], 'Osaka': ['Tsu', 'Otsu', 'Kyoto', 'Kobe', 'Nara', 'Wakayama'], 'Gifu': ['Fukui', 'Nagoya', 'Tsu', 'Otsu'], 'Shizuoka': ['Kofu'], 'Kumamoto': ['Fukuoka', 'Saga', 'Nagasaki', 'Oita'], 'Mito': ['Utsunomiya', 'Saitama', 'Chiba', 'Tokyo'], 'Yokohama': ['Saitama', 'Chiba', 'Tokyo'], 'Fukushima': ['Sendai', 'Yamagata'], 'Yamagata': ['Sendai', 'Fukushima'], 'Yamaguchi': ['Oita'], 'Kanazawa': ['Toyama', 'Fukui'], 'Tottori': ['Okayama'], 'Kochi': ['Takamatsu', 'Matsuyama']}"
   ]
  },
  {
   "cell_type": "code",
   "execution_count": 100,
   "metadata": {},
   "outputs": [
    {
     "data": {
      "text/plain": [
       "[2, 4, 6, 8]"
      ]
     },
     "execution_count": 100,
     "metadata": {},
     "output_type": "execute_result"
    }
   ],
   "source": [
    "list(range(2,10,2))"
   ]
  },
  {
   "cell_type": "code",
   "execution_count": 83,
   "metadata": {},
   "outputs": [
    {
     "data": {
      "text/plain": [
       "array([1])"
      ]
     },
     "execution_count": 83,
     "metadata": {},
     "output_type": "execute_result"
    }
   ],
   "source": [
    "m_b[1][m_b[1]>0]"
   ]
  },
  {
   "cell_type": "code",
   "execution_count": 62,
   "metadata": {
    "scrolled": true
   },
   "outputs": [
    {
     "data": {
      "text/plain": [
       "array([[0, 1, 1, 1],\n",
       "       [1, 0, 0, 0],\n",
       "       [1, 0, 0, 0],\n",
       "       [1, 0, 0, 0]])"
      ]
     },
     "execution_count": 62,
     "metadata": {},
     "output_type": "execute_result"
    }
   ],
   "source": [
    "m_b=np.array(l_hb_p)\n",
    "v_b_c=np.insert(m_b[:,0],0,0)\n",
    "np.concatenate([v_b_c[np.newaxis,:],m_b],axis=0)"
   ]
  },
  {
   "cell_type": "code",
   "execution_count": 61,
   "metadata": {},
   "outputs": [
    {
     "data": {
      "text/plain": [
       "array([[0, 1, 1, 1]])"
      ]
     },
     "execution_count": 61,
     "metadata": {},
     "output_type": "execute_result"
    }
   ],
   "source": []
  },
  {
   "cell_type": "code",
   "execution_count": 29,
   "metadata": {},
   "outputs": [
    {
     "data": {
      "text/plain": [
       "([0, 0, 1], [0, 0, 1], [0, 0, 1])"
      ]
     },
     "execution_count": 29,
     "metadata": {},
     "output_type": "execute_result"
    }
   ],
   "source": [
    "l_hb[0]"
   ]
  },
  {
   "cell_type": "code",
   "execution_count": 27,
   "metadata": {},
   "outputs": [
    {
     "data": {
      "text/plain": [
       "[0, 0, 1]"
      ]
     },
     "execution_count": 27,
     "metadata": {},
     "output_type": "execute_result"
    }
   ],
   "source": [
    "l_hb[0][0]"
   ]
  }
 ],
 "metadata": {
  "jupytext": {
   "encoding": "# -*- coding: utf-8 -*-",
   "text_representation": {
    "extension": ".py",
    "format_name": "light",
    "format_version": "1.4",
    "jupytext_version": "1.1.5"
   }
  },
  "kernelspec": {
   "display_name": "Python 3",
   "language": "python",
   "name": "python3"
  },
  "language_info": {
   "codemirror_mode": {
    "name": "ipython",
    "version": 3
   },
   "file_extension": ".py",
   "mimetype": "text/x-python",
   "name": "python",
   "nbconvert_exporter": "python",
   "pygments_lexer": "ipython3",
   "version": "3.7.3"
  }
 },
 "nbformat": 4,
 "nbformat_minor": 2
}
