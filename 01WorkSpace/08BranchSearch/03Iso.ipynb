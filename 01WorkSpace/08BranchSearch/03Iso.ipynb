{
 "cells": [
  {
   "cell_type": "code",
   "execution_count": 1,
   "metadata": {},
   "outputs": [],
   "source": [
    "from rdkit import rdBase, Chem\n",
    "from rdkit.Chem import AllChem, Draw\n",
    "import itertools\n",
    "import numpy as np\n",
    "from PIL import Image"
   ]
  },
  {
   "cell_type": "code",
   "execution_count": 2,
   "metadata": {},
   "outputs": [],
   "source": [
    "def disp100mol(mol):\n",
    "    im_mol=Draw.MolToImage(mol,size=(200,200))\n",
    "    display(im_mol.resize((150,150),resample=5))\n",
    "    \n",
    "def Base_n_to_10(l_X,n):\n",
    "    out = 0\n",
    "    for i in range(1,len(l_X)+1):\n",
    "        out += int(l_X[-i])*(n**(i-1))\n",
    "    return out#int out\n",
    "\n",
    "def get_concat_h(l_im):\n",
    "    width_sum=0\n",
    "    for im in l_im:\n",
    "        width_sum+=im.width\n",
    "    dst = Image.new('RGB', (width_sum, l_im[0].height))\n",
    "    width_p=0\n",
    "    for im in l_im:\n",
    "        dst.paste(im, (width_p, 0))\n",
    "        width_p+=im.width\n",
    "    return dst\n",
    "\n",
    "def Conc_h_mols(l_mols):\n",
    "    l_im=[]\n",
    "    for mol in l_mols:\n",
    "        im_mol=Draw.MolToImage(mol,size=(200,200))\n",
    "        l_im.append(im_mol.resize((150,150),resample=5))\n",
    "    display(get_concat_h(l_im))"
   ]
  },
  {
   "cell_type": "code",
   "execution_count": 37,
   "metadata": {
    "scrolled": true
   },
   "outputs": [
    {
     "data": {
      "image/png": "[encoded data removed]",
      "text/plain": [
       "<PIL.Image.Image image mode=RGBA size=150x150 at 0x7F41E7F79898>"
      ]
     },
     "metadata": {},
     "output_type": "display_data"
    }
   ],
   "source": [
    "r32=Chem.AddHs(Chem.MolFromSmiles('[H][C]=C=[C][H]'))\n",
    "disp100mol(r32)"
   ]
  },
  {
   "cell_type": "code",
   "execution_count": 6,
   "metadata": {},
   "outputs": [],
   "source": [
    "d_atm2vlc={'C':4,'H':1,'F':1,'O':2}\n",
    "\n",
    "class CombProducts:\n",
    "    def __init__(self,l_p_atm,b_exist_atm=True):\n",
    "        self.l_p_atm=l_p_atm.copy()\n",
    "        self.l_vlc=[]\n",
    "        for atm in l_p_atm:\n",
    "            self.l_vlc.append(d_atm2vlc[atm])\n",
    "        self.n_atm=len(l_p_atm)\n",
    "    def CalcComb(self):\n",
    "        l_bond_p=[[[0]*self.n_atm]]\n",
    "        #取りうる隣接行列の行\n",
    "        #最初の行は後から決まるので0で良い\n",
    "        for k in range(1,self.n_atm):\n",
    "            n_atm_r=k+1\n",
    "            #注目すればいい原子の数\n",
    "            #三角形の横方向の数+1\n",
    "            #詳しくは足してnになる組み合わせの数の応用の\n",
    "            #足してn以下になる組み合わせの数を参照\n",
    "            n_valence=self.l_vlc[k]\n",
    "            l_cr=list(itertools.combinations_with_replacement(list(range(n_atm_r)),n_valence))\n",
    "            l_bond_r_p=[]\n",
    "            #隣接行列のある1行が取りうる行のリスト\n",
    "            for i in range(len(l_cr)):\n",
    "                l_bond=[0]*self.n_atm\n",
    "                for j in range(n_atm_r-1):\n",
    "                    b_num=l_cr[i].count(j)\n",
    "                    if(b_num>3):\n",
    "                        break\n",
    "                    l_bond[j]=b_num\n",
    "                else:\n",
    "                    l_bond_r_p.append(l_bond)\n",
    "            l_bond_p.append(l_bond_r_p)\n",
    "\n",
    "        ar_bond_p=np.array(list(itertools.product(*l_bond_p)))\n",
    "        #隣接行列のある1行が取りうる行同士の直積\n",
    "        for i in range(ar_bond_p.shape[0]):\n",
    "            for j in range(ar_bond_p.shape[1]):\n",
    "                ar_bond_p[i,:j,j]=ar_bond_p[i,j,:j]\n",
    "                #対称行列にする\n",
    "        ar_b_cons=ar_bond_p.sum(axis=1)<=np.array(self.l_vlc)\n",
    "        #結合数が原子価以下のものをbooleanとして抽出\n",
    "        ar_b_ind=np.all(ar_b_cons,axis=1)\n",
    "        #すべての原子が、結合数が原子価以下であったらその隣接行列は整合性があると判断する\n",
    "        #その整合性のあるもののindex\n",
    "        ar_bond_cons=ar_bond_p[ar_b_ind]\n",
    "        #整合性のあるもののみ取り出す。\n",
    "\n",
    "        for i in range(ar_bond_cons.shape[0]):\n",
    "            for j in range(ar_bond_cons.shape[1]):\n",
    "                ar_bond_cons[i,j,j:]=0\n",
    "                #下三角行列にする。\n",
    "\n",
    "        l_l_base=[]\n",
    "        for i in range(ar_bond_cons.shape[0]):\n",
    "            l_base=[]\n",
    "            for j in range(ar_bond_cons.shape[1]):\n",
    "                l_base.append(Base_n_to_10(ar_bond_cons[i,j,:],self.l_vlc[j]+1))\n",
    "                #隣接行列を原子価+1進数とみなして十進数に直す。\n",
    "                #この十進数にした数字で並び替えて、\n",
    "                #同型のグラフを見つけ出す\n",
    "            l_l_base.append(l_base)\n",
    "            #十進数に直した数字のリストをリストに追加\n",
    "        ar_base=np.array(l_l_base)\n",
    "        #このar_baseの1行について、原子種ごとにソートしたものは\n",
    "        #同じグラフについては同じになる。(ただし同じにならない場合もある。)\n",
    "        #ある一つのグラフに対して1意に決まるカノニカルラベルと言える\n",
    "        #(厳密には違うが)\n",
    "        \n",
    "        ar_c_atm=np.array(self.l_p_atm)\n",
    "        #原子種のリストをarray化\n",
    "        ar_uni=np.unique(ar_c_atm)\n",
    "        #原子のリストのユニークな要素を取り出し\n",
    "        l_c_table=[]\n",
    "        l_cons_b=[]\n",
    "        for i in range(len(ar_base)):\n",
    "            l_sorted=[]\n",
    "            for atm in ar_uni:\n",
    "                ar_uni_b=(ar_c_atm==atm)\n",
    "                #原子リストのうち、注目している原子種と一致するところをbooleanで取り出す\n",
    "                l_sorted.extend(np.sort(ar_base[i][ar_uni_b]))\n",
    "                #そのbooleanで取り出してsortし、原子種ごとにカノニカルラベルを作成\n",
    "                #それをリストに追加し、グラフ全体のカノニカルラベルとする。\n",
    "            if l_sorted not in l_c_table:\n",
    "                #そのグラフ全体のカノニカルラベルがチェック表になければ、追加\n",
    "                l_c_table.append(l_sorted)\n",
    "                #カノニカルラベルがユニークなもののindexを追加\n",
    "                l_cons_b.append(i)\n",
    "        self.ar_bond_can=ar_bond_cons[l_cons_b]\n",
    "    def GenProComb(self):\n",
    "        self.CalcComb()\n",
    "        l_l_smiles=[]\n",
    "        self.l_prod=[]\n",
    "        self.comb_c=0\n",
    "        for i in range(self.ar_bond_can.shape[0]):\n",
    "            p_t=Products(self.l_p_atm,self.ar_bond_can[i],self.l_vlc)\n",
    "            p_t.GenMols()\n",
    "            if p_t.str_smiles not in l_l_smiles:\n",
    "                l_l_smiles.append(p_t.str_smiles)\n",
    "                self.l_prod.append(p_t)\n",
    "                self.comb_c+=1\n",
    "    def DispComb(self):\n",
    "        self.GenProComb()\n",
    "        for i in range(self.comb_c):\n",
    "            print('組み合わせ:'+str(i))\n",
    "            self.l_prod[i].Dispmols()\n",
    "            print()\n",
    "#         #     print(p_t.str_smiles)\n",
    "#             if p_t.str_smiles not in l_l_smiles:\n",
    "#                 print('組み合わせ:'+str(comb_c))\n",
    "#                 l_l_smiles.append(p_t.str_smiles)\n",
    "#                 p_t.Dispmols()\n",
    "#                 comb_c+=1"
   ]
  },
  {
   "cell_type": "code",
   "execution_count": 38,
   "metadata": {
    "scrolled": true
   },
   "outputs": [
    {
     "name": "stdout",
     "output_type": "stream",
     "text": [
      "組み合わせ:0\n"
     ]
    },
    {
     "data": {
      "image/png": "[encoded data removed]",
      "text/plain": [
       "<PIL.Image.Image image mode=RGB size=300x150 at 0x7F41E7A221D0>"
      ]
     },
     "metadata": {},
     "output_type": "display_data"
    },
    {
     "name": "stdout",
     "output_type": "stream",
     "text": [
      " FC#CF [H]\n",
      "\n",
      "組み合わせ:1\n"
     ]
    },
    {
     "data": {
      "image/png": "[encoded data removed]",
      "text/plain": [
       "<PIL.Image.Image image mode=RGB size=300x150 at 0x7F41E7A37CC0>"
      ]
     },
     "metadata": {},
     "output_type": "display_data"
    },
    {
     "name": "stdout",
     "output_type": "stream",
     "text": [
      " [F] [H]C#CF\n",
      "\n",
      "組み合わせ:2\n"
     ]
    },
    {
     "data": {
      "image/png": "[encoded data removed]",
      "text/plain": [
       "<PIL.Image.Image image mode=RGB size=300x150 at 0x7F420011E400>"
      ]
     },
     "metadata": {},
     "output_type": "display_data"
    },
    {
     "name": "stdout",
     "output_type": "stream",
     "text": [
      " [C]#CF [H]F\n",
      "\n",
      "組み合わせ:3\n"
     ]
    },
    {
     "data": {
      "image/png": "[encoded data removed]",
      "text/plain": [
       "<PIL.Image.Image image mode=RGB size=450x150 at 0x7F420011E400>"
      ]
     },
     "metadata": {},
     "output_type": "display_data"
    },
    {
     "name": "stdout",
     "output_type": "stream",
     "text": [
      " [C]#CF [F] [H]\n",
      "\n",
      "組み合わせ:4\n"
     ]
    },
    {
     "data": {
      "image/png": "[encoded data removed]",
      "text/plain": [
       "<PIL.Image.Image image mode=RGB size=300x150 at 0x7F420011E400>"
      ]
     },
     "metadata": {},
     "output_type": "display_data"
    },
    {
     "name": "stdout",
     "output_type": "stream",
     "text": [
      " FF [H]C#[C]\n",
      "\n",
      "組み合わせ:5\n"
     ]
    },
    {
     "data": {
      "image/png": "[encoded data removed]",
      "text/plain": [
       "<PIL.Image.Image image mode=RGB size=450x150 at 0x7F41E83D5A20>"
      ]
     },
     "metadata": {},
     "output_type": "display_data"
    },
    {
     "name": "stdout",
     "output_type": "stream",
     "text": [
      " FF [C]#[C] [H]\n",
      "\n",
      "組み合わせ:6\n"
     ]
    },
    {
     "data": {
      "image/png": "[encoded data removed]",
      "text/plain": [
       "<PIL.Image.Image image mode=RGB size=450x150 at 0x7F41E7A22F98>"
      ]
     },
     "metadata": {},
     "output_type": "display_data"
    },
    {
     "name": "stdout",
     "output_type": "stream",
     "text": [
      " [F] [F] [H]C#[C]\n",
      "\n",
      "組み合わせ:7\n"
     ]
    },
    {
     "data": {
      "image/png": "[encoded data removed]",
      "text/plain": [
       "<PIL.Image.Image image mode=RGB size=450x150 at 0x7F41E83F0240>"
      ]
     },
     "metadata": {},
     "output_type": "display_data"
    },
    {
     "name": "stdout",
     "output_type": "stream",
     "text": [
      " [C]#[C] [F] [H]F\n",
      "\n",
      "組み合わせ:8\n"
     ]
    },
    {
     "data": {
      "image/png": "[encoded data removed]",
      "text/plain": [
       "<PIL.Image.Image image mode=RGB size=600x150 at 0x7F41E827D390>"
      ]
     },
     "metadata": {},
     "output_type": "display_data"
    },
    {
     "name": "stdout",
     "output_type": "stream",
     "text": [
      " [C]#[C] [F] [F] [H]\n",
      "\n",
      "組み合わせ:9\n"
     ]
    },
    {
     "data": {
      "image/png": "[encoded data removed]",
      "text/plain": [
       "<PIL.Image.Image image mode=RGB size=150x150 at 0x7F41E827D8D0>"
      ]
     },
     "metadata": {},
     "output_type": "display_data"
    },
    {
     "name": "stdout",
     "output_type": "stream",
     "text": [
      " [H][C]=C(F)F\n",
      "\n",
      "組み合わせ:10\n"
     ]
    },
    {
     "data": {
      "image/png": "[encoded data removed]",
      "text/plain": [
       "<PIL.Image.Image image mode=RGB size=300x150 at 0x7F41E827DC88>"
      ]
     },
     "metadata": {},
     "output_type": "display_data"
    },
    {
     "name": "stdout",
     "output_type": "stream",
     "text": [
      " [C]=C(F)F [H]\n",
      "\n",
      "組み合わせ:11\n"
     ]
    },
    {
     "data": {
      "image/png": "[encoded data removed]",
      "text/plain": [
       "<PIL.Image.Image image mode=RGB size=150x150 at 0x7F41E827DBA8>"
      ]
     },
     "metadata": {},
     "output_type": "display_data"
    },
    {
     "name": "stdout",
     "output_type": "stream",
     "text": [
      " [H]/C(F)=[C]\\F\n",
      "\n",
      "組み合わせ:12\n"
     ]
    },
    {
     "data": {
      "image/png": "[encoded data removed]",
      "text/plain": [
       "<PIL.Image.Image image mode=RGB size=300x150 at 0x7F41E827D1D0>"
      ]
     },
     "metadata": {},
     "output_type": "display_data"
    },
    {
     "name": "stdout",
     "output_type": "stream",
     "text": [
      " F/[C]=[C]/F [H]\n",
      "\n",
      "組み合わせ:13\n"
     ]
    },
    {
     "data": {
      "image/png": "[encoded data removed]",
      "text/plain": [
       "<PIL.Image.Image image mode=RGB size=300x150 at 0x7F41E8299CC0>"
      ]
     },
     "metadata": {},
     "output_type": "display_data"
    },
    {
     "name": "stdout",
     "output_type": "stream",
     "text": [
      " [F] [H]C(=[C])F\n",
      "\n",
      "組み合わせ:14\n"
     ]
    },
    {
     "data": {
      "image/png": "[encoded data removed]",
      "text/plain": [
       "<PIL.Image.Image image mode=RGB size=300x150 at 0x7F41E827DBA8>"
      ]
     },
     "metadata": {},
     "output_type": "display_data"
    },
    {
     "name": "stdout",
     "output_type": "stream",
     "text": [
      " [F] [H]/[C]=[C]/F\n",
      "\n",
      "組み合わせ:15\n"
     ]
    },
    {
     "data": {
      "image/png": "[encoded data removed]",
      "text/plain": [
       "<PIL.Image.Image image mode=RGB size=300x150 at 0x7F41E83F5240>"
      ]
     },
     "metadata": {},
     "output_type": "display_data"
    },
    {
     "name": "stdout",
     "output_type": "stream",
     "text": [
      " [C]=[C]F [H]F\n",
      "\n",
      "組み合わせ:16\n"
     ]
    },
    {
     "data": {
      "image/png": "[encoded data removed]",
      "text/plain": [
       "<PIL.Image.Image image mode=RGB size=450x150 at 0x7F41E83F0E80>"
      ]
     },
     "metadata": {},
     "output_type": "display_data"
    },
    {
     "name": "stdout",
     "output_type": "stream",
     "text": [
      " [C]=[C]F [F] [H]\n",
      "\n",
      "組み合わせ:17\n"
     ]
    },
    {
     "data": {
      "image/png": "[encoded data removed]",
      "text/plain": [
       "<PIL.Image.Image image mode=RGB size=300x150 at 0x7F41E83F0B70>"
      ]
     },
     "metadata": {},
     "output_type": "display_data"
    },
    {
     "name": "stdout",
     "output_type": "stream",
     "text": [
      " FF [H][C]=[C]\n",
      "\n",
      "組み合わせ:18\n"
     ]
    },
    {
     "data": {
      "image/png": "[encoded data removed]",
      "text/plain": [
       "<PIL.Image.Image image mode=RGB size=450x150 at 0x7F41E83F5AC8>"
      ]
     },
     "metadata": {},
     "output_type": "display_data"
    },
    {
     "name": "stdout",
     "output_type": "stream",
     "text": [
      " FF [C]=[C] [H]\n",
      "\n",
      "組み合わせ:19\n"
     ]
    },
    {
     "data": {
      "image/png": "[encoded data removed]",
      "text/plain": [
       "<PIL.Image.Image image mode=RGB size=450x150 at 0x7F41E83F5400>"
      ]
     },
     "metadata": {},
     "output_type": "display_data"
    },
    {
     "name": "stdout",
     "output_type": "stream",
     "text": [
      " [F] [F] [H][C]=[C]\n",
      "\n",
      "組み合わせ:20\n"
     ]
    },
    {
     "data": {
      "image/png": "[encoded data removed]",
      "text/plain": [
       "<PIL.Image.Image image mode=RGB size=450x150 at 0x7F41E83F5400>"
      ]
     },
     "metadata": {},
     "output_type": "display_data"
    },
    {
     "name": "stdout",
     "output_type": "stream",
     "text": [
      " [C]=[C] [F] [H]F\n",
      "\n",
      "組み合わせ:21\n"
     ]
    },
    {
     "data": {
      "image/png": "[encoded data removed]",
      "text/plain": [
       "<PIL.Image.Image image mode=RGB size=600x150 at 0x7F41E827DF98>"
      ]
     },
     "metadata": {},
     "output_type": "display_data"
    },
    {
     "name": "stdout",
     "output_type": "stream",
     "text": [
      " [C]=[C] [F] [F] [H]\n",
      "\n",
      "組み合わせ:22\n"
     ]
    },
    {
     "data": {
      "image/png": "[encoded data removed]",
      "text/plain": [
       "<PIL.Image.Image image mode=RGB size=150x150 at 0x7F41E83F08D0>"
      ]
     },
     "metadata": {},
     "output_type": "display_data"
    },
    {
     "name": "stdout",
     "output_type": "stream",
     "text": [
      " [H]C([C])(F)F\n",
      "\n",
      "組み合わせ:23\n"
     ]
    },
    {
     "data": {
      "image/png": "[encoded data removed]",
      "text/plain": [
       "<PIL.Image.Image image mode=RGB size=150x150 at 0x7F41E827D390>"
      ]
     },
     "metadata": {},
     "output_type": "display_data"
    },
    {
     "name": "stdout",
     "output_type": "stream",
     "text": [
      " [H][C][C](F)F\n",
      "\n",
      "組み合わせ:24\n"
     ]
    },
    {
     "data": {
      "image/png": "[encoded data removed]",
      "text/plain": [
       "<PIL.Image.Image image mode=RGB size=300x150 at 0x7F41E827DBA8>"
      ]
     },
     "metadata": {},
     "output_type": "display_data"
    },
    {
     "name": "stdout",
     "output_type": "stream",
     "text": [
      " [C][C](F)F [H]\n",
      "\n",
      "組み合わせ:25\n"
     ]
    },
    {
     "data": {
      "image/png": "[encoded data removed]",
      "text/plain": [
       "<PIL.Image.Image image mode=RGB size=150x150 at 0x7F41E827DCC0>"
      ]
     },
     "metadata": {},
     "output_type": "display_data"
    },
    {
     "name": "stdout",
     "output_type": "stream",
     "text": [
      " [H][C](F)[C]F\n",
      "\n",
      "組み合わせ:26\n"
     ]
    },
    {
     "data": {
      "image/png": "[encoded data removed]",
      "text/plain": [
       "<PIL.Image.Image image mode=RGB size=300x150 at 0x7F41E8062390>"
      ]
     },
     "metadata": {},
     "output_type": "display_data"
    },
    {
     "name": "stdout",
     "output_type": "stream",
     "text": [
      " F[C][C]F [H]\n",
      "\n",
      "組み合わせ:27\n"
     ]
    },
    {
     "data": {
      "image/png": "[encoded data removed]",
      "text/plain": [
       "<PIL.Image.Image image mode=RGB size=300x150 at 0x7F41E83F3F60>"
      ]
     },
     "metadata": {},
     "output_type": "display_data"
    },
    {
     "name": "stdout",
     "output_type": "stream",
     "text": [
      " [F] [H][C]([C])F\n",
      "\n",
      "組み合わせ:28\n"
     ]
    },
    {
     "data": {
      "image/png": "[encoded data removed]",
      "text/plain": [
       "<PIL.Image.Image image mode=RGB size=300x150 at 0x7F41E83F3A90>"
      ]
     },
     "metadata": {},
     "output_type": "display_data"
    },
    {
     "name": "stdout",
     "output_type": "stream",
     "text": [
      " [F] [H][C][C]F\n",
      "\n",
      "組み合わせ:29\n"
     ]
    },
    {
     "data": {
      "image/png": "[encoded data removed]",
      "text/plain": [
       "<PIL.Image.Image image mode=RGB size=300x150 at 0x7F41E8058080>"
      ]
     },
     "metadata": {},
     "output_type": "display_data"
    },
    {
     "name": "stdout",
     "output_type": "stream",
     "text": [
      " [C][C]F [H]F\n",
      "\n",
      "組み合わせ:30\n"
     ]
    },
    {
     "data": {
      "image/png": "[encoded data removed]",
      "text/plain": [
       "<PIL.Image.Image image mode=RGB size=450x150 at 0x7F41E83F54A8>"
      ]
     },
     "metadata": {},
     "output_type": "display_data"
    },
    {
     "name": "stdout",
     "output_type": "stream",
     "text": [
      " [C][C]F [F] [H]\n",
      "\n",
      "組み合わせ:31\n"
     ]
    },
    {
     "data": {
      "image/png": "[encoded data removed]",
      "text/plain": [
       "<PIL.Image.Image image mode=RGB size=300x150 at 0x7F41E83F5400>"
      ]
     },
     "metadata": {},
     "output_type": "display_data"
    },
    {
     "name": "stdout",
     "output_type": "stream",
     "text": [
      " FF [H][C][C]\n",
      "\n",
      "組み合わせ:32\n"
     ]
    },
    {
     "data": {
      "image/png": "[encoded data removed]",
      "text/plain": [
       "<PIL.Image.Image image mode=RGB size=450x150 at 0x7F41E8062F98>"
      ]
     },
     "metadata": {},
     "output_type": "display_data"
    },
    {
     "name": "stdout",
     "output_type": "stream",
     "text": [
      " FF [C][C] [H]\n",
      "\n",
      "組み合わせ:33\n"
     ]
    },
    {
     "data": {
      "image/png": "[encoded data removed]",
      "text/plain": [
       "<PIL.Image.Image image mode=RGB size=450x150 at 0x7F41E836E1D0>"
      ]
     },
     "metadata": {},
     "output_type": "display_data"
    },
    {
     "name": "stdout",
     "output_type": "stream",
     "text": [
      " [F] [F] [H][C][C]\n",
      "\n",
      "組み合わせ:34\n"
     ]
    },
    {
     "data": {
      "image/png": "[encoded data removed]",
      "text/plain": [
       "<PIL.Image.Image image mode=RGB size=450x150 at 0x7F41E83B4358>"
      ]
     },
     "metadata": {},
     "output_type": "display_data"
    },
    {
     "name": "stdout",
     "output_type": "stream",
     "text": [
      " [C][C] [F] [H]F\n",
      "\n",
      "組み合わせ:35\n"
     ]
    },
    {
     "data": {
      "image/png": "[encoded data removed]",
      "text/plain": [
       "<PIL.Image.Image image mode=RGB size=600x150 at 0x7F41E8058048>"
      ]
     },
     "metadata": {},
     "output_type": "display_data"
    },
    {
     "name": "stdout",
     "output_type": "stream",
     "text": [
      " [C][C] [F] [F] [H]\n",
      "\n",
      "組み合わせ:36\n"
     ]
    },
    {
     "data": {
      "image/png": "[encoded data removed]",
      "text/plain": [
       "<PIL.Image.Image image mode=RGB size=300x150 at 0x7F41E8062E80>"
      ]
     },
     "metadata": {},
     "output_type": "display_data"
    },
    {
     "name": "stdout",
     "output_type": "stream",
     "text": [
      " [C] [H][C](F)F\n",
      "\n",
      "組み合わせ:37\n"
     ]
    },
    {
     "data": {
      "image/png": "[encoded data removed]",
      "text/plain": [
       "<PIL.Image.Image image mode=RGB size=300x150 at 0x7F41E8100438>"
      ]
     },
     "metadata": {},
     "output_type": "display_data"
    },
    {
     "name": "stdout",
     "output_type": "stream",
     "text": [
      " F[C]F [H][C]\n",
      "\n",
      "組み合わせ:38\n"
     ]
    },
    {
     "data": {
      "image/png": "[encoded data removed]",
      "text/plain": [
       "<PIL.Image.Image image mode=RGB size=450x150 at 0x7F41E8100198>"
      ]
     },
     "metadata": {},
     "output_type": "display_data"
    },
    {
     "name": "stdout",
     "output_type": "stream",
     "text": [
      " F[C]F [C] [H]\n",
      "\n",
      "組み合わせ:39\n"
     ]
    },
    {
     "data": {
      "image/png": "[encoded data removed]",
      "text/plain": [
       "<PIL.Image.Image image mode=RGB size=300x150 at 0x7F41E83B4358>"
      ]
     },
     "metadata": {},
     "output_type": "display_data"
    },
    {
     "name": "stdout",
     "output_type": "stream",
     "text": [
      " [C]F [H][C]F\n",
      "\n",
      "組み合わせ:40\n"
     ]
    },
    {
     "data": {
      "image/png": "[encoded data removed]",
      "text/plain": [
       "<PIL.Image.Image image mode=RGB size=450x150 at 0x7F41E8255DA0>"
      ]
     },
     "metadata": {},
     "output_type": "display_data"
    },
    {
     "name": "stdout",
     "output_type": "stream",
     "text": [
      " [C]F [C]F [H]\n",
      "\n",
      "組み合わせ:41\n"
     ]
    },
    {
     "data": {
      "image/png": "[encoded data removed]",
      "text/plain": [
       "<PIL.Image.Image image mode=RGB size=450x150 at 0x7F41E83F55C0>"
      ]
     },
     "metadata": {},
     "output_type": "display_data"
    },
    {
     "name": "stdout",
     "output_type": "stream",
     "text": [
      " [C] [F] [H][C]F\n",
      "\n",
      "組み合わせ:42\n"
     ]
    },
    {
     "data": {
      "image/png": "[encoded data removed]",
      "text/plain": [
       "<PIL.Image.Image image mode=RGB size=450x150 at 0x7F41E83B4898>"
      ]
     },
     "metadata": {},
     "output_type": "display_data"
    },
    {
     "name": "stdout",
     "output_type": "stream",
     "text": [
      " [C]F [F] [H][C]\n",
      "\n",
      "組み合わせ:43\n"
     ]
    },
    {
     "data": {
      "image/png": "[encoded data removed]",
      "text/plain": [
       "<PIL.Image.Image image mode=RGB size=450x150 at 0x7F41E8009748>"
      ]
     },
     "metadata": {},
     "output_type": "display_data"
    },
    {
     "name": "stdout",
     "output_type": "stream",
     "text": [
      " [C] [C]F [H]F\n",
      "\n",
      "組み合わせ:44\n"
     ]
    },
    {
     "data": {
      "image/png": "[encoded data removed]",
      "text/plain": [
       "<PIL.Image.Image image mode=RGB size=600x150 at 0x7F41E8058C18>"
      ]
     },
     "metadata": {},
     "output_type": "display_data"
    },
    {
     "name": "stdout",
     "output_type": "stream",
     "text": [
      " [C] [C]F [F] [H]\n",
      "\n",
      "組み合わせ:45\n"
     ]
    },
    {
     "data": {
      "image/png": "[encoded data removed]",
      "text/plain": [
       "<PIL.Image.Image image mode=RGB size=450x150 at 0x7F41E8058470>"
      ]
     },
     "metadata": {},
     "output_type": "display_data"
    },
    {
     "name": "stdout",
     "output_type": "stream",
     "text": [
      " FF [C] [H][C]\n",
      "\n",
      "組み合わせ:46\n"
     ]
    },
    {
     "data": {
      "image/png": "[encoded data removed]",
      "text/plain": [
       "<PIL.Image.Image image mode=RGB size=600x150 at 0x7F41E80090F0>"
      ]
     },
     "metadata": {},
     "output_type": "display_data"
    },
    {
     "name": "stdout",
     "output_type": "stream",
     "text": [
      " FF [C] [C] [H]\n",
      "\n",
      "組み合わせ:47\n"
     ]
    },
    {
     "data": {
      "image/png": "[encoded data removed]",
      "text/plain": [
       "<PIL.Image.Image image mode=RGB size=600x150 at 0x7F41E7A37A90>"
      ]
     },
     "metadata": {},
     "output_type": "display_data"
    },
    {
     "name": "stdout",
     "output_type": "stream",
     "text": [
      " [C] [F] [F] [H][C]\n",
      "\n",
      "組み合わせ:48\n"
     ]
    },
    {
     "data": {
      "image/png": "[encoded data removed]",
      "text/plain": [
       "<PIL.Image.Image image mode=RGB size=600x150 at 0x7F41E7A37C88>"
      ]
     },
     "metadata": {},
     "output_type": "display_data"
    },
    {
     "name": "stdout",
     "output_type": "stream",
     "text": [
      " [C] [C] [F] [H]F\n",
      "\n",
      "組み合わせ:49\n"
     ]
    },
    {
     "data": {
      "image/png": "[encoded data removed]",
      "text/plain": [
       "<PIL.Image.Image image mode=RGB size=750x150 at 0x7F41E8009908>"
      ]
     },
     "metadata": {},
     "output_type": "display_data"
    },
    {
     "name": "stdout",
     "output_type": "stream",
     "text": [
      " [C] [C] [F] [F] [H]\n",
      "\n"
     ]
    }
   ],
   "source": [
    "l_p_atm=['C','C','F','F','H']\n",
    "CP_t=CombProducts(l_p_atm)\n",
    "CP_t.DispComb()"
   ]
  },
  {
   "cell_type": "code",
   "execution_count": 89,
   "metadata": {},
   "outputs": [
    {
     "name": "stdout",
     "output_type": "stream",
     "text": [
      "[(0, 0, 0, 0), (0, 0, 0, 1), (0, 0, 1, 1), (0, 1, 1, 1), (1, 1, 1, 1)]\n",
      "[(0, 0, 0, 0), (0, 0, 0, 1), (0, 0, 0, 2), (0, 0, 1, 1), (0, 0, 1, 2), (0, 0, 2, 2), (0, 1, 1, 1), (0, 1, 1, 2), (0, 1, 2, 2), (0, 2, 2, 2), (1, 1, 1, 1), (1, 1, 1, 2), (1, 1, 2, 2), (1, 2, 2, 2), (2, 2, 2, 2)]\n",
      "[(0, 0, 0, 0), (0, 0, 0, 1), (0, 0, 0, 2), (0, 0, 0, 3), (0, 0, 1, 1), (0, 0, 1, 2), (0, 0, 1, 3), (0, 0, 2, 2), (0, 0, 2, 3), (0, 0, 3, 3), (0, 1, 1, 1), (0, 1, 1, 2), (0, 1, 1, 3), (0, 1, 2, 2), (0, 1, 2, 3), (0, 1, 3, 3), (0, 2, 2, 2), (0, 2, 2, 3), (0, 2, 3, 3), (0, 3, 3, 3), (1, 1, 1, 1), (1, 1, 1, 2), (1, 1, 1, 3), (1, 1, 2, 2), (1, 1, 2, 3), (1, 1, 3, 3), (1, 2, 2, 2), (1, 2, 2, 3), (1, 2, 3, 3), (1, 3, 3, 3), (2, 2, 2, 2), (2, 2, 2, 3), (2, 2, 3, 3), (2, 3, 3, 3), (3, 3, 3, 3)]\n",
      "[(0,), (1,), (2,), (3,), (4,)]\n",
      "[(0,), (1,), (2,), (3,), (4,), (5,)]\n",
      "[(0,), (1,), (2,), (3,), (4,), (5,), (6,)]\n",
      "[(0,), (1,), (2,), (3,), (4,), (5,), (6,), (7,)]\n"
     ]
    },
    {
     "data": {
      "text/plain": [
       "[[[0, 0, 0, 0, 0, 0, 0, 0]],\n",
       " [[3, 0, 0, 0, 0, 0, 0, 0],\n",
       "  [2, 0, 0, 0, 0, 0, 0, 0],\n",
       "  [1, 0, 0, 0, 0, 0, 0, 0],\n",
       "  [0, 0, 0, 0, 0, 0, 0, 0]],\n",
       " [[3, 1, 0, 0, 0, 0, 0, 0],\n",
       "  [3, 0, 0, 0, 0, 0, 0, 0],\n",
       "  [2, 2, 0, 0, 0, 0, 0, 0],\n",
       "  [2, 1, 0, 0, 0, 0, 0, 0],\n",
       "  [2, 0, 0, 0, 0, 0, 0, 0],\n",
       "  [1, 3, 0, 0, 0, 0, 0, 0],\n",
       "  [1, 2, 0, 0, 0, 0, 0, 0],\n",
       "  [1, 1, 0, 0, 0, 0, 0, 0],\n",
       "  [1, 0, 0, 0, 0, 0, 0, 0],\n",
       "  [0, 3, 0, 0, 0, 0, 0, 0],\n",
       "  [0, 2, 0, 0, 0, 0, 0, 0],\n",
       "  [0, 1, 0, 0, 0, 0, 0, 0],\n",
       "  [0, 0, 0, 0, 0, 0, 0, 0]],\n",
       " [[3, 1, 0, 0, 0, 0, 0, 0],\n",
       "  [3, 0, 1, 0, 0, 0, 0, 0],\n",
       "  [3, 0, 0, 0, 0, 0, 0, 0],\n",
       "  [2, 2, 0, 0, 0, 0, 0, 0],\n",
       "  [2, 1, 1, 0, 0, 0, 0, 0],\n",
       "  [2, 1, 0, 0, 0, 0, 0, 0],\n",
       "  [2, 0, 2, 0, 0, 0, 0, 0],\n",
       "  [2, 0, 1, 0, 0, 0, 0, 0],\n",
       "  [2, 0, 0, 0, 0, 0, 0, 0],\n",
       "  [1, 3, 0, 0, 0, 0, 0, 0],\n",
       "  [1, 2, 1, 0, 0, 0, 0, 0],\n",
       "  [1, 2, 0, 0, 0, 0, 0, 0],\n",
       "  [1, 1, 2, 0, 0, 0, 0, 0],\n",
       "  [1, 1, 1, 0, 0, 0, 0, 0],\n",
       "  [1, 1, 0, 0, 0, 0, 0, 0],\n",
       "  [1, 0, 3, 0, 0, 0, 0, 0],\n",
       "  [1, 0, 2, 0, 0, 0, 0, 0],\n",
       "  [1, 0, 1, 0, 0, 0, 0, 0],\n",
       "  [1, 0, 0, 0, 0, 0, 0, 0],\n",
       "  [0, 3, 1, 0, 0, 0, 0, 0],\n",
       "  [0, 3, 0, 0, 0, 0, 0, 0],\n",
       "  [0, 2, 2, 0, 0, 0, 0, 0],\n",
       "  [0, 2, 1, 0, 0, 0, 0, 0],\n",
       "  [0, 2, 0, 0, 0, 0, 0, 0],\n",
       "  [0, 1, 3, 0, 0, 0, 0, 0],\n",
       "  [0, 1, 2, 0, 0, 0, 0, 0],\n",
       "  [0, 1, 1, 0, 0, 0, 0, 0],\n",
       "  [0, 1, 0, 0, 0, 0, 0, 0],\n",
       "  [0, 0, 3, 0, 0, 0, 0, 0],\n",
       "  [0, 0, 2, 0, 0, 0, 0, 0],\n",
       "  [0, 0, 1, 0, 0, 0, 0, 0],\n",
       "  [0, 0, 0, 0, 0, 0, 0, 0]],\n",
       " [[1, 0, 0, 0, 0, 0, 0, 0],\n",
       "  [0, 1, 0, 0, 0, 0, 0, 0],\n",
       "  [0, 0, 1, 0, 0, 0, 0, 0],\n",
       "  [0, 0, 0, 1, 0, 0, 0, 0],\n",
       "  [0, 0, 0, 0, 0, 0, 0, 0]],\n",
       " [[1, 0, 0, 0, 0, 0, 0, 0],\n",
       "  [0, 1, 0, 0, 0, 0, 0, 0],\n",
       "  [0, 0, 1, 0, 0, 0, 0, 0],\n",
       "  [0, 0, 0, 1, 0, 0, 0, 0],\n",
       "  [0, 0, 0, 0, 1, 0, 0, 0],\n",
       "  [0, 0, 0, 0, 0, 0, 0, 0]],\n",
       " [[1, 0, 0, 0, 0, 0, 0, 0],\n",
       "  [0, 1, 0, 0, 0, 0, 0, 0],\n",
       "  [0, 0, 1, 0, 0, 0, 0, 0],\n",
       "  [0, 0, 0, 1, 0, 0, 0, 0],\n",
       "  [0, 0, 0, 0, 1, 0, 0, 0],\n",
       "  [0, 0, 0, 0, 0, 1, 0, 0],\n",
       "  [0, 0, 0, 0, 0, 0, 0, 0]],\n",
       " [[1, 0, 0, 0, 0, 0, 0, 0],\n",
       "  [0, 1, 0, 0, 0, 0, 0, 0],\n",
       "  [0, 0, 1, 0, 0, 0, 0, 0],\n",
       "  [0, 0, 0, 1, 0, 0, 0, 0],\n",
       "  [0, 0, 0, 0, 1, 0, 0, 0],\n",
       "  [0, 0, 0, 0, 0, 1, 0, 0],\n",
       "  [0, 0, 0, 0, 0, 0, 1, 0],\n",
       "  [0, 0, 0, 0, 0, 0, 0, 0]]]"
      ]
     },
     "execution_count": 89,
     "metadata": {},
     "output_type": "execute_result"
    }
   ],
   "source": [
    "b_exist_atm=False\n",
    "b_exist_rad=False\n",
    "d_atm2vlc={'C':4,'H':1,'F':1,'O':2,'N':3}\n",
    "\n",
    "\n",
    "# l_p_atm=['C','F','H','H','H']\n",
    "# l_p_atm=['C','C','C','C']\n",
    "l_p_atm=['C','C','C','C','H','H','H','H']\n",
    "l_vlc=[]\n",
    "for atm in l_p_atm:\n",
    "    l_vlc.append(d_atm2vlc[atm])\n",
    "    \n",
    "arg_s=np.argsort(l_vlc)[::-1]\n",
    "l_p_atm=np.array(l_p_atm)[arg_s]\n",
    "l_vlc=np.array(l_vlc)[arg_s]\n",
    "        \n",
    "n_atm=len(l_p_atm)\n",
    "#原子のリスト\n",
    "l_bond_p=[[[0]*n_atm]]\n",
    "#取りうる隣接行列の行\n",
    "#最初の行は後から決まるので0で良い\n",
    "for k in range(1,len(l_p_atm)):\n",
    "    n_atm_r=k+1\n",
    "    #注目すればいい原子の数\n",
    "    #三角形の横方向の数+1\n",
    "    #詳しくは足してnになる組み合わせの数の応用の\n",
    "    #足してn以下になる組み合わせの数を参照\n",
    "    n_valence=l_vlc[k]\n",
    "    l_cr=list(itertools.combinations_with_replacement(list(range(n_atm_r)),n_valence))\n",
    "    print(l_cr)\n",
    "    l_bond_r_p=[]\n",
    "    #隣接行列のある1行が取りうる行のリスト\n",
    "    for i in range(len(l_cr)):\n",
    "        l_bond=[0]*n_atm\n",
    "        for j in range(n_atm_r-1):\n",
    "            b_num=l_cr[i].count(j)\n",
    "            if(b_num>3):\n",
    "                break\n",
    "            l_bond[j]=b_num\n",
    "        else:\n",
    "            l_bond_r_p.append(l_bond)\n",
    "    l_bond_p.append(l_bond_r_p)\n",
    "l_bond_p"
   ]
  },
  {
   "cell_type": "code",
   "execution_count": 131,
   "metadata": {},
   "outputs": [
    {
     "data": {
      "text/plain": [
       "array([[[0, 0, 3, 1, 0, 0, 0, 0],\n",
       "        [0, 0, 1, 3, 0, 0, 0, 0],\n",
       "        [3, 1, 0, 0, 0, 0, 0, 0],\n",
       "        [1, 3, 0, 0, 0, 0, 0, 0],\n",
       "        [0, 0, 0, 0, 0, 1, 0, 0],\n",
       "        [0, 0, 0, 0, 1, 0, 0, 0],\n",
       "        [0, 0, 0, 0, 0, 0, 0, 1],\n",
       "        [0, 0, 0, 0, 0, 0, 1, 0]],\n",
       "\n",
       "       [[0, 0, 3, 1, 0, 0, 0, 0],\n",
       "        [0, 0, 1, 3, 0, 0, 0, 0],\n",
       "        [3, 1, 0, 0, 0, 0, 0, 0],\n",
       "        [1, 3, 0, 0, 0, 0, 0, 0],\n",
       "        [0, 0, 0, 0, 0, 0, 1, 0],\n",
       "        [0, 0, 0, 0, 0, 0, 0, 1],\n",
       "        [0, 0, 0, 0, 1, 0, 0, 0],\n",
       "        [0, 0, 0, 0, 0, 1, 0, 0]],\n",
       "\n",
       "       [[0, 0, 3, 1, 0, 0, 0, 0],\n",
       "        [0, 0, 1, 3, 0, 0, 0, 0],\n",
       "        [3, 1, 0, 0, 0, 0, 0, 0],\n",
       "        [1, 3, 0, 0, 0, 0, 0, 0],\n",
       "        [0, 0, 0, 0, 0, 0, 0, 1],\n",
       "        [0, 0, 0, 0, 0, 0, 1, 0],\n",
       "        [0, 0, 0, 0, 0, 1, 0, 0],\n",
       "        [0, 0, 0, 0, 1, 0, 0, 0]]])"
      ]
     },
     "execution_count": 131,
     "metadata": {},
     "output_type": "execute_result"
    }
   ],
   "source": [
    "ar_bond_p=np.array(list(itertools.product(*l_bond_p)))\n",
    "ar_atm_vlc0=(np.ones([len(l_p_atm)])*-1).astype('int')\n",
    "ar_b_atm=np.zeros([ar_bond_p.shape[0]],dtype='bool')\n",
    "for i in range(ar_bond_p.shape[0]):\n",
    "    for j in range(ar_bond_p.shape[1]):\n",
    "        ar_bond_p[i,:j,j]=ar_bond_p[i,j,:j]\n",
    "        #対称行列にする\n",
    "\n",
    "            \n",
    "ar_b_cons=ar_bond_p.sum(axis=1)<=np.array(l_vlc)\n",
    "#結合数が原子価以下のものをbooleanとして抽出\n",
    "if(not(b_exist_rad)):\n",
    "    #ラジカルの存在を許さない場合\n",
    "    ar_b_cons=ar_bond_p.sum(axis=1)==np.array(l_vlc)\n",
    "ar_b_ind=np.all(ar_b_cons,axis=1)\n",
    "#すべての原子が、結合数が原子価以下であったらその隣接行列は整合性があると判断する\n",
    "#その整合性のあるもののindex\n",
    "\n",
    "if(not(b_exist_atm)):\n",
    "    ar_b_atm=np.all(ar_bond_p.sum(axis=1)!=0,axis=1)\n",
    "    ar_b_ind=np.logical_and(ar_b_atm,ar_b_ind)\n",
    "ar_b_c=(np.logical_not(ar_bond_p[:,1,0]>0 & (np.all(ar_bond_p[:,2,:2]>0,axis=1)) & (np.all(ar_bond_p[:,3,:3]>0,axis=1))))\n",
    "ar_b_ind=ar_b_ind&ar_b_c\n",
    "ar_bond_cons=ar_bond_p[ar_b_ind]\n",
    "#整合性のあるもののみ取り出す。\n",
    "\n",
    "ar_bond_cons[:3]"
   ]
  },
  {
   "cell_type": "code",
   "execution_count": 125,
   "metadata": {},
   "outputs": [
    {
     "data": {
      "text/plain": [
       "(2795520,)"
      ]
     },
     "execution_count": 125,
     "metadata": {},
     "output_type": "execute_result"
    }
   ],
   "source": [
    "ar_bond_p.shape\n",
    "(np.all(ar_bond_p[:,2,:2]>0,axis=1)).shape"
   ]
  },
  {
   "cell_type": "code",
   "execution_count": 130,
   "metadata": {},
   "outputs": [
    {
     "data": {
      "text/plain": [
       "(2795520,)"
      ]
     },
     "execution_count": 130,
     "metadata": {},
     "output_type": "execute_result"
    }
   ],
   "source": [
    "(np.logical_not(ar_bond_p[:,1,0]>0 & (np.all(ar_bond_p[:,2,:2]>0,axis=1)) & (np.all(ar_bond_p[:,3,:3]>0,axis=1)))).shape"
   ]
  },
  {
   "cell_type": "code",
   "execution_count": 47,
   "metadata": {},
   "outputs": [],
   "source": [
    "b_exist_atm=False"
   ]
  },
  {
   "cell_type": "code",
   "execution_count": 132,
   "metadata": {},
   "outputs": [
    {
     "data": {
      "text/plain": [
       "(737, 8, 8)"
      ]
     },
     "execution_count": 132,
     "metadata": {},
     "output_type": "execute_result"
    }
   ],
   "source": [
    "ar_bond_cons.shape"
   ]
  },
  {
   "cell_type": "code",
   "execution_count": 134,
   "metadata": {},
   "outputs": [
    {
     "name": "stdout",
     "output_type": "stream",
     "text": [
      "[[     0      0 250000 125000      0      8      0      2]\n",
      " [     0      0 250000 125000      0      0      8      4]\n",
      " [     0      0 250000 125000      0      0      4      8]]\n"
     ]
    }
   ],
   "source": [
    "for i in range(ar_bond_cons.shape[0]):\n",
    "    for j in range(ar_bond_cons.shape[1]):\n",
    "        ar_bond_cons[i,j,j:]=0\n",
    "        #下三角行列にする。\n",
    "        \n",
    "l_l_base=[]\n",
    "for i in range(ar_bond_cons.shape[0]):\n",
    "    l_base=[]\n",
    "    for j in range(ar_bond_cons.shape[1]):\n",
    "        l_base.append(Base_n_to_10(ar_bond_cons[i,j,:],l_vlc[j]+1))\n",
    "        #隣接行列を原子価+1進数とみなして十進数に直す。\n",
    "        #この十進数にした数字で並び替えて、\n",
    "        #同型のグラフを見つけ出す\n",
    "    l_l_base.append(l_base)\n",
    "    #十進数に直した数字のリストをリストに追加\n",
    "ar_base=np.array(l_l_base)\n",
    "print(ar_base[:3])\n",
    "#このar_baseの1行について、原子種ごとにソートしたものは\n",
    "#同じグラフについては同じになる。(ただし同じにならない場合もある。)\n",
    "#ある一つのグラフに対して1意に決まるカノニカルラベルと言える\n",
    "#(厳密には違うが)"
   ]
  },
  {
   "cell_type": "code",
   "execution_count": 135,
   "metadata": {
    "scrolled": false
   },
   "outputs": [
    {
     "name": "stdout",
     "output_type": "stream",
     "text": [
      "カノニカルラベルで絞った組み合わせ:119\n"
     ]
    }
   ],
   "source": [
    "ar_c_atm=np.array(l_p_atm)\n",
    "#原子種のリストをarray化\n",
    "ar_uni=np.unique(ar_c_atm)\n",
    "#原子のリストのユニークな要素を取り出し\n",
    "l_c_table=[]\n",
    "l_cons_b=[]\n",
    "for i in range(len(ar_base)):\n",
    "    l_sorted=[]\n",
    "    for atm in ar_uni:\n",
    "        ar_uni_b=(ar_c_atm==atm)\n",
    "        #原子リストのうち、注目している原子種と一致するところをbooleanで取り出す\n",
    "        l_sorted.extend(np.sort(ar_base[i][ar_uni_b]))\n",
    "        #そのbooleanで取り出してsortし、原子種ごとにカノニカルラベルを作成\n",
    "        #それをリストに追加し、グラフ全体のカノニカルラベルとする。\n",
    "    if l_sorted not in l_c_table:\n",
    "        #そのグラフ全体のカノニカルラベルがチェック表になければ、追加\n",
    "        l_c_table.append(l_sorted)\n",
    "        #カノニカルラベルがユニークなもののindexを追加\n",
    "        l_cons_b.append(i)\n",
    "ar_bond_can=ar_bond_cons[l_cons_b]\n",
    "print('カノニカルラベルで絞った組み合わせ:'+str(len(ar_bond_can)))"
   ]
  },
  {
   "cell_type": "code",
   "execution_count": 57,
   "metadata": {},
   "outputs": [],
   "source": [
    "class Compound:\n",
    "    def __init__(self,l_atmind,l_o_atm,m_o_b):\n",
    "        self.l_atm=l_atmind.copy()\n",
    "        #l_atmindを新しく化合物とする\n",
    "        self.l_o_atm=l_o_atm.copy()\n",
    "        #もとの原子リストをコピー\n",
    "        self.m_o_b=m_o_b\n",
    "        #もとの隣接行列をコピー\n",
    "        self.d_atm={}\n",
    "        for i in l_atmind:\n",
    "            self.d_atm[i]=l_o_atm[i]\n",
    "        #化合物内の原子辞書をつくる\n",
    "\n",
    "    def addatm(self,i):\n",
    "        self.l_atm.append(i)\n",
    "        self.d_atm[i]=self.l_o_atm[i]\n",
    "        #iを新しく化合物に追加\n",
    "\n",
    "    def exatms(self,l_t_atm):\n",
    "        self.l_atm.extend(l_t_atm)\n",
    "        for i in l_t_atm:\n",
    "            self.d_atm[i]=self.l_o_atm[i]\n",
    "        #l_t_atmを新しく化合物に追加\n",
    "\n",
    "    def calcAd(self):\n",
    "        #化合物に属する原子を全部まとめ終わってから\n",
    "        #隣接行列、隣接リストを算出\n",
    "        l_adm=[]\n",
    "        self.l_n_atm=[]\n",
    "        for i in self.l_atm:\n",
    "            l_adm.append(self.m_o_b[i,self.l_atm])\n",
    "            self.l_n_atm.append(self.d_atm[i])\n",
    "            #原子のリストも作る。\n",
    "            \n",
    "        self.m_adm=np.array(l_adm)\n",
    "        \n",
    "        self.l_adl=[]\n",
    "        self.l_s_adl=[]\n",
    "        self.n_rad=0\n",
    "        self.l_rad=[]\n",
    "        self.l_vlc=[0]*self.m_adm.shape[0]\n",
    "        for i in range(self.m_adm.shape[0]):\n",
    "            for j in range(i+1,self.m_adm.shape[1]):\n",
    "                if(self.m_adm[i,j]==0):\n",
    "                    continue\n",
    "                self.l_adl.append([i,j,self.m_adm[i,j]])\n",
    "                self.l_s_adl.append([str(i+1),str(j+1),str(self.m_adm[i,j])])\n",
    "            if(self.m_adm[i,i]>0):\n",
    "                self.n_rad+=1\n",
    "                self.l_rad.append('   '+str(i+1)+'   2')\n",
    "                self.l_vlc[i]=self.m_adm[i,:i].sum()+self.m_adm[i,i+1:].sum()\n",
    "    \n",
    "    def strMolB(self):\n",
    "        n_atm=len(self.l_atm)\n",
    "        n_bnd=len(self.l_adl)\n",
    "        s_mb='\\n'+' '*5+'Original'+' '*7+'2D'+'\\n'\n",
    "        s_mb=s_mb+'\\n'+' '*2+str(n_atm)+' '*2+str(n_bnd)+'  0  0  0  0  0  0  0  0999 V2000'\n",
    "        for i in range(self.m_adm.shape[0]):\n",
    "            s_mb=s_mb+'\\n'+'    0.0   '*3+' '+self.l_n_atm[i]+'   0'+'  0'*4+'  '+str(self.l_vlc[i])+'  0'*6\n",
    "        for bond in self.l_s_adl:\n",
    "            s_mb=s_mb+'\\n'+' '*2+bond[0]+' '*2+bond[1]+' '*2+bond[2]+'  0'\n",
    "        if(self.n_rad>0):\n",
    "            s_mb=s_mb+'\\nM  RAD  '+str(self.n_rad)\n",
    "            for rad in self.l_rad:\n",
    "                s_mb=s_mb+rad\n",
    "        s_mb=s_mb+'\\n'+'M  END'\n",
    "        return s_mb\n",
    "    \n",
    "    def GenMol(self):\n",
    "        #Molオブジェクトを作る\n",
    "        self.calcAd()\n",
    "        #隣接リストを作成し、\n",
    "        self.cmol=Chem.MolFromMolBlock(self.strMolB(),removeHs=False)\n",
    "        #MolBlockを作成し、そのMBからMolオブジェクトを生成\n",
    "        AllChem.Compute2DCoords(self.cmol)\n",
    "        #2次元座標を計算\n",
    "        \n",
    "        l_atms=list(self.cmol.GetAtoms())\n",
    "        for i in range (self.m_adm.shape[0]):\n",
    "            if(self.m_adm[i][i]>0):\n",
    "                l_atms[i].SetNumRadicalElectrons(int(self.m_adm[i,i]))"
   ]
  },
  {
   "cell_type": "code",
   "execution_count": 79,
   "metadata": {},
   "outputs": [],
   "source": [
    "class Products:\n",
    "    #生成物全体のクラス\n",
    "    def __init__(self,l_p_atm,m_bnd,l_vlc):\n",
    "        self.l_p_atm=l_p_atm\n",
    "        self.m_bnd=m_bnd\n",
    "        self.l_vlc=l_vlc\n",
    "    def SmtrBnd(self):\n",
    "        #対称行列にして、ラジカルも計算\n",
    "        for i in range(self.m_bnd.shape[0]):\n",
    "            self.m_bnd[:i,i]=self.m_bnd[i,:i]\n",
    "            #対称行列にする\n",
    "            self.m_bnd[i,i]=self.l_vlc[i]-self.m_bnd[:i,i].sum()-self.m_bnd[i+1:,i].sum()\n",
    "            #i,i要素はラジカルなので原子価から結合数を引く\n",
    "    def SplitComp(self):\n",
    "        comp_c=0\n",
    "        self.ar_c_t=(np.ones([len(self.l_p_atm)])*-1).astype('int')\n",
    "        #どの原子がどの原子群に属しているかというリスト\n",
    "        self.l_comp=[]\n",
    "        for i in range(self.m_bnd.shape[0]):\n",
    "            for j in range(i):\n",
    "                #下三角行列のみ走査\n",
    "                if(self.m_bnd[i,j]==0):\n",
    "                    continue\n",
    "                ar_b_c=self.ar_c_t[[i,j]]==[-1,-1]\n",
    "                #原子が原子群に属しているかいないかのチェック\n",
    "                if(np.all(ar_b_c)):\n",
    "                    #i,jがどちらとも属していない場合\n",
    "                    self.ar_c_t[[i,j]]=comp_c\n",
    "                    self.l_comp.append(Compound([i,j],self.l_p_atm,self.m_bnd))\n",
    "                    comp_c+=1\n",
    "                elif(ar_b_c[0]):\n",
    "                    #iだけが所属していない場合\n",
    "                    self.ar_c_t[i]=self.ar_c_t[j]\n",
    "                    self.l_comp[self.ar_c_t[j]].addatm(i)\n",
    "                elif(ar_b_c[1]):\n",
    "                    #jだけが所属していない場合\n",
    "                    self.ar_c_t[j]=self.ar_c_t[i]\n",
    "                    self.l_comp[self.ar_c_t[i]].addatm(j)\n",
    "                else:\n",
    "                    if(self.ar_c_t[i]<self.ar_c_t[j]):\n",
    "                        Comp=self.l_comp.pop(self.ar_c_t[j])\n",
    "                        #繋がっていると分かった原子群同士のうち番号が大きい方をpopする\n",
    "                        self.l_comp[self.ar_c_t[i]].exatms(Comp.l_atm)\n",
    "                        #番号が小さい方に追加\n",
    "                        for atm_num in Comp.l_atm:\n",
    "                            self.ar_c_t[atm_num]=self.ar_c_t[i]\n",
    "                            #繋がっていると分かった原子群のそれぞれの原子の属する原子群の番号を小さい方に統一\n",
    "                    elif(self.ar_c_t[j]<self.ar_c_t[i]):\n",
    "                        Comp=self.l_comp.pop(self.ar_c_t[i])\n",
    "                        self.l_comp[self.ar_c_t[j]].exatms(Comp.l_atm)\n",
    "                        for atm_num in Comp.l_atm:\n",
    "                            self.ar_c_t[atm_num]=self.ar_c_t[j]\n",
    "        for i in range(self.m_bnd.shape[0]):\n",
    "            if(self.ar_c_t[i]==-1):\n",
    "                #原子群に分けた時点でどこにも所属していないものは原子\n",
    "                self.ar_c_t[i]=comp_c\n",
    "                self.l_comp.append(Compound([i],self.l_p_atm,self.m_bnd))\n",
    "                comp_c+=1\n",
    "    def GenMols(self):\n",
    "        #Molオブジェクトを生成\n",
    "        self.SmtrBnd()\n",
    "        self.SplitComp()\n",
    "        l_mols=[]\n",
    "        l_smiles=[]\n",
    "        for Comp in self.l_comp:\n",
    "            Comp.GenMol()\n",
    "            l_mols.append(Comp.cmol)\n",
    "            l_smiles.append(Chem.MolToSmiles(Comp.cmol))\n",
    "        arg_s=np.argsort(l_smiles)\n",
    "        self.ar_mols=np.array(l_mols)[arg_s]\n",
    "        self.ar_smiles=np.array(l_smiles)[arg_s]\n",
    "        self.str_smiles=''\n",
    "        for smile in self.ar_smiles:\n",
    "            self.str_smiles+=' '+smile\n",
    "        \n",
    "    def Dispmols(self):\n",
    "        self.GenMols()\n",
    "        Conc_h_mols(self.ar_mols)\n",
    "        print(self.str_smiles)"
   ]
  },
  {
   "cell_type": "code",
   "execution_count": 109,
   "metadata": {},
   "outputs": [
    {
     "name": "stdout",
     "output_type": "stream",
     "text": [
      "\n",
      "     Original       2D\n",
      "\n",
      "  8  10  0  0  0  0  0  0  0  0999 V2000\n",
      "    0.0       0.0       0.0    C   0  0  0  0  0  0  0  0  0  0  0  0\n",
      "    0.0       0.0       0.0    C   0  0  0  0  0  0  0  0  0  0  0  0\n",
      "    0.0       0.0       0.0    C   0  0  0  0  0  0  0  0  0  0  0  0\n",
      "    0.0       0.0       0.0    C   0  0  0  0  0  0  0  0  0  0  0  0\n",
      "    0.0       0.0       0.0    H   0  0  0  0  0  0  0  0  0  0  0  0\n",
      "    0.0       0.0       0.0    H   0  0  0  0  0  0  0  0  0  0  0  0\n",
      "    0.0       0.0       0.0    H   0  0  0  0  0  0  0  0  0  0  0  0\n",
      "    0.0       0.0       0.0    H   0  0  0  0  0  0  0  0  0  0  0  0\n",
      "  1  2  1  0\n",
      "  1  3  1  0\n",
      "  1  4  1  0\n",
      "  1  6  1  0\n",
      "  2  3  1  0\n",
      "  2  4  1  0\n",
      "  2  5  1  0\n",
      "  3  4  1  0\n",
      "  3  7  1  0\n",
      "  4  8  1  0\n",
      "M  END\n"
     ]
    },
    {
     "data": {
      "text/plain": [
       "array([[0, 1, 1, 1, 0, 1, 0, 0],\n",
       "       [1, 0, 1, 1, 1, 0, 0, 0],\n",
       "       [1, 1, 0, 1, 0, 0, 1, 0],\n",
       "       [1, 1, 1, 0, 0, 0, 0, 1],\n",
       "       [0, 1, 0, 0, 0, 0, 0, 0],\n",
       "       [1, 0, 0, 0, 0, 0, 0, 0],\n",
       "       [0, 0, 1, 0, 0, 0, 0, 0],\n",
       "       [0, 0, 0, 1, 0, 0, 0, 0]])"
      ]
     },
     "execution_count": 109,
     "metadata": {},
     "output_type": "execute_result"
    }
   ],
   "source": [
    "p_t=Products(l_p_atm,ar_bond_can[i],l_vlc)\n",
    "p_t.SplitComp()\n",
    "p_t.l_comp[0].calcAd()\n",
    "t_MolB=p_t.l_comp[0].strMolB()\n",
    "print(t_MolB)\n",
    "Chem.MolFromMolBlock(t_MolB)\n",
    "p_t.l_comp[0].m_adm"
   ]
  },
  {
   "cell_type": "code",
   "execution_count": null,
   "metadata": {},
   "outputs": [],
   "source": []
  },
  {
   "cell_type": "code",
   "execution_count": 136,
   "metadata": {
    "scrolled": false
   },
   "outputs": [
    {
     "name": "stdout",
     "output_type": "stream",
     "text": [
      "組み合わせ:0\n"
     ]
    },
    {
     "data": {
      "image/png": "[encoded data removed]",
      "text/plain": [
       "<PIL.Image.Image image mode=RGB size=450x150 at 0x7FDD70CA6F60>"
      ]
     },
     "metadata": {},
     "output_type": "display_data"
    },
    {
     "name": "stdout",
     "output_type": "stream",
     "text": [
      " C1#CC#C1 [H][H] [H][H]\n",
      "組み合わせ:1\n"
     ]
    },
    {
     "data": {
      "image/png": "[encoded data removed]",
      "text/plain": [
       "<PIL.Image.Image image mode=RGB size=300x150 at 0x7FDD6EE90DA0>"
      ]
     },
     "metadata": {},
     "output_type": "display_data"
    },
    {
     "name": "stdout",
     "output_type": "stream",
     "text": [
      " [H]C1=C([H])C#C1 [H][H]\n",
      "組み合わせ:2\n"
     ]
    },
    {
     "data": {
      "image/png": "[encoded data removed]",
      "text/plain": [
       "<PIL.Image.Image image mode=RGB size=150x150 at 0x7FDD6EE90DA0>"
      ]
     },
     "metadata": {},
     "output_type": "display_data"
    },
    {
     "name": "stdout",
     "output_type": "stream",
     "text": [
      " [H]C1([H])C#CC1([H])[H]\n",
      "組み合わせ:3\n"
     ]
    },
    {
     "data": {
      "image/png": "[encoded data removed]",
      "text/plain": [
       "<PIL.Image.Image image mode=RGB size=300x150 at 0x7FDD6F74C978>"
      ]
     },
     "metadata": {},
     "output_type": "display_data"
    },
    {
     "name": "stdout",
     "output_type": "stream",
     "text": [
      " [H]C#CC#C[H] [H][H]\n",
      "組み合わせ:4\n"
     ]
    },
    {
     "data": {
      "image/png": "[encoded data removed]",
      "text/plain": [
       "<PIL.Image.Image image mode=RGB size=150x150 at 0x7FDD6F2D6B70>"
      ]
     },
     "metadata": {},
     "output_type": "display_data"
    },
    {
     "name": "stdout",
     "output_type": "stream",
     "text": [
      " [H]C#CC([H])=C([H])[H]\n",
      "組み合わせ:5\n"
     ]
    },
    {
     "data": {
      "image/png": "[encoded data removed]",
      "text/plain": [
       "<PIL.Image.Image image mode=RGB size=300x150 at 0x7FDD6EE903C8>"
      ]
     },
     "metadata": {},
     "output_type": "display_data"
    },
    {
     "name": "stdout",
     "output_type": "stream",
     "text": [
      " [H]C([H])=C1C#C1 [H][H]\n",
      "組み合わせ:6\n"
     ]
    },
    {
     "data": {
      "image/png": "[encoded data removed]",
      "text/plain": [
       "<PIL.Image.Image image mode=RGB size=150x150 at 0x7FDD6EE90710>"
      ]
     },
     "metadata": {},
     "output_type": "display_data"
    },
    {
     "name": "stdout",
     "output_type": "stream",
     "text": [
      " [H]C([H])([H])C1([H])C#C1\n",
      "組み合わせ:7\n"
     ]
    },
    {
     "data": {
      "image/png": "[encoded data removed]",
      "text/plain": [
       "<PIL.Image.Image image mode=RGB size=300x150 at 0x7FDD6F8A7E80>"
      ]
     },
     "metadata": {},
     "output_type": "display_data"
    },
    {
     "name": "stdout",
     "output_type": "stream",
     "text": [
      " [H]C#C[H] [H]C#C[H]\n",
      "組み合わせ:8\n"
     ]
    },
    {
     "data": {
      "image/png": "[encoded data removed]",
      "text/plain": [
       "<PIL.Image.Image image mode=RGB size=450x150 at 0x7FDD6F2D6630>"
      ]
     },
     "metadata": {},
     "output_type": "display_data"
    },
    {
     "name": "stdout",
     "output_type": "stream",
     "text": [
      " C1=C=C=C=1 [H][H] [H][H]\n",
      "組み合わせ:9\n"
     ]
    },
    {
     "data": {
      "image/png": "[encoded data removed]",
      "text/plain": [
       "<PIL.Image.Image image mode=RGB size=300x150 at 0x7FDD6F066400>"
      ]
     },
     "metadata": {},
     "output_type": "display_data"
    },
    {
     "name": "stdout",
     "output_type": "stream",
     "text": [
      " [H]C1=C=C=C1[H] [H][H]\n",
      "組み合わせ:10\n"
     ]
    },
    {
     "data": {
      "image/png": "[encoded data removed]",
      "text/plain": [
       "<PIL.Image.Image image mode=RGB size=150x150 at 0x7FDD6F357198>"
      ]
     },
     "metadata": {},
     "output_type": "display_data"
    },
    {
     "name": "stdout",
     "output_type": "stream",
     "text": [
      " [H]C([H])=C=C=C([H])[H]\n",
      "組み合わせ:11\n"
     ]
    },
    {
     "data": {
      "image/png": "[encoded data removed]",
      "text/plain": [
       "<PIL.Image.Image image mode=RGB size=150x150 at 0x7FDD6EE90630>"
      ]
     },
     "metadata": {},
     "output_type": "display_data"
    },
    {
     "name": "stdout",
     "output_type": "stream",
     "text": [
      " [H]C1=C=C([H])C1([H])[H]\n",
      "組み合わせ:12\n"
     ]
    },
    {
     "data": {
      "image/png": "[encoded data removed]",
      "text/plain": [
       "<PIL.Image.Image image mode=RGB size=300x150 at 0x7FDD6EE90860>"
      ]
     },
     "metadata": {},
     "output_type": "display_data"
    },
    {
     "name": "stdout",
     "output_type": "stream",
     "text": [
      " [H]C1([H])C2=C=C21 [H][H]\n",
      "組み合わせ:13\n"
     ]
    },
    {
     "data": {
      "image/png": "[encoded data removed]",
      "text/plain": [
       "<PIL.Image.Image image mode=RGB size=150x150 at 0x7FDD6EE90710>"
      ]
     },
     "metadata": {},
     "output_type": "display_data"
    },
    {
     "name": "stdout",
     "output_type": "stream",
     "text": [
      " [H]C1=C=C1C([H])([H])[H]\n",
      "組み合わせ:14\n"
     ]
    },
    {
     "data": {
      "image/png": "[encoded data removed]",
      "text/plain": [
       "<PIL.Image.Image image mode=RGB size=300x150 at 0x7FDD6EE90630>"
      ]
     },
     "metadata": {},
     "output_type": "display_data"
    },
    {
     "name": "stdout",
     "output_type": "stream",
     "text": [
      " [H]C1=C2C([H])=C12 [H][H]\n",
      "組み合わせ:15\n"
     ]
    },
    {
     "data": {
      "image/png": "[encoded data removed]",
      "text/plain": [
       "<PIL.Image.Image image mode=RGB size=150x150 at 0x7FDD6EE90DD8>"
      ]
     },
     "metadata": {},
     "output_type": "display_data"
    },
    {
     "name": "stdout",
     "output_type": "stream",
     "text": [
      " [H]C1=C([H])C([H])=C1[H]\n",
      "組み合わせ:16\n"
     ]
    },
    {
     "data": {
      "image/png": "[encoded data removed]",
      "text/plain": [
       "<PIL.Image.Image image mode=RGB size=150x150 at 0x7FDD6EE90860>"
      ]
     },
     "metadata": {},
     "output_type": "display_data"
    },
    {
     "name": "stdout",
     "output_type": "stream",
     "text": [
      " [H]C1=C2C([H])([H])C12[H]\n",
      "組み合わせ:17\n"
     ]
    },
    {
     "data": {
      "image/png": "[encoded data removed]",
      "text/plain": [
       "<PIL.Image.Image image mode=RGB size=150x150 at 0x7FDD6EE90710>"
      ]
     },
     "metadata": {},
     "output_type": "display_data"
    },
    {
     "name": "stdout",
     "output_type": "stream",
     "text": [
      " [H]C([H])=C1C([H])=C1[H]\n",
      "組み合わせ:18\n"
     ]
    },
    {
     "data": {
      "image/png": "[encoded data removed]",
      "text/plain": [
       "<PIL.Image.Image image mode=RGB size=300x150 at 0x7FDDA07230F0>"
      ]
     },
     "metadata": {},
     "output_type": "display_data"
    },
    {
     "name": "stdout",
     "output_type": "stream",
     "text": [
      " C1=C=C=1 [H]C([H])([H])[H]\n",
      "組み合わせ:19\n"
     ]
    },
    {
     "data": {
      "image/png": "[encoded data removed]",
      "text/plain": [
       "<PIL.Image.Image image mode=RGB size=150x150 at 0x7FDD6FC5EFD0>"
      ]
     },
     "metadata": {},
     "output_type": "display_data"
    },
    {
     "name": "stdout",
     "output_type": "stream",
     "text": [
      " [H]C1([H])C2=C1C2([H])[H]\n"
     ]
    }
   ],
   "source": [
    "l_l_smiles=[]\n",
    "comb_c=0\n",
    "for i in range(ar_bond_can.shape[0]):\n",
    "    p_t=Products(l_p_atm,ar_bond_can[i],l_vlc)\n",
    "    p_t.GenMols()\n",
    "#     print(p_t.str_smiles)\n",
    "    if p_t.str_smiles in l_l_smiles:\n",
    "        continue\n",
    "    if (np.any(np.diag(p_t.m_bnd)==np.array(p_t.l_vlc))):\n",
    "        continue\n",
    "    print('組み合わせ:'+str(comb_c))\n",
    "#     print(np.any(np.diag(p_t.m_bnd)==np.array(p_t.l_vlc)))\n",
    "    l_l_smiles.append(p_t.str_smiles)\n",
    "    p_t.Dispmols()\n",
    "    comb_c+=1"
   ]
  },
  {
   "cell_type": "code",
   "execution_count": 70,
   "metadata": {},
   "outputs": [
    {
     "ename": "AttributeError",
     "evalue": "'Products' object has no attribute 'l_smiles'",
     "output_type": "error",
     "traceback": [
      "\u001b[0;31m\u001b[0m",
      "\u001b[0;31mAttributeError\u001b[0mTraceback (most recent call last)",
      "\u001b[0;32m<ipython-input-70-4365268f5f69>\u001b[0m in \u001b[0;36m<module>\u001b[0;34m\u001b[0m\n\u001b[0;32m----> 1\u001b[0;31m \u001b[0marg_s\u001b[0m\u001b[0;34m=\u001b[0m\u001b[0mnp\u001b[0m\u001b[0;34m.\u001b[0m\u001b[0margsort\u001b[0m\u001b[0;34m(\u001b[0m\u001b[0mp_t\u001b[0m\u001b[0;34m.\u001b[0m\u001b[0ml_smiles\u001b[0m\u001b[0;34m)\u001b[0m\u001b[0;34m\u001b[0m\u001b[0;34m\u001b[0m\u001b[0m\n\u001b[0m\u001b[1;32m      2\u001b[0m \u001b[0mnp\u001b[0m\u001b[0;34m.\u001b[0m\u001b[0marray\u001b[0m\u001b[0;34m(\u001b[0m\u001b[0mp_t\u001b[0m\u001b[0;34m.\u001b[0m\u001b[0ml_mols\u001b[0m\u001b[0;34m)\u001b[0m\u001b[0;34m[\u001b[0m\u001b[0marg_s\u001b[0m\u001b[0;34m]\u001b[0m\u001b[0;34m\u001b[0m\u001b[0;34m\u001b[0m\u001b[0m\n",
      "\u001b[0;31mAttributeError\u001b[0m: 'Products' object has no attribute 'l_smiles'"
     ]
    }
   ],
   "source": [
    "arg_s=np.argsort(p_t.l_smiles)\n",
    "np.array(p_t.l_mols)[arg_s]"
   ]
  },
  {
   "cell_type": "code",
   "execution_count": 87,
   "metadata": {
    "scrolled": true
   },
   "outputs": [
    {
     "data": {
      "image/png": "[encoded data removed]",
      "text/plain": [
       "<PIL.Image.Image image mode=RGB size=600x150 at 0x7F41E7DAE7B8>"
      ]
     },
     "metadata": {},
     "output_type": "display_data"
    },
    {
     "name": "stdout",
     "output_type": "stream",
     "text": [
      " [C] [H] [H] [N]\n"
     ]
    }
   ],
   "source": [
    "p_t.Dispmols()"
   ]
  },
  {
   "cell_type": "code",
   "execution_count": 86,
   "metadata": {},
   "outputs": [
    {
     "name": "stdout",
     "output_type": "stream",
     "text": [
      "\n",
      "     Original       2D\n",
      "\n",
      "  1  0  0  0  0  0  0  0  0  0999 V2000\n",
      "    0.0       0.0       0.0    C   0  0  0  0  0  0  0  0  0  0  0  0\n",
      "M  RAD  1   1   2\n",
      "M  END\n"
     ]
    }
   ],
   "source": [
    "print(p_t.l_comp[0].strMolB())"
   ]
  },
  {
   "cell_type": "code",
   "execution_count": 56,
   "metadata": {},
   "outputs": [
    {
     "data": {
      "text/plain": [
       "True"
      ]
     },
     "execution_count": 56,
     "metadata": {},
     "output_type": "execute_result"
    }
   ],
   "source": [
    "np.any(np.diag(p_t.m_bnd)==np.array(p_t.l_vlc))"
   ]
  },
  {
   "cell_type": "code",
   "execution_count": 135,
   "metadata": {},
   "outputs": [
    {
     "data": {
      "text/plain": [
       "[array(['[H]C([H])([H])F'], dtype='<U15')]"
      ]
     },
     "execution_count": 135,
     "metadata": {},
     "output_type": "execute_result"
    }
   ],
   "source": []
  }
 ],
 "metadata": {
  "jupytext": {
   "encoding": "# -*- coding: utf-8 -*-",
   "text_representation": {
    "extension": ".py",
    "format_name": "light",
    "format_version": "1.4",
    "jupytext_version": "1.1.5"
   }
  },
  "kernelspec": {
   "display_name": "Python 3",
   "language": "python",
   "name": "python3"
  },
  "language_info": {
   "codemirror_mode": {
    "name": "ipython",
    "version": 3
   },
   "file_extension": ".py",
   "mimetype": "text/x-python",
   "name": "python",
   "nbconvert_exporter": "python",
   "pygments_lexer": "ipython3",
   "version": "3.7.3"
  }
 },
 "nbformat": 4,
 "nbformat_minor": 2
}
