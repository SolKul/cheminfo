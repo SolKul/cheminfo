{
 "cells": [
  {
   "cell_type": "code",
   "execution_count": 1,
   "metadata": {},
   "outputs": [],
   "source": [
    "from rdkit import rdBase, Chem\n",
    "from rdkit.Chem import AllChem, Draw\n",
    "import itertools\n",
    "import numpy as np"
   ]
  },
  {
   "cell_type": "code",
   "execution_count": 3,
   "metadata": {},
   "outputs": [],
   "source": [
    "def disp100mol(mol):\n",
    "    im_mol=Draw.MolToImage(mol,size=(200,200))\n",
    "    display(im_mol.resize((150,150),resample=5))\n",
    "    \n",
    "def Base_n_to_10(l_X,n):\n",
    "    out = 0\n",
    "    for i in range(1,len(l_X)+1):\n",
    "        out += int(l_X[-i])*(n**(i-1))\n",
    "    return out#int out"
   ]
  },
  {
   "cell_type": "code",
   "execution_count": 22,
   "metadata": {},
   "outputs": [
    {
     "data": {
      "text/plain": [
       "[[[0, 0, 0, 0]],\n",
       " [[1, 0, 0, 0], [0, 0, 0, 0]],\n",
       " [[1, 0, 0, 0], [0, 1, 0, 0], [0, 0, 0, 0]],\n",
       " [[1, 0, 0, 0], [0, 1, 0, 0], [0, 0, 1, 0], [0, 0, 0, 0]]]"
      ]
     },
     "execution_count": 22,
     "metadata": {},
     "output_type": "execute_result"
    }
   ],
   "source": [
    "l_p_atm=['C','H','H','H']\n",
    "l_vlc=[4,1,1,1]\n",
    "n_atm=len(l_c_atm)\n",
    "#原子のリスト\n",
    "l_bond_p=[[[0]*n_atm]]\n",
    "#取りうる隣接行列の行\n",
    "#最初の行は後から決まるので0で良い\n",
    "for k in range(1,len(l_c_atm)):\n",
    "    n_atm_r=k+1\n",
    "    #注目すればいい原子の数\n",
    "    #三角形の横方向の数+1\n",
    "    #詳しくは足してnになる組み合わせの数の応用\n",
    "    #足してn以下になる組み合わせの数を参照\n",
    "    n_valence=l_vlc[k]\n",
    "    l_cr=list(itertools.combinations_with_replacement(list(range(n_atm_r)),n_valence))\n",
    "    l_bond_r_p=[]\n",
    "    #隣接行列のある1行が取りうる行のリスト\n",
    "    for i in range(len(l_cr)):\n",
    "        l_bond=[0]*n_atm\n",
    "        for j in range(n_atm_r-1):\n",
    "            l_bond[j]=l_cr[i].count(j)\n",
    "        l_bond_r_p.append(l_bond)\n",
    "    l_bond_p.append(l_bond_r_p)\n",
    "l_bond_p"
   ]
  },
  {
   "cell_type": "code",
   "execution_count": 23,
   "metadata": {},
   "outputs": [
    {
     "data": {
      "text/plain": [
       "array([[[0, 1, 1, 1],\n",
       "        [1, 0, 0, 0],\n",
       "        [1, 0, 0, 0],\n",
       "        [1, 0, 0, 0]],\n",
       "\n",
       "       [[0, 1, 1, 0],\n",
       "        [1, 0, 0, 0],\n",
       "        [1, 0, 0, 0],\n",
       "        [0, 0, 0, 0]],\n",
       "\n",
       "       [[0, 1, 0, 1],\n",
       "        [1, 0, 0, 0],\n",
       "        [0, 0, 0, 0],\n",
       "        [1, 0, 0, 0]]])"
      ]
     },
     "execution_count": 23,
     "metadata": {},
     "output_type": "execute_result"
    }
   ],
   "source": [
    "ar_bond_p=np.array(list(itertools.product(*l_bond_p)))\n",
    "for i in range(ar_bond_p.shape[0]):\n",
    "    for j in range(ar_bond_p.shape[1]):\n",
    "        ar_bond_p[i,:j,j]=ar_bond_p[i,j,:j]\n",
    "        #対称行列にする\n",
    "ar_b_cons=ar_bond_p.sum(axis=1)<=np.array([[4,1,1,1]])\n",
    "#結合数が原子価以下のものをbooleanとして抽出\n",
    "ar_b_ind=np.all(ar_b_cons,axis=1)\n",
    "#すべての原子が、結合数が原子価以下であったらその隣接行列は整合性があると判断する\n",
    "#その整合性のあるもののindex\n",
    "ar_bond_cons=ar_bond_p[ar_b_ind]\n",
    "#整合性のあるもののみ取り出す。\n",
    "ar_bond_cons[:3]"
   ]
  },
  {
   "cell_type": "code",
   "execution_count": 24,
   "metadata": {},
   "outputs": [
    {
     "name": "stdout",
     "output_type": "stream",
     "text": [
      "[[0 8 8 8]\n",
      " [0 8 8 0]\n",
      " [0 8 0 8]]\n"
     ]
    }
   ],
   "source": [
    "for i in range(ar_bond_cons.shape[0]):\n",
    "    for j in range(ar_bond_cons.shape[1]):\n",
    "        ar_bond_cons[i,j,j:]=0\n",
    "        #下三角行列にする。\n",
    "        \n",
    "l_l_base=[]\n",
    "for i in range(ar_bond_cons.shape[0]):\n",
    "    l_base=[]\n",
    "    for j in range(ar_bond_cons.shape[1]):\n",
    "        l_base.append(Base_n_to_10(ar_bond_cons[i,j,:],l_vlc[j]+1))\n",
    "        #隣接行列を原子価+1進数とみなして十進数に直す。\n",
    "        #この十進数にした数字で並び替えて、\n",
    "        #同型のグラフを見つけ出す\n",
    "    l_l_base.append(l_base)\n",
    "    #十進数に直した数字のリストをリストに追加\n",
    "ar_base=np.array(l_l_base)\n",
    "print(ar_base[:3])\n",
    "#このar_baseの1行について、原子種ごとにソートしたものは\n",
    "#同じグラフについては同じになる。(ただし同じにならない場合もある。)\n",
    "#ある一つのグラフに対して1意に決まるカノニカルラベルと言える\n",
    "#(厳密には違うが)"
   ]
  },
  {
   "cell_type": "code",
   "execution_count": 25,
   "metadata": {},
   "outputs": [
    {
     "name": "stdout",
     "output_type": "stream",
     "text": [
      "カノニカルラベルで絞った組み合わせ:8\n"
     ]
    }
   ],
   "source": [
    "ar_c_atm=np.array(l_c_atm)\n",
    "#原子種のリストをarray化\n",
    "ar_uni=np.unique(ar_c_atm)\n",
    "#原子のリストのユニークな要素を取り出し\n",
    "l_c_table=[]\n",
    "l_cons_b=[]\n",
    "for i in range(len(ar_base)):\n",
    "    l_sorted=[]\n",
    "    for atm in ar_uni:\n",
    "        ar_uni_b=(ar_c_atm==atm)\n",
    "        #原子リストのうち、注目している原子種と一致するところをbooleanで取り出す\n",
    "        l_sorted.extend(np.sort(ar_base[i][ar_uni_b]))\n",
    "        #そのbooleanで取り出してsortし、原子種ごとにカノニカルラベルを作成\n",
    "        #それをリストに追加し、グラフ全体のカノニカルラベルとする。\n",
    "    if l_sorted not in l_c_table:\n",
    "        #そのグラフ全体のカノニカルラベルがチェック表になければ、追加\n",
    "        l_c_table.append(l_sorted)\n",
    "        #カノニカルラベルがユニークなもののindexを追加\n",
    "        l_cons_b.append(i)\n",
    "ar_bond_can=ar_bond_cons[l_cons_b]\n",
    "print('カノニカルラベルで絞った組み合わせ:'+str(len(ar_bond_can)))"
   ]
  },
  {
   "cell_type": "code",
   "execution_count": 26,
   "metadata": {},
   "outputs": [],
   "source": [
    "class Compound:\n",
    "    def __init__(self,l_atmind,l_o_atm,m_o_b):\n",
    "        self.l_atm=l_atmind.copy()\n",
    "        #l_atmindを新しく化合物とする\n",
    "        self.l_o_atm=l_o_atm.copy()\n",
    "        #もとの原子リストをコピー\n",
    "        self.m_o_b=m_o_b\n",
    "        #もとの隣接行列をコピー\n",
    "        self.d_atm={}\n",
    "        for i in l_atmind:\n",
    "            self.d_atm[i]=l_o_atm[i]\n",
    "        #化合物内の原子辞書をつくる\n",
    "\n",
    "    def addatm(self,i):\n",
    "        self.l_atm.append(i)\n",
    "        self.d_atm[i]=self.l_o_atm[i]\n",
    "        #iを新しく化合物に追加\n",
    "\n",
    "    def exatms(self,l_t_atm):\n",
    "        self.l_atm.extend(l_t_atm)\n",
    "        for i in l_t_atm:\n",
    "            self.d_atm[i]=self.l_o_atm[i]\n",
    "        #l_t_atmを新しく化合物に追加\n",
    "\n",
    "    def calcAd(self):\n",
    "        #化合物に属する原子を全部まとめ終わってから\n",
    "        #隣接行列、隣接リストを算出\n",
    "        l_adm=[]\n",
    "        self.l_n_atm=[]\n",
    "        for i in self.l_atm:\n",
    "            l_adm.append(self.m_o_b[i,self.l_atm])\n",
    "            self.l_n_atm.append(self.d_atm[i])\n",
    "            #原子のリストも作る。\n",
    "            \n",
    "        self.m_adm=np.array(l_adm)\n",
    "        \n",
    "        self.l_adl=[]\n",
    "        self.l_s_adl=[]\n",
    "        self.n_rad=0\n",
    "        self.l_rad=[]\n",
    "        self.l_vlc=[0]*self.m_adm.shape[0]\n",
    "        for i in range(self.m_adm.shape[0]):\n",
    "            for j in range(i+1,self.m_adm.shape[1]):\n",
    "                if(self.m_adm[i,j]==0):\n",
    "                    continue\n",
    "                self.l_adl.append([i,j,self.m_adm[i,j]])\n",
    "                self.l_s_adl.append([str(i+1),str(j+1),str(self.m_adm[i,j])])\n",
    "            if(self.m_adm[i,i]>0):\n",
    "                self.n_rad+=1\n",
    "                self.l_rad.append('   '+str(i+1)+'   2')\n",
    "                self.l_vlc[i]=self.m_adm[i,:i].sum()+self.m_adm[i,i+1:].sum()\n",
    "    \n",
    "    def strMolB(self):\n",
    "        n_atm=len(self.l_atm)\n",
    "        n_bnd=len(self.l_adl)\n",
    "        s_mb='\\n'+' '*5+'Original'+' '*7+'2D'+'\\n'\n",
    "        s_mb=s_mb+'\\n'+' '*2+str(n_atm)+' '*2+str(n_bnd)+'  0  0  0  0  0  0  0  0999 V2000'\n",
    "        for i in range(self.m_adm.shape[0]):\n",
    "            s_mb=s_mb+'\\n'+'    0.0   '*3+' '+self.l_n_atm[i]+'   0'+'  0'*4+'  '+str(self.l_vlc[i])+'  0'*6\n",
    "        for bond in self.l_s_adl:\n",
    "            s_mb=s_mb+'\\n'+' '*2+bond[0]+' '*2+bond[1]+' '*2+bond[2]+'  0'\n",
    "        if(self.n_rad>0):\n",
    "            s_mb=s_mb+'\\nM  RAD  '+str(self.n_rad)\n",
    "            for rad in self.l_rad:\n",
    "                s_mb=s_mb+rad\n",
    "        s_mb=s_mb+'\\n'+'M  END'\n",
    "        return s_mb\n",
    "    \n",
    "    def GenMol(self):\n",
    "        #Molオブジェクトを作る\n",
    "        self.calcAd()\n",
    "        #隣接リストを作成し、\n",
    "        self.cmol=Chem.MolFromMolBlock(self.strMolB(),removeHs=False)\n",
    "        #MolBlockを作成し、そのMBからMolオブジェクトを生成\n",
    "        AllChem.Compute2DCoords(self.cmol)\n",
    "        #2次元座標を計算\n",
    "        \n",
    "        l_atms=list(self.cmol.GetAtoms())\n",
    "        for i in range (self.m_adm.shape[0]):\n",
    "            if(self.m_adm[i][i]>0):\n",
    "                l_atms[i].SetNumRadicalElectrons(int(self.m_adm[i,i]))"
   ]
  },
  {
   "cell_type": "code",
   "execution_count": 50,
   "metadata": {},
   "outputs": [],
   "source": [
    "class Products:\n",
    "    #生成物全体のクラス\n",
    "    def __init__(self,l_p_atm,m_bnd,l_vlc):\n",
    "        self.l_p_atm=l_p_atm\n",
    "        self.m_bnd=m_bnd\n",
    "        self.l_vlc=l_vlc\n",
    "    def SmtrBnd(self):\n",
    "        #対称行列にして、ラジカルも計算\n",
    "        for i in range(self.m_bnd.shape[0]):\n",
    "            self.m_bnd[:i,i]=self.m_bnd[i,:i]\n",
    "            #対称行列にする\n",
    "            self.m_bnd[i,i]=self.l_vlc[i]-self.m_bnd[:i,i].sum()-self.m_bnd[i+1:,i].sum()\n",
    "            #i,i要素はラジカルなので原子価から結合数を引く\n",
    "    def SplitComp(self):\n",
    "        comp_c=0\n",
    "        self.ar_c_t=(np.ones([len(self.l_p_atm)])*-1).astype('int')\n",
    "        #どの原子がどの原子群に属しているかというリスト\n",
    "        self.l_comp=[]\n",
    "        for i in range(self.m_bnd.shape[0]):\n",
    "            for j in range(i):\n",
    "                #下三角行列のみ走査\n",
    "                if(self.m_bnd[i,j]==0):\n",
    "                    continue\n",
    "                ar_b_c=self.ar_c_t[[i,j]]==[-1,-1]\n",
    "                #原子が原子群に属しているかいないかのチェック\n",
    "                if(np.all(ar_b_c)):\n",
    "                    #i,jがどちらとも属していない場合\n",
    "                    self.ar_c_t[[i,j]]=comp_c\n",
    "                    self.l_comp.append(Compound([i,j],self.l_p_atm,self.m_bnd))\n",
    "                    comp_c+=1\n",
    "                elif(ar_b_c[0]):\n",
    "                    #iだけが所属していない場合\n",
    "                    self.ar_c_t[i]=self.ar_c_t[j]\n",
    "                    self.l_comp[self.ar_c_t[j]].addatm(i)\n",
    "                elif(ar_b_c[1]):\n",
    "                    #jだけが所属していない場合\n",
    "                    self.ar_c_t[j]=self.ar_c_t[i]\n",
    "                    self.l_comp[self.ar_c_t[i]].addatm(j)\n",
    "                else:\n",
    "                    if(self.ar_c_t[i]<self.ar_c_t[j]):\n",
    "                        Comp=l_comp.pop(self.ar_c_t[j])\n",
    "                        #繋がっていると分かった原子群同士のうち番号が大きい方をpopする\n",
    "                        l_comp[self.ar_c_t[i]].exatms(Comp.l_atm)\n",
    "                        #番号が小さい方に追加\n",
    "                        for atm_num in Comp.l_atm:\n",
    "                            self.ar_c_t[atm_num]=self.ar_c_t[i]\n",
    "                            #繋がっていると分かった原子群のそれぞれの原子の属する原子群の番号を小さい方に統一\n",
    "                    elif(self.ar_c_t[j]<self.ar_c_t[i]):\n",
    "                        Comp=l_comp.pop(self.ar_c_t[i])\n",
    "                        l_comp[self.ar_c_t[j]].exatms(Comp.l_atm)\n",
    "                        for atm_num in Comp.l_atm:\n",
    "                            self.ar_c_t[atm_num]=self.ar_c_t[j]\n",
    "        for i in range(self.m_bnd.shape[0]):\n",
    "            if(self.ar_c_t[i]==-1):\n",
    "                #原子群に分けた時点でどこにも所属していないものは原子\n",
    "                self.ar_c_t[i]=comp_c\n",
    "                self.l_comp.append(Compound([i],self.l_p_atm,self.m_bnd))\n",
    "                comp_c+=1\n",
    "    def GenMols(self):\n",
    "        #Molオブジェクトを生成\n",
    "        self.SmtrBnd()\n",
    "        self.SplitComp()\n",
    "        for Comp in self.l_comp:\n",
    "            Comp.GenMol()\n",
    "    def Dispmols(self):\n",
    "        self.GenMols()\n",
    "        for Comp in self.l_comp:\n",
    "            disp100mol(Comp.cmol)\n",
    "            print(Chem.MolToSmiles(Comp.cmol))"
   ]
  },
  {
   "cell_type": "code",
   "execution_count": 55,
   "metadata": {},
   "outputs": [
    {
     "data": {
      "image/png": "[encoded data removed]",
      "text/plain": [
       "<PIL.Image.Image image mode=RGBA size=150x150 at 0x7F0876F80D30>"
      ]
     },
     "metadata": {},
     "output_type": "display_data"
    },
    {
     "name": "stdout",
     "output_type": "stream",
     "text": [
      "[H][H]\n"
     ]
    },
    {
     "data": {
      "image/png": "[encoded data removed]",
      "text/plain": [
       "<PIL.Image.Image image mode=RGBA size=150x150 at 0x7F08788E06D8>"
      ]
     },
     "metadata": {},
     "output_type": "display_data"
    },
    {
     "name": "stdout",
     "output_type": "stream",
     "text": [
      "[C]\n"
     ]
    },
    {
     "data": {
      "image/png": "[encoded data removed]",
      "text/plain": [
       "<PIL.Image.Image image mode=RGBA size=150x150 at 0x7F08788792E8>"
      ]
     },
     "metadata": {},
     "output_type": "display_data"
    },
    {
     "name": "stdout",
     "output_type": "stream",
     "text": [
      "[H]\n"
     ]
    }
   ],
   "source": [
    "p_t=Products(l_p_atm,ar_bond_can[5],l_vlc)\n",
    "p_t.Dispmols()"
   ]
  },
  {
   "cell_type": "code",
   "execution_count": 18,
   "metadata": {},
   "outputs": [
    {
     "name": "stdout",
     "output_type": "stream",
     "text": [
      "組み合わせ:0\n"
     ]
    },
    {
     "data": {
      "image/png": "[encoded data removed]",
      "text/plain": [
       "<PIL.Image.Image image mode=RGBA size=150x150 at 0x7F08A4408630>"
      ]
     },
     "metadata": {},
     "output_type": "display_data"
    },
    {
     "data": {
      "image/png": "[encoded data removed]",
      "text/plain": [
       "<PIL.Image.Image image mode=RGBA size=150x150 at 0x7F0878866E10>"
      ]
     },
     "metadata": {},
     "output_type": "display_data"
    },
    {
     "name": "stdout",
     "output_type": "stream",
     "text": [
      "\n",
      "組み合わせ:1\n"
     ]
    },
    {
     "data": {
      "image/png": "[encoded data removed]",
      "text/plain": [
       "<PIL.Image.Image image mode=RGBA size=150x150 at 0x7F0878ABEA58>"
      ]
     },
     "metadata": {},
     "output_type": "display_data"
    },
    {
     "name": "stdout",
     "output_type": "stream",
     "text": [
      "\n"
     ]
    }
   ],
   "source": [
    "l_p_atm=['C','H','H','H','H']\n",
    "\n",
    "l_mb=[]\n",
    "l_b=[[0,0,1],[0,1,0],[1,0,0]]\n",
    "n_hs=len(l_b)\n",
    "l_hb=list(itertools.combinations_with_replacement(l_b, n_hs))\n",
    "for j in range(len(l_hb)):\n",
    "    l_hb_p=[]\n",
    "    for i in range(n_hs):\n",
    "        l_1hb=l_hb[j][i].copy()\n",
    "        l_1hb.insert(i+1,0)\n",
    "        l_hb_p.append(l_1hb)\n",
    "    m_bh=np.array(l_hb_p)\n",
    "    v_b_c=np.insert(m_bh[:,0],0,0)\n",
    "    #炭素のarrayを作る\n",
    "    m_b=np.concatenate([v_b_c[np.newaxis,:],m_bh],axis=0)\n",
    "    #炭素のarrayと水素のarrayを結合\n",
    "    if(np.all(m_b==m_b.T)):\n",
    "        m_b[0,0]=4-m_b[0,:].sum()\n",
    "        l_mb.append(m_b)\n",
    "\n",
    "l_p_comp=[]\n",
    "n_p_comb=0\n",
    "for m_p_b in l_mb:\n",
    "    for i in range(m_p_b.shape[0]):\n",
    "        for j in range(m_p_b.shape[1]):\n",
    "            if i>j:\n",
    "                m_p_b[i,j]=m_p_b[j,i]\n",
    "\n",
    "    d_atom = {}\n",
    "    #どの原子がどの原子群に属しているかという辞書\n",
    "    d_comp={}\n",
    "    #原子群ごとにどの原子が属しているかという辞書\n",
    "    d_lt={}\n",
    "    comp_c=0\n",
    "    for i in range(m_p_b.shape[0]):\n",
    "        for j in range(i+1,m_p_b.shape[1]):\n",
    "            if(m_p_b[i,j]==0):\n",
    "                continue\n",
    "            if i not in d_atom.keys():\n",
    "                if j not in d_atom.keys():\n",
    "                    d_atom[i]=comp_c\n",
    "                    d_atom[j]=comp_c\n",
    "                    d_comp[comp_c]=Compound([i,j],l_p_atm,m_p_b)\n",
    "                    comp_c+=1\n",
    "                    #i,ｊを新しく原子群に追加\n",
    "                else:\n",
    "                    d_atom[i]=d_atom[j]\n",
    "                    d_comp[d_atom[j]].addatm(i)\n",
    "                    #iをｊの属している原子群に\n",
    "            else:\n",
    "                if j not in d_atom.keys():\n",
    "                    d_atom[j]=d_atom[i]\n",
    "                    d_comp[d_atom[i]].addatm(j)\n",
    "                    #iをｊの属している原子群に\n",
    "                else:\n",
    "                    if(d_atom[i]<d_atom[j]):\n",
    "                        Comp=d_comp.pop(d_atom[j])\n",
    "                        #つながっているとわかった原子群をpopで取り出す\n",
    "                        d_comp[d_atom[i]].exatms(Comp.l_atm)\n",
    "                        #番号の若い方に追加\n",
    "                        for atm_num in Comp.l_atm:\n",
    "                            d_atom[atm_num]=d_atom[i]\n",
    "                            #つながっているわかった原子群の属する原子群を若い方に更新\n",
    "                    elif(d_atom[i]>d_atom[j]):\n",
    "                        Comp=d_comp.pop(d_atom[i])\n",
    "                        #つながっているとわかった原子群をpopで取り出す\n",
    "                        d_comp[d_atom[j]].exatms(Comp.l_atm)\n",
    "                        #番号の若い方に追加\n",
    "                        for atm_num in Comp.l_atm:\n",
    "                            d_atom[atm_num]=d_atom[j]\n",
    "    print('組み合わせ:'+str(n_p_comb))\n",
    "    for k in d_comp:\n",
    "        c=d_comp[k]\n",
    "        c.GenMol()\n",
    "        disp100mol(c.cmol)\n",
    "    print()\n",
    "    \n",
    "    l_p_comp.append(d_comp.copy())\n",
    "    n_p_comb+=1"
   ]
  }
 ],
 "metadata": {
  "jupytext": {
   "text_representation": {
    "extension": ".py",
    "format_name": "light",
    "format_version": "1.4",
    "jupytext_version": "1.1.5"
   }
  },
  "kernelspec": {
   "display_name": "Python 3",
   "language": "python",
   "name": "python3"
  },
  "language_info": {
   "codemirror_mode": {
    "name": "ipython",
    "version": 3
   },
   "file_extension": ".py",
   "mimetype": "text/x-python",
   "name": "python",
   "nbconvert_exporter": "python",
   "pygments_lexer": "ipython3",
   "version": "3.7.3"
  }
 },
 "nbformat": 4,
 "nbformat_minor": 2
}
